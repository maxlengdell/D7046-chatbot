{
 "cells": [
  {
   "cell_type": "code",
   "execution_count": 309,
   "metadata": {},
   "outputs": [],
   "source": [
    "import torch\n",
    "import torch.nn as nn\n",
    "\n",
    "import numpy as np\n",
    "import pandas as pd\n",
    "import random\n",
    "from nltk.corpus import stopwords\n",
    "from nltk.tokenize import word_tokenize\n",
    "from nltk.stem.lancaster import LancasterStemmer\n",
    "import nltk\n",
    "import re\n",
    "from sklearn.preprocessing import OneHotEncoder\n",
    "import matplotlib.pyplot as plt\n",
    "from keras.preprocessing.text import Tokenizer\n",
    "from keras.preprocessing.sequence import pad_sequences\n",
    "from keras.utils import to_categorical\n",
    "from keras.models import Sequential, load_model\n",
    "from keras.layers import Dense, LSTM, Bidirectional, Embedding, Dropout\n",
    "from keras.callbacks import ModelCheckpoint\n"
   ]
  },
  {
   "cell_type": "code",
   "execution_count": 272,
   "metadata": {},
   "outputs": [],
   "source": [
    "def load_dataset(filename):\n",
    "    df = pd.read_csv(filename, encoding = \"latin1\", names = [\"Sentence\", \"Intent\"])\n",
    "    print(df.head())\n",
    "    intent = df[\"Intent\"]\n",
    "    unique_intent = list(set(intent))\n",
    "    sentences = list(df[\"Sentence\"])\n",
    "  \n",
    "    return (intent, unique_intent, sentences)\n",
    "  \n"
   ]
  },
  {
   "cell_type": "code",
   "execution_count": 273,
   "metadata": {},
   "outputs": [
    {
     "name": "stdout",
     "output_type": "stream",
     "text": [
      "                      Sentence Intent\n",
      "0          What does that cost  price\n",
      "1  What's the price of <Item>?  price\n",
      "2          How much is <item>?  price\n",
      "3              Cost of <Item>?  price\n",
      "4       What does <Item> cost?  price\n"
     ]
    }
   ],
   "source": [
    "intent, unique_intent, sentences = load_dataset(\"data.csv\")"
   ]
  },
  {
   "cell_type": "code",
   "execution_count": 274,
   "metadata": {},
   "outputs": [
    {
     "name": "stdout",
     "output_type": "stream",
     "text": [
      "['What does that cost', \"What's the price of <Item>?\", 'How much is <item>?', 'Cost of <Item>?', 'What does <Item> cost?']\n"
     ]
    }
   ],
   "source": [
    "print(sentences[:5])"
   ]
  },
  {
   "cell_type": "code",
   "execution_count": 275,
   "metadata": {},
   "outputs": [
    {
     "name": "stderr",
     "output_type": "stream",
     "text": [
      "[nltk_data] Downloading package stopwords to\n",
      "[nltk_data]     /Users/maxlengdell/nltk_data...\n",
      "[nltk_data]   Package stopwords is already up-to-date!\n",
      "[nltk_data] Downloading package punkt to\n",
      "[nltk_data]     /Users/maxlengdell/nltk_data...\n",
      "[nltk_data]   Package punkt is already up-to-date!\n"
     ]
    },
    {
     "data": {
      "text/plain": [
       "True"
      ]
     },
     "execution_count": 275,
     "metadata": {},
     "output_type": "execute_result"
    }
   ],
   "source": [
    "nltk.download(\"stopwords\")\n",
    "nltk.download(\"punkt\")"
   ]
  },
  {
   "cell_type": "code",
   "execution_count": 276,
   "metadata": {},
   "outputs": [],
   "source": [
    "#define stemmer\n",
    "stemmer = LancasterStemmer()"
   ]
  },
  {
   "cell_type": "code",
   "execution_count": 277,
   "metadata": {},
   "outputs": [],
   "source": [
    "def cleaning(sentences):\n",
    "    words = []\n",
    "    for s in sentences:\n",
    "        clean = re.sub(r'[^ a-z A-Z 0-9]', \" \", s)\n",
    "        w = word_tokenize(clean)\n",
    "        #stemming\n",
    "        words.append([i.lower() for i in w])\n",
    "    \n",
    "    return words  "
   ]
  },
  {
   "cell_type": "code",
   "execution_count": 278,
   "metadata": {},
   "outputs": [
    {
     "name": "stdout",
     "output_type": "stream",
     "text": [
      "42\n",
      "[['what', 'does', 'that', 'cost'], ['what', 's', 'the', 'price', 'of', 'item']]\n"
     ]
    }
   ],
   "source": [
    "cleaned_words = cleaning(sentences)\n",
    "print(len(cleaned_words))\n",
    "print(cleaned_words[:2])  \n",
    "  \n"
   ]
  },
  {
   "cell_type": "code",
   "execution_count": 279,
   "metadata": {},
   "outputs": [],
   "source": [
    "def create_tokenizer(words, filters = '!\"#$%&()*+,-./:;<=>?@[\\]^_`{|}~'):\n",
    "    token = Tokenizer(filters = filters)\n",
    "    token.fit_on_texts(words)\n",
    "    print(token)\n",
    "    return token"
   ]
  },
  {
   "cell_type": "code",
   "execution_count": 280,
   "metadata": {},
   "outputs": [],
   "source": [
    "def max_length(words):\n",
    "    return(len(max(words, key = len)))\n",
    "  "
   ]
  },
  {
   "cell_type": "code",
   "execution_count": 281,
   "metadata": {},
   "outputs": [
    {
     "name": "stdout",
     "output_type": "stream",
     "text": [
      "<keras_preprocessing.text.Tokenizer object at 0x7fafec65e588>\n",
      "Vocab Size = 47 and Maximum length = 6\n"
     ]
    }
   ],
   "source": [
    "word_tokenizer = create_tokenizer(cleaned_words)\n",
    "vocab_size = len(word_tokenizer.word_index) + 1\n",
    "max_length = max_length(cleaned_words)\n",
    "\n",
    "print(\"Vocab Size = %d and Maximum length = %d\" % (vocab_size, max_length))"
   ]
  },
  {
   "cell_type": "code",
   "execution_count": 282,
   "metadata": {},
   "outputs": [],
   "source": [
    "def encoding_doc(token, words):\n",
    "    return(token.texts_to_sequences(words))"
   ]
  },
  {
   "cell_type": "code",
   "execution_count": 283,
   "metadata": {},
   "outputs": [],
   "source": [
    "encoded_doc = encoding_doc(word_tokenizer, cleaned_words)\n",
    "#print(encoded_doc)"
   ]
  },
  {
   "cell_type": "code",
   "execution_count": 284,
   "metadata": {},
   "outputs": [],
   "source": [
    "def padding_doc(encoded_doc, max_length):\n",
    "    return(pad_sequences(encoded_doc, maxlen = max_length, padding = \"post\"))"
   ]
  },
  {
   "cell_type": "code",
   "execution_count": 285,
   "metadata": {},
   "outputs": [],
   "source": [
    "padded_doc = padding_doc(encoded_doc, max_length)"
   ]
  },
  {
   "cell_type": "code",
   "execution_count": 286,
   "metadata": {},
   "outputs": [
    {
     "data": {
      "text/plain": [
       "array([[ 3, 18, 29, 10,  0,  0],\n",
       "       [ 3, 30, 31, 19,  5,  1],\n",
       "       [11, 20, 32,  1,  0,  0],\n",
       "       [10,  5,  1,  0,  0,  0],\n",
       "       [ 3, 18,  1, 10,  0,  0]], dtype=int32)"
      ]
     },
     "execution_count": 286,
     "metadata": {},
     "output_type": "execute_result"
    }
   ],
   "source": [
    "padded_doc[:5]"
   ]
  },
  {
   "cell_type": "code",
   "execution_count": 287,
   "metadata": {},
   "outputs": [
    {
     "name": "stdout",
     "output_type": "stream",
     "text": [
      "Shape of padded docs =  (42, 6)\n"
     ]
    }
   ],
   "source": [
    "print(\"Shape of padded docs = \",padded_doc.shape)"
   ]
  },
  {
   "cell_type": "code",
   "execution_count": 288,
   "metadata": {},
   "outputs": [
    {
     "name": "stdout",
     "output_type": "stream",
     "text": [
      "<keras_preprocessing.text.Tokenizer object at 0x7fafed21a860>\n"
     ]
    }
   ],
   "source": [
    "#tokenizer with filter changed\n",
    "output_tokenizer = create_tokenizer(unique_intent, filters = '!\"#$%&()*+,-/:;<=>?@[\\]^`{|}~')\n"
   ]
  },
  {
   "cell_type": "code",
   "execution_count": 289,
   "metadata": {},
   "outputs": [
    {
     "data": {
      "text/plain": [
       "{'common': 1, 'order': 2, 'price': 3, 'balance': 4}"
      ]
     },
     "execution_count": 289,
     "metadata": {},
     "output_type": "execute_result"
    }
   ],
   "source": [
    "output_tokenizer.word_index"
   ]
  },
  {
   "cell_type": "code",
   "execution_count": 290,
   "metadata": {},
   "outputs": [],
   "source": [
    "encoded_output = encoding_doc(output_tokenizer, intent)"
   ]
  },
  {
   "cell_type": "code",
   "execution_count": 291,
   "metadata": {},
   "outputs": [],
   "source": [
    "encoded_output = np.array(encoded_output).reshape(len(encoded_output), 1)"
   ]
  },
  {
   "cell_type": "code",
   "execution_count": 292,
   "metadata": {},
   "outputs": [
    {
     "data": {
      "text/plain": [
       "(42, 1)"
      ]
     },
     "execution_count": 292,
     "metadata": {},
     "output_type": "execute_result"
    }
   ],
   "source": [
    "encoded_output.shape"
   ]
  },
  {
   "cell_type": "code",
   "execution_count": 293,
   "metadata": {},
   "outputs": [],
   "source": [
    "def one_hot(encode):\n",
    "    o = OneHotEncoder(sparse = False)\n",
    "    return(o.fit_transform(encode))"
   ]
  },
  {
   "cell_type": "code",
   "execution_count": 294,
   "metadata": {},
   "outputs": [],
   "source": [
    "output_one_hot = one_hot(encoded_output)"
   ]
  },
  {
   "cell_type": "code",
   "execution_count": 295,
   "metadata": {},
   "outputs": [
    {
     "data": {
      "text/plain": [
       "(42, 4)"
      ]
     },
     "execution_count": 295,
     "metadata": {},
     "output_type": "execute_result"
    }
   ],
   "source": [
    "output_one_hot.shape"
   ]
  },
  {
   "cell_type": "code",
   "execution_count": 296,
   "metadata": {},
   "outputs": [],
   "source": [
    "from sklearn.model_selection import train_test_split"
   ]
  },
  {
   "cell_type": "code",
   "execution_count": 297,
   "metadata": {},
   "outputs": [],
   "source": [
    "train_X, val_X, train_Y, val_Y = train_test_split(padded_doc, output_one_hot, shuffle = True, test_size = 0.2)\n"
   ]
  },
  {
   "cell_type": "code",
   "execution_count": 298,
   "metadata": {},
   "outputs": [
    {
     "name": "stdout",
     "output_type": "stream",
     "text": [
      "Shape of train_X = (33, 6) and train_Y = (33, 4)\n",
      "Shape of val_X = (9, 6) and val_Y = (9, 4)\n"
     ]
    }
   ],
   "source": [
    "print(\"Shape of train_X = %s and train_Y = %s\" % (train_X.shape, train_Y.shape))\n",
    "print(\"Shape of val_X = %s and val_Y = %s\" % (val_X.shape, val_Y.shape))"
   ]
  },
  {
   "cell_type": "code",
   "execution_count": 299,
   "metadata": {},
   "outputs": [],
   "source": [
    "def create_model(vocab_size, max_length):\n",
    "    model = Sequential()\n",
    "    model.add(Embedding(vocab_size, 128, input_length = max_length, trainable = False))\n",
    "    model.add(Bidirectional(LSTM(128)))\n",
    "#   model.add(LSTM(128))\n",
    "    model.add(Dense(32, activation = \"relu\"))\n",
    "    model.add(Dropout(0.5))\n",
    "    model.add(Dense(4, activation = \"softmax\"))\n",
    "  \n",
    "    return model\n",
    "\n",
    "\n",
    "\n"
   ]
  },
  {
   "cell_type": "code",
   "execution_count": 300,
   "metadata": {},
   "outputs": [
    {
     "name": "stdout",
     "output_type": "stream",
     "text": [
      "Model: \"sequential_8\"\n",
      "_________________________________________________________________\n",
      "Layer (type)                 Output Shape              Param #   \n",
      "=================================================================\n",
      "embedding_8 (Embedding)      (None, 6, 128)            6016      \n",
      "_________________________________________________________________\n",
      "bidirectional_8 (Bidirection (None, 256)               263168    \n",
      "_________________________________________________________________\n",
      "dense_15 (Dense)             (None, 32)                8224      \n",
      "_________________________________________________________________\n",
      "dropout_8 (Dropout)          (None, 32)                0         \n",
      "_________________________________________________________________\n",
      "dense_16 (Dense)             (None, 4)                 132       \n",
      "=================================================================\n",
      "Total params: 277,540\n",
      "Trainable params: 271,524\n",
      "Non-trainable params: 6,016\n",
      "_________________________________________________________________\n"
     ]
    }
   ],
   "source": [
    "model = create_model(vocab_size, max_length)\n",
    "\n",
    "model.compile(loss = \"categorical_crossentropy\", optimizer = \"adam\", metrics = [\"accuracy\"])\n",
    "model.summary()"
   ]
  },
  {
   "cell_type": "code",
   "execution_count": 301,
   "metadata": {},
   "outputs": [
    {
     "name": "stdout",
     "output_type": "stream",
     "text": [
      "Train on 33 samples, validate on 9 samples\n",
      "Epoch 1/150\n",
      "33/33 [==============================] - 1s 39ms/step - loss: 1.3859 - accuracy: 0.2121 - val_loss: 1.3847 - val_accuracy: 0.4444\n",
      "\n",
      "Epoch 00001: val_loss improved from inf to 1.38474, saving model to model.h5\n",
      "Epoch 2/150\n",
      "33/33 [==============================] - 0s 518us/step - loss: 1.3787 - accuracy: 0.4848 - val_loss: 1.3839 - val_accuracy: 0.2222\n",
      "\n",
      "Epoch 00002: val_loss improved from 1.38474 to 1.38395, saving model to model.h5\n",
      "Epoch 3/150\n",
      "33/33 [==============================] - 0s 538us/step - loss: 1.3755 - accuracy: 0.5455 - val_loss: 1.3798 - val_accuracy: 0.4444\n",
      "\n",
      "Epoch 00003: val_loss improved from 1.38395 to 1.37983, saving model to model.h5\n",
      "Epoch 4/150\n",
      "33/33 [==============================] - 0s 543us/step - loss: 1.3747 - accuracy: 0.5455 - val_loss: 1.3767 - val_accuracy: 0.4444\n",
      "\n",
      "Epoch 00004: val_loss improved from 1.37983 to 1.37670, saving model to model.h5\n",
      "Epoch 5/150\n",
      "33/33 [==============================] - 0s 581us/step - loss: 1.3697 - accuracy: 0.3636 - val_loss: 1.3744 - val_accuracy: 0.4444\n",
      "\n",
      "Epoch 00005: val_loss improved from 1.37670 to 1.37436, saving model to model.h5\n",
      "Epoch 6/150\n",
      "33/33 [==============================] - 0s 512us/step - loss: 1.3593 - accuracy: 0.5758 - val_loss: 1.3729 - val_accuracy: 0.4444\n",
      "\n",
      "Epoch 00006: val_loss improved from 1.37436 to 1.37290, saving model to model.h5\n",
      "Epoch 7/150\n",
      "33/33 [==============================] - 0s 518us/step - loss: 1.3613 - accuracy: 0.3636 - val_loss: 1.3728 - val_accuracy: 0.4444\n",
      "\n",
      "Epoch 00007: val_loss improved from 1.37290 to 1.37282, saving model to model.h5\n",
      "Epoch 8/150\n",
      "33/33 [==============================] - 0s 510us/step - loss: 1.3676 - accuracy: 0.4545 - val_loss: 1.3716 - val_accuracy: 0.4444\n",
      "\n",
      "Epoch 00008: val_loss improved from 1.37282 to 1.37160, saving model to model.h5\n",
      "Epoch 9/150\n",
      "33/33 [==============================] - 0s 528us/step - loss: 1.3552 - accuracy: 0.3333 - val_loss: 1.3703 - val_accuracy: 0.4444\n",
      "\n",
      "Epoch 00009: val_loss improved from 1.37160 to 1.37030, saving model to model.h5\n",
      "Epoch 10/150\n",
      "33/33 [==============================] - 0s 521us/step - loss: 1.3417 - accuracy: 0.4848 - val_loss: 1.3713 - val_accuracy: 0.4444\n",
      "\n",
      "Epoch 00010: val_loss did not improve from 1.37030\n",
      "Epoch 11/150\n",
      "33/33 [==============================] - 0s 568us/step - loss: 1.3327 - accuracy: 0.4848 - val_loss: 1.3767 - val_accuracy: 0.3333\n",
      "\n",
      "Epoch 00011: val_loss did not improve from 1.37030\n",
      "Epoch 12/150\n",
      "33/33 [==============================] - 0s 534us/step - loss: 1.3271 - accuracy: 0.4242 - val_loss: 1.3837 - val_accuracy: 0.1111\n",
      "\n",
      "Epoch 00012: val_loss did not improve from 1.37030\n",
      "Epoch 13/150\n",
      "33/33 [==============================] - 0s 543us/step - loss: 1.3354 - accuracy: 0.4848 - val_loss: 1.3917 - val_accuracy: 0.1111\n",
      "\n",
      "Epoch 00013: val_loss did not improve from 1.37030\n",
      "Epoch 14/150\n",
      "33/33 [==============================] - 0s 534us/step - loss: 1.3222 - accuracy: 0.4242 - val_loss: 1.4008 - val_accuracy: 0.1111\n",
      "\n",
      "Epoch 00014: val_loss did not improve from 1.37030\n",
      "Epoch 15/150\n",
      "33/33 [==============================] - 0s 559us/step - loss: 1.3365 - accuracy: 0.3939 - val_loss: 1.4084 - val_accuracy: 0.1111\n",
      "\n",
      "Epoch 00015: val_loss did not improve from 1.37030\n",
      "Epoch 16/150\n",
      "33/33 [==============================] - 0s 555us/step - loss: 1.3334 - accuracy: 0.3636 - val_loss: 1.4131 - val_accuracy: 0.1111\n",
      "\n",
      "Epoch 00016: val_loss did not improve from 1.37030\n",
      "Epoch 17/150\n",
      "33/33 [==============================] - 0s 550us/step - loss: 1.3433 - accuracy: 0.3636 - val_loss: 1.4156 - val_accuracy: 0.1111\n",
      "\n",
      "Epoch 00017: val_loss did not improve from 1.37030\n",
      "Epoch 18/150\n",
      "33/33 [==============================] - 0s 537us/step - loss: 1.3181 - accuracy: 0.3636 - val_loss: 1.4211 - val_accuracy: 0.1111\n",
      "\n",
      "Epoch 00018: val_loss did not improve from 1.37030\n",
      "Epoch 19/150\n",
      "33/33 [==============================] - 0s 558us/step - loss: 1.3212 - accuracy: 0.3636 - val_loss: 1.4317 - val_accuracy: 0.1111\n",
      "\n",
      "Epoch 00019: val_loss did not improve from 1.37030\n",
      "Epoch 20/150\n",
      "33/33 [==============================] - 0s 597us/step - loss: 1.2927 - accuracy: 0.3636 - val_loss: 1.4406 - val_accuracy: 0.1111\n",
      "\n",
      "Epoch 00020: val_loss did not improve from 1.37030\n",
      "Epoch 21/150\n",
      "33/33 [==============================] - 0s 576us/step - loss: 1.2522 - accuracy: 0.3636 - val_loss: 1.4483 - val_accuracy: 0.1111\n",
      "\n",
      "Epoch 00021: val_loss did not improve from 1.37030\n",
      "Epoch 22/150\n",
      "33/33 [==============================] - 0s 555us/step - loss: 1.2494 - accuracy: 0.3636 - val_loss: 1.4590 - val_accuracy: 0.1111\n",
      "\n",
      "Epoch 00022: val_loss did not improve from 1.37030\n",
      "Epoch 23/150\n",
      "33/33 [==============================] - 0s 578us/step - loss: 1.2721 - accuracy: 0.3636 - val_loss: 1.4721 - val_accuracy: 0.1111\n",
      "\n",
      "Epoch 00023: val_loss did not improve from 1.37030\n",
      "Epoch 24/150\n",
      "33/33 [==============================] - 0s 545us/step - loss: 1.3110 - accuracy: 0.3939 - val_loss: 1.4880 - val_accuracy: 0.1111\n",
      "\n",
      "Epoch 00024: val_loss did not improve from 1.37030\n",
      "Epoch 25/150\n",
      "33/33 [==============================] - 0s 544us/step - loss: 1.2622 - accuracy: 0.3636 - val_loss: 1.5009 - val_accuracy: 0.1111\n",
      "\n",
      "Epoch 00025: val_loss did not improve from 1.37030\n",
      "Epoch 26/150\n",
      "33/33 [==============================] - 0s 533us/step - loss: 1.2895 - accuracy: 0.3939 - val_loss: 1.5064 - val_accuracy: 0.1111\n",
      "\n",
      "Epoch 00026: val_loss did not improve from 1.37030\n",
      "Epoch 27/150\n",
      "33/33 [==============================] - 0s 555us/step - loss: 1.2425 - accuracy: 0.3636 - val_loss: 1.5104 - val_accuracy: 0.1111\n",
      "\n",
      "Epoch 00027: val_loss did not improve from 1.37030\n",
      "Epoch 28/150\n",
      "33/33 [==============================] - 0s 553us/step - loss: 1.2787 - accuracy: 0.3636 - val_loss: 1.4933 - val_accuracy: 0.1111\n",
      "\n",
      "Epoch 00028: val_loss did not improve from 1.37030\n",
      "Epoch 29/150\n",
      "33/33 [==============================] - 0s 541us/step - loss: 1.3125 - accuracy: 0.3636 - val_loss: 1.4676 - val_accuracy: 0.1111\n",
      "\n",
      "Epoch 00029: val_loss did not improve from 1.37030\n",
      "Epoch 30/150\n",
      "33/33 [==============================] - 0s 565us/step - loss: 1.2055 - accuracy: 0.3636 - val_loss: 1.4447 - val_accuracy: 0.1111\n",
      "\n",
      "Epoch 00030: val_loss did not improve from 1.37030\n",
      "Epoch 31/150\n",
      "33/33 [==============================] - 0s 581us/step - loss: 1.1713 - accuracy: 0.3636 - val_loss: 1.4011 - val_accuracy: 0.1111\n",
      "\n",
      "Epoch 00031: val_loss did not improve from 1.37030\n",
      "Epoch 32/150\n",
      "33/33 [==============================] - 0s 593us/step - loss: 1.1733 - accuracy: 0.3939 - val_loss: 1.3576 - val_accuracy: 0.1111\n",
      "\n",
      "Epoch 00032: val_loss improved from 1.37030 to 1.35760, saving model to model.h5\n",
      "Epoch 33/150\n",
      "33/33 [==============================] - 0s 537us/step - loss: 1.2314 - accuracy: 0.3636 - val_loss: 1.3223 - val_accuracy: 0.1111\n",
      "\n",
      "Epoch 00033: val_loss improved from 1.35760 to 1.32225, saving model to model.h5\n",
      "Epoch 34/150\n",
      "33/33 [==============================] - 0s 549us/step - loss: 1.1472 - accuracy: 0.4242 - val_loss: 1.2870 - val_accuracy: 0.2222\n",
      "\n",
      "Epoch 00034: val_loss improved from 1.32225 to 1.28697, saving model to model.h5\n",
      "Epoch 35/150\n",
      "33/33 [==============================] - 0s 554us/step - loss: 1.1171 - accuracy: 0.4848 - val_loss: 1.2477 - val_accuracy: 0.3333\n",
      "\n",
      "Epoch 00035: val_loss improved from 1.28697 to 1.24772, saving model to model.h5\n",
      "Epoch 36/150\n",
      "33/33 [==============================] - 0s 590us/step - loss: 1.1103 - accuracy: 0.5455 - val_loss: 1.2146 - val_accuracy: 0.5556\n",
      "\n",
      "Epoch 00036: val_loss improved from 1.24772 to 1.21456, saving model to model.h5\n",
      "Epoch 37/150\n",
      "33/33 [==============================] - 0s 556us/step - loss: 1.0800 - accuracy: 0.6364 - val_loss: 1.2016 - val_accuracy: 0.6667\n",
      "\n",
      "Epoch 00037: val_loss improved from 1.21456 to 1.20165, saving model to model.h5\n",
      "Epoch 38/150\n",
      "33/33 [==============================] - 0s 543us/step - loss: 1.0798 - accuracy: 0.6364 - val_loss: 1.1916 - val_accuracy: 0.6667\n",
      "\n",
      "Epoch 00038: val_loss improved from 1.20165 to 1.19157, saving model to model.h5\n",
      "Epoch 39/150\n",
      "33/33 [==============================] - 0s 567us/step - loss: 1.0747 - accuracy: 0.5758 - val_loss: 1.1906 - val_accuracy: 0.6667\n",
      "\n",
      "Epoch 00039: val_loss improved from 1.19157 to 1.19056, saving model to model.h5\n",
      "Epoch 40/150\n"
     ]
    },
    {
     "name": "stdout",
     "output_type": "stream",
     "text": [
      "33/33 [==============================] - 0s 562us/step - loss: 1.0684 - accuracy: 0.5455 - val_loss: 1.2034 - val_accuracy: 0.6667\n",
      "\n",
      "Epoch 00040: val_loss did not improve from 1.19056\n",
      "Epoch 41/150\n",
      "33/33 [==============================] - 0s 532us/step - loss: 1.0354 - accuracy: 0.6970 - val_loss: 1.2059 - val_accuracy: 0.6667\n",
      "\n",
      "Epoch 00041: val_loss did not improve from 1.19056\n",
      "Epoch 42/150\n",
      "33/33 [==============================] - 0s 527us/step - loss: 0.9451 - accuracy: 0.6970 - val_loss: 1.2062 - val_accuracy: 0.5556\n",
      "\n",
      "Epoch 00042: val_loss did not improve from 1.19056\n",
      "Epoch 43/150\n",
      "33/33 [==============================] - 0s 561us/step - loss: 0.9639 - accuracy: 0.6667 - val_loss: 1.1909 - val_accuracy: 0.5556\n",
      "\n",
      "Epoch 00043: val_loss did not improve from 1.19056\n",
      "Epoch 44/150\n",
      "33/33 [==============================] - 0s 561us/step - loss: 0.9514 - accuracy: 0.6364 - val_loss: 1.1607 - val_accuracy: 0.6667\n",
      "\n",
      "Epoch 00044: val_loss improved from 1.19056 to 1.16072, saving model to model.h5\n",
      "Epoch 45/150\n",
      "33/33 [==============================] - 0s 591us/step - loss: 0.8629 - accuracy: 0.6061 - val_loss: 1.1198 - val_accuracy: 0.6667\n",
      "\n",
      "Epoch 00045: val_loss improved from 1.16072 to 1.11984, saving model to model.h5\n",
      "Epoch 46/150\n",
      "33/33 [==============================] - 0s 573us/step - loss: 0.8844 - accuracy: 0.6061 - val_loss: 1.0817 - val_accuracy: 0.5556\n",
      "\n",
      "Epoch 00046: val_loss improved from 1.11984 to 1.08166, saving model to model.h5\n",
      "Epoch 47/150\n",
      "33/33 [==============================] - 0s 559us/step - loss: 0.7850 - accuracy: 0.6364 - val_loss: 1.0412 - val_accuracy: 0.6667\n",
      "\n",
      "Epoch 00047: val_loss improved from 1.08166 to 1.04115, saving model to model.h5\n",
      "Epoch 48/150\n",
      "33/33 [==============================] - 0s 555us/step - loss: 0.8561 - accuracy: 0.5758 - val_loss: 1.0039 - val_accuracy: 0.6667\n",
      "\n",
      "Epoch 00048: val_loss improved from 1.04115 to 1.00395, saving model to model.h5\n",
      "Epoch 49/150\n",
      "33/33 [==============================] - 0s 587us/step - loss: 0.8068 - accuracy: 0.6061 - val_loss: 0.9783 - val_accuracy: 0.7778\n",
      "\n",
      "Epoch 00049: val_loss improved from 1.00395 to 0.97835, saving model to model.h5\n",
      "Epoch 50/150\n",
      "33/33 [==============================] - 0s 600us/step - loss: 0.8140 - accuracy: 0.7273 - val_loss: 0.9651 - val_accuracy: 0.7778\n",
      "\n",
      "Epoch 00050: val_loss improved from 0.97835 to 0.96509, saving model to model.h5\n",
      "Epoch 51/150\n",
      "33/33 [==============================] - 0s 561us/step - loss: 0.8033 - accuracy: 0.6667 - val_loss: 0.9531 - val_accuracy: 0.7778\n",
      "\n",
      "Epoch 00051: val_loss improved from 0.96509 to 0.95308, saving model to model.h5\n",
      "Epoch 52/150\n",
      "33/33 [==============================] - 0s 575us/step - loss: 0.7488 - accuracy: 0.7576 - val_loss: 0.9377 - val_accuracy: 0.7778\n",
      "\n",
      "Epoch 00052: val_loss improved from 0.95308 to 0.93769, saving model to model.h5\n",
      "Epoch 53/150\n",
      "33/33 [==============================] - 0s 552us/step - loss: 0.7232 - accuracy: 0.7576 - val_loss: 0.9190 - val_accuracy: 0.7778\n",
      "\n",
      "Epoch 00053: val_loss improved from 0.93769 to 0.91902, saving model to model.h5\n",
      "Epoch 54/150\n",
      "33/33 [==============================] - 0s 565us/step - loss: 0.7188 - accuracy: 0.6970 - val_loss: 0.9000 - val_accuracy: 0.6667\n",
      "\n",
      "Epoch 00054: val_loss improved from 0.91902 to 0.90003, saving model to model.h5\n",
      "Epoch 55/150\n",
      "33/33 [==============================] - 0s 575us/step - loss: 0.6876 - accuracy: 0.7273 - val_loss: 0.8819 - val_accuracy: 0.6667\n",
      "\n",
      "Epoch 00055: val_loss improved from 0.90003 to 0.88190, saving model to model.h5\n",
      "Epoch 56/150\n",
      "33/33 [==============================] - 0s 562us/step - loss: 0.7555 - accuracy: 0.6364 - val_loss: 0.8673 - val_accuracy: 0.6667\n",
      "\n",
      "Epoch 00056: val_loss improved from 0.88190 to 0.86730, saving model to model.h5\n",
      "Epoch 57/150\n",
      "33/33 [==============================] - 0s 567us/step - loss: 0.7035 - accuracy: 0.6364 - val_loss: 0.8555 - val_accuracy: 0.4444\n",
      "\n",
      "Epoch 00057: val_loss improved from 0.86730 to 0.85551, saving model to model.h5\n",
      "Epoch 58/150\n",
      "33/33 [==============================] - 0s 574us/step - loss: 0.7727 - accuracy: 0.6061 - val_loss: 0.8448 - val_accuracy: 0.4444\n",
      "\n",
      "Epoch 00058: val_loss improved from 0.85551 to 0.84479, saving model to model.h5\n",
      "Epoch 59/150\n",
      "33/33 [==============================] - 0s 589us/step - loss: 0.7176 - accuracy: 0.6364 - val_loss: 0.8267 - val_accuracy: 0.6667\n",
      "\n",
      "Epoch 00059: val_loss improved from 0.84479 to 0.82669, saving model to model.h5\n",
      "Epoch 60/150\n",
      "33/33 [==============================] - 0s 586us/step - loss: 0.6507 - accuracy: 0.7273 - val_loss: 0.8124 - val_accuracy: 0.6667\n",
      "\n",
      "Epoch 00060: val_loss improved from 0.82669 to 0.81244, saving model to model.h5\n",
      "Epoch 61/150\n",
      "33/33 [==============================] - 0s 583us/step - loss: 0.6222 - accuracy: 0.7273 - val_loss: 0.8145 - val_accuracy: 0.6667\n",
      "\n",
      "Epoch 00061: val_loss did not improve from 0.81244\n",
      "Epoch 62/150\n",
      "33/33 [==============================] - 0s 620us/step - loss: 0.6961 - accuracy: 0.6970 - val_loss: 0.7979 - val_accuracy: 0.6667\n",
      "\n",
      "Epoch 00062: val_loss improved from 0.81244 to 0.79787, saving model to model.h5\n",
      "Epoch 63/150\n",
      "33/33 [==============================] - 0s 674us/step - loss: 0.7747 - accuracy: 0.6667 - val_loss: 0.7631 - val_accuracy: 0.6667\n",
      "\n",
      "Epoch 00063: val_loss improved from 0.79787 to 0.76308, saving model to model.h5\n",
      "Epoch 64/150\n",
      "33/33 [==============================] - 0s 545us/step - loss: 0.7092 - accuracy: 0.6667 - val_loss: 0.7690 - val_accuracy: 0.8889\n",
      "\n",
      "Epoch 00064: val_loss did not improve from 0.76308\n",
      "Epoch 65/150\n",
      "33/33 [==============================] - 0s 542us/step - loss: 0.6074 - accuracy: 0.6970 - val_loss: 0.8567 - val_accuracy: 0.6667\n",
      "\n",
      "Epoch 00065: val_loss did not improve from 0.76308\n",
      "Epoch 66/150\n",
      "33/33 [==============================] - 0s 575us/step - loss: 0.7365 - accuracy: 0.6667 - val_loss: 0.9275 - val_accuracy: 0.7778\n",
      "\n",
      "Epoch 00066: val_loss did not improve from 0.76308\n",
      "Epoch 67/150\n",
      "33/33 [==============================] - 0s 565us/step - loss: 0.7248 - accuracy: 0.6970 - val_loss: 0.8809 - val_accuracy: 0.6667\n",
      "\n",
      "Epoch 00067: val_loss did not improve from 0.76308\n",
      "Epoch 68/150\n",
      "33/33 [==============================] - 0s 618us/step - loss: 0.6745 - accuracy: 0.6667 - val_loss: 0.8071 - val_accuracy: 0.7778\n",
      "\n",
      "Epoch 00068: val_loss did not improve from 0.76308\n",
      "Epoch 69/150\n",
      "33/33 [==============================] - 0s 549us/step - loss: 0.6035 - accuracy: 0.7879 - val_loss: 0.8121 - val_accuracy: 0.6667\n",
      "\n",
      "Epoch 00069: val_loss did not improve from 0.76308\n",
      "Epoch 70/150\n",
      "33/33 [==============================] - 0s 566us/step - loss: 0.6776 - accuracy: 0.7273 - val_loss: 0.8257 - val_accuracy: 0.6667\n",
      "\n",
      "Epoch 00070: val_loss did not improve from 0.76308\n",
      "Epoch 71/150\n",
      "33/33 [==============================] - 0s 593us/step - loss: 0.6825 - accuracy: 0.7273 - val_loss: 0.8232 - val_accuracy: 0.6667\n",
      "\n",
      "Epoch 00071: val_loss did not improve from 0.76308\n",
      "Epoch 72/150\n",
      "33/33 [==============================] - 0s 556us/step - loss: 0.6939 - accuracy: 0.6970 - val_loss: 0.8116 - val_accuracy: 0.7778\n",
      "\n",
      "Epoch 00072: val_loss did not improve from 0.76308\n",
      "Epoch 73/150\n",
      "33/33 [==============================] - 0s 544us/step - loss: 0.7397 - accuracy: 0.7273 - val_loss: 0.7870 - val_accuracy: 0.8889\n",
      "\n",
      "Epoch 00073: val_loss did not improve from 0.76308\n",
      "Epoch 74/150\n",
      "33/33 [==============================] - 0s 561us/step - loss: 0.6760 - accuracy: 0.7879 - val_loss: 0.7407 - val_accuracy: 0.8889\n",
      "\n",
      "Epoch 00074: val_loss improved from 0.76308 to 0.74069, saving model to model.h5\n",
      "Epoch 75/150\n",
      "33/33 [==============================] - 0s 558us/step - loss: 0.6208 - accuracy: 0.7879 - val_loss: 0.6864 - val_accuracy: 1.0000\n",
      "\n",
      "Epoch 00075: val_loss improved from 0.74069 to 0.68637, saving model to model.h5\n",
      "Epoch 76/150\n",
      "33/33 [==============================] - 0s 549us/step - loss: 0.5999 - accuracy: 0.7879 - val_loss: 0.6485 - val_accuracy: 1.0000\n",
      "\n",
      "Epoch 00076: val_loss improved from 0.68637 to 0.64849, saving model to model.h5\n",
      "Epoch 77/150\n",
      "33/33 [==============================] - 0s 571us/step - loss: 0.5370 - accuracy: 0.7879 - val_loss: 0.6272 - val_accuracy: 1.0000\n",
      "\n",
      "Epoch 00077: val_loss improved from 0.64849 to 0.62722, saving model to model.h5\n",
      "Epoch 78/150\n",
      "33/33 [==============================] - 0s 580us/step - loss: 0.5653 - accuracy: 0.8485 - val_loss: 0.5993 - val_accuracy: 0.8889\n",
      "\n",
      "Epoch 00078: val_loss improved from 0.62722 to 0.59932, saving model to model.h5\n",
      "Epoch 79/150\n",
      "33/33 [==============================] - 0s 554us/step - loss: 0.5176 - accuracy: 0.8182 - val_loss: 0.5555 - val_accuracy: 1.0000\n",
      "\n",
      "Epoch 00079: val_loss improved from 0.59932 to 0.55553, saving model to model.h5\n",
      "Epoch 80/150\n",
      "33/33 [==============================] - 0s 576us/step - loss: 0.4668 - accuracy: 0.8182 - val_loss: 0.5270 - val_accuracy: 1.0000\n",
      "\n",
      "Epoch 00080: val_loss improved from 0.55553 to 0.52698, saving model to model.h5\n",
      "Epoch 81/150\n",
      "33/33 [==============================] - 0s 572us/step - loss: 0.4417 - accuracy: 0.8485 - val_loss: 0.5112 - val_accuracy: 0.8889\n",
      "\n",
      "Epoch 00081: val_loss improved from 0.52698 to 0.51120, saving model to model.h5\n",
      "Epoch 82/150\n",
      "33/33 [==============================] - 0s 579us/step - loss: 0.5064 - accuracy: 0.7879 - val_loss: 0.4968 - val_accuracy: 0.8889\n",
      "\n",
      "Epoch 00082: val_loss improved from 0.51120 to 0.49680, saving model to model.h5\n",
      "Epoch 83/150\n",
      "33/33 [==============================] - 0s 548us/step - loss: 0.4426 - accuracy: 0.7879 - val_loss: 0.4844 - val_accuracy: 1.0000\n",
      "\n",
      "Epoch 00083: val_loss improved from 0.49680 to 0.48440, saving model to model.h5\n",
      "Epoch 84/150\n",
      "33/33 [==============================] - 0s 568us/step - loss: 0.3930 - accuracy: 0.9091 - val_loss: 0.4760 - val_accuracy: 1.0000\n",
      "\n",
      "Epoch 00084: val_loss improved from 0.48440 to 0.47598, saving model to model.h5\n",
      "Epoch 85/150\n",
      "33/33 [==============================] - 0s 581us/step - loss: 0.4719 - accuracy: 0.7879 - val_loss: 0.4700 - val_accuracy: 1.0000\n",
      "\n",
      "Epoch 00085: val_loss improved from 0.47598 to 0.47005, saving model to model.h5\n",
      "Epoch 86/150\n",
      "33/33 [==============================] - 0s 563us/step - loss: 0.4615 - accuracy: 0.7879 - val_loss: 0.4612 - val_accuracy: 1.0000\n",
      "\n",
      "Epoch 00086: val_loss improved from 0.47005 to 0.46122, saving model to model.h5\n",
      "Epoch 87/150\n",
      "33/33 [==============================] - 0s 577us/step - loss: 0.4069 - accuracy: 0.7576 - val_loss: 0.4485 - val_accuracy: 1.0000\n",
      "\n",
      "Epoch 00087: val_loss improved from 0.46122 to 0.44854, saving model to model.h5\n",
      "Epoch 88/150\n",
      "33/33 [==============================] - 0s 570us/step - loss: 0.3800 - accuracy: 0.8788 - val_loss: 0.4362 - val_accuracy: 1.0000\n",
      "\n",
      "Epoch 00088: val_loss improved from 0.44854 to 0.43618, saving model to model.h5\n",
      "Epoch 89/150\n",
      "33/33 [==============================] - 0s 591us/step - loss: 0.3507 - accuracy: 0.8788 - val_loss: 0.4227 - val_accuracy: 1.0000\n",
      "\n",
      "Epoch 00089: val_loss improved from 0.43618 to 0.42269, saving model to model.h5\n",
      "Epoch 90/150\n",
      "33/33 [==============================] - 0s 558us/step - loss: 0.3833 - accuracy: 0.8485 - val_loss: 0.3946 - val_accuracy: 1.0000\n",
      "\n",
      "Epoch 00090: val_loss improved from 0.42269 to 0.39460, saving model to model.h5\n",
      "Epoch 91/150\n",
      "33/33 [==============================] - 0s 573us/step - loss: 0.3535 - accuracy: 0.9394 - val_loss: 0.4026 - val_accuracy: 1.0000\n",
      "\n",
      "Epoch 00091: val_loss did not improve from 0.39460\n",
      "Epoch 92/150\n",
      "33/33 [==============================] - 0s 566us/step - loss: 0.4159 - accuracy: 0.8182 - val_loss: 0.4327 - val_accuracy: 0.8889\n",
      "\n",
      "Epoch 00092: val_loss did not improve from 0.39460\n",
      "Epoch 93/150\n",
      "33/33 [==============================] - 0s 563us/step - loss: 0.3629 - accuracy: 0.8182 - val_loss: 0.4147 - val_accuracy: 0.7778\n",
      "\n",
      "Epoch 00093: val_loss did not improve from 0.39460\n",
      "Epoch 94/150\n",
      "33/33 [==============================] - 0s 602us/step - loss: 0.3612 - accuracy: 0.8485 - val_loss: 0.4752 - val_accuracy: 0.7778\n",
      "\n",
      "Epoch 00094: val_loss did not improve from 0.39460\n",
      "Epoch 95/150\n",
      "33/33 [==============================] - 0s 617us/step - loss: 0.3887 - accuracy: 0.8485 - val_loss: 0.6851 - val_accuracy: 0.7778\n",
      "\n",
      "Epoch 00095: val_loss did not improve from 0.39460\n",
      "Epoch 96/150\n",
      "33/33 [==============================] - 0s 550us/step - loss: 0.5165 - accuracy: 0.7273 - val_loss: 0.6575 - val_accuracy: 0.7778\n",
      "\n",
      "Epoch 00096: val_loss did not improve from 0.39460\n",
      "Epoch 97/150\n",
      "33/33 [==============================] - 0s 614us/step - loss: 0.5157 - accuracy: 0.7879 - val_loss: 0.4748 - val_accuracy: 0.7778\n",
      "\n",
      "Epoch 00097: val_loss did not improve from 0.39460\n",
      "Epoch 98/150\n",
      "33/33 [==============================] - 0s 622us/step - loss: 0.3348 - accuracy: 0.8485 - val_loss: 0.3177 - val_accuracy: 0.8889\n",
      "\n",
      "Epoch 00098: val_loss improved from 0.39460 to 0.31765, saving model to model.h5\n",
      "Epoch 99/150\n",
      "33/33 [==============================] - 0s 561us/step - loss: 0.3464 - accuracy: 0.8485 - val_loss: 0.2838 - val_accuracy: 1.0000\n",
      "\n",
      "Epoch 00099: val_loss improved from 0.31765 to 0.28379, saving model to model.h5\n",
      "Epoch 100/150\n",
      "33/33 [==============================] - 0s 556us/step - loss: 0.3531 - accuracy: 0.8788 - val_loss: 0.3173 - val_accuracy: 1.0000\n",
      "\n",
      "Epoch 00100: val_loss did not improve from 0.28379\n",
      "Epoch 101/150\n",
      "33/33 [==============================] - 0s 593us/step - loss: 0.3358 - accuracy: 0.8788 - val_loss: 0.3550 - val_accuracy: 0.8889\n",
      "\n",
      "Epoch 00101: val_loss did not improve from 0.28379\n",
      "Epoch 102/150\n",
      "33/33 [==============================] - 0s 647us/step - loss: 0.3582 - accuracy: 0.8788 - val_loss: 0.3868 - val_accuracy: 0.7778\n",
      "\n",
      "Epoch 00102: val_loss did not improve from 0.28379\n",
      "Epoch 103/150\n",
      "33/33 [==============================] - 0s 591us/step - loss: 0.4162 - accuracy: 0.8485 - val_loss: 0.4109 - val_accuracy: 0.7778\n",
      "\n",
      "Epoch 00103: val_loss did not improve from 0.28379\n",
      "Epoch 104/150\n",
      "33/33 [==============================] - 0s 596us/step - loss: 0.4548 - accuracy: 0.7879 - val_loss: 0.4359 - val_accuracy: 0.6667\n",
      "\n",
      "Epoch 00104: val_loss did not improve from 0.28379\n",
      "Epoch 105/150\n",
      "33/33 [==============================] - 0s 542us/step - loss: 0.3518 - accuracy: 0.8485 - val_loss: 0.4600 - val_accuracy: 0.6667\n",
      "\n",
      "Epoch 00105: val_loss did not improve from 0.28379\n",
      "Epoch 106/150\n",
      "33/33 [==============================] - 0s 577us/step - loss: 0.3678 - accuracy: 0.8485 - val_loss: 0.4635 - val_accuracy: 0.6667\n",
      "\n",
      "Epoch 00106: val_loss did not improve from 0.28379\n",
      "Epoch 107/150\n",
      "33/33 [==============================] - 0s 601us/step - loss: 0.3402 - accuracy: 0.8485 - val_loss: 0.4522 - val_accuracy: 0.6667\n",
      "\n",
      "Epoch 00107: val_loss did not improve from 0.28379\n",
      "Epoch 108/150\n",
      "33/33 [==============================] - 0s 561us/step - loss: 0.2583 - accuracy: 0.8788 - val_loss: 0.4498 - val_accuracy: 0.6667\n",
      "\n",
      "Epoch 00108: val_loss did not improve from 0.28379\n",
      "Epoch 109/150\n",
      "33/33 [==============================] - 0s 553us/step - loss: 0.4373 - accuracy: 0.8485 - val_loss: 0.4506 - val_accuracy: 0.6667\n",
      "\n",
      "Epoch 00109: val_loss did not improve from 0.28379\n",
      "Epoch 110/150\n",
      "33/33 [==============================] - 0s 536us/step - loss: 0.3124 - accuracy: 0.9394 - val_loss: 0.4237 - val_accuracy: 0.7778\n",
      "\n",
      "Epoch 00110: val_loss did not improve from 0.28379\n",
      "Epoch 111/150\n",
      "33/33 [==============================] - 0s 542us/step - loss: 0.3086 - accuracy: 0.8485 - val_loss: 0.3800 - val_accuracy: 0.7778\n",
      "\n",
      "Epoch 00111: val_loss did not improve from 0.28379\n",
      "Epoch 112/150\n",
      "33/33 [==============================] - 0s 556us/step - loss: 0.3303 - accuracy: 0.8788 - val_loss: 0.3400 - val_accuracy: 0.8889\n",
      "\n",
      "Epoch 00112: val_loss did not improve from 0.28379\n",
      "Epoch 113/150\n",
      "33/33 [==============================] - 0s 592us/step - loss: 0.2846 - accuracy: 0.8788 - val_loss: 0.3139 - val_accuracy: 0.8889\n",
      "\n",
      "Epoch 00113: val_loss did not improve from 0.28379\n",
      "Epoch 114/150\n",
      "33/33 [==============================] - 0s 585us/step - loss: 0.2938 - accuracy: 0.8485 - val_loss: 0.2984 - val_accuracy: 1.0000\n",
      "\n",
      "Epoch 00114: val_loss did not improve from 0.28379\n",
      "Epoch 115/150\n",
      "33/33 [==============================] - 0s 583us/step - loss: 0.2519 - accuracy: 0.9394 - val_loss: 0.2885 - val_accuracy: 1.0000\n",
      "\n",
      "Epoch 00115: val_loss did not improve from 0.28379\n",
      "Epoch 116/150\n",
      "33/33 [==============================] - 0s 628us/step - loss: 0.3445 - accuracy: 0.8485 - val_loss: 0.2826 - val_accuracy: 1.0000\n",
      "\n",
      "Epoch 00116: val_loss improved from 0.28379 to 0.28260, saving model to model.h5\n",
      "Epoch 117/150\n"
     ]
    },
    {
     "name": "stdout",
     "output_type": "stream",
     "text": [
      "33/33 [==============================] - 0s 580us/step - loss: 0.2756 - accuracy: 0.9091 - val_loss: 0.2796 - val_accuracy: 1.0000\n",
      "\n",
      "Epoch 00117: val_loss improved from 0.28260 to 0.27963, saving model to model.h5\n",
      "Epoch 118/150\n",
      "33/33 [==============================] - 0s 533us/step - loss: 0.3166 - accuracy: 0.8788 - val_loss: 0.2808 - val_accuracy: 0.8889\n",
      "\n",
      "Epoch 00118: val_loss did not improve from 0.27963\n",
      "Epoch 119/150\n",
      "33/33 [==============================] - 0s 562us/step - loss: 0.2802 - accuracy: 0.9091 - val_loss: 0.2794 - val_accuracy: 0.8889\n",
      "\n",
      "Epoch 00119: val_loss improved from 0.27963 to 0.27935, saving model to model.h5\n",
      "Epoch 120/150\n",
      "33/33 [==============================] - 0s 555us/step - loss: 0.2139 - accuracy: 0.9091 - val_loss: 0.2742 - val_accuracy: 0.8889\n",
      "\n",
      "Epoch 00120: val_loss improved from 0.27935 to 0.27418, saving model to model.h5\n",
      "Epoch 121/150\n",
      "33/33 [==============================] - 0s 575us/step - loss: 0.2253 - accuracy: 0.8788 - val_loss: 0.2667 - val_accuracy: 0.8889\n",
      "\n",
      "Epoch 00121: val_loss improved from 0.27418 to 0.26671, saving model to model.h5\n",
      "Epoch 122/150\n",
      "33/33 [==============================] - 0s 588us/step - loss: 0.2182 - accuracy: 0.9394 - val_loss: 0.2582 - val_accuracy: 0.8889\n",
      "\n",
      "Epoch 00122: val_loss improved from 0.26671 to 0.25823, saving model to model.h5\n",
      "Epoch 123/150\n",
      "33/33 [==============================] - 0s 541us/step - loss: 0.2934 - accuracy: 0.8788 - val_loss: 0.2464 - val_accuracy: 1.0000\n",
      "\n",
      "Epoch 00123: val_loss improved from 0.25823 to 0.24641, saving model to model.h5\n",
      "Epoch 124/150\n",
      "33/33 [==============================] - 0s 611us/step - loss: 0.2553 - accuracy: 0.8788 - val_loss: 0.2304 - val_accuracy: 1.0000\n",
      "\n",
      "Epoch 00124: val_loss improved from 0.24641 to 0.23042, saving model to model.h5\n",
      "Epoch 125/150\n",
      "33/33 [==============================] - 0s 616us/step - loss: 0.2676 - accuracy: 0.8485 - val_loss: 0.2148 - val_accuracy: 1.0000\n",
      "\n",
      "Epoch 00125: val_loss improved from 0.23042 to 0.21481, saving model to model.h5\n",
      "Epoch 126/150\n",
      "33/33 [==============================] - 0s 524us/step - loss: 0.3176 - accuracy: 0.8788 - val_loss: 0.2032 - val_accuracy: 1.0000\n",
      "\n",
      "Epoch 00126: val_loss improved from 0.21481 to 0.20316, saving model to model.h5\n",
      "Epoch 127/150\n",
      "33/33 [==============================] - 0s 541us/step - loss: 0.2733 - accuracy: 0.8485 - val_loss: 0.2006 - val_accuracy: 0.8889\n",
      "\n",
      "Epoch 00127: val_loss improved from 0.20316 to 0.20062, saving model to model.h5\n",
      "Epoch 128/150\n",
      "33/33 [==============================] - 0s 564us/step - loss: 0.1645 - accuracy: 0.9091 - val_loss: 0.2089 - val_accuracy: 0.8889\n",
      "\n",
      "Epoch 00128: val_loss did not improve from 0.20062\n",
      "Epoch 129/150\n",
      "33/33 [==============================] - 0s 571us/step - loss: 0.1629 - accuracy: 0.9394 - val_loss: 0.2174 - val_accuracy: 0.7778\n",
      "\n",
      "Epoch 00129: val_loss did not improve from 0.20062\n",
      "Epoch 130/150\n",
      "33/33 [==============================] - 0s 537us/step - loss: 0.2686 - accuracy: 0.8485 - val_loss: 0.2256 - val_accuracy: 0.7778\n",
      "\n",
      "Epoch 00130: val_loss did not improve from 0.20062\n",
      "Epoch 131/150\n",
      "33/33 [==============================] - 0s 537us/step - loss: 0.2119 - accuracy: 0.9091 - val_loss: 0.2321 - val_accuracy: 0.7778\n",
      "\n",
      "Epoch 00131: val_loss did not improve from 0.20062\n",
      "Epoch 132/150\n",
      "33/33 [==============================] - 0s 571us/step - loss: 0.2707 - accuracy: 0.8788 - val_loss: 0.2409 - val_accuracy: 0.7778\n",
      "\n",
      "Epoch 00132: val_loss did not improve from 0.20062\n",
      "Epoch 133/150\n",
      "33/33 [==============================] - 0s 560us/step - loss: 0.2671 - accuracy: 0.8182 - val_loss: 0.2496 - val_accuracy: 0.7778\n",
      "\n",
      "Epoch 00133: val_loss did not improve from 0.20062\n",
      "Epoch 134/150\n",
      "33/33 [==============================] - 0s 541us/step - loss: 0.3364 - accuracy: 0.7879 - val_loss: 0.2504 - val_accuracy: 0.7778\n",
      "\n",
      "Epoch 00134: val_loss did not improve from 0.20062\n",
      "Epoch 135/150\n",
      "33/33 [==============================] - 0s 578us/step - loss: 0.2837 - accuracy: 0.8788 - val_loss: 0.2377 - val_accuracy: 0.8889\n",
      "\n",
      "Epoch 00135: val_loss did not improve from 0.20062\n",
      "Epoch 136/150\n",
      "33/33 [==============================] - 0s 542us/step - loss: 0.2288 - accuracy: 0.8788 - val_loss: 0.2195 - val_accuracy: 0.8889\n",
      "\n",
      "Epoch 00136: val_loss did not improve from 0.20062\n",
      "Epoch 137/150\n",
      "33/33 [==============================] - 0s 550us/step - loss: 0.1686 - accuracy: 0.9697 - val_loss: 0.2010 - val_accuracy: 0.8889\n",
      "\n",
      "Epoch 00137: val_loss did not improve from 0.20062\n",
      "Epoch 138/150\n",
      "33/33 [==============================] - 0s 578us/step - loss: 0.1741 - accuracy: 0.9091 - val_loss: 0.1850 - val_accuracy: 1.0000\n",
      "\n",
      "Epoch 00138: val_loss improved from 0.20062 to 0.18501, saving model to model.h5\n",
      "Epoch 139/150\n",
      "33/33 [==============================] - 0s 545us/step - loss: 0.1906 - accuracy: 0.9091 - val_loss: 0.1757 - val_accuracy: 1.0000\n",
      "\n",
      "Epoch 00139: val_loss improved from 0.18501 to 0.17574, saving model to model.h5\n",
      "Epoch 140/150\n",
      "33/33 [==============================] - 0s 580us/step - loss: 0.2257 - accuracy: 0.8485 - val_loss: 0.1657 - val_accuracy: 1.0000\n",
      "\n",
      "Epoch 00140: val_loss improved from 0.17574 to 0.16571, saving model to model.h5\n",
      "Epoch 141/150\n",
      "33/33 [==============================] - 0s 537us/step - loss: 0.1953 - accuracy: 0.9697 - val_loss: 0.1540 - val_accuracy: 1.0000\n",
      "\n",
      "Epoch 00141: val_loss improved from 0.16571 to 0.15400, saving model to model.h5\n",
      "Epoch 142/150\n",
      "33/33 [==============================] - 0s 568us/step - loss: 0.2712 - accuracy: 0.8788 - val_loss: 0.1405 - val_accuracy: 1.0000\n",
      "\n",
      "Epoch 00142: val_loss improved from 0.15400 to 0.14050, saving model to model.h5\n",
      "Epoch 143/150\n",
      "33/33 [==============================] - 0s 537us/step - loss: 0.1023 - accuracy: 0.9697 - val_loss: 0.1244 - val_accuracy: 1.0000\n",
      "\n",
      "Epoch 00143: val_loss improved from 0.14050 to 0.12442, saving model to model.h5\n",
      "Epoch 144/150\n",
      "33/33 [==============================] - 0s 599us/step - loss: 0.1932 - accuracy: 0.9697 - val_loss: 0.1072 - val_accuracy: 1.0000\n",
      "\n",
      "Epoch 00144: val_loss improved from 0.12442 to 0.10724, saving model to model.h5\n",
      "Epoch 145/150\n",
      "33/33 [==============================] - 0s 547us/step - loss: 0.1984 - accuracy: 0.9091 - val_loss: 0.0874 - val_accuracy: 1.0000\n",
      "\n",
      "Epoch 00145: val_loss improved from 0.10724 to 0.08737, saving model to model.h5\n",
      "Epoch 146/150\n",
      "33/33 [==============================] - 0s 532us/step - loss: 0.0816 - accuracy: 1.0000 - val_loss: 0.0686 - val_accuracy: 1.0000\n",
      "\n",
      "Epoch 00146: val_loss improved from 0.08737 to 0.06860, saving model to model.h5\n",
      "Epoch 147/150\n",
      "33/33 [==============================] - 0s 574us/step - loss: 0.0596 - accuracy: 1.0000 - val_loss: 0.0545 - val_accuracy: 1.0000\n",
      "\n",
      "Epoch 00147: val_loss improved from 0.06860 to 0.05454, saving model to model.h5\n",
      "Epoch 148/150\n",
      "33/33 [==============================] - 0s 564us/step - loss: 0.1303 - accuracy: 0.9394 - val_loss: 0.0455 - val_accuracy: 1.0000\n",
      "\n",
      "Epoch 00148: val_loss improved from 0.05454 to 0.04553, saving model to model.h5\n",
      "Epoch 149/150\n",
      "33/33 [==============================] - 0s 558us/step - loss: 0.1432 - accuracy: 0.9394 - val_loss: 0.0404 - val_accuracy: 1.0000\n",
      "\n",
      "Epoch 00149: val_loss improved from 0.04553 to 0.04043, saving model to model.h5\n",
      "Epoch 150/150\n",
      "33/33 [==============================] - 0s 612us/step - loss: 0.1073 - accuracy: 1.0000 - val_loss: 0.0324 - val_accuracy: 1.0000\n",
      "\n",
      "Epoch 00150: val_loss improved from 0.04043 to 0.03242, saving model to model.h5\n"
     ]
    }
   ],
   "source": [
    "filename = 'model.h5'\n",
    "checkpoint = ModelCheckpoint(filename, monitor='val_loss', verbose=1, save_best_only=True, mode='min')\n",
    "\n",
    "history = model.fit(train_X, train_Y, epochs = 150, batch_size = 32, validation_data = (val_X, val_Y), callbacks = [checkpoint])"
   ]
  },
  {
   "cell_type": "code",
   "execution_count": 302,
   "metadata": {},
   "outputs": [
    {
     "name": "stdout",
     "output_type": "stream",
     "text": [
      "dict_keys(['val_loss', 'val_accuracy', 'loss', 'accuracy'])\n"
     ]
    },
    {
     "data": {
      "image/png": "[encoded data removed]",
      "text/plain": [
       "<Figure size 432x288 with 1 Axes>"
      ]
     },
     "metadata": {
      "needs_background": "light"
     },
     "output_type": "display_data"
    },
    {
     "data": {
      "image/png": "[encoded data removed]",
      "text/plain": [
       "<Figure size 432x288 with 1 Axes>"
      ]
     },
     "metadata": {
      "needs_background": "light"
     },
     "output_type": "display_data"
    }
   ],
   "source": [
    "print(history.history.keys())\n",
    "# summarize history for accuracy\n",
    "plt.plot(history.history['accuracy'])\n",
    "plt.plot(history.history['val_accuracy'])\n",
    "plt.title('model accuracy')\n",
    "plt.ylabel('accuracy')\n",
    "plt.xlabel('epoch')\n",
    "plt.legend(['train', 'test'], loc='upper left')\n",
    "plt.show()\n",
    "# summarize history for loss\n",
    "plt.plot(history.history['loss'])\n",
    "plt.plot(history.history['val_loss'])\n",
    "plt.title('model loss')\n",
    "plt.ylabel('loss')\n",
    "plt.xlabel('epoch')\n",
    "plt.legend(['train', 'test'], loc='upper left')\n",
    "plt.show()"
   ]
  },
  {
   "cell_type": "code",
   "execution_count": 303,
   "metadata": {},
   "outputs": [],
   "source": [
    " model = load_model(\"model.h5\")"
   ]
  },
  {
   "cell_type": "code",
   "execution_count": null,
   "metadata": {},
   "outputs": [],
   "source": []
  },
  {
   "cell_type": "code",
   "execution_count": 304,
   "metadata": {},
   "outputs": [],
   "source": [
    "def predictions(text):\n",
    "    clean = re.sub(r'[^ a-z A-Z 0-9]', \" \", text)\n",
    "    test_word = word_tokenize(clean)\n",
    "    test_word = [w.lower() for w in test_word]\n",
    "    test_ls = word_tokenizer.texts_to_sequences(test_word)\n",
    "    print(test_word)\n",
    "    #Check for unknown words\n",
    "    if [] in test_ls:\n",
    "        test_ls = list(filter(None, test_ls))\n",
    "    \n",
    "    test_ls = np.array(test_ls).reshape(1, len(test_ls))\n",
    " \n",
    "    x = padding_doc(test_ls, max_length)\n",
    "  \n",
    "    pred = model.predict_proba(x)\n",
    "  \n",
    "  \n",
    "    return pred\n",
    "\n",
    "\n",
    "  "
   ]
  },
  {
   "cell_type": "code",
   "execution_count": 225,
   "metadata": {},
   "outputs": [],
   "source": [
    "def get_final_output(pred, classes):\n",
    "    predictions = pred[0]\n",
    " \n",
    "    classes = np.array(classes)\n",
    "    ids = np.argsort(-predictions)\n",
    "    classes = classes[ids]\n",
    "    predictions = -np.sort(-predictions)\n",
    " \n",
    "    for i in range(pred.shape[1]):\n",
    "        print(\"%s has confidence = %s\" % (classes[i], (predictions[i])))\n",
    "\n"
   ]
  },
  {
   "cell_type": "code",
   "execution_count": 158,
   "metadata": {
    "scrolled": false
   },
   "outputs": [
    {
     "name": "stdout",
     "output_type": "stream",
     "text": [
      "['how', 'much', 'does', 'it', 'cost']\n",
      "price has confidence = 0.77760005\n",
      "balance has confidence = 0.21339433\n",
      "common has confidence = 0.005277448\n",
      "order has confidence = 0.003728156\n"
     ]
    }
   ],
   "source": [
    "text = \"How much does it cost?\"\n",
    "pred = predictions(text)\n",
    "get_final_output(pred, unique_intent)"
   ]
  },
  {
   "cell_type": "code",
   "execution_count": null,
   "metadata": {},
   "outputs": [],
   "source": []
  },
  {
   "cell_type": "code",
   "execution_count": 338,
   "metadata": {},
   "outputs": [
    {
     "name": "stdout",
     "output_type": "stream",
     "text": [
      "Hello, what can I help you with?\n"
     ]
    }
   ],
   "source": [
    "opening_lines = ['Hello, what can I help you with?',\n",
    "                'How can I help you?',\n",
    "                'Whats on your mind today?']\n",
    "\n",
    "def randomOpening():\n",
    "    index = random.randint(0,len(opening_lines)-1)\n",
    "    print(opening_lines[index])\n",
    "\n"
   ]
  },
  {
   "cell_type": "code",
   "execution_count": null,
   "metadata": {},
   "outputs": [
    {
     "name": "stdout",
     "output_type": "stream",
     "text": [
      "Hello, what can I help you with?\n",
      "Ask the chatbot something: how much does a pair of shoes cost?\n",
      "how much does a pair of shoes cost?\n",
      "['how', 'much', 'does', 'a', 'pair', 'of', 'shoes', 'cost']\n",
      "[[0.00402675 0.00409865 0.91958594 0.07228872]]\n",
      "price has confidence = 0.91958594\n",
      "balance has confidence = 0.07228872\n",
      "order has confidence = 0.0040986524\n",
      "common has confidence = 0.0040267515\n",
      "How can I help you?\n"
     ]
    }
   ],
   "source": [
    "def cli():\n",
    "    while True:\n",
    "        randomOpening()\n",
    "        user_input = input(\"Ask the chatbot something: \")\n",
    "        print(user_input)\n",
    "        if(user_input==\"quit\"):\n",
    "            break\n",
    "        else:\n",
    "            pred = predictions(user_input)\n",
    "            print(pred)\n",
    "            get_final_output(pred, unique_intent)\n",
    "\n",
    "        \n",
    "cli()"
   ]
  },
  {
   "cell_type": "code",
   "execution_count": null,
   "metadata": {},
   "outputs": [],
   "source": []
  }
 ],
 "metadata": {
  "kernelspec": {
   "display_name": "Python 3",
   "language": "python",
   "name": "python3"
  }
 },
 "nbformat": 4,
 "nbformat_minor": 4
}
