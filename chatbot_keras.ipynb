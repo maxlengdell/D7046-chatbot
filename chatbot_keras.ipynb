{
 "cells": [
  {
   "cell_type": "code",
   "execution_count": 1,
   "metadata": {},
   "outputs": [
    {
     "name": "stderr",
     "output_type": "stream",
     "text": [
      "Using TensorFlow backend.\n"
     ]
    },
    {
     "name": "stdout",
     "output_type": "stream",
     "text": [
      "hej\n"
     ]
    }
   ],
   "source": [
    "import torch\n",
    "import torch.nn as nn\n",
    "\n",
    "import numpy as np\n",
    "import pandas as pd\n",
    "import random\n",
    "from nltk.corpus import stopwords\n",
    "from nltk.tokenize import word_tokenize\n",
    "from nltk.stem.lancaster import LancasterStemmer\n",
    "import nltk\n",
    "import re\n",
    "from sklearn.preprocessing import OneHotEncoder\n",
    "import matplotlib.pyplot as plt\n",
    "from keras.preprocessing.text import Tokenizer\n",
    "from keras.preprocessing.sequence import pad_sequences\n",
    "from keras.utils import to_categorical\n",
    "from keras.models import Sequential, load_model\n",
    "from keras.layers import Dense, LSTM, Bidirectional, Embedding, Dropout\n",
    "from keras.callbacks import ModelCheckpoint\n",
    "\n",
    "print(\"hej\")"
   ]
  },
  {
   "cell_type": "code",
   "execution_count": 2,
   "metadata": {},
   "outputs": [],
   "source": [
    "def load_dataset(filename):\n",
    "    df = pd.read_csv(filename, encoding = \"latin1\", names = [\"Sentence\", \"Intent\"])\n",
    "    print(df.head())\n",
    "    intent = df[\"Intent\"]\n",
    "    unique_intent = list(set(intent))\n",
    "    sentences = list(df[\"Sentence\"])\n",
    "  \n",
    "    return (intent, unique_intent, sentences)\n",
    "  \n"
   ]
  },
  {
   "cell_type": "code",
   "execution_count": 3,
   "metadata": {},
   "outputs": [
    {
     "name": "stdout",
     "output_type": "stream",
     "text": [
      "                      Sentence Intent\n",
      "0          What does that cost  price\n",
      "1  What's the price of <Item>?  price\n",
      "2          How much is <item>?  price\n",
      "3              Cost of <Item>?  price\n",
      "4       What does <Item> cost?  price\n"
     ]
    }
   ],
   "source": [
    "intent, unique_intent, sentences = load_dataset(\"data.csv\")"
   ]
  },
  {
   "cell_type": "code",
   "execution_count": 4,
   "metadata": {},
   "outputs": [
    {
     "name": "stdout",
     "output_type": "stream",
     "text": [
      "['What does that cost', \"What's the price of <Item>?\", 'How much is <item>?', 'Cost of <Item>?', 'What does <Item> cost?']\n"
     ]
    }
   ],
   "source": [
    "print(sentences[:5])"
   ]
  },
  {
   "cell_type": "code",
   "execution_count": 5,
   "metadata": {},
   "outputs": [
    {
     "name": "stderr",
     "output_type": "stream",
     "text": [
      "[nltk_data] Downloading package stopwords to\n",
      "[nltk_data]     /Users/axelalvarsson/nltk_data...\n",
      "[nltk_data]   Package stopwords is already up-to-date!\n",
      "[nltk_data] Downloading package punkt to\n",
      "[nltk_data]     /Users/axelalvarsson/nltk_data...\n",
      "[nltk_data]   Package punkt is already up-to-date!\n"
     ]
    },
    {
     "data": {
      "text/plain": [
       "True"
      ]
     },
     "execution_count": 5,
     "metadata": {},
     "output_type": "execute_result"
    }
   ],
   "source": [
    "nltk.download(\"stopwords\")\n",
    "nltk.download(\"punkt\")"
   ]
  },
  {
   "cell_type": "code",
   "execution_count": 6,
   "metadata": {},
   "outputs": [],
   "source": [
    "#define stemmer\n",
    "stemmer = LancasterStemmer()"
   ]
  },
  {
   "cell_type": "code",
   "execution_count": 7,
   "metadata": {},
   "outputs": [],
   "source": [
    "def cleaning(sentences):\n",
    "    words = []\n",
    "    for s in sentences:\n",
    "        clean = re.sub(r'[^ a-z A-Z 0-9]', \" \", s)\n",
    "        w = word_tokenize(clean)\n",
    "        #stemming\n",
    "        words.append([i.lower() for i in w])\n",
    "    \n",
    "    return words  "
   ]
  },
  {
   "cell_type": "code",
   "execution_count": 8,
   "metadata": {},
   "outputs": [
    {
     "name": "stdout",
     "output_type": "stream",
     "text": [
      "42\n",
      "[['what', 'does', 'that', 'cost'], ['what', 's', 'the', 'price', 'of', 'item']]\n"
     ]
    }
   ],
   "source": [
    "cleaned_words = cleaning(sentences)\n",
    "print(len(cleaned_words))\n",
    "print(cleaned_words[:2])  \n",
    "  \n"
   ]
  },
  {
   "cell_type": "code",
   "execution_count": 9,
   "metadata": {},
   "outputs": [],
   "source": [
    "def create_tokenizer(words, filters = '!\"#$%&()*+,-./:;<=>?@[\\]^_`{|}~'):\n",
    "    token = Tokenizer(filters = filters)\n",
    "    token.fit_on_texts(words)\n",
    "    print(token)\n",
    "    return token"
   ]
  },
  {
   "cell_type": "code",
   "execution_count": 10,
   "metadata": {},
   "outputs": [],
   "source": [
    "def max_length(words):\n",
    "    return(len(max(words, key = len)))\n",
    "  "
   ]
  },
  {
   "cell_type": "code",
   "execution_count": 11,
   "metadata": {},
   "outputs": [
    {
     "name": "stdout",
     "output_type": "stream",
     "text": [
      "<keras_preprocessing.text.Tokenizer object at 0x7f9c78d4f358>\n",
      "Vocab Size = 47 and Maximum length = 6\n"
     ]
    }
   ],
   "source": [
    "word_tokenizer = create_tokenizer(cleaned_words)\n",
    "vocab_size = len(word_tokenizer.word_index) + 1\n",
    "max_length = max_length(cleaned_words)\n",
    "\n",
    "print(\"Vocab Size = %d and Maximum length = %d\" % (vocab_size, max_length))"
   ]
  },
  {
   "cell_type": "code",
   "execution_count": 12,
   "metadata": {},
   "outputs": [],
   "source": [
    "def encoding_doc(token, words):\n",
    "    return(token.texts_to_sequences(words))"
   ]
  },
  {
   "cell_type": "code",
   "execution_count": 13,
   "metadata": {},
   "outputs": [],
   "source": [
    "encoded_doc = encoding_doc(word_tokenizer, cleaned_words)\n",
    "#print(encoded_doc)"
   ]
  },
  {
   "cell_type": "code",
   "execution_count": 14,
   "metadata": {},
   "outputs": [],
   "source": [
    "def padding_doc(encoded_doc, max_length):\n",
    "    return(pad_sequences(encoded_doc, maxlen = max_length, padding = \"post\"))"
   ]
  },
  {
   "cell_type": "code",
   "execution_count": 15,
   "metadata": {},
   "outputs": [],
   "source": [
    "padded_doc = padding_doc(encoded_doc, max_length)"
   ]
  },
  {
   "cell_type": "code",
   "execution_count": 16,
   "metadata": {},
   "outputs": [
    {
     "data": {
      "text/plain": [
       "array([[ 3, 18, 29, 10,  0,  0],\n",
       "       [ 3, 30, 31, 19,  5,  1],\n",
       "       [11, 20, 32,  1,  0,  0],\n",
       "       [10,  5,  1,  0,  0,  0],\n",
       "       [ 3, 18,  1, 10,  0,  0]], dtype=int32)"
      ]
     },
     "execution_count": 16,
     "metadata": {},
     "output_type": "execute_result"
    }
   ],
   "source": [
    "padded_doc[:5]"
   ]
  },
  {
   "cell_type": "code",
   "execution_count": 17,
   "metadata": {},
   "outputs": [
    {
     "name": "stdout",
     "output_type": "stream",
     "text": [
      "Shape of padded docs =  (42, 6)\n"
     ]
    }
   ],
   "source": [
    "print(\"Shape of padded docs = \",padded_doc.shape)"
   ]
  },
  {
   "cell_type": "code",
   "execution_count": 18,
   "metadata": {},
   "outputs": [
    {
     "name": "stdout",
     "output_type": "stream",
     "text": [
      "<keras_preprocessing.text.Tokenizer object at 0x7f9c988cfe10>\n"
     ]
    }
   ],
   "source": [
    "#tokenizer with filter changed\n",
    "output_tokenizer = create_tokenizer(unique_intent, filters = '!\"#$%&()*+,-/:;<=>?@[\\]^`{|}~')\n"
   ]
  },
  {
   "cell_type": "code",
   "execution_count": 19,
   "metadata": {},
   "outputs": [
    {
     "data": {
      "text/plain": [
       "{'order': 1, 'balance': 2, 'price': 3, 'common': 4}"
      ]
     },
     "execution_count": 19,
     "metadata": {},
     "output_type": "execute_result"
    }
   ],
   "source": [
    "output_tokenizer.word_index"
   ]
  },
  {
   "cell_type": "code",
   "execution_count": 20,
   "metadata": {},
   "outputs": [],
   "source": [
    "encoded_output = encoding_doc(output_tokenizer, intent)"
   ]
  },
  {
   "cell_type": "code",
   "execution_count": 21,
   "metadata": {},
   "outputs": [],
   "source": [
    "encoded_output = np.array(encoded_output).reshape(len(encoded_output), 1)"
   ]
  },
  {
   "cell_type": "code",
   "execution_count": 22,
   "metadata": {},
   "outputs": [
    {
     "data": {
      "text/plain": [
       "(42, 1)"
      ]
     },
     "execution_count": 22,
     "metadata": {},
     "output_type": "execute_result"
    }
   ],
   "source": [
    "encoded_output.shape"
   ]
  },
  {
   "cell_type": "code",
   "execution_count": 23,
   "metadata": {},
   "outputs": [],
   "source": [
    "def one_hot(encode):\n",
    "    o = OneHotEncoder(sparse = False)\n",
    "    return(o.fit_transform(encode))"
   ]
  },
  {
   "cell_type": "code",
   "execution_count": 24,
   "metadata": {},
   "outputs": [
    {
     "name": "stderr",
     "output_type": "stream",
     "text": [
      "/Users/axelalvarsson/opt/anaconda3/envs/nnlm/lib/python3.6/site-packages/sklearn/preprocessing/_encoders.py:368: FutureWarning: The handling of integer data will change in version 0.22. Currently, the categories are determined based on the range [0, max(values)], while in the future they will be determined based on the unique values.\n",
      "If you want the future behaviour and silence this warning, you can specify \"categories='auto'\".\n",
      "In case you used a LabelEncoder before this OneHotEncoder to convert the categories to integers, then you can now use the OneHotEncoder directly.\n",
      "  warnings.warn(msg, FutureWarning)\n"
     ]
    }
   ],
   "source": [
    "output_one_hot = one_hot(encoded_output)"
   ]
  },
  {
   "cell_type": "code",
   "execution_count": 25,
   "metadata": {},
   "outputs": [
    {
     "data": {
      "text/plain": [
       "(42, 4)"
      ]
     },
     "execution_count": 25,
     "metadata": {},
     "output_type": "execute_result"
    }
   ],
   "source": [
    "output_one_hot.shape"
   ]
  },
  {
   "cell_type": "code",
   "execution_count": 26,
   "metadata": {},
   "outputs": [],
   "source": [
    "from sklearn.model_selection import train_test_split"
   ]
  },
  {
   "cell_type": "code",
   "execution_count": 27,
   "metadata": {},
   "outputs": [],
   "source": [
    "train_X, val_X, train_Y, val_Y = train_test_split(padded_doc, output_one_hot, shuffle = True, test_size = 0.2)\n"
   ]
  },
  {
   "cell_type": "code",
   "execution_count": 28,
   "metadata": {},
   "outputs": [
    {
     "name": "stdout",
     "output_type": "stream",
     "text": [
      "Shape of train_X = (33, 6) and train_Y = (33, 4)\n",
      "Shape of val_X = (9, 6) and val_Y = (9, 4)\n"
     ]
    }
   ],
   "source": [
    "print(\"Shape of train_X = %s and train_Y = %s\" % (train_X.shape, train_Y.shape))\n",
    "print(\"Shape of val_X = %s and val_Y = %s\" % (val_X.shape, val_Y.shape))"
   ]
  },
  {
   "cell_type": "code",
   "execution_count": 29,
   "metadata": {},
   "outputs": [],
   "source": [
    "def create_model(vocab_size, max_length):\n",
    "    model = Sequential()\n",
    "    model.add(Embedding(vocab_size, 128, input_length = max_length, trainable = False))\n",
    "    model.add(Bidirectional(LSTM(128)))\n",
    "#   model.add(LSTM(128))\n",
    "    model.add(Dense(32, activation = \"relu\"))\n",
    "    model.add(Dropout(0.5))\n",
    "    model.add(Dense(4, activation = \"softmax\"))\n",
    "  \n",
    "    return model\n",
    "\n",
    "\n",
    "\n"
   ]
  },
  {
   "cell_type": "code",
   "execution_count": 30,
   "metadata": {},
   "outputs": [
    {
     "name": "stdout",
     "output_type": "stream",
     "text": [
      "Model: \"sequential_1\"\n",
      "_________________________________________________________________\n",
      "Layer (type)                 Output Shape              Param #   \n",
      "=================================================================\n",
      "embedding_1 (Embedding)      (None, 6, 128)            6016      \n",
      "_________________________________________________________________\n",
      "bidirectional_1 (Bidirection (None, 256)               263168    \n",
      "_________________________________________________________________\n",
      "dense_1 (Dense)              (None, 32)                8224      \n",
      "_________________________________________________________________\n",
      "dropout_1 (Dropout)          (None, 32)                0         \n",
      "_________________________________________________________________\n",
      "dense_2 (Dense)              (None, 4)                 132       \n",
      "=================================================================\n",
      "Total params: 277,540\n",
      "Trainable params: 271,524\n",
      "Non-trainable params: 6,016\n",
      "_________________________________________________________________\n"
     ]
    }
   ],
   "source": [
    "model = create_model(vocab_size, max_length)\n",
    "\n",
    "model.compile(loss = \"categorical_crossentropy\", optimizer = \"adam\", metrics = [\"accuracy\"])\n",
    "model.summary()"
   ]
  },
  {
   "cell_type": "code",
   "execution_count": 31,
   "metadata": {},
   "outputs": [
    {
     "name": "stdout",
     "output_type": "stream",
     "text": [
      "Train on 33 samples, validate on 9 samples\n",
      "Epoch 1/100\n",
      "33/33 [==============================] - 4s 135ms/step - loss: 1.3849 - accuracy: 0.3636 - val_loss: 1.3832 - val_accuracy: 0.2222\n",
      "\n",
      "Epoch 00001: val_loss improved from inf to 1.38316, saving model to model.h5\n",
      "Epoch 2/100\n",
      "33/33 [==============================] - 0s 2ms/step - loss: 1.3776 - accuracy: 0.4242 - val_loss: 1.3796 - val_accuracy: 0.3333\n",
      "\n",
      "Epoch 00002: val_loss improved from 1.38316 to 1.37958, saving model to model.h5\n",
      "Epoch 3/100\n",
      "33/33 [==============================] - 0s 3ms/step - loss: 1.3708 - accuracy: 0.4545 - val_loss: 1.3765 - val_accuracy: 0.4444\n",
      "\n",
      "Epoch 00003: val_loss improved from 1.37958 to 1.37651, saving model to model.h5\n",
      "Epoch 4/100\n",
      "33/33 [==============================] - 0s 4ms/step - loss: 1.3602 - accuracy: 0.5455 - val_loss: 1.3735 - val_accuracy: 0.4444\n",
      "\n",
      "Epoch 00004: val_loss improved from 1.37651 to 1.37352, saving model to model.h5\n",
      "Epoch 5/100\n",
      "33/33 [==============================] - 0s 4ms/step - loss: 1.3527 - accuracy: 0.5455 - val_loss: 1.3709 - val_accuracy: 0.4444\n",
      "\n",
      "Epoch 00005: val_loss improved from 1.37352 to 1.37093, saving model to model.h5\n",
      "Epoch 6/100\n",
      "33/33 [==============================] - 0s 4ms/step - loss: 1.3584 - accuracy: 0.4848 - val_loss: 1.3671 - val_accuracy: 0.4444\n",
      "\n",
      "Epoch 00006: val_loss improved from 1.37093 to 1.36712, saving model to model.h5\n",
      "Epoch 7/100\n",
      "33/33 [==============================] - 0s 3ms/step - loss: 1.3525 - accuracy: 0.6061 - val_loss: 1.3640 - val_accuracy: 0.4444\n",
      "\n",
      "Epoch 00007: val_loss improved from 1.36712 to 1.36396, saving model to model.h5\n",
      "Epoch 8/100\n",
      "33/33 [==============================] - 0s 3ms/step - loss: 1.3588 - accuracy: 0.5455 - val_loss: 1.3609 - val_accuracy: 0.4444\n",
      "\n",
      "Epoch 00008: val_loss improved from 1.36396 to 1.36088, saving model to model.h5\n",
      "Epoch 9/100\n",
      "33/33 [==============================] - 0s 3ms/step - loss: 1.3408 - accuracy: 0.4848 - val_loss: 1.3580 - val_accuracy: 0.4444\n",
      "\n",
      "Epoch 00009: val_loss improved from 1.36088 to 1.35802, saving model to model.h5\n",
      "Epoch 10/100\n",
      "33/33 [==============================] - 0s 4ms/step - loss: 1.3427 - accuracy: 0.5152 - val_loss: 1.3555 - val_accuracy: 0.4444\n",
      "\n",
      "Epoch 00010: val_loss improved from 1.35802 to 1.35548, saving model to model.h5\n",
      "Epoch 11/100\n",
      "33/33 [==============================] - 0s 3ms/step - loss: 1.3260 - accuracy: 0.5152 - val_loss: 1.3513 - val_accuracy: 0.4444\n",
      "\n",
      "Epoch 00011: val_loss improved from 1.35548 to 1.35133, saving model to model.h5\n",
      "Epoch 12/100\n",
      "33/33 [==============================] - 0s 3ms/step - loss: 1.3190 - accuracy: 0.4848 - val_loss: 1.3467 - val_accuracy: 0.4444\n",
      "\n",
      "Epoch 00012: val_loss improved from 1.35133 to 1.34666, saving model to model.h5\n",
      "Epoch 13/100\n",
      "33/33 [==============================] - 0s 3ms/step - loss: 1.3233 - accuracy: 0.4848 - val_loss: 1.3430 - val_accuracy: 0.4444\n",
      "\n",
      "Epoch 00013: val_loss improved from 1.34666 to 1.34297, saving model to model.h5\n",
      "Epoch 14/100\n",
      "33/33 [==============================] - 0s 3ms/step - loss: 1.3198 - accuracy: 0.4848 - val_loss: 1.3413 - val_accuracy: 0.3333\n",
      "\n",
      "Epoch 00014: val_loss improved from 1.34297 to 1.34130, saving model to model.h5\n",
      "Epoch 15/100\n",
      "33/33 [==============================] - 0s 3ms/step - loss: 1.2853 - accuracy: 0.5152 - val_loss: 1.3423 - val_accuracy: 0.3333\n",
      "\n",
      "Epoch 00015: val_loss did not improve from 1.34130\n",
      "Epoch 16/100\n",
      "33/33 [==============================] - 0s 3ms/step - loss: 1.2986 - accuracy: 0.4545 - val_loss: 1.3435 - val_accuracy: 0.3333\n",
      "\n",
      "Epoch 00016: val_loss did not improve from 1.34130\n",
      "Epoch 17/100\n",
      "33/33 [==============================] - 0s 3ms/step - loss: 1.2765 - accuracy: 0.3636 - val_loss: 1.3394 - val_accuracy: 0.3333\n",
      "\n",
      "Epoch 00017: val_loss improved from 1.34130 to 1.33942, saving model to model.h5\n",
      "Epoch 18/100\n",
      "33/33 [==============================] - 0s 3ms/step - loss: 1.2680 - accuracy: 0.4545 - val_loss: 1.3328 - val_accuracy: 0.3333\n",
      "\n",
      "Epoch 00018: val_loss improved from 1.33942 to 1.33285, saving model to model.h5\n",
      "Epoch 19/100\n",
      "33/33 [==============================] - 0s 3ms/step - loss: 1.2954 - accuracy: 0.4242 - val_loss: 1.3231 - val_accuracy: 0.3333\n",
      "\n",
      "Epoch 00019: val_loss improved from 1.33285 to 1.32309, saving model to model.h5\n",
      "Epoch 20/100\n",
      "33/33 [==============================] - 0s 8ms/step - loss: 1.2752 - accuracy: 0.4242 - val_loss: 1.3099 - val_accuracy: 0.3333\n",
      "\n",
      "Epoch 00020: val_loss improved from 1.32309 to 1.30990, saving model to model.h5\n",
      "Epoch 21/100\n",
      "33/33 [==============================] - 0s 5ms/step - loss: 1.2711 - accuracy: 0.4545 - val_loss: 1.2986 - val_accuracy: 0.4444\n",
      "\n",
      "Epoch 00021: val_loss improved from 1.30990 to 1.29861, saving model to model.h5\n",
      "Epoch 22/100\n",
      "33/33 [==============================] - 0s 7ms/step - loss: 1.2490 - accuracy: 0.5758 - val_loss: 1.2900 - val_accuracy: 0.4444\n",
      "\n",
      "Epoch 00022: val_loss improved from 1.29861 to 1.29000, saving model to model.h5\n",
      "Epoch 23/100\n",
      "33/33 [==============================] - 0s 3ms/step - loss: 1.1858 - accuracy: 0.5455 - val_loss: 1.2793 - val_accuracy: 0.4444\n",
      "\n",
      "Epoch 00023: val_loss improved from 1.29000 to 1.27931, saving model to model.h5\n",
      "Epoch 24/100\n",
      "33/33 [==============================] - 0s 3ms/step - loss: 1.2197 - accuracy: 0.5152 - val_loss: 1.2673 - val_accuracy: 0.4444\n",
      "\n",
      "Epoch 00024: val_loss improved from 1.27931 to 1.26733, saving model to model.h5\n",
      "Epoch 25/100\n",
      "33/33 [==============================] - 0s 6ms/step - loss: 1.2331 - accuracy: 0.5152 - val_loss: 1.2561 - val_accuracy: 0.4444\n",
      "\n",
      "Epoch 00025: val_loss improved from 1.26733 to 1.25609, saving model to model.h5\n",
      "Epoch 26/100\n",
      "33/33 [==============================] - 0s 3ms/step - loss: 1.1862 - accuracy: 0.5455 - val_loss: 1.2456 - val_accuracy: 0.4444\n",
      "\n",
      "Epoch 00026: val_loss improved from 1.25609 to 1.24555, saving model to model.h5\n",
      "Epoch 27/100\n",
      "33/33 [==============================] - 0s 3ms/step - loss: 1.1837 - accuracy: 0.5152 - val_loss: 1.2337 - val_accuracy: 0.4444\n",
      "\n",
      "Epoch 00027: val_loss improved from 1.24555 to 1.23370, saving model to model.h5\n",
      "Epoch 28/100\n",
      "33/33 [==============================] - 0s 3ms/step - loss: 1.1023 - accuracy: 0.6667 - val_loss: 1.2213 - val_accuracy: 0.4444\n",
      "\n",
      "Epoch 00028: val_loss improved from 1.23370 to 1.22127, saving model to model.h5\n",
      "Epoch 29/100\n",
      "33/33 [==============================] - 0s 4ms/step - loss: 1.1277 - accuracy: 0.5152 - val_loss: 1.2096 - val_accuracy: 0.4444\n",
      "\n",
      "Epoch 00029: val_loss improved from 1.22127 to 1.20965, saving model to model.h5\n",
      "Epoch 30/100\n",
      "33/33 [==============================] - 0s 3ms/step - loss: 1.0745 - accuracy: 0.6061 - val_loss: 1.1979 - val_accuracy: 0.4444\n",
      "\n",
      "Epoch 00030: val_loss improved from 1.20965 to 1.19791, saving model to model.h5\n",
      "Epoch 31/100\n",
      "33/33 [==============================] - 0s 6ms/step - loss: 1.1368 - accuracy: 0.5758 - val_loss: 1.1852 - val_accuracy: 0.4444\n",
      "\n",
      "Epoch 00031: val_loss improved from 1.19791 to 1.18521, saving model to model.h5\n",
      "Epoch 32/100\n",
      "33/33 [==============================] - 0s 4ms/step - loss: 1.0248 - accuracy: 0.6364 - val_loss: 1.1742 - val_accuracy: 0.4444\n",
      "\n",
      "Epoch 00032: val_loss improved from 1.18521 to 1.17420, saving model to model.h5\n",
      "Epoch 33/100\n",
      "33/33 [==============================] - 0s 4ms/step - loss: 1.0344 - accuracy: 0.5758 - val_loss: 1.1704 - val_accuracy: 0.4444\n",
      "\n",
      "Epoch 00033: val_loss improved from 1.17420 to 1.17039, saving model to model.h5\n",
      "Epoch 34/100\n",
      "33/33 [==============================] - 0s 3ms/step - loss: 0.9571 - accuracy: 0.6061 - val_loss: 1.1768 - val_accuracy: 0.4444\n",
      "\n",
      "Epoch 00034: val_loss did not improve from 1.17039\n",
      "Epoch 35/100\n",
      "33/33 [==============================] - 0s 7ms/step - loss: 1.0521 - accuracy: 0.6364 - val_loss: 1.1859 - val_accuracy: 0.4444\n",
      "\n",
      "Epoch 00035: val_loss did not improve from 1.17039\n",
      "Epoch 36/100\n",
      "33/33 [==============================] - 0s 5ms/step - loss: 0.9490 - accuracy: 0.6061 - val_loss: 1.1897 - val_accuracy: 0.4444\n",
      "\n",
      "Epoch 00036: val_loss did not improve from 1.17039\n",
      "Epoch 37/100\n",
      "33/33 [==============================] - 0s 4ms/step - loss: 0.9119 - accuracy: 0.6364 - val_loss: 1.1831 - val_accuracy: 0.4444\n",
      "\n",
      "Epoch 00037: val_loss did not improve from 1.17039\n",
      "Epoch 38/100\n"
     ]
    },
    {
     "name": "stdout",
     "output_type": "stream",
     "text": [
      "33/33 [==============================] - 0s 4ms/step - loss: 0.9469 - accuracy: 0.6061 - val_loss: 1.1834 - val_accuracy: 0.4444\n",
      "\n",
      "Epoch 00038: val_loss did not improve from 1.17039\n",
      "Epoch 39/100\n",
      "33/33 [==============================] - 0s 3ms/step - loss: 1.0211 - accuracy: 0.6364 - val_loss: 1.1802 - val_accuracy: 0.4444\n",
      "\n",
      "Epoch 00039: val_loss did not improve from 1.17039\n",
      "Epoch 40/100\n",
      "33/33 [==============================] - 0s 8ms/step - loss: 0.8489 - accuracy: 0.6061 - val_loss: 1.1753 - val_accuracy: 0.4444\n",
      "\n",
      "Epoch 00040: val_loss did not improve from 1.17039\n",
      "Epoch 41/100\n",
      "33/33 [==============================] - 0s 5ms/step - loss: 0.9054 - accuracy: 0.5758 - val_loss: 1.1785 - val_accuracy: 0.4444\n",
      "\n",
      "Epoch 00041: val_loss did not improve from 1.17039\n",
      "Epoch 42/100\n",
      "33/33 [==============================] - 0s 3ms/step - loss: 0.8992 - accuracy: 0.6667 - val_loss: 1.1834 - val_accuracy: 0.4444\n",
      "\n",
      "Epoch 00042: val_loss did not improve from 1.17039\n",
      "Epoch 43/100\n",
      "33/33 [==============================] - 0s 5ms/step - loss: 0.9307 - accuracy: 0.6061 - val_loss: 1.1918 - val_accuracy: 0.4444\n",
      "\n",
      "Epoch 00043: val_loss did not improve from 1.17039\n",
      "Epoch 44/100\n",
      "33/33 [==============================] - 0s 7ms/step - loss: 0.9612 - accuracy: 0.5758 - val_loss: 1.2017 - val_accuracy: 0.4444\n",
      "\n",
      "Epoch 00044: val_loss did not improve from 1.17039\n",
      "Epoch 45/100\n",
      "33/33 [==============================] - 0s 4ms/step - loss: 0.8917 - accuracy: 0.6364 - val_loss: 1.2203 - val_accuracy: 0.4444\n",
      "\n",
      "Epoch 00045: val_loss did not improve from 1.17039\n",
      "Epoch 46/100\n",
      "33/33 [==============================] - 0s 6ms/step - loss: 0.9058 - accuracy: 0.6061 - val_loss: 1.2588 - val_accuracy: 0.4444\n",
      "\n",
      "Epoch 00046: val_loss did not improve from 1.17039\n",
      "Epoch 47/100\n",
      "33/33 [==============================] - 0s 5ms/step - loss: 0.9351 - accuracy: 0.6061 - val_loss: 1.2707 - val_accuracy: 0.4444\n",
      "\n",
      "Epoch 00047: val_loss did not improve from 1.17039\n",
      "Epoch 48/100\n",
      "33/33 [==============================] - 0s 5ms/step - loss: 1.0725 - accuracy: 0.6061 - val_loss: 1.1996 - val_accuracy: 0.4444\n",
      "\n",
      "Epoch 00048: val_loss did not improve from 1.17039\n",
      "Epoch 49/100\n",
      "33/33 [==============================] - 0s 3ms/step - loss: 0.9663 - accuracy: 0.6061 - val_loss: 1.0990 - val_accuracy: 0.4444\n",
      "\n",
      "Epoch 00049: val_loss improved from 1.17039 to 1.09900, saving model to model.h5\n",
      "Epoch 50/100\n",
      "33/33 [==============================] - 0s 2ms/step - loss: 0.8069 - accuracy: 0.6364 - val_loss: 0.9936 - val_accuracy: 0.5556\n",
      "\n",
      "Epoch 00050: val_loss improved from 1.09900 to 0.99361, saving model to model.h5\n",
      "Epoch 51/100\n",
      "33/33 [==============================] - 0s 3ms/step - loss: 0.7614 - accuracy: 0.6061 - val_loss: 0.9754 - val_accuracy: 0.4444\n",
      "\n",
      "Epoch 00051: val_loss improved from 0.99361 to 0.97540, saving model to model.h5\n",
      "Epoch 52/100\n",
      "33/33 [==============================] - 0s 13ms/step - loss: 0.8248 - accuracy: 0.6364 - val_loss: 0.9894 - val_accuracy: 0.4444\n",
      "\n",
      "Epoch 00052: val_loss did not improve from 0.97540\n",
      "Epoch 53/100\n",
      "33/33 [==============================] - 0s 4ms/step - loss: 0.9294 - accuracy: 0.6364 - val_loss: 0.9983 - val_accuracy: 0.4444\n",
      "\n",
      "Epoch 00053: val_loss did not improve from 0.97540\n",
      "Epoch 54/100\n",
      "33/33 [==============================] - 0s 3ms/step - loss: 0.8781 - accuracy: 0.5455 - val_loss: 1.0060 - val_accuracy: 0.4444\n",
      "\n",
      "Epoch 00054: val_loss did not improve from 0.97540\n",
      "Epoch 55/100\n",
      "33/33 [==============================] - 0s 3ms/step - loss: 0.8258 - accuracy: 0.6364 - val_loss: 1.0058 - val_accuracy: 0.4444\n",
      "\n",
      "Epoch 00055: val_loss did not improve from 0.97540\n",
      "Epoch 56/100\n",
      "33/33 [==============================] - 0s 3ms/step - loss: 0.8727 - accuracy: 0.5758 - val_loss: 0.9937 - val_accuracy: 0.4444\n",
      "\n",
      "Epoch 00056: val_loss did not improve from 0.97540\n",
      "Epoch 57/100\n",
      "33/33 [==============================] - 0s 3ms/step - loss: 0.8510 - accuracy: 0.6667 - val_loss: 0.9723 - val_accuracy: 0.4444\n",
      "\n",
      "Epoch 00057: val_loss improved from 0.97540 to 0.97227, saving model to model.h5\n",
      "Epoch 58/100\n",
      "33/33 [==============================] - 0s 3ms/step - loss: 0.7600 - accuracy: 0.6061 - val_loss: 0.9486 - val_accuracy: 0.4444\n",
      "\n",
      "Epoch 00058: val_loss improved from 0.97227 to 0.94859, saving model to model.h5\n",
      "Epoch 59/100\n",
      "33/33 [==============================] - 0s 3ms/step - loss: 0.8453 - accuracy: 0.6667 - val_loss: 0.9253 - val_accuracy: 0.5556\n",
      "\n",
      "Epoch 00059: val_loss improved from 0.94859 to 0.92533, saving model to model.h5\n",
      "Epoch 60/100\n",
      "33/33 [==============================] - 0s 3ms/step - loss: 0.8284 - accuracy: 0.7273 - val_loss: 0.9029 - val_accuracy: 0.5556\n",
      "\n",
      "Epoch 00060: val_loss improved from 0.92533 to 0.90285, saving model to model.h5\n",
      "Epoch 61/100\n",
      "33/33 [==============================] - 0s 3ms/step - loss: 0.7787 - accuracy: 0.7879 - val_loss: 0.8832 - val_accuracy: 0.6667\n",
      "\n",
      "Epoch 00061: val_loss improved from 0.90285 to 0.88324, saving model to model.h5\n",
      "Epoch 62/100\n",
      "33/33 [==============================] - 0s 2ms/step - loss: 0.7243 - accuracy: 0.7273 - val_loss: 0.8636 - val_accuracy: 0.6667\n",
      "\n",
      "Epoch 00062: val_loss improved from 0.88324 to 0.86364, saving model to model.h5\n",
      "Epoch 63/100\n",
      "33/33 [==============================] - 0s 3ms/step - loss: 0.7708 - accuracy: 0.8182 - val_loss: 0.8430 - val_accuracy: 0.6667\n",
      "\n",
      "Epoch 00063: val_loss improved from 0.86364 to 0.84300, saving model to model.h5\n",
      "Epoch 64/100\n",
      "33/33 [==============================] - 0s 6ms/step - loss: 0.7184 - accuracy: 0.7273 - val_loss: 0.8248 - val_accuracy: 0.6667\n",
      "\n",
      "Epoch 00064: val_loss improved from 0.84300 to 0.82477, saving model to model.h5\n",
      "Epoch 65/100\n",
      "33/33 [==============================] - 0s 4ms/step - loss: 0.6641 - accuracy: 0.8182 - val_loss: 0.8045 - val_accuracy: 0.6667\n",
      "\n",
      "Epoch 00065: val_loss improved from 0.82477 to 0.80449, saving model to model.h5\n",
      "Epoch 66/100\n",
      "33/33 [==============================] - 0s 5ms/step - loss: 0.7044 - accuracy: 0.7879 - val_loss: 0.7825 - val_accuracy: 0.7778\n",
      "\n",
      "Epoch 00066: val_loss improved from 0.80449 to 0.78252, saving model to model.h5\n",
      "Epoch 67/100\n",
      "33/33 [==============================] - 0s 3ms/step - loss: 0.6437 - accuracy: 0.8182 - val_loss: 0.7638 - val_accuracy: 0.7778\n",
      "\n",
      "Epoch 00067: val_loss improved from 0.78252 to 0.76382, saving model to model.h5\n",
      "Epoch 68/100\n",
      "33/33 [==============================] - 0s 3ms/step - loss: 0.5988 - accuracy: 0.8182 - val_loss: 0.7454 - val_accuracy: 0.7778\n",
      "\n",
      "Epoch 00068: val_loss improved from 0.76382 to 0.74536, saving model to model.h5\n",
      "Epoch 69/100\n",
      "33/33 [==============================] - 0s 4ms/step - loss: 0.7083 - accuracy: 0.6970 - val_loss: 0.7279 - val_accuracy: 0.7778\n",
      "\n",
      "Epoch 00069: val_loss improved from 0.74536 to 0.72792, saving model to model.h5\n",
      "Epoch 70/100\n",
      "33/33 [==============================] - 0s 8ms/step - loss: 0.6339 - accuracy: 0.6970 - val_loss: 0.7065 - val_accuracy: 0.7778\n",
      "\n",
      "Epoch 00070: val_loss improved from 0.72792 to 0.70648, saving model to model.h5\n",
      "Epoch 71/100\n",
      "33/33 [==============================] - 0s 3ms/step - loss: 0.6928 - accuracy: 0.6667 - val_loss: 0.6804 - val_accuracy: 0.7778\n",
      "\n",
      "Epoch 00071: val_loss improved from 0.70648 to 0.68038, saving model to model.h5\n",
      "Epoch 72/100\n",
      "33/33 [==============================] - 0s 2ms/step - loss: 0.6261 - accuracy: 0.7576 - val_loss: 0.6562 - val_accuracy: 0.7778\n",
      "\n",
      "Epoch 00072: val_loss improved from 0.68038 to 0.65618, saving model to model.h5\n",
      "Epoch 73/100\n",
      "33/33 [==============================] - 0s 7ms/step - loss: 0.5817 - accuracy: 0.7576 - val_loss: 0.6338 - val_accuracy: 0.7778\n",
      "\n",
      "Epoch 00073: val_loss improved from 0.65618 to 0.63380, saving model to model.h5\n",
      "Epoch 74/100\n",
      "33/33 [==============================] - 0s 3ms/step - loss: 0.6140 - accuracy: 0.7576 - val_loss: 0.6114 - val_accuracy: 0.7778\n",
      "\n",
      "Epoch 00074: val_loss improved from 0.63380 to 0.61137, saving model to model.h5\n",
      "Epoch 75/100\n",
      "33/33 [==============================] - 0s 3ms/step - loss: 0.5255 - accuracy: 0.8485 - val_loss: 0.5860 - val_accuracy: 0.7778\n",
      "\n",
      "Epoch 00075: val_loss improved from 0.61137 to 0.58602, saving model to model.h5\n",
      "Epoch 76/100\n",
      "33/33 [==============================] - 0s 3ms/step - loss: 0.4942 - accuracy: 0.8182 - val_loss: 0.5511 - val_accuracy: 0.7778\n",
      "\n",
      "Epoch 00076: val_loss improved from 0.58602 to 0.55110, saving model to model.h5\n"
     ]
    },
    {
     "name": "stdout",
     "output_type": "stream",
     "text": [
      "Epoch 77/100\n",
      "33/33 [==============================] - 0s 3ms/step - loss: 0.4883 - accuracy: 0.7576 - val_loss: 0.5234 - val_accuracy: 0.7778\n",
      "\n",
      "Epoch 00077: val_loss improved from 0.55110 to 0.52339, saving model to model.h5\n",
      "Epoch 78/100\n",
      "33/33 [==============================] - 0s 3ms/step - loss: 0.4410 - accuracy: 0.8485 - val_loss: 0.5072 - val_accuracy: 0.7778\n",
      "\n",
      "Epoch 00078: val_loss improved from 0.52339 to 0.50723, saving model to model.h5\n",
      "Epoch 79/100\n",
      "33/33 [==============================] - 0s 2ms/step - loss: 0.3769 - accuracy: 0.8182 - val_loss: 0.5042 - val_accuracy: 0.7778\n",
      "\n",
      "Epoch 00079: val_loss improved from 0.50723 to 0.50417, saving model to model.h5\n",
      "Epoch 80/100\n",
      "33/33 [==============================] - 0s 9ms/step - loss: 0.5495 - accuracy: 0.7879 - val_loss: 0.5101 - val_accuracy: 0.7778\n",
      "\n",
      "Epoch 00080: val_loss did not improve from 0.50417\n",
      "Epoch 81/100\n",
      "33/33 [==============================] - 0s 8ms/step - loss: 0.5280 - accuracy: 0.7576 - val_loss: 0.5130 - val_accuracy: 0.7778\n",
      "\n",
      "Epoch 00081: val_loss did not improve from 0.50417\n",
      "Epoch 82/100\n",
      "33/33 [==============================] - 0s 9ms/step - loss: 0.4952 - accuracy: 0.7879 - val_loss: 0.5079 - val_accuracy: 0.7778\n",
      "\n",
      "Epoch 00082: val_loss did not improve from 0.50417\n",
      "Epoch 83/100\n",
      "33/33 [==============================] - 0s 5ms/step - loss: 0.5878 - accuracy: 0.7576 - val_loss: 0.4588 - val_accuracy: 0.7778\n",
      "\n",
      "Epoch 00083: val_loss improved from 0.50417 to 0.45882, saving model to model.h5\n",
      "Epoch 84/100\n",
      "33/33 [==============================] - 0s 8ms/step - loss: 0.3872 - accuracy: 0.7879 - val_loss: 0.4336 - val_accuracy: 0.7778\n",
      "\n",
      "Epoch 00084: val_loss improved from 0.45882 to 0.43362, saving model to model.h5\n",
      "Epoch 85/100\n",
      "33/33 [==============================] - 0s 3ms/step - loss: 0.4826 - accuracy: 0.7879 - val_loss: 0.4473 - val_accuracy: 0.7778\n",
      "\n",
      "Epoch 00085: val_loss did not improve from 0.43362\n",
      "Epoch 86/100\n",
      "33/33 [==============================] - 0s 4ms/step - loss: 0.3566 - accuracy: 0.8485 - val_loss: 0.4660 - val_accuracy: 0.7778\n",
      "\n",
      "Epoch 00086: val_loss did not improve from 0.43362\n",
      "Epoch 87/100\n",
      "33/33 [==============================] - 0s 4ms/step - loss: 0.4254 - accuracy: 0.8485 - val_loss: 0.4700 - val_accuracy: 0.7778\n",
      "\n",
      "Epoch 00087: val_loss did not improve from 0.43362\n",
      "Epoch 88/100\n",
      "33/33 [==============================] - 0s 3ms/step - loss: 0.3639 - accuracy: 0.8485 - val_loss: 0.4619 - val_accuracy: 0.7778\n",
      "\n",
      "Epoch 00088: val_loss did not improve from 0.43362\n",
      "Epoch 89/100\n",
      "33/33 [==============================] - 0s 3ms/step - loss: 0.4261 - accuracy: 0.8182 - val_loss: 0.4510 - val_accuracy: 0.7778\n",
      "\n",
      "Epoch 00089: val_loss did not improve from 0.43362\n",
      "Epoch 90/100\n",
      "33/33 [==============================] - 0s 7ms/step - loss: 0.3495 - accuracy: 0.9091 - val_loss: 0.4328 - val_accuracy: 0.7778\n",
      "\n",
      "Epoch 00090: val_loss improved from 0.43362 to 0.43279, saving model to model.h5\n",
      "Epoch 91/100\n",
      "33/33 [==============================] - 0s 4ms/step - loss: 0.3564 - accuracy: 0.7879 - val_loss: 0.4154 - val_accuracy: 0.7778\n",
      "\n",
      "Epoch 00091: val_loss improved from 0.43279 to 0.41544, saving model to model.h5\n",
      "Epoch 92/100\n",
      "33/33 [==============================] - 0s 3ms/step - loss: 0.4236 - accuracy: 0.8182 - val_loss: 0.3882 - val_accuracy: 0.7778\n",
      "\n",
      "Epoch 00092: val_loss improved from 0.41544 to 0.38820, saving model to model.h5\n",
      "Epoch 93/100\n",
      "33/33 [==============================] - 0s 4ms/step - loss: 0.3544 - accuracy: 0.8788 - val_loss: 0.3648 - val_accuracy: 0.7778\n",
      "\n",
      "Epoch 00093: val_loss improved from 0.38820 to 0.36482, saving model to model.h5\n",
      "Epoch 94/100\n",
      "33/33 [==============================] - 0s 4ms/step - loss: 0.2721 - accuracy: 0.9091 - val_loss: 0.3415 - val_accuracy: 0.7778\n",
      "\n",
      "Epoch 00094: val_loss improved from 0.36482 to 0.34153, saving model to model.h5\n",
      "Epoch 95/100\n",
      "33/33 [==============================] - 0s 5ms/step - loss: 0.3276 - accuracy: 0.8788 - val_loss: 0.3228 - val_accuracy: 0.7778\n",
      "\n",
      "Epoch 00095: val_loss improved from 0.34153 to 0.32280, saving model to model.h5\n",
      "Epoch 96/100\n",
      "33/33 [==============================] - 0s 6ms/step - loss: 0.2927 - accuracy: 0.9091 - val_loss: 0.3088 - val_accuracy: 0.7778\n",
      "\n",
      "Epoch 00096: val_loss improved from 0.32280 to 0.30884, saving model to model.h5\n",
      "Epoch 97/100\n",
      "33/33 [==============================] - 0s 3ms/step - loss: 0.3328 - accuracy: 0.8485 - val_loss: 0.2962 - val_accuracy: 0.8889\n",
      "\n",
      "Epoch 00097: val_loss improved from 0.30884 to 0.29615, saving model to model.h5\n",
      "Epoch 98/100\n",
      "33/33 [==============================] - 0s 4ms/step - loss: 0.3226 - accuracy: 0.7576 - val_loss: 0.2871 - val_accuracy: 0.8889\n",
      "\n",
      "Epoch 00098: val_loss improved from 0.29615 to 0.28711, saving model to model.h5\n",
      "Epoch 99/100\n",
      "33/33 [==============================] - 0s 5ms/step - loss: 0.3325 - accuracy: 0.8788 - val_loss: 0.2865 - val_accuracy: 0.7778\n",
      "\n",
      "Epoch 00099: val_loss improved from 0.28711 to 0.28646, saving model to model.h5\n",
      "Epoch 100/100\n",
      "33/33 [==============================] - 0s 7ms/step - loss: 0.3467 - accuracy: 0.8182 - val_loss: 0.2867 - val_accuracy: 0.8889\n",
      "\n",
      "Epoch 00100: val_loss did not improve from 0.28646\n"
     ]
    }
   ],
   "source": [
    "filename = 'model.h5'\n",
    "checkpoint = ModelCheckpoint(filename, monitor='val_loss', verbose=1, save_best_only=True, mode='min')\n",
    "\n",
    "history = model.fit(train_X, train_Y, epochs = 100, batch_size = 32, validation_data = (val_X, val_Y), callbacks = [checkpoint])"
   ]
  },
  {
   "cell_type": "code",
   "execution_count": 32,
   "metadata": {},
   "outputs": [
    {
     "name": "stdout",
     "output_type": "stream",
     "text": [
      "dict_keys(['val_loss', 'val_accuracy', 'loss', 'accuracy'])\n"
     ]
    },
    {
     "data": {
      "image/png": "[encoded data removed]",
      "text/plain": [
       "<Figure size 432x288 with 1 Axes>"
      ]
     },
     "metadata": {
      "needs_background": "light"
     },
     "output_type": "display_data"
    },
    {
     "data": {
      "image/png": "[encoded data removed]",
      "text/plain": [
       "<Figure size 432x288 with 1 Axes>"
      ]
     },
     "metadata": {
      "needs_background": "light"
     },
     "output_type": "display_data"
    }
   ],
   "source": [
    "print(history.history.keys())\n",
    "# summarize history for accuracy\n",
    "plt.plot(history.history['accuracy'])\n",
    "plt.plot(history.history['val_accuracy'])\n",
    "plt.title('model accuracy')\n",
    "plt.ylabel('accuracy')\n",
    "plt.xlabel('epoch')\n",
    "plt.legend(['train', 'test'], loc='upper left')\n",
    "plt.show()\n",
    "# summarize history for loss\n",
    "plt.plot(history.history['loss'])\n",
    "plt.plot(history.history['val_loss'])\n",
    "plt.title('model loss')\n",
    "plt.ylabel('loss')\n",
    "plt.xlabel('epoch')\n",
    "plt.legend(['train', 'test'], loc='upper left')\n",
    "plt.show()"
   ]
  },
  {
   "cell_type": "code",
   "execution_count": 67,
   "metadata": {},
   "outputs": [],
   "source": [
    " model = load_model(\"model.h5\")"
   ]
  },
  {
   "cell_type": "code",
   "execution_count": null,
   "metadata": {},
   "outputs": [],
   "source": []
  },
  {
   "cell_type": "code",
   "execution_count": 68,
   "metadata": {},
   "outputs": [],
   "source": [
    "def predictions(text):\n",
    "    clean = re.sub(r'[^ a-z A-Z 0-9]', \" \", text)\n",
    "    test_word = word_tokenize(clean)\n",
    "    test_word = [w.lower() for w in test_word]\n",
    "    test_ls = word_tokenizer.texts_to_sequences(test_word)\n",
    "    print(test_word)\n",
    "    #Check for unknown words\n",
    "    if [] in test_ls:\n",
    "        test_ls = list(filter(None, test_ls))\n",
    "    \n",
    "    test_ls = np.array(test_ls).reshape(1, len(test_ls))\n",
    " \n",
    "    x = padding_doc(test_ls, max_length)\n",
    "  \n",
    "    pred = model.predict_proba(x)\n",
    "  \n",
    "  \n",
    "    return pred\n",
    "\n",
    "\n",
    "  "
   ]
  },
  {
   "cell_type": "code",
   "execution_count": 69,
   "metadata": {},
   "outputs": [],
   "source": [
    "def get_final_output(pred, classes):\n",
    "    predictions = pred[0]\n",
    " \n",
    "    classes = np.array(classes)\n",
    "    ids = np.argsort(-predictions)\n",
    "    classes = classes[ids]\n",
    "    predictions = -np.sort(-predictions)\n",
    " \n",
    "    for i in range(pred.shape[1]):\n",
    "        print(\"%s has confidence = %s\" % (classes[i], (predictions[i])))\n",
    "\n"
   ]
  },
  {
   "cell_type": "code",
   "execution_count": 70,
   "metadata": {
    "scrolled": false
   },
   "outputs": [
    {
     "name": "stdout",
     "output_type": "stream",
     "text": [
      "['how', 'much', 'does', 'it', 'cost']\n",
      "common has confidence = 0.55325747\n",
      "price has confidence = 0.34460673\n",
      "balance has confidence = 0.10033676\n",
      "order has confidence = 0.001799061\n"
     ]
    }
   ],
   "source": [
    "text = \"How much does it cost?\"\n",
    "pred = predictions(text)\n",
    "get_final_output(pred, unique_intent)"
   ]
  },
  {
   "cell_type": "code",
   "execution_count": null,
   "metadata": {},
   "outputs": [],
   "source": []
  },
  {
   "cell_type": "code",
   "execution_count": 71,
   "metadata": {},
   "outputs": [],
   "source": [
    "opening_lines = ['Hello, what can I help you with?',\n",
    "                'How can I help you?',\n",
    "                'Whats on your mind today?']\n",
    "\n",
    "def randomOpening():\n",
    "    index = random.randint(0,len(opening_lines)-1)\n",
    "    print(opening_lines[index])\n",
    "\n"
   ]
  },
  {
   "cell_type": "code",
   "execution_count": 72,
   "metadata": {},
   "outputs": [
    {
     "name": "stdout",
     "output_type": "stream",
     "text": [
      "Hello, what can I help you with?\n",
      "Ask the chatbot something: I want to buy a book.\n",
      "I want to buy a book.\n",
      "['i', 'want', 'to', 'buy', 'a', 'book']\n",
      "[[0.09210964 0.00136301 0.3473941  0.5591333 ]]\n",
      "common has confidence = 0.5591333\n",
      "price has confidence = 0.3473941\n",
      "balance has confidence = 0.09210964\n",
      "order has confidence = 0.001363005\n",
      "Whats on your mind today?\n",
      "Ask the chatbot something: I want a lower price on this book.\n",
      "I want a lower price on this book.\n",
      "['i', 'want', 'a', 'lower', 'price', 'on', 'this', 'book']\n",
      "[[1.71301626e-02 2.40766385e-04 1.00293934e-01 8.82335126e-01]]\n",
      "common has confidence = 0.8823351\n",
      "price has confidence = 0.100293934\n",
      "balance has confidence = 0.017130163\n",
      "order has confidence = 0.00024076639\n",
      "Hello, what can I help you with?\n",
      "Ask the chatbot something: My account balance is low.\n",
      "My account balance is low.\n",
      "['my', 'account', 'balance', 'is', 'low']\n",
      "[[0.52638155 0.00786256 0.44779253 0.01796341]]\n",
      "balance has confidence = 0.52638155\n",
      "price has confidence = 0.44779253\n",
      "common has confidence = 0.01796341\n",
      "order has confidence = 0.007862556\n",
      "Whats on your mind today?\n"
     ]
    },
    {
     "ename": "KeyboardInterrupt",
     "evalue": "Interrupted by user",
     "output_type": "error",
     "traceback": [
      "\u001b[0;31m---------------------------------------------------------------------------\u001b[0m",
      "\u001b[0;31mKeyboardInterrupt\u001b[0m                         Traceback (most recent call last)",
      "\u001b[0;32m<ipython-input-72-f0d4a3baf563>\u001b[0m in \u001b[0;36m<module>\u001b[0;34m\u001b[0m\n\u001b[1;32m     12\u001b[0m \u001b[0;34m\u001b[0m\u001b[0m\n\u001b[1;32m     13\u001b[0m \u001b[0;34m\u001b[0m\u001b[0m\n\u001b[0;32m---> 14\u001b[0;31m \u001b[0mcli\u001b[0m\u001b[0;34m(\u001b[0m\u001b[0;34m)\u001b[0m\u001b[0;34m\u001b[0m\u001b[0;34m\u001b[0m\u001b[0m\n\u001b[0m",
      "\u001b[0;32m<ipython-input-72-f0d4a3baf563>\u001b[0m in \u001b[0;36mcli\u001b[0;34m()\u001b[0m\n\u001b[1;32m      2\u001b[0m     \u001b[0;32mwhile\u001b[0m \u001b[0;32mTrue\u001b[0m\u001b[0;34m:\u001b[0m\u001b[0;34m\u001b[0m\u001b[0;34m\u001b[0m\u001b[0m\n\u001b[1;32m      3\u001b[0m         \u001b[0mrandomOpening\u001b[0m\u001b[0;34m(\u001b[0m\u001b[0;34m)\u001b[0m\u001b[0;34m\u001b[0m\u001b[0;34m\u001b[0m\u001b[0m\n\u001b[0;32m----> 4\u001b[0;31m         \u001b[0muser_input\u001b[0m \u001b[0;34m=\u001b[0m \u001b[0minput\u001b[0m\u001b[0;34m(\u001b[0m\u001b[0;34m\"Ask the chatbot something: \"\u001b[0m\u001b[0;34m)\u001b[0m\u001b[0;34m\u001b[0m\u001b[0;34m\u001b[0m\u001b[0m\n\u001b[0m\u001b[1;32m      5\u001b[0m         \u001b[0mprint\u001b[0m\u001b[0;34m(\u001b[0m\u001b[0muser_input\u001b[0m\u001b[0;34m)\u001b[0m\u001b[0;34m\u001b[0m\u001b[0;34m\u001b[0m\u001b[0m\n\u001b[1;32m      6\u001b[0m         \u001b[0;32mif\u001b[0m\u001b[0;34m(\u001b[0m\u001b[0muser_input\u001b[0m\u001b[0;34m==\u001b[0m\u001b[0;34m\"quit\"\u001b[0m\u001b[0;34m)\u001b[0m\u001b[0;34m:\u001b[0m\u001b[0;34m\u001b[0m\u001b[0;34m\u001b[0m\u001b[0m\n",
      "\u001b[0;32m~/opt/anaconda3/envs/nnlm/lib/python3.6/site-packages/ipykernel/kernelbase.py\u001b[0m in \u001b[0;36mraw_input\u001b[0;34m(self, prompt)\u001b[0m\n\u001b[1;32m    861\u001b[0m             \u001b[0mself\u001b[0m\u001b[0;34m.\u001b[0m\u001b[0m_parent_ident\u001b[0m\u001b[0;34m,\u001b[0m\u001b[0;34m\u001b[0m\u001b[0;34m\u001b[0m\u001b[0m\n\u001b[1;32m    862\u001b[0m             \u001b[0mself\u001b[0m\u001b[0;34m.\u001b[0m\u001b[0m_parent_header\u001b[0m\u001b[0;34m,\u001b[0m\u001b[0;34m\u001b[0m\u001b[0;34m\u001b[0m\u001b[0m\n\u001b[0;32m--> 863\u001b[0;31m             \u001b[0mpassword\u001b[0m\u001b[0;34m=\u001b[0m\u001b[0;32mFalse\u001b[0m\u001b[0;34m,\u001b[0m\u001b[0;34m\u001b[0m\u001b[0;34m\u001b[0m\u001b[0m\n\u001b[0m\u001b[1;32m    864\u001b[0m         )\n\u001b[1;32m    865\u001b[0m \u001b[0;34m\u001b[0m\u001b[0m\n",
      "\u001b[0;32m~/opt/anaconda3/envs/nnlm/lib/python3.6/site-packages/ipykernel/kernelbase.py\u001b[0m in \u001b[0;36m_input_request\u001b[0;34m(self, prompt, ident, parent, password)\u001b[0m\n\u001b[1;32m    902\u001b[0m             \u001b[0;32mexcept\u001b[0m \u001b[0mKeyboardInterrupt\u001b[0m\u001b[0;34m:\u001b[0m\u001b[0;34m\u001b[0m\u001b[0;34m\u001b[0m\u001b[0m\n\u001b[1;32m    903\u001b[0m                 \u001b[0;31m# re-raise KeyboardInterrupt, to truncate traceback\u001b[0m\u001b[0;34m\u001b[0m\u001b[0;34m\u001b[0m\u001b[0;34m\u001b[0m\u001b[0m\n\u001b[0;32m--> 904\u001b[0;31m                 \u001b[0;32mraise\u001b[0m \u001b[0mKeyboardInterrupt\u001b[0m\u001b[0;34m(\u001b[0m\u001b[0;34m\"Interrupted by user\"\u001b[0m\u001b[0;34m)\u001b[0m \u001b[0;32mfrom\u001b[0m \u001b[0;32mNone\u001b[0m\u001b[0;34m\u001b[0m\u001b[0;34m\u001b[0m\u001b[0m\n\u001b[0m\u001b[1;32m    905\u001b[0m             \u001b[0;32mexcept\u001b[0m \u001b[0mException\u001b[0m \u001b[0;32mas\u001b[0m \u001b[0me\u001b[0m\u001b[0;34m:\u001b[0m\u001b[0;34m\u001b[0m\u001b[0;34m\u001b[0m\u001b[0m\n\u001b[1;32m    906\u001b[0m                 \u001b[0mself\u001b[0m\u001b[0;34m.\u001b[0m\u001b[0mlog\u001b[0m\u001b[0;34m.\u001b[0m\u001b[0mwarning\u001b[0m\u001b[0;34m(\u001b[0m\u001b[0;34m\"Invalid Message:\"\u001b[0m\u001b[0;34m,\u001b[0m \u001b[0mexc_info\u001b[0m\u001b[0;34m=\u001b[0m\u001b[0;32mTrue\u001b[0m\u001b[0;34m)\u001b[0m\u001b[0;34m\u001b[0m\u001b[0;34m\u001b[0m\u001b[0m\n",
      "\u001b[0;31mKeyboardInterrupt\u001b[0m: Interrupted by user"
     ]
    }
   ],
   "source": [
    "def cli():\n",
    "    while True:\n",
    "        randomOpening()\n",
    "        user_input = input(\"Ask the chatbot something: \")\n",
    "        print(user_input)\n",
    "        if(user_input==\"quit\"):\n",
    "            break\n",
    "        else:\n",
    "            pred = predictions(user_input)\n",
    "            print(pred)\n",
    "            get_final_output(pred, unique_intent)\n",
    "\n",
    "        \n",
    "cli()"
   ]
  },
  {
   "cell_type": "code",
   "execution_count": null,
   "metadata": {},
   "outputs": [],
   "source": []
  }
 ],
 "metadata": {
  "kernelspec": {
   "display_name": "Python 3",
   "language": "python",
   "name": "python3"
  },
  "language_info": {
   "codemirror_mode": {
    "name": "ipython",
    "version": 3
   },
   "file_extension": ".py",
   "mimetype": "text/x-python",
   "name": "python",
   "nbconvert_exporter": "python",
   "pygments_lexer": "ipython3",
   "version": "3.6.12"
  }
 },
 "nbformat": 4,
 "nbformat_minor": 4
}
