{
 "cells": [
  {
   "cell_type": "code",
   "execution_count": 1,
   "metadata": {},
   "outputs": [
    {
     "name": "stderr",
     "output_type": "stream",
     "text": [
      "Using TensorFlow backend.\n"
     ]
    }
   ],
   "source": [
    "import torch\n",
    "import torch.nn as nn\n",
    "\n",
    "import numpy as np\n",
    "import pandas as pd\n",
    "import random\n",
    "from nltk.corpus import stopwords\n",
    "from nltk.tokenize import word_tokenize\n",
    "from nltk.stem.lancaster import LancasterStemmer\n",
    "import nltk\n",
    "import re\n",
    "from sklearn.preprocessing import OneHotEncoder\n",
    "import matplotlib.pyplot as plt\n",
    "from keras.preprocessing.text import Tokenizer\n",
    "from keras.preprocessing.sequence import pad_sequences\n",
    "from keras.utils import to_categorical\n",
    "from keras.models import Sequential, load_model\n",
    "from keras.layers import Dense, LSTM, Bidirectional, Embedding, Dropout\n",
    "from keras.callbacks import ModelCheckpoint\n",
    "\n"
   ]
  },
  {
   "cell_type": "code",
   "execution_count": 3,
   "metadata": {},
   "outputs": [],
   "source": [
    "def load_dataset(filename):\n",
    "    df = pd.read_csv(filename, encoding = \"latin1\", names = [\"Sentence\", \"Intent\"])\n",
    "    print(df.head())\n",
    "    intent = df[\"Intent\"]\n",
    "    unique_intent = list(set(intent))\n",
    "    sentences = list(df[\"Sentence\"])\n",
    "  \n",
    "    return (intent, unique_intent, sentences)\n",
    "  \n"
   ]
  },
  {
   "cell_type": "code",
   "execution_count": 4,
   "metadata": {},
   "outputs": [
    {
     "name": "stdout",
     "output_type": "stream",
     "text": [
      "                    Sentence   Intent\n",
      "0  How many <item> are left?  balance\n",
      "1           Stock of <Item>?  balance\n",
      "2        Do you have <Item>?  balance\n",
      "3         Balance of <Item>?  balance\n",
      "4           Any <Item> left?  balance\n"
     ]
    }
   ],
   "source": [
    "intent, unique_intent, sentences = load_dataset(\"data.csv\")"
   ]
  },
  {
   "cell_type": "code",
   "execution_count": 5,
   "metadata": {},
   "outputs": [
    {
     "name": "stdout",
     "output_type": "stream",
     "text": [
      "['How many <item> are left?', 'Stock of <Item>?', 'Do you have <Item>?', 'Balance of <Item>?', 'Any <Item> left?']\n"
     ]
    }
   ],
   "source": [
    "print(sentences[:5])"
   ]
  },
  {
   "cell_type": "code",
   "execution_count": 6,
   "metadata": {},
   "outputs": [
    {
     "name": "stderr",
     "output_type": "stream",
     "text": [
      "[nltk_data] Downloading package stopwords to\n",
      "[nltk_data]     /Users/axelalvarsson/nltk_data...\n",
      "[nltk_data]   Package stopwords is already up-to-date!\n",
      "[nltk_data] Downloading package punkt to\n",
      "[nltk_data]     /Users/axelalvarsson/nltk_data...\n",
      "[nltk_data]   Package punkt is already up-to-date!\n"
     ]
    },
    {
     "data": {
      "text/plain": [
       "True"
      ]
     },
     "execution_count": 6,
     "metadata": {},
     "output_type": "execute_result"
    }
   ],
   "source": [
    "nltk.download(\"stopwords\")\n",
    "nltk.download(\"punkt\")"
   ]
  },
  {
   "cell_type": "code",
   "execution_count": 7,
   "metadata": {},
   "outputs": [],
   "source": [
    "#define stemmer\n",
    "stemmer = LancasterStemmer()"
   ]
  },
  {
   "cell_type": "code",
   "execution_count": 8,
   "metadata": {},
   "outputs": [],
   "source": [
    "def cleaning(sentences):\n",
    "    words = []\n",
    "    for s in sentences:\n",
    "        clean = re.sub(r'[^ a-z A-Z 0-9]', \" \", s)\n",
    "        w = word_tokenize(clean)\n",
    "        #stemming\n",
    "        words.append([i.lower() for i in w])\n",
    "    \n",
    "    return words  "
   ]
  },
  {
   "cell_type": "code",
   "execution_count": 9,
   "metadata": {},
   "outputs": [
    {
     "name": "stdout",
     "output_type": "stream",
     "text": [
      "118\n",
      "[['how', 'many', 'item', 'are', 'left'], ['stock', 'of', 'item']]\n"
     ]
    }
   ],
   "source": [
    "cleaned_words = cleaning(sentences)\n",
    "print(len(cleaned_words))\n",
    "print(cleaned_words[:2])  \n",
    "  \n"
   ]
  },
  {
   "cell_type": "code",
   "execution_count": 10,
   "metadata": {},
   "outputs": [],
   "source": [
    "def create_tokenizer(words, filters = '!\"#$%&()*+,-./:;<=>?@[\\]^_`{|}~'):\n",
    "    token = Tokenizer(filters = filters)\n",
    "    token.fit_on_texts(words)\n",
    "    print(token)\n",
    "    return token"
   ]
  },
  {
   "cell_type": "code",
   "execution_count": 11,
   "metadata": {},
   "outputs": [],
   "source": [
    "def max_length(words):\n",
    "    return(len(max(words, key = len)))\n",
    "  "
   ]
  },
  {
   "cell_type": "code",
   "execution_count": 12,
   "metadata": {},
   "outputs": [
    {
     "name": "stdout",
     "output_type": "stream",
     "text": [
      "<keras_preprocessing.text.Tokenizer object at 0x7fe34a868ac8>\n",
      "Vocab Size = 82 and Maximum length = 9\n"
     ]
    }
   ],
   "source": [
    "word_tokenizer = create_tokenizer(cleaned_words)\n",
    "vocab_size = len(word_tokenizer.word_index) + 1\n",
    "max_length = max_length(cleaned_words)\n",
    "\n",
    "print(\"Vocab Size = %d and Maximum length = %d\" % (vocab_size, max_length))"
   ]
  },
  {
   "cell_type": "code",
   "execution_count": 13,
   "metadata": {},
   "outputs": [],
   "source": [
    "def encoding_doc(token, words):\n",
    "    return(token.texts_to_sequences(words))"
   ]
  },
  {
   "cell_type": "code",
   "execution_count": 14,
   "metadata": {},
   "outputs": [],
   "source": [
    "encoded_doc = encoding_doc(word_tokenizer, cleaned_words)\n",
    "#print(encoded_doc)"
   ]
  },
  {
   "cell_type": "code",
   "execution_count": 15,
   "metadata": {},
   "outputs": [],
   "source": [
    "def padding_doc(encoded_doc, max_length):\n",
    "    return(pad_sequences(encoded_doc, maxlen = max_length, padding = \"post\"))"
   ]
  },
  {
   "cell_type": "code",
   "execution_count": 16,
   "metadata": {},
   "outputs": [],
   "source": [
    "padded_doc = padding_doc(encoded_doc, max_length)"
   ]
  },
  {
   "cell_type": "code",
   "execution_count": 17,
   "metadata": {},
   "outputs": [
    {
     "data": {
      "text/plain": [
       "array([[ 3, 22,  1,  7, 13,  0,  0,  0,  0],\n",
       "       [ 9,  4,  1,  0,  0,  0,  0,  0,  0],\n",
       "       [14,  2, 28,  1,  0,  0,  0,  0,  0],\n",
       "       [34,  4,  1,  0,  0,  0,  0,  0,  0],\n",
       "       [29,  1, 13,  0,  0,  0,  0,  0,  0]], dtype=int32)"
      ]
     },
     "execution_count": 17,
     "metadata": {},
     "output_type": "execute_result"
    }
   ],
   "source": [
    "padded_doc[:5]"
   ]
  },
  {
   "cell_type": "code",
   "execution_count": 18,
   "metadata": {},
   "outputs": [
    {
     "name": "stdout",
     "output_type": "stream",
     "text": [
      "Shape of padded docs =  (118, 9)\n"
     ]
    }
   ],
   "source": [
    "print(\"Shape of padded docs = \",padded_doc.shape)"
   ]
  },
  {
   "cell_type": "code",
   "execution_count": 19,
   "metadata": {},
   "outputs": [
    {
     "name": "stdout",
     "output_type": "stream",
     "text": [
      "<keras_preprocessing.text.Tokenizer object at 0x7fe3646f7550>\n"
     ]
    }
   ],
   "source": [
    "#tokenizer with filter changed\n",
    "output_tokenizer = create_tokenizer(unique_intent, filters = '!\"#$%&()*+,-/:;<=>?@[\\]^`{|}~')\n"
   ]
  },
  {
   "cell_type": "code",
   "execution_count": 20,
   "metadata": {},
   "outputs": [
    {
     "data": {
      "text/plain": [
       "{'price': 1, 'order': 2, 'balance': 3, 'common': 4}"
      ]
     },
     "execution_count": 20,
     "metadata": {},
     "output_type": "execute_result"
    }
   ],
   "source": [
    "output_tokenizer.word_index"
   ]
  },
  {
   "cell_type": "code",
   "execution_count": 21,
   "metadata": {},
   "outputs": [],
   "source": [
    "encoded_output = encoding_doc(output_tokenizer, intent)"
   ]
  },
  {
   "cell_type": "code",
   "execution_count": 22,
   "metadata": {},
   "outputs": [],
   "source": [
    "encoded_output = np.array(encoded_output).reshape(len(encoded_output), 1)"
   ]
  },
  {
   "cell_type": "code",
   "execution_count": 23,
   "metadata": {},
   "outputs": [
    {
     "data": {
      "text/plain": [
       "(118, 1)"
      ]
     },
     "execution_count": 23,
     "metadata": {},
     "output_type": "execute_result"
    }
   ],
   "source": [
    "encoded_output.shape"
   ]
  },
  {
   "cell_type": "code",
   "execution_count": 24,
   "metadata": {},
   "outputs": [],
   "source": [
    "def one_hot(encode):\n",
    "    o = OneHotEncoder(sparse = False)\n",
    "    return(o.fit_transform(encode))"
   ]
  },
  {
   "cell_type": "code",
   "execution_count": 25,
   "metadata": {},
   "outputs": [
    {
     "name": "stderr",
     "output_type": "stream",
     "text": [
      "/Users/axelalvarsson/opt/anaconda3/envs/nnlm/lib/python3.6/site-packages/sklearn/preprocessing/_encoders.py:368: FutureWarning: The handling of integer data will change in version 0.22. Currently, the categories are determined based on the range [0, max(values)], while in the future they will be determined based on the unique values.\n",
      "If you want the future behaviour and silence this warning, you can specify \"categories='auto'\".\n",
      "In case you used a LabelEncoder before this OneHotEncoder to convert the categories to integers, then you can now use the OneHotEncoder directly.\n",
      "  warnings.warn(msg, FutureWarning)\n"
     ]
    }
   ],
   "source": [
    "output_one_hot = one_hot(encoded_output)"
   ]
  },
  {
   "cell_type": "code",
   "execution_count": 26,
   "metadata": {},
   "outputs": [
    {
     "data": {
      "text/plain": [
       "(118, 4)"
      ]
     },
     "execution_count": 26,
     "metadata": {},
     "output_type": "execute_result"
    }
   ],
   "source": [
    "output_one_hot.shape"
   ]
  },
  {
   "cell_type": "code",
   "execution_count": 27,
   "metadata": {},
   "outputs": [],
   "source": [
    "from sklearn.model_selection import train_test_split"
   ]
  },
  {
   "cell_type": "code",
   "execution_count": 28,
   "metadata": {},
   "outputs": [],
   "source": [
    "train_X, val_X, train_Y, val_Y = train_test_split(padded_doc, output_one_hot, shuffle = True, test_size = 0.2)\n"
   ]
  },
  {
   "cell_type": "code",
   "execution_count": 29,
   "metadata": {},
   "outputs": [
    {
     "name": "stdout",
     "output_type": "stream",
     "text": [
      "Shape of train_X = (94, 9) and train_Y = (94, 4)\n",
      "Shape of val_X = (24, 9) and val_Y = (24, 4)\n"
     ]
    }
   ],
   "source": [
    "print(\"Shape of train_X = %s and train_Y = %s\" % (train_X.shape, train_Y.shape))\n",
    "print(\"Shape of val_X = %s and val_Y = %s\" % (val_X.shape, val_Y.shape))"
   ]
  },
  {
   "cell_type": "code",
   "execution_count": 30,
   "metadata": {},
   "outputs": [],
   "source": [
    "def create_model(vocab_size, max_length):\n",
    "    model = Sequential()\n",
    "    model.add(Embedding(vocab_size, 128, input_length = max_length, trainable = True))\n",
    "    model.add(Bidirectional(LSTM(128)))\n",
    "#   model.add(LSTM(128))\n",
    "    model.add(Dense(32, activation = \"relu\"))\n",
    "    model.add(Dropout(0.5))\n",
    "    model.add(Dense(4, activation = \"softmax\"))\n",
    "  \n",
    "    return model\n",
    "\n",
    "\n",
    "\n"
   ]
  },
  {
   "cell_type": "code",
   "execution_count": 31,
   "metadata": {},
   "outputs": [
    {
     "name": "stdout",
     "output_type": "stream",
     "text": [
      "Model: \"sequential_1\"\n",
      "_________________________________________________________________\n",
      "Layer (type)                 Output Shape              Param #   \n",
      "=================================================================\n",
      "embedding_1 (Embedding)      (None, 9, 128)            10496     \n",
      "_________________________________________________________________\n",
      "bidirectional_1 (Bidirection (None, 256)               263168    \n",
      "_________________________________________________________________\n",
      "dense_1 (Dense)              (None, 32)                8224      \n",
      "_________________________________________________________________\n",
      "dropout_1 (Dropout)          (None, 32)                0         \n",
      "_________________________________________________________________\n",
      "dense_2 (Dense)              (None, 4)                 132       \n",
      "=================================================================\n",
      "Total params: 282,020\n",
      "Trainable params: 282,020\n",
      "Non-trainable params: 0\n",
      "_________________________________________________________________\n"
     ]
    }
   ],
   "source": [
    "model = create_model(vocab_size, max_length)\n",
    "\n",
    "model.compile(loss = \"categorical_crossentropy\", optimizer = \"adam\", metrics = [\"accuracy\"])\n",
    "model.summary()"
   ]
  },
  {
   "cell_type": "code",
   "execution_count": 32,
   "metadata": {},
   "outputs": [
    {
     "name": "stderr",
     "output_type": "stream",
     "text": [
      "/Users/axelalvarsson/opt/anaconda3/envs/nnlm/lib/python3.6/site-packages/tensorflow_core/python/framework/indexed_slices.py:424: UserWarning: Converting sparse IndexedSlices to a dense Tensor of unknown shape. This may consume a large amount of memory.\n",
      "  \"Converting sparse IndexedSlices to a dense Tensor of unknown shape. \"\n"
     ]
    },
    {
     "name": "stdout",
     "output_type": "stream",
     "text": [
      "Train on 94 samples, validate on 24 samples\n",
      "Epoch 1/200\n",
      "94/94 [==============================] - 4s 47ms/step - loss: 1.3855 - accuracy: 0.2660 - val_loss: 1.3766 - val_accuracy: 0.3333\n",
      "\n",
      "Epoch 00001: val_loss improved from inf to 1.37661, saving model to model.h5\n",
      "Epoch 2/200\n",
      "94/94 [==============================] - 0s 2ms/step - loss: 1.3789 - accuracy: 0.1915 - val_loss: 1.3656 - val_accuracy: 0.4167\n",
      "\n",
      "Epoch 00002: val_loss improved from 1.37661 to 1.36564, saving model to model.h5\n",
      "Epoch 3/200\n",
      "94/94 [==============================] - 0s 2ms/step - loss: 1.3655 - accuracy: 0.3723 - val_loss: 1.3542 - val_accuracy: 0.5417\n",
      "\n",
      "Epoch 00003: val_loss improved from 1.36564 to 1.35423, saving model to model.h5\n",
      "Epoch 4/200\n",
      "94/94 [==============================] - 0s 2ms/step - loss: 1.3611 - accuracy: 0.3298 - val_loss: 1.3386 - val_accuracy: 0.4167\n",
      "\n",
      "Epoch 00004: val_loss improved from 1.35423 to 1.33859, saving model to model.h5\n",
      "Epoch 5/200\n",
      "94/94 [==============================] - 0s 3ms/step - loss: 1.3369 - accuracy: 0.4574 - val_loss: 1.3171 - val_accuracy: 0.4583\n",
      "\n",
      "Epoch 00005: val_loss improved from 1.33859 to 1.31709, saving model to model.h5\n",
      "Epoch 6/200\n",
      "94/94 [==============================] - 0s 3ms/step - loss: 1.3108 - accuracy: 0.5000 - val_loss: 1.2864 - val_accuracy: 0.4167\n",
      "\n",
      "Epoch 00006: val_loss improved from 1.31709 to 1.28640, saving model to model.h5\n",
      "Epoch 7/200\n",
      "94/94 [==============================] - 0s 3ms/step - loss: 1.2805 - accuracy: 0.4574 - val_loss: 1.2443 - val_accuracy: 0.4583\n",
      "\n",
      "Epoch 00007: val_loss improved from 1.28640 to 1.24431, saving model to model.h5\n",
      "Epoch 8/200\n",
      "94/94 [==============================] - 0s 2ms/step - loss: 1.2364 - accuracy: 0.5638 - val_loss: 1.1872 - val_accuracy: 0.7917\n",
      "\n",
      "Epoch 00008: val_loss improved from 1.24431 to 1.18720, saving model to model.h5\n",
      "Epoch 9/200\n",
      "94/94 [==============================] - 0s 3ms/step - loss: 1.1824 - accuracy: 0.6064 - val_loss: 1.1088 - val_accuracy: 0.8750\n",
      "\n",
      "Epoch 00009: val_loss improved from 1.18720 to 1.10882, saving model to model.h5\n",
      "Epoch 10/200\n",
      "94/94 [==============================] - 0s 3ms/step - loss: 1.0578 - accuracy: 0.6809 - val_loss: 0.9797 - val_accuracy: 0.8750\n",
      "\n",
      "Epoch 00010: val_loss improved from 1.10882 to 0.97966, saving model to model.h5\n",
      "Epoch 11/200\n",
      "94/94 [==============================] - 1s 6ms/step - loss: 0.9502 - accuracy: 0.6702 - val_loss: 0.8269 - val_accuracy: 0.8333\n",
      "\n",
      "Epoch 00011: val_loss improved from 0.97966 to 0.82688, saving model to model.h5\n",
      "Epoch 12/200\n",
      "94/94 [==============================] - 1s 8ms/step - loss: 0.8326 - accuracy: 0.7021 - val_loss: 0.6767 - val_accuracy: 0.8750\n",
      "\n",
      "Epoch 00012: val_loss improved from 0.82688 to 0.67671, saving model to model.h5\n",
      "Epoch 13/200\n",
      "94/94 [==============================] - 0s 4ms/step - loss: 0.6192 - accuracy: 0.8511 - val_loss: 0.5843 - val_accuracy: 0.7917\n",
      "\n",
      "Epoch 00013: val_loss improved from 0.67671 to 0.58434, saving model to model.h5\n",
      "Epoch 14/200\n",
      "94/94 [==============================] - 0s 2ms/step - loss: 0.4965 - accuracy: 0.7872 - val_loss: 0.5261 - val_accuracy: 0.7917\n",
      "\n",
      "Epoch 00014: val_loss improved from 0.58434 to 0.52611, saving model to model.h5\n",
      "Epoch 15/200\n",
      "94/94 [==============================] - 0s 2ms/step - loss: 0.3059 - accuracy: 0.8936 - val_loss: 0.5013 - val_accuracy: 0.8333\n",
      "\n",
      "Epoch 00015: val_loss improved from 0.52611 to 0.50126, saving model to model.h5\n",
      "Epoch 16/200\n",
      "94/94 [==============================] - 0s 2ms/step - loss: 0.2731 - accuracy: 0.9255 - val_loss: 0.4917 - val_accuracy: 0.8750\n",
      "\n",
      "Epoch 00016: val_loss improved from 0.50126 to 0.49168, saving model to model.h5\n",
      "Epoch 17/200\n",
      "94/94 [==============================] - 0s 3ms/step - loss: 0.2705 - accuracy: 0.8830 - val_loss: 0.5419 - val_accuracy: 0.8333\n",
      "\n",
      "Epoch 00017: val_loss did not improve from 0.49168\n",
      "Epoch 18/200\n",
      "94/94 [==============================] - 0s 3ms/step - loss: 0.1612 - accuracy: 0.9362 - val_loss: 0.5842 - val_accuracy: 0.8750\n",
      "\n",
      "Epoch 00018: val_loss did not improve from 0.49168\n",
      "Epoch 19/200\n",
      "94/94 [==============================] - 0s 3ms/step - loss: 0.0868 - accuracy: 0.9787 - val_loss: 0.5676 - val_accuracy: 0.9167\n",
      "\n",
      "Epoch 00019: val_loss did not improve from 0.49168\n",
      "Epoch 20/200\n",
      "94/94 [==============================] - 0s 4ms/step - loss: 0.0790 - accuracy: 0.9894 - val_loss: 0.5914 - val_accuracy: 0.9167\n",
      "\n",
      "Epoch 00020: val_loss did not improve from 0.49168\n",
      "Epoch 21/200\n",
      "94/94 [==============================] - 0s 5ms/step - loss: 0.0890 - accuracy: 0.9468 - val_loss: 0.5724 - val_accuracy: 0.9167\n",
      "\n",
      "Epoch 00021: val_loss did not improve from 0.49168\n",
      "Epoch 22/200\n",
      "94/94 [==============================] - 0s 4ms/step - loss: 0.0540 - accuracy: 1.0000 - val_loss: 0.6202 - val_accuracy: 0.9167\n",
      "\n",
      "Epoch 00022: val_loss did not improve from 0.49168\n",
      "Epoch 23/200\n",
      "94/94 [==============================] - 0s 5ms/step - loss: 0.0507 - accuracy: 0.9681 - val_loss: 0.6270 - val_accuracy: 0.8750\n",
      "\n",
      "Epoch 00023: val_loss did not improve from 0.49168\n",
      "Epoch 24/200\n",
      "94/94 [==============================] - 1s 5ms/step - loss: 0.0795 - accuracy: 0.9574 - val_loss: 0.7213 - val_accuracy: 0.8750\n",
      "\n",
      "Epoch 00024: val_loss did not improve from 0.49168\n",
      "Epoch 25/200\n",
      "94/94 [==============================] - 0s 4ms/step - loss: 0.0652 - accuracy: 0.9787 - val_loss: 0.8203 - val_accuracy: 0.8750\n",
      "\n",
      "Epoch 00025: val_loss did not improve from 0.49168\n",
      "Epoch 26/200\n",
      "94/94 [==============================] - 0s 2ms/step - loss: 0.0638 - accuracy: 0.9787 - val_loss: 0.7126 - val_accuracy: 0.8750\n",
      "\n",
      "Epoch 00026: val_loss did not improve from 0.49168\n",
      "Epoch 27/200\n",
      "94/94 [==============================] - 0s 4ms/step - loss: 0.0363 - accuracy: 1.0000 - val_loss: 0.5696 - val_accuracy: 0.8750\n",
      "\n",
      "Epoch 00027: val_loss did not improve from 0.49168\n",
      "Epoch 28/200\n",
      "94/94 [==============================] - 0s 5ms/step - loss: 0.0409 - accuracy: 0.9787 - val_loss: 0.5933 - val_accuracy: 0.9167\n",
      "\n",
      "Epoch 00028: val_loss did not improve from 0.49168\n",
      "Epoch 29/200\n",
      "94/94 [==============================] - 0s 2ms/step - loss: 0.0486 - accuracy: 0.9894 - val_loss: 0.6245 - val_accuracy: 0.9167\n",
      "\n",
      "Epoch 00029: val_loss did not improve from 0.49168\n",
      "Epoch 30/200\n",
      "94/94 [==============================] - 0s 3ms/step - loss: 0.0531 - accuracy: 0.9681 - val_loss: 0.6421 - val_accuracy: 0.9167\n",
      "\n",
      "Epoch 00030: val_loss did not improve from 0.49168\n",
      "Epoch 31/200\n",
      "94/94 [==============================] - 0s 3ms/step - loss: 0.0291 - accuracy: 0.9894 - val_loss: 0.6416 - val_accuracy: 0.9167\n",
      "\n",
      "Epoch 00031: val_loss did not improve from 0.49168\n",
      "Epoch 32/200\n",
      "94/94 [==============================] - 0s 4ms/step - loss: 0.0347 - accuracy: 0.9894 - val_loss: 0.6455 - val_accuracy: 0.9167\n",
      "\n",
      "Epoch 00032: val_loss did not improve from 0.49168\n",
      "Epoch 33/200\n",
      "94/94 [==============================] - 0s 4ms/step - loss: 0.0108 - accuracy: 1.0000 - val_loss: 0.6456 - val_accuracy: 0.9167\n",
      "\n",
      "Epoch 00033: val_loss did not improve from 0.49168\n",
      "Epoch 34/200\n",
      "94/94 [==============================] - 0s 5ms/step - loss: 0.0194 - accuracy: 1.0000 - val_loss: 0.6436 - val_accuracy: 0.9167\n",
      "\n",
      "Epoch 00034: val_loss did not improve from 0.49168\n",
      "Epoch 35/200\n",
      "94/94 [==============================] - 0s 5ms/step - loss: 0.0478 - accuracy: 0.9787 - val_loss: 0.6172 - val_accuracy: 0.9167\n",
      "\n",
      "Epoch 00035: val_loss did not improve from 0.49168\n",
      "Epoch 36/200\n",
      "94/94 [==============================] - 0s 5ms/step - loss: 0.0581 - accuracy: 0.9681 - val_loss: 0.5731 - val_accuracy: 0.9167\n",
      "\n",
      "Epoch 00036: val_loss did not improve from 0.49168\n",
      "Epoch 37/200\n",
      "94/94 [==============================] - 0s 3ms/step - loss: 0.0220 - accuracy: 1.0000 - val_loss: 0.5774 - val_accuracy: 0.9167\n",
      "\n",
      "Epoch 00037: val_loss did not improve from 0.49168\n",
      "Epoch 38/200\n",
      "94/94 [==============================] - 0s 4ms/step - loss: 0.0286 - accuracy: 0.9894 - val_loss: 0.6118 - val_accuracy: 0.9167\n",
      "\n",
      "Epoch 00038: val_loss did not improve from 0.49168\n",
      "Epoch 39/200\n",
      "94/94 [==============================] - 0s 3ms/step - loss: 0.0177 - accuracy: 1.0000 - val_loss: 0.6411 - val_accuracy: 0.9167\n",
      "\n",
      "Epoch 00039: val_loss did not improve from 0.49168\n",
      "Epoch 40/200\n",
      "94/94 [==============================] - 0s 5ms/step - loss: 0.0302 - accuracy: 0.9894 - val_loss: 0.6725 - val_accuracy: 0.9167\n"
     ]
    },
    {
     "name": "stdout",
     "output_type": "stream",
     "text": [
      "\n",
      "Epoch 00040: val_loss did not improve from 0.49168\n",
      "Epoch 41/200\n",
      "94/94 [==============================] - 0s 3ms/step - loss: 0.0141 - accuracy: 1.0000 - val_loss: 0.7082 - val_accuracy: 0.9167\n",
      "\n",
      "Epoch 00041: val_loss did not improve from 0.49168\n",
      "Epoch 42/200\n",
      "94/94 [==============================] - 0s 3ms/step - loss: 0.0167 - accuracy: 1.0000 - val_loss: 0.7418 - val_accuracy: 0.9167\n",
      "\n",
      "Epoch 00042: val_loss did not improve from 0.49168\n",
      "Epoch 43/200\n",
      "94/94 [==============================] - 1s 6ms/step - loss: 0.0159 - accuracy: 0.9894 - val_loss: 0.7545 - val_accuracy: 0.9167\n",
      "\n",
      "Epoch 00043: val_loss did not improve from 0.49168\n",
      "Epoch 44/200\n",
      "94/94 [==============================] - 0s 4ms/step - loss: 0.0423 - accuracy: 0.9787 - val_loss: 0.7766 - val_accuracy: 0.8750\n",
      "\n",
      "Epoch 00044: val_loss did not improve from 0.49168\n",
      "Epoch 45/200\n",
      "94/94 [==============================] - 0s 2ms/step - loss: 0.0385 - accuracy: 0.9894 - val_loss: 0.7968 - val_accuracy: 0.8750\n",
      "\n",
      "Epoch 00045: val_loss did not improve from 0.49168\n",
      "Epoch 46/200\n",
      "94/94 [==============================] - 0s 2ms/step - loss: 0.0071 - accuracy: 1.0000 - val_loss: 0.8178 - val_accuracy: 0.8750\n",
      "\n",
      "Epoch 00046: val_loss did not improve from 0.49168\n",
      "Epoch 47/200\n",
      "94/94 [==============================] - 0s 3ms/step - loss: 0.0068 - accuracy: 1.0000 - val_loss: 0.8392 - val_accuracy: 0.8750\n",
      "\n",
      "Epoch 00047: val_loss did not improve from 0.49168\n",
      "Epoch 48/200\n",
      "94/94 [==============================] - 0s 2ms/step - loss: 0.0044 - accuracy: 1.0000 - val_loss: 0.8552 - val_accuracy: 0.8750\n",
      "\n",
      "Epoch 00048: val_loss did not improve from 0.49168\n",
      "Epoch 49/200\n",
      "94/94 [==============================] - 0s 2ms/step - loss: 0.0016 - accuracy: 1.0000 - val_loss: 0.8613 - val_accuracy: 0.8750\n",
      "\n",
      "Epoch 00049: val_loss did not improve from 0.49168\n",
      "Epoch 50/200\n",
      "94/94 [==============================] - 0s 4ms/step - loss: 0.0199 - accuracy: 0.9894 - val_loss: 0.8631 - val_accuracy: 0.8750\n",
      "\n",
      "Epoch 00050: val_loss did not improve from 0.49168\n",
      "Epoch 51/200\n",
      "94/94 [==============================] - 0s 3ms/step - loss: 0.0096 - accuracy: 1.0000 - val_loss: 0.8709 - val_accuracy: 0.8750\n",
      "\n",
      "Epoch 00051: val_loss did not improve from 0.49168\n",
      "Epoch 52/200\n",
      "94/94 [==============================] - 0s 4ms/step - loss: 0.0326 - accuracy: 0.9894 - val_loss: 0.8358 - val_accuracy: 0.8750\n",
      "\n",
      "Epoch 00052: val_loss did not improve from 0.49168\n",
      "Epoch 53/200\n",
      "94/94 [==============================] - 0s 4ms/step - loss: 0.0186 - accuracy: 0.9894 - val_loss: 0.7858 - val_accuracy: 0.9167\n",
      "\n",
      "Epoch 00053: val_loss did not improve from 0.49168\n",
      "Epoch 54/200\n",
      "94/94 [==============================] - 0s 3ms/step - loss: 0.0156 - accuracy: 0.9894 - val_loss: 0.7392 - val_accuracy: 0.9167\n",
      "\n",
      "Epoch 00054: val_loss did not improve from 0.49168\n",
      "Epoch 55/200\n",
      "94/94 [==============================] - 0s 3ms/step - loss: 0.0252 - accuracy: 0.9787 - val_loss: 0.7466 - val_accuracy: 0.9167\n",
      "\n",
      "Epoch 00055: val_loss did not improve from 0.49168\n",
      "Epoch 56/200\n",
      "94/94 [==============================] - 0s 3ms/step - loss: 0.0041 - accuracy: 1.0000 - val_loss: 0.8536 - val_accuracy: 0.8750\n",
      "\n",
      "Epoch 00056: val_loss did not improve from 0.49168\n",
      "Epoch 57/200\n",
      "94/94 [==============================] - 0s 3ms/step - loss: 0.0381 - accuracy: 0.9787 - val_loss: 1.0115 - val_accuracy: 0.8750\n",
      "\n",
      "Epoch 00057: val_loss did not improve from 0.49168\n",
      "Epoch 58/200\n",
      "94/94 [==============================] - 0s 3ms/step - loss: 0.0383 - accuracy: 0.9787 - val_loss: 0.8975 - val_accuracy: 0.9167\n",
      "\n",
      "Epoch 00058: val_loss did not improve from 0.49168\n",
      "Epoch 59/200\n",
      "94/94 [==============================] - 0s 2ms/step - loss: 0.0443 - accuracy: 0.9787 - val_loss: 0.7687 - val_accuracy: 0.9167\n",
      "\n",
      "Epoch 00059: val_loss did not improve from 0.49168\n",
      "Epoch 60/200\n",
      "94/94 [==============================] - 0s 2ms/step - loss: 0.0278 - accuracy: 0.9894 - val_loss: 0.7177 - val_accuracy: 0.9167\n",
      "\n",
      "Epoch 00060: val_loss did not improve from 0.49168\n",
      "Epoch 61/200\n",
      "94/94 [==============================] - 0s 2ms/step - loss: 0.0135 - accuracy: 1.0000 - val_loss: 0.8315 - val_accuracy: 0.9167\n",
      "\n",
      "Epoch 00061: val_loss did not improve from 0.49168\n",
      "Epoch 62/200\n",
      "94/94 [==============================] - 0s 2ms/step - loss: 0.1057 - accuracy: 0.9681 - val_loss: 0.8207 - val_accuracy: 0.9167\n",
      "\n",
      "Epoch 00062: val_loss did not improve from 0.49168\n",
      "Epoch 63/200\n",
      "94/94 [==============================] - 0s 2ms/step - loss: 0.0162 - accuracy: 0.9894 - val_loss: 0.7997 - val_accuracy: 0.9167\n",
      "\n",
      "Epoch 00063: val_loss did not improve from 0.49168\n",
      "Epoch 64/200\n",
      "94/94 [==============================] - 0s 2ms/step - loss: 0.0072 - accuracy: 1.0000 - val_loss: 0.7485 - val_accuracy: 0.9167\n",
      "\n",
      "Epoch 00064: val_loss did not improve from 0.49168\n",
      "Epoch 65/200\n",
      "94/94 [==============================] - 0s 2ms/step - loss: 0.1021 - accuracy: 0.9681 - val_loss: 0.7229 - val_accuracy: 0.9167\n",
      "\n",
      "Epoch 00065: val_loss did not improve from 0.49168\n",
      "Epoch 66/200\n",
      "94/94 [==============================] - 0s 2ms/step - loss: 0.0103 - accuracy: 1.0000 - val_loss: 0.7687 - val_accuracy: 0.9167\n",
      "\n",
      "Epoch 00066: val_loss did not improve from 0.49168\n",
      "Epoch 67/200\n",
      "94/94 [==============================] - 0s 2ms/step - loss: 0.0175 - accuracy: 1.0000 - val_loss: 0.9513 - val_accuracy: 0.7917\n",
      "\n",
      "Epoch 00067: val_loss did not improve from 0.49168\n",
      "Epoch 68/200\n",
      "94/94 [==============================] - 0s 2ms/step - loss: 0.0295 - accuracy: 0.9894 - val_loss: 0.8700 - val_accuracy: 0.8333\n",
      "\n",
      "Epoch 00068: val_loss did not improve from 0.49168\n",
      "Epoch 69/200\n",
      "94/94 [==============================] - 0s 2ms/step - loss: 0.0110 - accuracy: 1.0000 - val_loss: 0.8431 - val_accuracy: 0.8333\n",
      "\n",
      "Epoch 00069: val_loss did not improve from 0.49168\n",
      "Epoch 70/200\n",
      "94/94 [==============================] - 0s 2ms/step - loss: 0.0108 - accuracy: 1.0000 - val_loss: 0.8006 - val_accuracy: 0.8750\n",
      "\n",
      "Epoch 00070: val_loss did not improve from 0.49168\n",
      "Epoch 71/200\n",
      "94/94 [==============================] - 0s 2ms/step - loss: 0.0195 - accuracy: 1.0000 - val_loss: 0.7692 - val_accuracy: 0.8750\n",
      "\n",
      "Epoch 00071: val_loss did not improve from 0.49168\n",
      "Epoch 72/200\n",
      "94/94 [==============================] - 0s 2ms/step - loss: 0.0573 - accuracy: 0.9787 - val_loss: 0.7380 - val_accuracy: 0.8750\n",
      "\n",
      "Epoch 00072: val_loss did not improve from 0.49168\n",
      "Epoch 73/200\n",
      "94/94 [==============================] - 0s 2ms/step - loss: 0.0350 - accuracy: 0.9894 - val_loss: 0.7218 - val_accuracy: 0.8750\n",
      "\n",
      "Epoch 00073: val_loss did not improve from 0.49168\n",
      "Epoch 74/200\n",
      "94/94 [==============================] - 0s 2ms/step - loss: 0.0183 - accuracy: 1.0000 - val_loss: 0.7118 - val_accuracy: 0.8750\n",
      "\n",
      "Epoch 00074: val_loss did not improve from 0.49168\n",
      "Epoch 75/200\n",
      "94/94 [==============================] - 0s 3ms/step - loss: 0.0051 - accuracy: 1.0000 - val_loss: 0.7053 - val_accuracy: 0.8750\n",
      "\n",
      "Epoch 00075: val_loss did not improve from 0.49168\n",
      "Epoch 76/200\n",
      "94/94 [==============================] - 0s 2ms/step - loss: 0.0085 - accuracy: 1.0000 - val_loss: 0.6971 - val_accuracy: 0.8750\n",
      "\n",
      "Epoch 00076: val_loss did not improve from 0.49168\n",
      "Epoch 77/200\n",
      "94/94 [==============================] - 0s 2ms/step - loss: 0.0015 - accuracy: 1.0000 - val_loss: 0.6897 - val_accuracy: 0.8750\n",
      "\n",
      "Epoch 00077: val_loss did not improve from 0.49168\n",
      "Epoch 78/200\n",
      "94/94 [==============================] - 0s 2ms/step - loss: 0.0073 - accuracy: 1.0000 - val_loss: 0.6851 - val_accuracy: 0.8750\n",
      "\n",
      "Epoch 00078: val_loss did not improve from 0.49168\n",
      "Epoch 79/200\n",
      "94/94 [==============================] - 0s 2ms/step - loss: 0.0059 - accuracy: 1.0000 - val_loss: 0.6806 - val_accuracy: 0.8750\n",
      "\n",
      "Epoch 00079: val_loss did not improve from 0.49168\n",
      "Epoch 80/200\n",
      "94/94 [==============================] - 0s 2ms/step - loss: 0.0075 - accuracy: 1.0000 - val_loss: 0.6710 - val_accuracy: 0.8750\n",
      "\n",
      "Epoch 00080: val_loss did not improve from 0.49168\n",
      "Epoch 81/200\n",
      "94/94 [==============================] - 0s 2ms/step - loss: 0.0071 - accuracy: 1.0000 - val_loss: 0.6651 - val_accuracy: 0.8750\n",
      "\n",
      "Epoch 00081: val_loss did not improve from 0.49168\n",
      "Epoch 82/200\n",
      "94/94 [==============================] - 0s 2ms/step - loss: 0.0112 - accuracy: 1.0000 - val_loss: 0.6693 - val_accuracy: 0.8750\n",
      "\n",
      "Epoch 00082: val_loss did not improve from 0.49168\n",
      "Epoch 83/200\n"
     ]
    },
    {
     "name": "stdout",
     "output_type": "stream",
     "text": [
      "94/94 [==============================] - 0s 2ms/step - loss: 0.0095 - accuracy: 1.0000 - val_loss: 0.6864 - val_accuracy: 0.8750\n",
      "\n",
      "Epoch 00083: val_loss did not improve from 0.49168\n",
      "Epoch 84/200\n",
      "94/94 [==============================] - 0s 2ms/step - loss: 0.0185 - accuracy: 0.9894 - val_loss: 0.7125 - val_accuracy: 0.8750\n",
      "\n",
      "Epoch 00084: val_loss did not improve from 0.49168\n",
      "Epoch 85/200\n",
      "94/94 [==============================] - 0s 2ms/step - loss: 0.0258 - accuracy: 0.9787 - val_loss: 0.7399 - val_accuracy: 0.8750\n",
      "\n",
      "Epoch 00085: val_loss did not improve from 0.49168\n",
      "Epoch 86/200\n",
      "94/94 [==============================] - 0s 2ms/step - loss: 0.0185 - accuracy: 0.9894 - val_loss: 0.7685 - val_accuracy: 0.8750\n",
      "\n",
      "Epoch 00086: val_loss did not improve from 0.49168\n",
      "Epoch 87/200\n",
      "94/94 [==============================] - 0s 2ms/step - loss: 0.0182 - accuracy: 0.9894 - val_loss: 0.7982 - val_accuracy: 0.8750\n",
      "\n",
      "Epoch 00087: val_loss did not improve from 0.49168\n",
      "Epoch 88/200\n",
      "94/94 [==============================] - 0s 2ms/step - loss: 0.0060 - accuracy: 1.0000 - val_loss: 0.8225 - val_accuracy: 0.8750\n",
      "\n",
      "Epoch 00088: val_loss did not improve from 0.49168\n",
      "Epoch 89/200\n",
      "94/94 [==============================] - 0s 2ms/step - loss: 0.0193 - accuracy: 0.9894 - val_loss: 0.8387 - val_accuracy: 0.8750\n",
      "\n",
      "Epoch 00089: val_loss did not improve from 0.49168\n",
      "Epoch 90/200\n",
      "94/94 [==============================] - 0s 2ms/step - loss: 0.0057 - accuracy: 1.0000 - val_loss: 0.8622 - val_accuracy: 0.8750\n",
      "\n",
      "Epoch 00090: val_loss did not improve from 0.49168\n",
      "Epoch 91/200\n",
      "94/94 [==============================] - 0s 2ms/step - loss: 0.0044 - accuracy: 1.0000 - val_loss: 0.8944 - val_accuracy: 0.8750\n",
      "\n",
      "Epoch 00091: val_loss did not improve from 0.49168\n",
      "Epoch 92/200\n",
      "94/94 [==============================] - 0s 2ms/step - loss: 0.0103 - accuracy: 1.0000 - val_loss: 0.9237 - val_accuracy: 0.8750\n",
      "\n",
      "Epoch 00092: val_loss did not improve from 0.49168\n",
      "Epoch 93/200\n",
      "94/94 [==============================] - 0s 2ms/step - loss: 0.0268 - accuracy: 0.9894 - val_loss: 0.9397 - val_accuracy: 0.8750\n",
      "\n",
      "Epoch 00093: val_loss did not improve from 0.49168\n",
      "Epoch 94/200\n",
      "94/94 [==============================] - 0s 2ms/step - loss: 0.0055 - accuracy: 1.0000 - val_loss: 0.9496 - val_accuracy: 0.8750\n",
      "\n",
      "Epoch 00094: val_loss did not improve from 0.49168\n",
      "Epoch 95/200\n",
      "94/94 [==============================] - 0s 2ms/step - loss: 0.0326 - accuracy: 0.9894 - val_loss: 0.9524 - val_accuracy: 0.8750\n",
      "\n",
      "Epoch 00095: val_loss did not improve from 0.49168\n",
      "Epoch 96/200\n",
      "94/94 [==============================] - 0s 2ms/step - loss: 0.0051 - accuracy: 1.0000 - val_loss: 0.9506 - val_accuracy: 0.8750\n",
      "\n",
      "Epoch 00096: val_loss did not improve from 0.49168\n",
      "Epoch 97/200\n",
      "94/94 [==============================] - 0s 2ms/step - loss: 0.0038 - accuracy: 1.0000 - val_loss: 0.9514 - val_accuracy: 0.8750\n",
      "\n",
      "Epoch 00097: val_loss did not improve from 0.49168\n",
      "Epoch 98/200\n",
      "94/94 [==============================] - 0s 2ms/step - loss: 0.0175 - accuracy: 0.9894 - val_loss: 0.9513 - val_accuracy: 0.8750\n",
      "\n",
      "Epoch 00098: val_loss did not improve from 0.49168\n",
      "Epoch 99/200\n",
      "94/94 [==============================] - 0s 2ms/step - loss: 0.0106 - accuracy: 1.0000 - val_loss: 0.9503 - val_accuracy: 0.8750\n",
      "\n",
      "Epoch 00099: val_loss did not improve from 0.49168\n",
      "Epoch 100/200\n",
      "94/94 [==============================] - 0s 2ms/step - loss: 0.0035 - accuracy: 1.0000 - val_loss: 0.9519 - val_accuracy: 0.8750\n",
      "\n",
      "Epoch 00100: val_loss did not improve from 0.49168\n",
      "Epoch 101/200\n",
      "94/94 [==============================] - 0s 2ms/step - loss: 0.0052 - accuracy: 1.0000 - val_loss: 0.9539 - val_accuracy: 0.8750\n",
      "\n",
      "Epoch 00101: val_loss did not improve from 0.49168\n",
      "Epoch 102/200\n",
      "94/94 [==============================] - 0s 4ms/step - loss: 0.0080 - accuracy: 1.0000 - val_loss: 0.9698 - val_accuracy: 0.8750\n",
      "\n",
      "Epoch 00102: val_loss did not improve from 0.49168\n",
      "Epoch 103/200\n",
      "94/94 [==============================] - 0s 2ms/step - loss: 0.0027 - accuracy: 1.0000 - val_loss: 0.9788 - val_accuracy: 0.8750\n",
      "\n",
      "Epoch 00103: val_loss did not improve from 0.49168\n",
      "Epoch 104/200\n",
      "94/94 [==============================] - 0s 2ms/step - loss: 0.0137 - accuracy: 0.9894 - val_loss: 0.9799 - val_accuracy: 0.8750\n",
      "\n",
      "Epoch 00104: val_loss did not improve from 0.49168\n",
      "Epoch 105/200\n",
      "94/94 [==============================] - 0s 2ms/step - loss: 0.0126 - accuracy: 1.0000 - val_loss: 0.9824 - val_accuracy: 0.8750\n",
      "\n",
      "Epoch 00105: val_loss did not improve from 0.49168\n",
      "Epoch 106/200\n",
      "94/94 [==============================] - 0s 2ms/step - loss: 0.0305 - accuracy: 0.9787 - val_loss: 1.0123 - val_accuracy: 0.8750\n",
      "\n",
      "Epoch 00106: val_loss did not improve from 0.49168\n",
      "Epoch 107/200\n",
      "94/94 [==============================] - 0s 2ms/step - loss: 0.0088 - accuracy: 1.0000 - val_loss: 1.0781 - val_accuracy: 0.8750\n",
      "\n",
      "Epoch 00107: val_loss did not improve from 0.49168\n",
      "Epoch 108/200\n",
      "94/94 [==============================] - 0s 2ms/step - loss: 3.0350e-04 - accuracy: 1.0000 - val_loss: 1.1298 - val_accuracy: 0.8333\n",
      "\n",
      "Epoch 00108: val_loss did not improve from 0.49168\n",
      "Epoch 109/200\n",
      "94/94 [==============================] - 0s 2ms/step - loss: 0.0167 - accuracy: 1.0000 - val_loss: 1.1570 - val_accuracy: 0.8333\n",
      "\n",
      "Epoch 00109: val_loss did not improve from 0.49168\n",
      "Epoch 110/200\n",
      "94/94 [==============================] - 0s 2ms/step - loss: 0.0072 - accuracy: 1.0000 - val_loss: 1.1739 - val_accuracy: 0.8333\n",
      "\n",
      "Epoch 00110: val_loss did not improve from 0.49168\n",
      "Epoch 111/200\n",
      "94/94 [==============================] - 0s 2ms/step - loss: 0.0187 - accuracy: 1.0000 - val_loss: 1.1840 - val_accuracy: 0.8333\n",
      "\n",
      "Epoch 00111: val_loss did not improve from 0.49168\n",
      "Epoch 112/200\n",
      "94/94 [==============================] - 0s 2ms/step - loss: 0.0040 - accuracy: 1.0000 - val_loss: 1.1799 - val_accuracy: 0.8333\n",
      "\n",
      "Epoch 00112: val_loss did not improve from 0.49168\n",
      "Epoch 113/200\n",
      "94/94 [==============================] - 0s 2ms/step - loss: 0.0063 - accuracy: 1.0000 - val_loss: 1.1786 - val_accuracy: 0.8333\n",
      "\n",
      "Epoch 00113: val_loss did not improve from 0.49168\n",
      "Epoch 114/200\n",
      "94/94 [==============================] - 0s 2ms/step - loss: 9.3649e-04 - accuracy: 1.0000 - val_loss: 1.1846 - val_accuracy: 0.8333\n",
      "\n",
      "Epoch 00114: val_loss did not improve from 0.49168\n",
      "Epoch 115/200\n",
      "94/94 [==============================] - 0s 2ms/step - loss: 0.0113 - accuracy: 1.0000 - val_loss: 1.1938 - val_accuracy: 0.8333\n",
      "\n",
      "Epoch 00115: val_loss did not improve from 0.49168\n",
      "Epoch 116/200\n",
      "94/94 [==============================] - 0s 2ms/step - loss: 0.0258 - accuracy: 0.9894 - val_loss: 1.1979 - val_accuracy: 0.8333\n",
      "\n",
      "Epoch 00116: val_loss did not improve from 0.49168\n",
      "Epoch 117/200\n",
      "94/94 [==============================] - 0s 2ms/step - loss: 0.0108 - accuracy: 0.9894 - val_loss: 1.2021 - val_accuracy: 0.8333\n",
      "\n",
      "Epoch 00117: val_loss did not improve from 0.49168\n",
      "Epoch 118/200\n",
      "94/94 [==============================] - 0s 2ms/step - loss: 0.0076 - accuracy: 1.0000 - val_loss: 1.2031 - val_accuracy: 0.8333\n",
      "\n",
      "Epoch 00118: val_loss did not improve from 0.49168\n",
      "Epoch 119/200\n",
      "94/94 [==============================] - 0s 2ms/step - loss: 0.0313 - accuracy: 0.9787 - val_loss: 1.1944 - val_accuracy: 0.8333\n",
      "\n",
      "Epoch 00119: val_loss did not improve from 0.49168\n",
      "Epoch 120/200\n",
      "94/94 [==============================] - 0s 2ms/step - loss: 0.0031 - accuracy: 1.0000 - val_loss: 1.1837 - val_accuracy: 0.8333\n",
      "\n",
      "Epoch 00120: val_loss did not improve from 0.49168\n",
      "Epoch 121/200\n",
      "94/94 [==============================] - 0s 2ms/step - loss: 0.0061 - accuracy: 1.0000 - val_loss: 1.1860 - val_accuracy: 0.8333\n",
      "\n",
      "Epoch 00121: val_loss did not improve from 0.49168\n",
      "Epoch 122/200\n",
      "94/94 [==============================] - 0s 2ms/step - loss: 0.0151 - accuracy: 0.9894 - val_loss: 1.1516 - val_accuracy: 0.8333\n",
      "\n",
      "Epoch 00122: val_loss did not improve from 0.49168\n",
      "Epoch 123/200\n",
      "94/94 [==============================] - 0s 2ms/step - loss: 0.0163 - accuracy: 0.9894 - val_loss: 1.1331 - val_accuracy: 0.8333\n",
      "\n",
      "Epoch 00123: val_loss did not improve from 0.49168\n",
      "Epoch 124/200\n",
      "94/94 [==============================] - 0s 2ms/step - loss: 0.0209 - accuracy: 0.9894 - val_loss: 1.1144 - val_accuracy: 0.8333\n",
      "\n",
      "Epoch 00124: val_loss did not improve from 0.49168\n",
      "Epoch 125/200\n"
     ]
    },
    {
     "name": "stdout",
     "output_type": "stream",
     "text": [
      "94/94 [==============================] - 0s 2ms/step - loss: 0.0082 - accuracy: 1.0000 - val_loss: 1.1005 - val_accuracy: 0.8333\n",
      "\n",
      "Epoch 00125: val_loss did not improve from 0.49168\n",
      "Epoch 126/200\n",
      "94/94 [==============================] - 0s 2ms/step - loss: 0.0061 - accuracy: 1.0000 - val_loss: 1.0832 - val_accuracy: 0.8333\n",
      "\n",
      "Epoch 00126: val_loss did not improve from 0.49168\n",
      "Epoch 127/200\n",
      "94/94 [==============================] - 0s 2ms/step - loss: 5.6686e-04 - accuracy: 1.0000 - val_loss: 1.0708 - val_accuracy: 0.8333\n",
      "\n",
      "Epoch 00127: val_loss did not improve from 0.49168\n",
      "Epoch 128/200\n",
      "94/94 [==============================] - 0s 2ms/step - loss: 0.0058 - accuracy: 1.0000 - val_loss: 1.0660 - val_accuracy: 0.8333\n",
      "\n",
      "Epoch 00128: val_loss did not improve from 0.49168\n",
      "Epoch 129/200\n",
      "94/94 [==============================] - 0s 2ms/step - loss: 0.0151 - accuracy: 0.9894 - val_loss: 1.0668 - val_accuracy: 0.8333\n",
      "\n",
      "Epoch 00129: val_loss did not improve from 0.49168\n",
      "Epoch 130/200\n",
      "94/94 [==============================] - 0s 2ms/step - loss: 0.0160 - accuracy: 1.0000 - val_loss: 1.0667 - val_accuracy: 0.8333\n",
      "\n",
      "Epoch 00130: val_loss did not improve from 0.49168\n",
      "Epoch 131/200\n",
      "94/94 [==============================] - 0s 2ms/step - loss: 0.0032 - accuracy: 1.0000 - val_loss: 1.0643 - val_accuracy: 0.8333\n",
      "\n",
      "Epoch 00131: val_loss did not improve from 0.49168\n",
      "Epoch 132/200\n",
      "94/94 [==============================] - 0s 2ms/step - loss: 0.0015 - accuracy: 1.0000 - val_loss: 1.0493 - val_accuracy: 0.8333\n",
      "\n",
      "Epoch 00132: val_loss did not improve from 0.49168\n",
      "Epoch 133/200\n",
      "94/94 [==============================] - 0s 2ms/step - loss: 0.0047 - accuracy: 1.0000 - val_loss: 1.0389 - val_accuracy: 0.8333\n",
      "\n",
      "Epoch 00133: val_loss did not improve from 0.49168\n",
      "Epoch 134/200\n",
      "94/94 [==============================] - 0s 2ms/step - loss: 0.0041 - accuracy: 1.0000 - val_loss: 1.0399 - val_accuracy: 0.8333\n",
      "\n",
      "Epoch 00134: val_loss did not improve from 0.49168\n",
      "Epoch 135/200\n",
      "94/94 [==============================] - 0s 2ms/step - loss: 0.0047 - accuracy: 1.0000 - val_loss: 1.0570 - val_accuracy: 0.8333\n",
      "\n",
      "Epoch 00135: val_loss did not improve from 0.49168\n",
      "Epoch 136/200\n",
      "94/94 [==============================] - 0s 2ms/step - loss: 0.0028 - accuracy: 1.0000 - val_loss: 1.0684 - val_accuracy: 0.8333\n",
      "\n",
      "Epoch 00136: val_loss did not improve from 0.49168\n",
      "Epoch 137/200\n",
      "94/94 [==============================] - 0s 2ms/step - loss: 0.0031 - accuracy: 1.0000 - val_loss: 1.0765 - val_accuracy: 0.8333\n",
      "\n",
      "Epoch 00137: val_loss did not improve from 0.49168\n",
      "Epoch 138/200\n",
      "94/94 [==============================] - 0s 2ms/step - loss: 0.0039 - accuracy: 1.0000 - val_loss: 1.0827 - val_accuracy: 0.8333\n",
      "\n",
      "Epoch 00138: val_loss did not improve from 0.49168\n",
      "Epoch 139/200\n",
      "94/94 [==============================] - 0s 2ms/step - loss: 0.0013 - accuracy: 1.0000 - val_loss: 1.0872 - val_accuracy: 0.8333\n",
      "\n",
      "Epoch 00139: val_loss did not improve from 0.49168\n",
      "Epoch 140/200\n",
      "94/94 [==============================] - 0s 2ms/step - loss: 0.0010 - accuracy: 1.0000 - val_loss: 1.0905 - val_accuracy: 0.8333\n",
      "\n",
      "Epoch 00140: val_loss did not improve from 0.49168\n",
      "Epoch 141/200\n",
      "94/94 [==============================] - 0s 2ms/step - loss: 0.0022 - accuracy: 1.0000 - val_loss: 1.0948 - val_accuracy: 0.8333\n",
      "\n",
      "Epoch 00141: val_loss did not improve from 0.49168\n",
      "Epoch 142/200\n",
      "94/94 [==============================] - 0s 2ms/step - loss: 0.0136 - accuracy: 0.9894 - val_loss: 1.0728 - val_accuracy: 0.8333\n",
      "\n",
      "Epoch 00142: val_loss did not improve from 0.49168\n",
      "Epoch 143/200\n",
      "94/94 [==============================] - 0s 2ms/step - loss: 0.0077 - accuracy: 1.0000 - val_loss: 1.0534 - val_accuracy: 0.8333\n",
      "\n",
      "Epoch 00143: val_loss did not improve from 0.49168\n",
      "Epoch 144/200\n",
      "94/94 [==============================] - 0s 2ms/step - loss: 0.0214 - accuracy: 1.0000 - val_loss: 1.0544 - val_accuracy: 0.8333\n",
      "\n",
      "Epoch 00144: val_loss did not improve from 0.49168\n",
      "Epoch 145/200\n",
      "94/94 [==============================] - 0s 2ms/step - loss: 0.0132 - accuracy: 0.9894 - val_loss: 1.0668 - val_accuracy: 0.8333\n",
      "\n",
      "Epoch 00145: val_loss did not improve from 0.49168\n",
      "Epoch 146/200\n",
      "94/94 [==============================] - 0s 2ms/step - loss: 0.0111 - accuracy: 1.0000 - val_loss: 1.0756 - val_accuracy: 0.8333\n",
      "\n",
      "Epoch 00146: val_loss did not improve from 0.49168\n",
      "Epoch 147/200\n",
      "94/94 [==============================] - 0s 2ms/step - loss: 0.0150 - accuracy: 0.9894 - val_loss: 1.0836 - val_accuracy: 0.8333\n",
      "\n",
      "Epoch 00147: val_loss did not improve from 0.49168\n",
      "Epoch 148/200\n",
      "94/94 [==============================] - 0s 2ms/step - loss: 0.0146 - accuracy: 0.9894 - val_loss: 1.0921 - val_accuracy: 0.8333\n",
      "\n",
      "Epoch 00148: val_loss did not improve from 0.49168\n",
      "Epoch 149/200\n",
      "94/94 [==============================] - 0s 3ms/step - loss: 0.0022 - accuracy: 1.0000 - val_loss: 1.1037 - val_accuracy: 0.8333\n",
      "\n",
      "Epoch 00149: val_loss did not improve from 0.49168\n",
      "Epoch 150/200\n",
      "94/94 [==============================] - 0s 2ms/step - loss: 0.0023 - accuracy: 1.0000 - val_loss: 1.1086 - val_accuracy: 0.8333\n",
      "\n",
      "Epoch 00150: val_loss did not improve from 0.49168\n",
      "Epoch 151/200\n",
      "94/94 [==============================] - 0s 3ms/step - loss: 0.0219 - accuracy: 0.9894 - val_loss: 1.1153 - val_accuracy: 0.8333\n",
      "\n",
      "Epoch 00151: val_loss did not improve from 0.49168\n",
      "Epoch 152/200\n",
      "94/94 [==============================] - 0s 2ms/step - loss: 0.0028 - accuracy: 1.0000 - val_loss: 1.1273 - val_accuracy: 0.8333\n",
      "\n",
      "Epoch 00152: val_loss did not improve from 0.49168\n",
      "Epoch 153/200\n",
      "94/94 [==============================] - 0s 2ms/step - loss: 0.0145 - accuracy: 0.9894 - val_loss: 1.1373 - val_accuracy: 0.8333\n",
      "\n",
      "Epoch 00153: val_loss did not improve from 0.49168\n",
      "Epoch 154/200\n",
      "94/94 [==============================] - 0s 2ms/step - loss: 0.0272 - accuracy: 0.9787 - val_loss: 1.1380 - val_accuracy: 0.8333\n",
      "\n",
      "Epoch 00154: val_loss did not improve from 0.49168\n",
      "Epoch 155/200\n",
      "94/94 [==============================] - 0s 2ms/step - loss: 0.0045 - accuracy: 1.0000 - val_loss: 1.1434 - val_accuracy: 0.8333\n",
      "\n",
      "Epoch 00155: val_loss did not improve from 0.49168\n",
      "Epoch 156/200\n",
      "94/94 [==============================] - 0s 2ms/step - loss: 0.0053 - accuracy: 1.0000 - val_loss: 1.1472 - val_accuracy: 0.8750\n",
      "\n",
      "Epoch 00156: val_loss did not improve from 0.49168\n",
      "Epoch 157/200\n",
      "94/94 [==============================] - 0s 2ms/step - loss: 0.0078 - accuracy: 1.0000 - val_loss: 1.1579 - val_accuracy: 0.8750\n",
      "\n",
      "Epoch 00157: val_loss did not improve from 0.49168\n",
      "Epoch 158/200\n",
      "94/94 [==============================] - 0s 2ms/step - loss: 0.0083 - accuracy: 1.0000 - val_loss: 1.1638 - val_accuracy: 0.8750\n",
      "\n",
      "Epoch 00158: val_loss did not improve from 0.49168\n",
      "Epoch 159/200\n",
      "94/94 [==============================] - 0s 2ms/step - loss: 0.0125 - accuracy: 0.9894 - val_loss: 1.1562 - val_accuracy: 0.8750\n",
      "\n",
      "Epoch 00159: val_loss did not improve from 0.49168\n",
      "Epoch 160/200\n",
      "94/94 [==============================] - 0s 2ms/step - loss: 0.0017 - accuracy: 1.0000 - val_loss: 1.1509 - val_accuracy: 0.8750\n",
      "\n",
      "Epoch 00160: val_loss did not improve from 0.49168\n",
      "Epoch 161/200\n",
      "94/94 [==============================] - 0s 2ms/step - loss: 0.0015 - accuracy: 1.0000 - val_loss: 1.1463 - val_accuracy: 0.8750\n",
      "\n",
      "Epoch 00161: val_loss did not improve from 0.49168\n",
      "Epoch 162/200\n",
      "94/94 [==============================] - 0s 2ms/step - loss: 0.0033 - accuracy: 1.0000 - val_loss: 1.1424 - val_accuracy: 0.8750\n",
      "\n",
      "Epoch 00162: val_loss did not improve from 0.49168\n",
      "Epoch 163/200\n",
      "94/94 [==============================] - 0s 2ms/step - loss: 5.7339e-04 - accuracy: 1.0000 - val_loss: 1.1421 - val_accuracy: 0.8750\n",
      "\n",
      "Epoch 00163: val_loss did not improve from 0.49168\n",
      "Epoch 164/200\n",
      "94/94 [==============================] - 0s 2ms/step - loss: 0.0010 - accuracy: 1.0000 - val_loss: 1.1428 - val_accuracy: 0.8750\n",
      "\n",
      "Epoch 00164: val_loss did not improve from 0.49168\n",
      "Epoch 165/200\n",
      "94/94 [==============================] - 0s 2ms/step - loss: 0.0024 - accuracy: 1.0000 - val_loss: 1.1486 - val_accuracy: 0.8750\n",
      "\n",
      "Epoch 00165: val_loss did not improve from 0.49168\n",
      "Epoch 166/200\n",
      "94/94 [==============================] - 0s 2ms/step - loss: 0.0185 - accuracy: 0.9894 - val_loss: 1.1732 - val_accuracy: 0.8750\n",
      "\n",
      "Epoch 00166: val_loss did not improve from 0.49168\n",
      "Epoch 167/200\n"
     ]
    },
    {
     "name": "stdout",
     "output_type": "stream",
     "text": [
      "94/94 [==============================] - 0s 2ms/step - loss: 0.0033 - accuracy: 1.0000 - val_loss: 1.1900 - val_accuracy: 0.8750\n",
      "\n",
      "Epoch 00167: val_loss did not improve from 0.49168\n",
      "Epoch 168/200\n",
      "94/94 [==============================] - 0s 2ms/step - loss: 0.0012 - accuracy: 1.0000 - val_loss: 1.2020 - val_accuracy: 0.8750\n",
      "\n",
      "Epoch 00168: val_loss did not improve from 0.49168\n",
      "Epoch 169/200\n",
      "94/94 [==============================] - 0s 2ms/step - loss: 0.0141 - accuracy: 0.9894 - val_loss: 1.2179 - val_accuracy: 0.8750\n",
      "\n",
      "Epoch 00169: val_loss did not improve from 0.49168\n",
      "Epoch 170/200\n",
      "94/94 [==============================] - 0s 2ms/step - loss: 0.0090 - accuracy: 1.0000 - val_loss: 1.2309 - val_accuracy: 0.8750\n",
      "\n",
      "Epoch 00170: val_loss did not improve from 0.49168\n",
      "Epoch 171/200\n",
      "94/94 [==============================] - 0s 2ms/step - loss: 0.0135 - accuracy: 0.9894 - val_loss: 1.2422 - val_accuracy: 0.8750\n",
      "\n",
      "Epoch 00171: val_loss did not improve from 0.49168\n",
      "Epoch 172/200\n",
      "94/94 [==============================] - 0s 2ms/step - loss: 0.0121 - accuracy: 0.9894 - val_loss: 1.2488 - val_accuracy: 0.8750\n",
      "\n",
      "Epoch 00172: val_loss did not improve from 0.49168\n",
      "Epoch 173/200\n",
      "94/94 [==============================] - 0s 2ms/step - loss: 0.0019 - accuracy: 1.0000 - val_loss: 1.2505 - val_accuracy: 0.8750\n",
      "\n",
      "Epoch 00173: val_loss did not improve from 0.49168\n",
      "Epoch 174/200\n",
      "94/94 [==============================] - 0s 2ms/step - loss: 0.0229 - accuracy: 0.9894 - val_loss: 1.2605 - val_accuracy: 0.8750\n",
      "\n",
      "Epoch 00174: val_loss did not improve from 0.49168\n",
      "Epoch 175/200\n",
      "94/94 [==============================] - 0s 2ms/step - loss: 0.0063 - accuracy: 1.0000 - val_loss: 1.2629 - val_accuracy: 0.8750\n",
      "\n",
      "Epoch 00175: val_loss did not improve from 0.49168\n",
      "Epoch 176/200\n",
      "94/94 [==============================] - 0s 2ms/step - loss: 0.0115 - accuracy: 1.0000 - val_loss: 1.2480 - val_accuracy: 0.8750\n",
      "\n",
      "Epoch 00176: val_loss did not improve from 0.49168\n",
      "Epoch 177/200\n",
      "94/94 [==============================] - 0s 2ms/step - loss: 0.0048 - accuracy: 1.0000 - val_loss: 1.2334 - val_accuracy: 0.8750\n",
      "\n",
      "Epoch 00177: val_loss did not improve from 0.49168\n",
      "Epoch 178/200\n",
      "94/94 [==============================] - 0s 2ms/step - loss: 0.0016 - accuracy: 1.0000 - val_loss: 1.2230 - val_accuracy: 0.8750\n",
      "\n",
      "Epoch 00178: val_loss did not improve from 0.49168\n",
      "Epoch 179/200\n",
      "94/94 [==============================] - 0s 2ms/step - loss: 0.0144 - accuracy: 1.0000 - val_loss: 1.2304 - val_accuracy: 0.8750\n",
      "\n",
      "Epoch 00179: val_loss did not improve from 0.49168\n",
      "Epoch 180/200\n",
      "94/94 [==============================] - 0s 2ms/step - loss: 5.5445e-04 - accuracy: 1.0000 - val_loss: 1.2357 - val_accuracy: 0.8750\n",
      "\n",
      "Epoch 00180: val_loss did not improve from 0.49168\n",
      "Epoch 181/200\n",
      "94/94 [==============================] - 0s 2ms/step - loss: 0.0105 - accuracy: 1.0000 - val_loss: 1.2396 - val_accuracy: 0.8750\n",
      "\n",
      "Epoch 00181: val_loss did not improve from 0.49168\n",
      "Epoch 182/200\n",
      "94/94 [==============================] - 0s 2ms/step - loss: 0.0088 - accuracy: 1.0000 - val_loss: 1.2400 - val_accuracy: 0.8750\n",
      "\n",
      "Epoch 00182: val_loss did not improve from 0.49168\n",
      "Epoch 183/200\n",
      "94/94 [==============================] - 0s 2ms/step - loss: 5.0236e-04 - accuracy: 1.0000 - val_loss: 1.2362 - val_accuracy: 0.8750\n",
      "\n",
      "Epoch 00183: val_loss did not improve from 0.49168\n",
      "Epoch 184/200\n",
      "94/94 [==============================] - 0s 2ms/step - loss: 0.0012 - accuracy: 1.0000 - val_loss: 1.2334 - val_accuracy: 0.8750\n",
      "\n",
      "Epoch 00184: val_loss did not improve from 0.49168\n",
      "Epoch 185/200\n",
      "94/94 [==============================] - 0s 2ms/step - loss: 0.0022 - accuracy: 1.0000 - val_loss: 1.2346 - val_accuracy: 0.8750\n",
      "\n",
      "Epoch 00185: val_loss did not improve from 0.49168\n",
      "Epoch 186/200\n",
      "94/94 [==============================] - 0s 2ms/step - loss: 1.5248e-04 - accuracy: 1.0000 - val_loss: 1.2362 - val_accuracy: 0.8750\n",
      "\n",
      "Epoch 00186: val_loss did not improve from 0.49168\n",
      "Epoch 187/200\n",
      "94/94 [==============================] - 0s 2ms/step - loss: 0.0054 - accuracy: 1.0000 - val_loss: 1.2293 - val_accuracy: 0.8750\n",
      "\n",
      "Epoch 00187: val_loss did not improve from 0.49168\n",
      "Epoch 188/200\n",
      "94/94 [==============================] - 0s 2ms/step - loss: 0.0026 - accuracy: 1.0000 - val_loss: 1.2241 - val_accuracy: 0.8750\n",
      "\n",
      "Epoch 00188: val_loss did not improve from 0.49168\n",
      "Epoch 189/200\n",
      "94/94 [==============================] - 2s 16ms/step - loss: 0.0014 - accuracy: 1.0000 - val_loss: 1.2217 - val_accuracy: 0.8750\n",
      "\n",
      "Epoch 00189: val_loss did not improve from 0.49168\n",
      "Epoch 190/200\n",
      "94/94 [==============================] - 1s 8ms/step - loss: 0.0014 - accuracy: 1.0000 - val_loss: 1.2193 - val_accuracy: 0.8750\n",
      "\n",
      "Epoch 00190: val_loss did not improve from 0.49168\n",
      "Epoch 191/200\n",
      "94/94 [==============================] - 1s 13ms/step - loss: 0.0011 - accuracy: 1.0000 - val_loss: 1.2163 - val_accuracy: 0.8750\n",
      "\n",
      "Epoch 00191: val_loss did not improve from 0.49168\n",
      "Epoch 192/200\n",
      "94/94 [==============================] - 1s 6ms/step - loss: 9.3390e-04 - accuracy: 1.0000 - val_loss: 1.2205 - val_accuracy: 0.8750\n",
      "\n",
      "Epoch 00192: val_loss did not improve from 0.49168\n",
      "Epoch 193/200\n",
      "94/94 [==============================] - 0s 3ms/step - loss: 0.0016 - accuracy: 1.0000 - val_loss: 1.2389 - val_accuracy: 0.8750\n",
      "\n",
      "Epoch 00193: val_loss did not improve from 0.49168\n",
      "Epoch 194/200\n",
      "94/94 [==============================] - 0s 3ms/step - loss: 0.0015 - accuracy: 1.0000 - val_loss: 1.2604 - val_accuracy: 0.8750\n",
      "\n",
      "Epoch 00194: val_loss did not improve from 0.49168\n",
      "Epoch 195/200\n",
      "94/94 [==============================] - 0s 2ms/step - loss: 2.6067e-04 - accuracy: 1.0000 - val_loss: 1.2781 - val_accuracy: 0.8750\n",
      "\n",
      "Epoch 00195: val_loss did not improve from 0.49168\n",
      "Epoch 196/200\n",
      "94/94 [==============================] - 0s 2ms/step - loss: 0.0011 - accuracy: 1.0000 - val_loss: 1.2937 - val_accuracy: 0.8750\n",
      "\n",
      "Epoch 00196: val_loss did not improve from 0.49168\n",
      "Epoch 197/200\n",
      "94/94 [==============================] - 0s 2ms/step - loss: 0.0276 - accuracy: 0.9787 - val_loss: 1.3102 - val_accuracy: 0.8750\n",
      "\n",
      "Epoch 00197: val_loss did not improve from 0.49168\n",
      "Epoch 198/200\n",
      "94/94 [==============================] - 0s 2ms/step - loss: 2.5185e-04 - accuracy: 1.0000 - val_loss: 1.3170 - val_accuracy: 0.8750\n",
      "\n",
      "Epoch 00198: val_loss did not improve from 0.49168\n",
      "Epoch 199/200\n",
      "94/94 [==============================] - 0s 2ms/step - loss: 0.0134 - accuracy: 0.9894 - val_loss: 1.2942 - val_accuracy: 0.8750\n",
      "\n",
      "Epoch 00199: val_loss did not improve from 0.49168\n",
      "Epoch 200/200\n",
      "94/94 [==============================] - 0s 2ms/step - loss: 5.2341e-04 - accuracy: 1.0000 - val_loss: 1.2615 - val_accuracy: 0.8750\n",
      "\n",
      "Epoch 00200: val_loss did not improve from 0.49168\n"
     ]
    }
   ],
   "source": [
    "filename = 'model.h5'\n",
    "checkpoint = ModelCheckpoint(filename, monitor='val_loss', verbose=1, save_best_only=True, mode='min')\n",
    "\n",
    "history = model.fit(train_X, train_Y, epochs = 200, batch_size = 32, validation_data = (val_X, val_Y), callbacks = [checkpoint])"
   ]
  },
  {
   "cell_type": "code",
   "execution_count": 33,
   "metadata": {},
   "outputs": [
    {
     "name": "stdout",
     "output_type": "stream",
     "text": [
      "dict_keys(['val_loss', 'val_accuracy', 'loss', 'accuracy'])\n"
     ]
    },
    {
     "data": {
      "image/png": "[encoded data removed]",
      "text/plain": [
       "<Figure size 432x288 with 1 Axes>"
      ]
     },
     "metadata": {
      "needs_background": "light"
     },
     "output_type": "display_data"
    },
    {
     "data": {
      "image/png": "[encoded data removed]",
      "text/plain": [
       "<Figure size 432x288 with 1 Axes>"
      ]
     },
     "metadata": {
      "needs_background": "light"
     },
     "output_type": "display_data"
    }
   ],
   "source": [
    "print(history.history.keys())\n",
    "# summarize history for accuracy\n",
    "plt.plot(history.history['accuracy'])\n",
    "plt.plot(history.history['val_accuracy'])\n",
    "plt.title('model accuracy')\n",
    "plt.ylabel('accuracy')\n",
    "plt.xlabel('epoch')\n",
    "plt.legend(['train', 'test'], loc='upper left')\n",
    "plt.show()\n",
    "# summarize history for loss\n",
    "plt.plot(history.history['loss'])\n",
    "plt.plot(history.history['val_loss'])\n",
    "plt.title('model loss')\n",
    "plt.ylabel('loss')\n",
    "plt.xlabel('epoch')\n",
    "plt.legend(['train', 'test'], loc='upper left')\n",
    "plt.show()"
   ]
  },
  {
   "cell_type": "code",
   "execution_count": 34,
   "metadata": {},
   "outputs": [
    {
     "name": "stderr",
     "output_type": "stream",
     "text": [
      "/Users/axelalvarsson/opt/anaconda3/envs/nnlm/lib/python3.6/site-packages/tensorflow_core/python/framework/indexed_slices.py:424: UserWarning: Converting sparse IndexedSlices to a dense Tensor of unknown shape. This may consume a large amount of memory.\n",
      "  \"Converting sparse IndexedSlices to a dense Tensor of unknown shape. \"\n"
     ]
    }
   ],
   "source": [
    " model = load_model(\"model.h5\")"
   ]
  },
  {
   "cell_type": "code",
   "execution_count": null,
   "metadata": {},
   "outputs": [],
   "source": []
  },
  {
   "cell_type": "code",
   "execution_count": 35,
   "metadata": {},
   "outputs": [],
   "source": [
    "def predictions(text):\n",
    "    clean = re.sub(r'[^ a-z A-Z 0-9]', \" \", text)\n",
    "    test_word = word_tokenize(clean)\n",
    "    test_word = [w.lower() for w in test_word]\n",
    "    test_ls = word_tokenizer.texts_to_sequences(test_word)\n",
    "    print(test_word)\n",
    "    #Check for unknown words\n",
    "    if [] in test_ls:\n",
    "        test_ls = list(filter(None, test_ls))\n",
    "    \n",
    "    test_ls = np.array(test_ls).reshape(1, len(test_ls))\n",
    " \n",
    "    x = padding_doc(test_ls, max_length)\n",
    "  \n",
    "    pred = model.predict_proba(x)\n",
    "  \n",
    "  \n",
    "    return pred\n",
    "\n",
    "\n",
    "  "
   ]
  },
  {
   "cell_type": "code",
   "execution_count": 36,
   "metadata": {},
   "outputs": [],
   "source": [
    "def get_final_output(pred, classes):\n",
    "    predictions = pred[0]\n",
    " \n",
    "    classes = np.array(classes)\n",
    "    ids = np.argsort(-predictions)\n",
    "    classes = classes[ids]\n",
    "    predictions = -np.sort(-predictions)\n",
    " \n",
    "    for i in range(pred.shape[1]):\n",
    "        print(\"%s has confidence = %s\" % (classes[i], (predictions[i])))\n",
    "\n"
   ]
  },
  {
   "cell_type": "code",
   "execution_count": 37,
   "metadata": {
    "scrolled": false
   },
   "outputs": [
    {
     "name": "stdout",
     "output_type": "stream",
     "text": [
      "['how', 'much', 'does', 'it', 'cost']\n",
      "price has confidence = 0.9295274\n",
      "balance has confidence = 0.070433706\n",
      "order has confidence = 3.834743e-05\n",
      "common has confidence = 5.215025e-07\n"
     ]
    }
   ],
   "source": [
    "#Price\n",
    "text = \"How much does it cost?\"\n",
    "pred = predictions(text)\n",
    "get_final_output(pred, unique_intent)"
   ]
  },
  {
   "cell_type": "code",
   "execution_count": 38,
   "metadata": {},
   "outputs": [
    {
     "name": "stdout",
     "output_type": "stream",
     "text": [
      "['how', 'many', 'pants', 'are', 'in', 'stock']\n",
      "balance has confidence = 0.98781675\n",
      "price has confidence = 0.012177299\n",
      "common has confidence = 5.8738033e-06\n",
      "order has confidence = 8.942432e-08\n"
     ]
    }
   ],
   "source": [
    "#Balance\n",
    "text = \"how many pants are in stock?\"\n",
    "pred = predictions(text)\n",
    "get_final_output(pred, unique_intent)"
   ]
  },
  {
   "cell_type": "code",
   "execution_count": 39,
   "metadata": {},
   "outputs": [
    {
     "name": "stdout",
     "output_type": "stream",
     "text": [
      "['i', 'want', 'to', 'buy', '3', 'pants']\n",
      "order has confidence = 0.89656526\n",
      "price has confidence = 0.08742738\n",
      "common has confidence = 0.008532433\n",
      "balance has confidence = 0.007474897\n"
     ]
    }
   ],
   "source": [
    "#Order\n",
    "text = \"I want to buy 3 pants\"\n",
    "pred = predictions(text)\n",
    "get_final_output(pred, unique_intent)"
   ]
  },
  {
   "cell_type": "code",
   "execution_count": 40,
   "metadata": {},
   "outputs": [
    {
     "name": "stdout",
     "output_type": "stream",
     "text": [
      "['i', 'need', 'help']\n",
      "common has confidence = 0.9746465\n",
      "order has confidence = 0.017818842\n",
      "price has confidence = 0.0052660275\n",
      "balance has confidence = 0.0022686257\n"
     ]
    }
   ],
   "source": [
    "#Common\n",
    "text = \"I need help\"\n",
    "pred = predictions(text)\n",
    "get_final_output(pred, unique_intent)"
   ]
  },
  {
   "cell_type": "code",
   "execution_count": 41,
   "metadata": {},
   "outputs": [],
   "source": [
    "opening_lines = ['Hello, what can I help you with?',\n",
    "                'How can I help you?',\n",
    "                'Whats on your mind today?']\n",
    "\n",
    "def randomOpening():\n",
    "    index = random.randint(0,len(opening_lines)-1)\n",
    "    print(opening_lines[index])\n",
    "\n"
   ]
  },
  {
   "cell_type": "code",
   "execution_count": null,
   "metadata": {},
   "outputs": [
    {
     "name": "stdout",
     "output_type": "stream",
     "text": [
      "Hello, what can I help you with?\n"
     ]
    }
   ],
   "source": [
    "def cli():\n",
    "    while True:\n",
    "        randomOpening()\n",
    "        user_input = input(\"Ask the chatbot something: \")\n",
    "        print(user_input)\n",
    "        if(user_input==\"quit\"):\n",
    "            break\n",
    "        else:\n",
    "            pred = predictions(user_input)\n",
    "            print(pred)\n",
    "            get_final_output(pred, unique_intent)\n",
    "\n",
    "        \n",
    "cli()"
   ]
  },
  {
   "cell_type": "code",
   "execution_count": null,
   "metadata": {},
   "outputs": [],
   "source": []
  }
 ],
 "metadata": {
  "kernelspec": {
   "display_name": "Python 3",
   "language": "python",
   "name": "python3"
  },
  "language_info": {
   "codemirror_mode": {
    "name": "ipython",
    "version": 3
   },
   "file_extension": ".py",
   "mimetype": "text/x-python",
   "name": "python",
   "nbconvert_exporter": "python",
   "pygments_lexer": "ipython3",
   "version": "3.6.12"
  }
 },
 "nbformat": 4,
 "nbformat_minor": 4
}
