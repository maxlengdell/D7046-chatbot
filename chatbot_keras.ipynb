{
 "cells": [
  {
   "cell_type": "code",
   "execution_count": 43,
   "metadata": {},
   "outputs": [],
   "source": [
    "import torch\n",
    "import torch.nn as nn\n",
    "\n",
    "import numpy as np\n",
    "import pandas as pd\n",
    "import random\n",
    "from nltk.corpus import stopwords\n",
    "from nltk.tokenize import word_tokenize\n",
    "from nltk.stem.lancaster import LancasterStemmer\n",
    "import nltk\n",
    "import re\n",
    "from sklearn.preprocessing import OneHotEncoder\n",
    "import matplotlib.pyplot as plt\n",
    "from keras.preprocessing.text import Tokenizer\n",
    "from keras.preprocessing.sequence import pad_sequences\n",
    "from keras.utils import to_categorical\n",
    "from keras.models import Sequential, load_model\n",
    "from keras.layers import Dense, LSTM, Bidirectional, Embedding, Dropout\n",
    "from keras.callbacks import ModelCheckpoint\n",
    "\n"
   ]
  },
  {
   "cell_type": "code",
   "execution_count": 44,
   "metadata": {},
   "outputs": [],
   "source": [
    "def load_dataset(filename):\n",
    "    df = pd.read_csv(filename, encoding = \"latin1\", names = [\"Sentence\", \"Intent\"])\n",
    "    print(df.head())\n",
    "    intent = df[\"Intent\"]\n",
    "    unique_intent = list(set(intent))\n",
    "    sentences = list(df[\"Sentence\"])\n",
    "  \n",
    "    return (intent, unique_intent, sentences)\n",
    "  \n"
   ]
  },
  {
   "cell_type": "code",
   "execution_count": 45,
   "metadata": {},
   "outputs": [
    {
     "name": "stdout",
     "output_type": "stream",
     "text": [
      "                   Sentence  Intent\n",
      "0              Order please   order\n",
      "1      Ship this item to me   order\n",
      "2  Can I order that please?   order\n",
      "3        Where is the help?  common\n",
      "4           Purchase <Item>   order\n"
     ]
    }
   ],
   "source": [
    "intent, unique_intent, sentences = load_dataset(\"data.csv\")"
   ]
  },
  {
   "cell_type": "code",
   "execution_count": 46,
   "metadata": {},
   "outputs": [
    {
     "name": "stdout",
     "output_type": "stream",
     "text": [
      "Are you out of <item>?\n",
      "['balance', 'order', 'price', 'common']\n"
     ]
    }
   ],
   "source": [
    "print(sentences[35])\n",
    "print(unique_intent)\n"
   ]
  },
  {
   "cell_type": "code",
   "execution_count": 47,
   "metadata": {},
   "outputs": [
    {
     "name": "stderr",
     "output_type": "stream",
     "text": [
      "[nltk_data] Downloading package stopwords to\n",
      "[nltk_data]     /Users/maxlengdell/nltk_data...\n",
      "[nltk_data]   Package stopwords is already up-to-date!\n",
      "[nltk_data] Downloading package punkt to\n",
      "[nltk_data]     /Users/maxlengdell/nltk_data...\n",
      "[nltk_data]   Package punkt is already up-to-date!\n"
     ]
    },
    {
     "data": {
      "text/plain": [
       "True"
      ]
     },
     "execution_count": 47,
     "metadata": {},
     "output_type": "execute_result"
    }
   ],
   "source": [
    "nltk.download(\"stopwords\")\n",
    "nltk.download(\"punkt\")"
   ]
  },
  {
   "cell_type": "code",
   "execution_count": 48,
   "metadata": {},
   "outputs": [],
   "source": [
    "#define stemmer\n",
    "stemmer = LancasterStemmer()"
   ]
  },
  {
   "cell_type": "code",
   "execution_count": 49,
   "metadata": {},
   "outputs": [],
   "source": [
    "def cleaning(sentences):\n",
    "    words = []\n",
    "    for s in sentences:\n",
    "        clean = re.sub(r'[^ a-z A-Z 0-9]', \" \", s)\n",
    "        w = word_tokenize(clean)\n",
    "        #stemming\n",
    "        words.append([i.lower() for i in w])\n",
    "    \n",
    "    return words  "
   ]
  },
  {
   "cell_type": "code",
   "execution_count": 50,
   "metadata": {},
   "outputs": [
    {
     "name": "stdout",
     "output_type": "stream",
     "text": [
      "237\n",
      "[['order', 'please'], ['ship', 'this', 'item', 'to', 'me']]\n"
     ]
    }
   ],
   "source": [
    "cleaned_words = cleaning(sentences)\n",
    "print(len(cleaned_words))\n",
    "print(cleaned_words[:2])  \n",
    "  \n"
   ]
  },
  {
   "cell_type": "code",
   "execution_count": 51,
   "metadata": {},
   "outputs": [],
   "source": [
    "def create_tokenizer(words, filters = '!\"#$%&()*+,-./:;<=>?@[\\]^_`{|}~'):\n",
    "    token = Tokenizer(filters = filters)\n",
    "    token.fit_on_texts(words)\n",
    "    print(token)\n",
    "    return token"
   ]
  },
  {
   "cell_type": "code",
   "execution_count": 52,
   "metadata": {},
   "outputs": [],
   "source": [
    "def max_length(words):\n",
    "    return(len(max(words, key = len)))\n",
    "  "
   ]
  },
  {
   "cell_type": "code",
   "execution_count": 53,
   "metadata": {},
   "outputs": [
    {
     "name": "stdout",
     "output_type": "stream",
     "text": [
      "<keras_preprocessing.text.Tokenizer object at 0x7fc3740fbc88>\n",
      "Vocab Size = 144 and Maximum length = 9\n"
     ]
    }
   ],
   "source": [
    "word_tokenizer = create_tokenizer(cleaned_words)\n",
    "vocab_size = len(word_tokenizer.word_index) + 1\n",
    "max_length = max_length(cleaned_words)\n",
    "\n",
    "print(\"Vocab Size = %d and Maximum length = %d\" % (vocab_size, max_length))"
   ]
  },
  {
   "cell_type": "code",
   "execution_count": 54,
   "metadata": {},
   "outputs": [],
   "source": [
    "def encoding_doc(token, words):\n",
    "    return(token.texts_to_sequences(words))"
   ]
  },
  {
   "cell_type": "code",
   "execution_count": 55,
   "metadata": {},
   "outputs": [],
   "source": [
    "encoded_doc = encoding_doc(word_tokenizer, cleaned_words)\n",
    "#print(encoded_doc)"
   ]
  },
  {
   "cell_type": "code",
   "execution_count": 56,
   "metadata": {},
   "outputs": [],
   "source": [
    "def padding_doc(encoded_doc, max_length):\n",
    "    return(pad_sequences(encoded_doc, maxlen = max_length, padding = \"post\"))"
   ]
  },
  {
   "cell_type": "code",
   "execution_count": 57,
   "metadata": {},
   "outputs": [],
   "source": [
    "padded_doc = padding_doc(encoded_doc, max_length)"
   ]
  },
  {
   "cell_type": "code",
   "execution_count": 58,
   "metadata": {},
   "outputs": [
    {
     "data": {
      "text/plain": [
       "array([[12, 28,  0,  0,  0,  0,  0,  0,  0],\n",
       "       [97,  7,  1, 21,  9,  0,  0,  0,  0],\n",
       "       [25,  2, 12, 46, 28,  0,  0,  0,  0],\n",
       "       [55,  3, 13, 31,  0,  0,  0,  0,  0],\n",
       "       [33,  1,  0,  0,  0,  0,  0,  0,  0]], dtype=int32)"
      ]
     },
     "execution_count": 58,
     "metadata": {},
     "output_type": "execute_result"
    }
   ],
   "source": [
    "padded_doc[:5]"
   ]
  },
  {
   "cell_type": "code",
   "execution_count": 59,
   "metadata": {},
   "outputs": [
    {
     "name": "stdout",
     "output_type": "stream",
     "text": [
      "Shape of padded docs =  (237, 9)\n"
     ]
    }
   ],
   "source": [
    "print(\"Shape of padded docs = \",padded_doc.shape)"
   ]
  },
  {
   "cell_type": "code",
   "execution_count": 60,
   "metadata": {},
   "outputs": [
    {
     "name": "stdout",
     "output_type": "stream",
     "text": [
      "<keras_preprocessing.text.Tokenizer object at 0x7fc3740960f0>\n"
     ]
    }
   ],
   "source": [
    "#tokenizer with filter changed\n",
    "output_tokenizer = create_tokenizer(unique_intent, filters = '!\"#$%&()*+,-/:;<=>?@[\\]^`{|}~')\n"
   ]
  },
  {
   "cell_type": "code",
   "execution_count": 61,
   "metadata": {},
   "outputs": [
    {
     "data": {
      "text/plain": [
       "{'balance': 1, 'order': 2, 'price': 3, 'common': 4}"
      ]
     },
     "execution_count": 61,
     "metadata": {},
     "output_type": "execute_result"
    }
   ],
   "source": [
    "output_tokenizer.word_index"
   ]
  },
  {
   "cell_type": "code",
   "execution_count": 62,
   "metadata": {},
   "outputs": [],
   "source": [
    "encoded_output = encoding_doc(output_tokenizer, intent)"
   ]
  },
  {
   "cell_type": "code",
   "execution_count": 63,
   "metadata": {},
   "outputs": [],
   "source": [
    "encoded_output = np.array(encoded_output).reshape(len(encoded_output), 1)"
   ]
  },
  {
   "cell_type": "code",
   "execution_count": 64,
   "metadata": {},
   "outputs": [
    {
     "data": {
      "text/plain": [
       "(237, 1)"
      ]
     },
     "execution_count": 64,
     "metadata": {},
     "output_type": "execute_result"
    }
   ],
   "source": [
    "encoded_output.shape"
   ]
  },
  {
   "cell_type": "code",
   "execution_count": 65,
   "metadata": {},
   "outputs": [],
   "source": [
    "def one_hot(encode):\n",
    "    o = OneHotEncoder(sparse = False)\n",
    "    return(o.fit_transform(encode))"
   ]
  },
  {
   "cell_type": "code",
   "execution_count": 66,
   "metadata": {},
   "outputs": [],
   "source": [
    "output_one_hot = one_hot(encoded_output)"
   ]
  },
  {
   "cell_type": "code",
   "execution_count": 67,
   "metadata": {},
   "outputs": [
    {
     "data": {
      "text/plain": [
       "(237, 4)"
      ]
     },
     "execution_count": 67,
     "metadata": {},
     "output_type": "execute_result"
    }
   ],
   "source": [
    "output_one_hot.shape"
   ]
  },
  {
   "cell_type": "code",
   "execution_count": 68,
   "metadata": {},
   "outputs": [],
   "source": [
    "from sklearn.model_selection import train_test_split"
   ]
  },
  {
   "cell_type": "code",
   "execution_count": 69,
   "metadata": {},
   "outputs": [],
   "source": [
    "train_X, val_X, train_Y, val_Y = train_test_split(padded_doc, output_one_hot, shuffle = True, test_size = 0.2)\n"
   ]
  },
  {
   "cell_type": "code",
   "execution_count": 70,
   "metadata": {},
   "outputs": [
    {
     "name": "stdout",
     "output_type": "stream",
     "text": [
      "Shape of train_X = (189, 9) and train_Y = (189, 4)\n",
      "Shape of val_X = (48, 9) and val_Y = (48, 4)\n"
     ]
    }
   ],
   "source": [
    "print(\"Shape of train_X = %s and train_Y = %s\" % (train_X.shape, train_Y.shape))\n",
    "print(\"Shape of val_X = %s and val_Y = %s\" % (val_X.shape, val_Y.shape))"
   ]
  },
  {
   "cell_type": "code",
   "execution_count": 71,
   "metadata": {},
   "outputs": [],
   "source": [
    "def create_model(vocab_size, max_length):\n",
    "    model = Sequential()\n",
    "    model.add(Embedding(vocab_size, 128, input_length = max_length, trainable = True))\n",
    "    model.add(Bidirectional(LSTM(128)))\n",
    "#   model.add(LSTM(128))\n",
    "    model.add(Dense(32, activation = \"relu\"))\n",
    "    model.add(Dropout(0.5))\n",
    "    model.add(Dense(4, activation = \"softmax\"))\n",
    "  \n",
    "    return model\n",
    "\n",
    "\n",
    "\n"
   ]
  },
  {
   "cell_type": "code",
   "execution_count": 72,
   "metadata": {},
   "outputs": [
    {
     "name": "stdout",
     "output_type": "stream",
     "text": [
      "Model: \"sequential_2\"\n",
      "_________________________________________________________________\n",
      "Layer (type)                 Output Shape              Param #   \n",
      "=================================================================\n",
      "embedding_2 (Embedding)      (None, 9, 128)            18432     \n",
      "_________________________________________________________________\n",
      "bidirectional_2 (Bidirection (None, 256)               263168    \n",
      "_________________________________________________________________\n",
      "dense_3 (Dense)              (None, 32)                8224      \n",
      "_________________________________________________________________\n",
      "dropout_2 (Dropout)          (None, 32)                0         \n",
      "_________________________________________________________________\n",
      "dense_4 (Dense)              (None, 4)                 132       \n",
      "=================================================================\n",
      "Total params: 289,956\n",
      "Trainable params: 289,956\n",
      "Non-trainable params: 0\n",
      "_________________________________________________________________\n"
     ]
    }
   ],
   "source": [
    "model = create_model(vocab_size, max_length)\n",
    "\n",
    "model.compile(loss = \"categorical_crossentropy\", optimizer = \"adam\", metrics = [\"accuracy\"])\n",
    "model.summary()"
   ]
  },
  {
   "cell_type": "code",
   "execution_count": null,
   "metadata": {},
   "outputs": [
    {
     "name": "stdout",
     "output_type": "stream",
     "text": [
      "Train on 189 samples, validate on 48 samples\n",
      "Epoch 1/200\n",
      "189/189 [==============================] - 4s 22ms/step - loss: 0.0570 - accuracy: 0.9947 - val_loss: 0.4457 - val_accuracy: 0.9167\n",
      "\n",
      "Epoch 00001: val_loss improved from inf to 0.44574, saving model to model.h5\n",
      "Epoch 2/200\n",
      "189/189 [==============================] - 0s 1ms/step - loss: 0.0792 - accuracy: 0.9788 - val_loss: 0.4713 - val_accuracy: 0.9167\n",
      "\n",
      "Epoch 00002: val_loss did not improve from 0.44574\n",
      "Epoch 3/200\n",
      "189/189 [==============================] - 0s 1ms/step - loss: 0.0576 - accuracy: 0.9841 - val_loss: 0.4422 - val_accuracy: 0.9375\n",
      "\n",
      "Epoch 00003: val_loss improved from 0.44574 to 0.44223, saving model to model.h5\n",
      "Epoch 4/200\n",
      "189/189 [==============================] - 0s 1ms/step - loss: 0.1603 - accuracy: 0.9683 - val_loss: 0.3216 - val_accuracy: 0.9375\n",
      "\n",
      "Epoch 00004: val_loss improved from 0.44223 to 0.32164, saving model to model.h5\n",
      "Epoch 5/200\n",
      "189/189 [==============================] - 0s 1ms/step - loss: 0.0513 - accuracy: 0.9841 - val_loss: 0.2882 - val_accuracy: 0.9375\n",
      "\n",
      "Epoch 00005: val_loss improved from 0.32164 to 0.28822, saving model to model.h5\n",
      "Epoch 6/200\n",
      "189/189 [==============================] - 0s 1ms/step - loss: 0.0342 - accuracy: 0.9947 - val_loss: 0.4072 - val_accuracy: 0.9167\n",
      "\n",
      "Epoch 00006: val_loss did not improve from 0.28822\n",
      "Epoch 7/200\n",
      "189/189 [==============================] - 0s 1ms/step - loss: 0.0576 - accuracy: 0.9788 - val_loss: 0.4664 - val_accuracy: 0.8958\n",
      "\n",
      "Epoch 00007: val_loss did not improve from 0.28822\n",
      "Epoch 8/200\n",
      "189/189 [==============================] - 0s 1ms/step - loss: 0.0657 - accuracy: 0.9630 - val_loss: 0.2401 - val_accuracy: 0.9167\n",
      "\n",
      "Epoch 00008: val_loss improved from 0.28822 to 0.24012, saving model to model.h5\n",
      "Epoch 9/200\n",
      "189/189 [==============================] - 0s 1ms/step - loss: 0.0380 - accuracy: 0.9947 - val_loss: 0.2407 - val_accuracy: 0.9375\n",
      "\n",
      "Epoch 00009: val_loss did not improve from 0.24012\n",
      "Epoch 10/200\n",
      "189/189 [==============================] - 0s 2ms/step - loss: 0.0316 - accuracy: 0.9894 - val_loss: 0.5089 - val_accuracy: 0.9167\n",
      "\n",
      "Epoch 00010: val_loss did not improve from 0.24012\n",
      "Epoch 11/200\n",
      "189/189 [==============================] - 0s 1ms/step - loss: 0.0948 - accuracy: 0.9683 - val_loss: 0.3560 - val_accuracy: 0.9375\n",
      "\n",
      "Epoch 00011: val_loss did not improve from 0.24012\n",
      "Epoch 12/200\n",
      "189/189 [==============================] - 0s 1ms/step - loss: 0.0236 - accuracy: 0.9947 - val_loss: 0.3112 - val_accuracy: 0.9167\n",
      "\n",
      "Epoch 00012: val_loss did not improve from 0.24012\n",
      "Epoch 13/200\n",
      "189/189 [==============================] - 0s 1ms/step - loss: 0.0286 - accuracy: 0.9894 - val_loss: 0.3607 - val_accuracy: 0.9167\n",
      "\n",
      "Epoch 00013: val_loss did not improve from 0.24012\n",
      "Epoch 14/200\n",
      "189/189 [==============================] - 0s 1ms/step - loss: 0.0263 - accuracy: 0.9947 - val_loss: 0.4067 - val_accuracy: 0.9167\n",
      "\n",
      "Epoch 00014: val_loss did not improve from 0.24012\n",
      "Epoch 15/200\n",
      "189/189 [==============================] - 0s 1ms/step - loss: 0.0126 - accuracy: 1.0000 - val_loss: 0.4513 - val_accuracy: 0.9167\n",
      "\n",
      "Epoch 00015: val_loss did not improve from 0.24012\n",
      "Epoch 16/200\n",
      "189/189 [==============================] - 0s 1ms/step - loss: 0.0253 - accuracy: 0.9894 - val_loss: 0.4820 - val_accuracy: 0.9167\n",
      "\n",
      "Epoch 00016: val_loss did not improve from 0.24012\n",
      "Epoch 17/200\n",
      "189/189 [==============================] - 0s 1ms/step - loss: 0.0145 - accuracy: 1.0000 - val_loss: 0.4983 - val_accuracy: 0.9167\n",
      "\n",
      "Epoch 00017: val_loss did not improve from 0.24012\n",
      "Epoch 18/200\n",
      "189/189 [==============================] - 0s 1ms/step - loss: 0.0326 - accuracy: 0.9894 - val_loss: 0.5192 - val_accuracy: 0.9167\n",
      "\n",
      "Epoch 00018: val_loss did not improve from 0.24012\n",
      "Epoch 19/200\n",
      "189/189 [==============================] - 0s 1ms/step - loss: 0.0103 - accuracy: 1.0000 - val_loss: 0.5598 - val_accuracy: 0.9375\n",
      "\n",
      "Epoch 00019: val_loss did not improve from 0.24012\n",
      "Epoch 20/200\n",
      "189/189 [==============================] - 0s 1ms/step - loss: 0.0156 - accuracy: 0.9947 - val_loss: 0.5962 - val_accuracy: 0.9167\n",
      "\n",
      "Epoch 00020: val_loss did not improve from 0.24012\n",
      "Epoch 21/200\n",
      "189/189 [==============================] - 0s 1ms/step - loss: 0.0279 - accuracy: 0.9841 - val_loss: 0.6083 - val_accuracy: 0.9167\n",
      "\n",
      "Epoch 00021: val_loss did not improve from 0.24012\n",
      "Epoch 22/200\n",
      "189/189 [==============================] - 0s 1ms/step - loss: 0.0413 - accuracy: 0.9788 - val_loss: 0.6159 - val_accuracy: 0.9167\n",
      "\n",
      "Epoch 00022: val_loss did not improve from 0.24012\n",
      "Epoch 23/200\n",
      "189/189 [==============================] - 0s 1ms/step - loss: 0.0362 - accuracy: 0.9841 - val_loss: 0.6184 - val_accuracy: 0.9375\n",
      "\n",
      "Epoch 00023: val_loss did not improve from 0.24012\n",
      "Epoch 24/200\n",
      "189/189 [==============================] - 0s 2ms/step - loss: 0.0144 - accuracy: 0.9947 - val_loss: 0.6252 - val_accuracy: 0.9375\n",
      "\n",
      "Epoch 00024: val_loss did not improve from 0.24012\n",
      "Epoch 25/200\n",
      "189/189 [==============================] - 0s 2ms/step - loss: 0.0047 - accuracy: 1.0000 - val_loss: 0.6334 - val_accuracy: 0.9375\n",
      "\n",
      "Epoch 00025: val_loss did not improve from 0.24012\n",
      "Epoch 26/200\n",
      "189/189 [==============================] - 0s 2ms/step - loss: 0.0160 - accuracy: 0.9947 - val_loss: 0.6489 - val_accuracy: 0.9167\n",
      "\n",
      "Epoch 00026: val_loss did not improve from 0.24012\n",
      "Epoch 27/200\n",
      "189/189 [==============================] - 0s 2ms/step - loss: 0.0082 - accuracy: 0.9947 - val_loss: 0.6647 - val_accuracy: 0.9167\n",
      "\n",
      "Epoch 00027: val_loss did not improve from 0.24012\n",
      "Epoch 28/200\n",
      "189/189 [==============================] - 0s 2ms/step - loss: 0.0051 - accuracy: 1.0000 - val_loss: 0.6663 - val_accuracy: 0.9167\n",
      "\n",
      "Epoch 00028: val_loss did not improve from 0.24012\n",
      "Epoch 29/200\n",
      "189/189 [==============================] - 0s 2ms/step - loss: 0.0178 - accuracy: 0.9894 - val_loss: 0.6874 - val_accuracy: 0.9167\n",
      "\n",
      "Epoch 00029: val_loss did not improve from 0.24012\n",
      "Epoch 30/200\n",
      "189/189 [==============================] - 0s 2ms/step - loss: 0.0201 - accuracy: 0.9947 - val_loss: 0.7048 - val_accuracy: 0.9167\n",
      "\n",
      "Epoch 00030: val_loss did not improve from 0.24012\n",
      "Epoch 31/200\n",
      "189/189 [==============================] - 0s 2ms/step - loss: 0.0149 - accuracy: 0.9894 - val_loss: 0.7165 - val_accuracy: 0.9167\n",
      "\n",
      "Epoch 00031: val_loss did not improve from 0.24012\n",
      "Epoch 32/200\n",
      "189/189 [==============================] - 0s 2ms/step - loss: 0.0152 - accuracy: 0.9894 - val_loss: 0.7329 - val_accuracy: 0.9167\n",
      "\n",
      "Epoch 00032: val_loss did not improve from 0.24012\n",
      "Epoch 33/200\n",
      "189/189 [==============================] - 0s 2ms/step - loss: 0.0118 - accuracy: 0.9947 - val_loss: 0.7474 - val_accuracy: 0.9167\n",
      "\n",
      "Epoch 00033: val_loss did not improve from 0.24012\n",
      "Epoch 34/200\n",
      "189/189 [==============================] - 0s 2ms/step - loss: 0.0171 - accuracy: 0.9947 - val_loss: 0.7348 - val_accuracy: 0.9167\n",
      "\n",
      "Epoch 00034: val_loss did not improve from 0.24012\n",
      "Epoch 35/200\n",
      "189/189 [==============================] - 0s 2ms/step - loss: 0.0127 - accuracy: 0.9947 - val_loss: 0.7248 - val_accuracy: 0.9167\n",
      "\n",
      "Epoch 00035: val_loss did not improve from 0.24012\n",
      "Epoch 36/200\n",
      "189/189 [==============================] - 0s 2ms/step - loss: 0.0173 - accuracy: 0.9947 - val_loss: 0.7396 - val_accuracy: 0.9167\n",
      "\n",
      "Epoch 00036: val_loss did not improve from 0.24012\n",
      "Epoch 37/200\n",
      "189/189 [==============================] - 0s 2ms/step - loss: 0.0368 - accuracy: 0.9841 - val_loss: 0.7419 - val_accuracy: 0.9167\n",
      "\n",
      "Epoch 00037: val_loss did not improve from 0.24012\n",
      "Epoch 38/200\n",
      "189/189 [==============================] - 0s 2ms/step - loss: 0.0186 - accuracy: 0.9947 - val_loss: 0.7681 - val_accuracy: 0.8958\n",
      "\n",
      "Epoch 00038: val_loss did not improve from 0.24012\n",
      "Epoch 39/200\n",
      "189/189 [==============================] - 0s 2ms/step - loss: 0.0223 - accuracy: 0.9947 - val_loss: 0.7582 - val_accuracy: 0.9167\n",
      "\n",
      "Epoch 00039: val_loss did not improve from 0.24012\n",
      "Epoch 40/200\n",
      "189/189 [==============================] - 0s 2ms/step - loss: 0.0346 - accuracy: 0.9683 - val_loss: 0.7805 - val_accuracy: 0.9167\n",
      "\n",
      "Epoch 00040: val_loss did not improve from 0.24012\n",
      "Epoch 41/200\n",
      "189/189 [==============================] - 0s 2ms/step - loss: 0.0161 - accuracy: 0.9947 - val_loss: 0.8677 - val_accuracy: 0.8958\n",
      "\n",
      "Epoch 00041: val_loss did not improve from 0.24012\n",
      "Epoch 42/200\n"
     ]
    },
    {
     "name": "stdout",
     "output_type": "stream",
     "text": [
      "189/189 [==============================] - 0s 2ms/step - loss: 0.0139 - accuracy: 1.0000 - val_loss: 0.9017 - val_accuracy: 0.8958\n",
      "\n",
      "Epoch 00042: val_loss did not improve from 0.24012\n",
      "Epoch 43/200\n",
      "189/189 [==============================] - 0s 1ms/step - loss: 0.0129 - accuracy: 0.9894 - val_loss: 0.9142 - val_accuracy: 0.8958\n",
      "\n",
      "Epoch 00043: val_loss did not improve from 0.24012\n",
      "Epoch 44/200\n",
      "189/189 [==============================] - 0s 2ms/step - loss: 0.0076 - accuracy: 0.9947 - val_loss: 0.9060 - val_accuracy: 0.8958\n",
      "\n",
      "Epoch 00044: val_loss did not improve from 0.24012\n",
      "Epoch 45/200\n",
      "189/189 [==============================] - 0s 2ms/step - loss: 0.0127 - accuracy: 0.9947 - val_loss: 0.9064 - val_accuracy: 0.8958\n",
      "\n",
      "Epoch 00045: val_loss did not improve from 0.24012\n",
      "Epoch 46/200\n",
      "189/189 [==============================] - 0s 2ms/step - loss: 0.0177 - accuracy: 0.9947 - val_loss: 0.9080 - val_accuracy: 0.8958\n",
      "\n",
      "Epoch 00046: val_loss did not improve from 0.24012\n",
      "Epoch 47/200\n",
      "189/189 [==============================] - 0s 2ms/step - loss: 0.0092 - accuracy: 0.9947 - val_loss: 0.9123 - val_accuracy: 0.8958\n",
      "\n",
      "Epoch 00047: val_loss did not improve from 0.24012\n",
      "Epoch 48/200\n",
      "189/189 [==============================] - 0s 2ms/step - loss: 0.0106 - accuracy: 0.9947 - val_loss: 0.8919 - val_accuracy: 0.8958\n",
      "\n",
      "Epoch 00048: val_loss did not improve from 0.24012\n",
      "Epoch 49/200\n",
      "189/189 [==============================] - 0s 2ms/step - loss: 0.0220 - accuracy: 0.9947 - val_loss: 0.8618 - val_accuracy: 0.9167\n",
      "\n",
      "Epoch 00049: val_loss did not improve from 0.24012\n",
      "Epoch 50/200\n",
      "189/189 [==============================] - 0s 2ms/step - loss: 0.0168 - accuracy: 0.9947 - val_loss: 0.8650 - val_accuracy: 0.9167\n",
      "\n",
      "Epoch 00050: val_loss did not improve from 0.24012\n",
      "Epoch 51/200\n",
      "189/189 [==============================] - 0s 1ms/step - loss: 0.0385 - accuracy: 0.9841 - val_loss: 0.8465 - val_accuracy: 0.9167\n",
      "\n",
      "Epoch 00051: val_loss did not improve from 0.24012\n",
      "Epoch 52/200\n",
      "189/189 [==============================] - 0s 2ms/step - loss: 0.0073 - accuracy: 0.9947 - val_loss: 0.7946 - val_accuracy: 0.9167\n",
      "\n",
      "Epoch 00052: val_loss did not improve from 0.24012\n",
      "Epoch 53/200\n",
      "189/189 [==============================] - 1s 3ms/step - loss: 0.0080 - accuracy: 1.0000 - val_loss: 0.7852 - val_accuracy: 0.9167\n",
      "\n",
      "Epoch 00053: val_loss did not improve from 0.24012\n",
      "Epoch 54/200\n",
      "189/189 [==============================] - 0s 2ms/step - loss: 0.0064 - accuracy: 1.0000 - val_loss: 0.7847 - val_accuracy: 0.9167\n",
      "\n",
      "Epoch 00054: val_loss did not improve from 0.24012\n",
      "Epoch 55/200\n",
      "189/189 [==============================] - 0s 2ms/step - loss: 0.0048 - accuracy: 1.0000 - val_loss: 0.7748 - val_accuracy: 0.9167\n",
      "\n",
      "Epoch 00055: val_loss did not improve from 0.24012\n",
      "Epoch 56/200\n",
      "189/189 [==============================] - 0s 2ms/step - loss: 0.0098 - accuracy: 0.9947 - val_loss: 0.7788 - val_accuracy: 0.9167\n",
      "\n",
      "Epoch 00056: val_loss did not improve from 0.24012\n",
      "Epoch 57/200\n",
      "189/189 [==============================] - 0s 2ms/step - loss: 0.0158 - accuracy: 0.9947 - val_loss: 0.7933 - val_accuracy: 0.9167\n",
      "\n",
      "Epoch 00057: val_loss did not improve from 0.24012\n",
      "Epoch 58/200\n",
      "189/189 [==============================] - 0s 2ms/step - loss: 0.0047 - accuracy: 1.0000 - val_loss: 0.8136 - val_accuracy: 0.9167\n",
      "\n",
      "Epoch 00058: val_loss did not improve from 0.24012\n",
      "Epoch 59/200\n",
      "189/189 [==============================] - 0s 2ms/step - loss: 0.0038 - accuracy: 1.0000 - val_loss: 0.8306 - val_accuracy: 0.9167\n",
      "\n",
      "Epoch 00059: val_loss did not improve from 0.24012\n",
      "Epoch 60/200\n",
      "189/189 [==============================] - 0s 2ms/step - loss: 0.0032 - accuracy: 1.0000 - val_loss: 0.8534 - val_accuracy: 0.8958\n",
      "\n",
      "Epoch 00060: val_loss did not improve from 0.24012\n",
      "Epoch 61/200\n",
      "189/189 [==============================] - 0s 2ms/step - loss: 0.0085 - accuracy: 0.9947 - val_loss: 0.8836 - val_accuracy: 0.8958\n",
      "\n",
      "Epoch 00061: val_loss did not improve from 0.24012\n",
      "Epoch 62/200\n",
      "189/189 [==============================] - 0s 2ms/step - loss: 0.0095 - accuracy: 0.9947 - val_loss: 0.8874 - val_accuracy: 0.8958\n",
      "\n",
      "Epoch 00062: val_loss did not improve from 0.24012\n",
      "Epoch 63/200\n",
      "189/189 [==============================] - 0s 2ms/step - loss: 0.0080 - accuracy: 0.9947 - val_loss: 0.8677 - val_accuracy: 0.8958\n",
      "\n",
      "Epoch 00063: val_loss did not improve from 0.24012\n",
      "Epoch 64/200\n",
      "189/189 [==============================] - 0s 2ms/step - loss: 0.0233 - accuracy: 0.9841 - val_loss: 0.8478 - val_accuracy: 0.9167\n",
      "\n",
      "Epoch 00064: val_loss did not improve from 0.24012\n",
      "Epoch 65/200\n",
      "189/189 [==============================] - 0s 2ms/step - loss: 0.0037 - accuracy: 1.0000 - val_loss: 0.8414 - val_accuracy: 0.9167\n",
      "\n",
      "Epoch 00065: val_loss did not improve from 0.24012\n",
      "Epoch 66/200\n",
      "189/189 [==============================] - 0s 2ms/step - loss: 0.0139 - accuracy: 0.9947 - val_loss: 0.8404 - val_accuracy: 0.9167\n",
      "\n",
      "Epoch 00066: val_loss did not improve from 0.24012\n",
      "Epoch 67/200\n",
      "189/189 [==============================] - 0s 2ms/step - loss: 0.0027 - accuracy: 1.0000 - val_loss: 0.8426 - val_accuracy: 0.9375\n",
      "\n",
      "Epoch 00067: val_loss did not improve from 0.24012\n",
      "Epoch 68/200\n",
      "189/189 [==============================] - 0s 2ms/step - loss: 0.0196 - accuracy: 0.9894 - val_loss: 0.8776 - val_accuracy: 0.9167\n",
      "\n",
      "Epoch 00068: val_loss did not improve from 0.24012\n",
      "Epoch 69/200\n",
      "189/189 [==============================] - 0s 2ms/step - loss: 0.0051 - accuracy: 0.9947 - val_loss: 0.9050 - val_accuracy: 0.9167\n",
      "\n",
      "Epoch 00069: val_loss did not improve from 0.24012\n",
      "Epoch 70/200\n",
      "189/189 [==============================] - 0s 2ms/step - loss: 0.0057 - accuracy: 0.9947 - val_loss: 0.9168 - val_accuracy: 0.9167\n",
      "\n",
      "Epoch 00070: val_loss did not improve from 0.24012\n",
      "Epoch 71/200\n",
      "189/189 [==============================] - 0s 2ms/step - loss: 0.0100 - accuracy: 0.9947 - val_loss: 0.9224 - val_accuracy: 0.9375\n",
      "\n",
      "Epoch 00071: val_loss did not improve from 0.24012\n",
      "Epoch 72/200\n",
      "189/189 [==============================] - 0s 2ms/step - loss: 0.0037 - accuracy: 1.0000 - val_loss: 0.9238 - val_accuracy: 0.9167\n",
      "\n",
      "Epoch 00072: val_loss did not improve from 0.24012\n",
      "Epoch 73/200\n",
      "189/189 [==============================] - 0s 2ms/step - loss: 7.9289e-04 - accuracy: 1.0000 - val_loss: 0.9310 - val_accuracy: 0.9167\n",
      "\n",
      "Epoch 00073: val_loss did not improve from 0.24012\n",
      "Epoch 74/200\n",
      "189/189 [==============================] - 0s 2ms/step - loss: 0.0141 - accuracy: 0.9894 - val_loss: 0.9364 - val_accuracy: 0.9167\n",
      "\n",
      "Epoch 00074: val_loss did not improve from 0.24012\n",
      "Epoch 75/200\n",
      "189/189 [==============================] - 0s 2ms/step - loss: 0.0118 - accuracy: 0.9947 - val_loss: 0.9369 - val_accuracy: 0.9167\n",
      "\n",
      "Epoch 00075: val_loss did not improve from 0.24012\n",
      "Epoch 76/200\n",
      "189/189 [==============================] - 0s 2ms/step - loss: 0.0069 - accuracy: 0.9947 - val_loss: 0.9372 - val_accuracy: 0.9167\n",
      "\n",
      "Epoch 00076: val_loss did not improve from 0.24012\n",
      "Epoch 77/200\n",
      "189/189 [==============================] - 0s 2ms/step - loss: 0.0030 - accuracy: 1.0000 - val_loss: 0.9524 - val_accuracy: 0.9167\n",
      "\n",
      "Epoch 00077: val_loss did not improve from 0.24012\n",
      "Epoch 78/200\n",
      "189/189 [==============================] - 0s 2ms/step - loss: 0.0213 - accuracy: 0.9841 - val_loss: 0.9600 - val_accuracy: 0.9167\n",
      "\n",
      "Epoch 00078: val_loss did not improve from 0.24012\n",
      "Epoch 79/200\n",
      "189/189 [==============================] - 0s 2ms/step - loss: 0.0066 - accuracy: 0.9947 - val_loss: 0.9703 - val_accuracy: 0.9167\n",
      "\n",
      "Epoch 00079: val_loss did not improve from 0.24012\n",
      "Epoch 80/200\n",
      "189/189 [==============================] - 0s 2ms/step - loss: 0.0034 - accuracy: 1.0000 - val_loss: 0.9787 - val_accuracy: 0.9167\n",
      "\n",
      "Epoch 00080: val_loss did not improve from 0.24012\n",
      "Epoch 81/200\n",
      "189/189 [==============================] - 0s 2ms/step - loss: 0.0065 - accuracy: 0.9947 - val_loss: 0.9755 - val_accuracy: 0.9167\n",
      "\n",
      "Epoch 00081: val_loss did not improve from 0.24012\n",
      "Epoch 82/200\n",
      "189/189 [==============================] - 0s 2ms/step - loss: 0.0147 - accuracy: 0.9894 - val_loss: 0.9781 - val_accuracy: 0.9167\n",
      "\n",
      "Epoch 00082: val_loss did not improve from 0.24012\n",
      "Epoch 83/200\n",
      "189/189 [==============================] - 0s 2ms/step - loss: 0.0055 - accuracy: 0.9947 - val_loss: 0.9772 - val_accuracy: 0.9167\n",
      "\n",
      "Epoch 00083: val_loss did not improve from 0.24012\n",
      "Epoch 84/200\n"
     ]
    },
    {
     "name": "stdout",
     "output_type": "stream",
     "text": [
      "189/189 [==============================] - 0s 2ms/step - loss: 0.0173 - accuracy: 0.9894 - val_loss: 0.9850 - val_accuracy: 0.9167\n",
      "\n",
      "Epoch 00084: val_loss did not improve from 0.24012\n",
      "Epoch 85/200\n",
      "189/189 [==============================] - 0s 2ms/step - loss: 0.0020 - accuracy: 1.0000 - val_loss: 0.9962 - val_accuracy: 0.9167\n",
      "\n",
      "Epoch 00085: val_loss did not improve from 0.24012\n",
      "Epoch 86/200\n",
      "189/189 [==============================] - 0s 2ms/step - loss: 0.0086 - accuracy: 0.9947 - val_loss: 0.9916 - val_accuracy: 0.9167\n",
      "\n",
      "Epoch 00086: val_loss did not improve from 0.24012\n",
      "Epoch 87/200\n",
      "189/189 [==============================] - 0s 2ms/step - loss: 0.0092 - accuracy: 1.0000 - val_loss: 0.9946 - val_accuracy: 0.9167\n",
      "\n",
      "Epoch 00087: val_loss did not improve from 0.24012\n",
      "Epoch 88/200\n",
      "189/189 [==============================] - 0s 2ms/step - loss: 0.0165 - accuracy: 0.9894 - val_loss: 1.0118 - val_accuracy: 0.9167\n",
      "\n",
      "Epoch 00088: val_loss did not improve from 0.24012\n",
      "Epoch 89/200\n",
      "189/189 [==============================] - 0s 2ms/step - loss: 0.0189 - accuracy: 0.9841 - val_loss: 1.1621 - val_accuracy: 0.9167\n",
      "\n",
      "Epoch 00089: val_loss did not improve from 0.24012\n",
      "Epoch 90/200\n",
      "189/189 [==============================] - 0s 2ms/step - loss: 0.0060 - accuracy: 1.0000 - val_loss: 1.2610 - val_accuracy: 0.8958\n",
      "\n",
      "Epoch 00090: val_loss did not improve from 0.24012\n",
      "Epoch 91/200\n",
      "189/189 [==============================] - 0s 2ms/step - loss: 0.0017 - accuracy: 1.0000 - val_loss: 1.4297 - val_accuracy: 0.8958\n",
      "\n",
      "Epoch 00091: val_loss did not improve from 0.24012\n",
      "Epoch 92/200\n",
      "189/189 [==============================] - 0s 2ms/step - loss: 0.0077 - accuracy: 1.0000 - val_loss: 1.5012 - val_accuracy: 0.9167\n",
      "\n",
      "Epoch 00092: val_loss did not improve from 0.24012\n",
      "Epoch 93/200\n",
      "189/189 [==============================] - 0s 2ms/step - loss: 4.1996e-04 - accuracy: 1.0000 - val_loss: 1.5295 - val_accuracy: 0.9167\n",
      "\n",
      "Epoch 00093: val_loss did not improve from 0.24012\n",
      "Epoch 94/200\n",
      "189/189 [==============================] - 0s 2ms/step - loss: 0.0075 - accuracy: 1.0000 - val_loss: 1.5525 - val_accuracy: 0.9167\n",
      "\n",
      "Epoch 00094: val_loss did not improve from 0.24012\n",
      "Epoch 95/200\n",
      "189/189 [==============================] - 0s 2ms/step - loss: 0.0087 - accuracy: 0.9947 - val_loss: 1.5612 - val_accuracy: 0.8958\n",
      "\n",
      "Epoch 00095: val_loss did not improve from 0.24012\n",
      "Epoch 96/200\n",
      "189/189 [==============================] - 0s 2ms/step - loss: 0.0128 - accuracy: 0.9894 - val_loss: 1.5424 - val_accuracy: 0.8958\n",
      "\n",
      "Epoch 00096: val_loss did not improve from 0.24012\n",
      "Epoch 97/200\n",
      "189/189 [==============================] - 0s 2ms/step - loss: 0.0094 - accuracy: 0.9947 - val_loss: 1.5383 - val_accuracy: 0.8958\n",
      "\n",
      "Epoch 00097: val_loss did not improve from 0.24012\n",
      "Epoch 98/200\n",
      "189/189 [==============================] - 0s 2ms/step - loss: 0.0012 - accuracy: 1.0000 - val_loss: 1.5444 - val_accuracy: 0.8958\n",
      "\n",
      "Epoch 00098: val_loss did not improve from 0.24012\n",
      "Epoch 99/200\n",
      "189/189 [==============================] - 0s 2ms/step - loss: 0.0119 - accuracy: 0.9947 - val_loss: 1.5327 - val_accuracy: 0.8958\n",
      "\n",
      "Epoch 00099: val_loss did not improve from 0.24012\n",
      "Epoch 100/200\n",
      "189/189 [==============================] - 0s 2ms/step - loss: 0.0143 - accuracy: 0.9894 - val_loss: 1.5033 - val_accuracy: 0.8958\n",
      "\n",
      "Epoch 00100: val_loss did not improve from 0.24012\n",
      "Epoch 101/200\n",
      "189/189 [==============================] - 0s 2ms/step - loss: 0.0112 - accuracy: 0.9947 - val_loss: 1.4738 - val_accuracy: 0.8958\n",
      "\n",
      "Epoch 00101: val_loss did not improve from 0.24012\n",
      "Epoch 102/200\n",
      "189/189 [==============================] - 0s 2ms/step - loss: 0.0217 - accuracy: 0.9947 - val_loss: 1.4662 - val_accuracy: 0.8958\n",
      "\n",
      "Epoch 00102: val_loss did not improve from 0.24012\n",
      "Epoch 103/200\n",
      "189/189 [==============================] - 0s 2ms/step - loss: 0.0144 - accuracy: 0.9947 - val_loss: 1.4479 - val_accuracy: 0.8958\n",
      "\n",
      "Epoch 00103: val_loss did not improve from 0.24012\n",
      "Epoch 104/200\n",
      "189/189 [==============================] - 0s 2ms/step - loss: 0.0038 - accuracy: 1.0000 - val_loss: 1.4431 - val_accuracy: 0.8958\n",
      "\n",
      "Epoch 00104: val_loss did not improve from 0.24012\n",
      "Epoch 105/200\n",
      "189/189 [==============================] - 0s 2ms/step - loss: 0.0011 - accuracy: 1.0000 - val_loss: 1.4386 - val_accuracy: 0.8958\n",
      "\n",
      "Epoch 00105: val_loss did not improve from 0.24012\n",
      "Epoch 106/200\n",
      "189/189 [==============================] - 0s 2ms/step - loss: 0.0079 - accuracy: 0.9947 - val_loss: 1.4831 - val_accuracy: 0.8958\n",
      "\n",
      "Epoch 00106: val_loss did not improve from 0.24012\n",
      "Epoch 107/200\n",
      "189/189 [==============================] - 0s 2ms/step - loss: 0.0015 - accuracy: 1.0000 - val_loss: 1.5069 - val_accuracy: 0.8958\n",
      "\n",
      "Epoch 00107: val_loss did not improve from 0.24012\n",
      "Epoch 108/200\n",
      "189/189 [==============================] - 0s 2ms/step - loss: 0.0119 - accuracy: 0.9947 - val_loss: 1.5011 - val_accuracy: 0.8958\n",
      "\n",
      "Epoch 00108: val_loss did not improve from 0.24012\n",
      "Epoch 109/200\n",
      "189/189 [==============================] - 0s 2ms/step - loss: 2.1896e-04 - accuracy: 1.0000 - val_loss: 1.4936 - val_accuracy: 0.8750\n",
      "\n",
      "Epoch 00109: val_loss did not improve from 0.24012\n",
      "Epoch 110/200\n",
      "189/189 [==============================] - 0s 2ms/step - loss: 0.0147 - accuracy: 0.9894 - val_loss: 1.4998 - val_accuracy: 0.8750\n",
      "\n",
      "Epoch 00110: val_loss did not improve from 0.24012\n",
      "Epoch 111/200\n",
      "189/189 [==============================] - 0s 2ms/step - loss: 0.0130 - accuracy: 0.9947 - val_loss: 1.5226 - val_accuracy: 0.8958\n",
      "\n",
      "Epoch 00111: val_loss did not improve from 0.24012\n",
      "Epoch 112/200\n",
      "189/189 [==============================] - 0s 2ms/step - loss: 0.0136 - accuracy: 0.9894 - val_loss: 1.5295 - val_accuracy: 0.8958\n",
      "\n",
      "Epoch 00112: val_loss did not improve from 0.24012\n",
      "Epoch 113/200\n",
      "189/189 [==============================] - 0s 2ms/step - loss: 0.0090 - accuracy: 0.9947 - val_loss: 1.4715 - val_accuracy: 0.8958\n",
      "\n",
      "Epoch 00113: val_loss did not improve from 0.24012\n",
      "Epoch 114/200\n",
      "189/189 [==============================] - 0s 2ms/step - loss: 6.8726e-04 - accuracy: 1.0000 - val_loss: 1.4223 - val_accuracy: 0.8958\n",
      "\n",
      "Epoch 00114: val_loss did not improve from 0.24012\n",
      "Epoch 115/200\n",
      "189/189 [==============================] - 0s 2ms/step - loss: 0.0030 - accuracy: 1.0000 - val_loss: 1.3956 - val_accuracy: 0.8958\n",
      "\n",
      "Epoch 00115: val_loss did not improve from 0.24012\n",
      "Epoch 116/200\n",
      "189/189 [==============================] - 0s 2ms/step - loss: 0.0032 - accuracy: 1.0000 - val_loss: 1.3897 - val_accuracy: 0.8958\n",
      "\n",
      "Epoch 00116: val_loss did not improve from 0.24012\n",
      "Epoch 117/200\n",
      "189/189 [==============================] - 0s 2ms/step - loss: 0.0078 - accuracy: 1.0000 - val_loss: 1.3935 - val_accuracy: 0.8958\n",
      "\n",
      "Epoch 00117: val_loss did not improve from 0.24012\n",
      "Epoch 118/200\n",
      "189/189 [==============================] - 0s 2ms/step - loss: 0.0124 - accuracy: 0.9894 - val_loss: 1.3932 - val_accuracy: 0.8958\n",
      "\n",
      "Epoch 00118: val_loss did not improve from 0.24012\n",
      "Epoch 119/200\n",
      "189/189 [==============================] - 0s 2ms/step - loss: 0.0021 - accuracy: 1.0000 - val_loss: 1.3962 - val_accuracy: 0.8958\n",
      "\n",
      "Epoch 00119: val_loss did not improve from 0.24012\n",
      "Epoch 120/200\n",
      "189/189 [==============================] - 0s 2ms/step - loss: 0.0161 - accuracy: 1.0000 - val_loss: 1.4174 - val_accuracy: 0.8958\n",
      "\n",
      "Epoch 00120: val_loss did not improve from 0.24012\n",
      "Epoch 121/200\n",
      "189/189 [==============================] - 0s 2ms/step - loss: 0.0076 - accuracy: 1.0000 - val_loss: 1.4367 - val_accuracy: 0.8958\n",
      "\n",
      "Epoch 00121: val_loss did not improve from 0.24012\n",
      "Epoch 122/200\n",
      "189/189 [==============================] - 0s 2ms/step - loss: 0.0087 - accuracy: 0.9947 - val_loss: 1.4575 - val_accuracy: 0.8958\n",
      "\n",
      "Epoch 00122: val_loss did not improve from 0.24012\n",
      "Epoch 123/200\n",
      "189/189 [==============================] - 0s 2ms/step - loss: 0.0015 - accuracy: 1.0000 - val_loss: 1.4685 - val_accuracy: 0.8958\n",
      "\n",
      "Epoch 00123: val_loss did not improve from 0.24012\n",
      "Epoch 124/200\n",
      "189/189 [==============================] - 0s 2ms/step - loss: 0.0080 - accuracy: 0.9947 - val_loss: 1.4797 - val_accuracy: 0.8958\n",
      "\n",
      "Epoch 00124: val_loss did not improve from 0.24012\n",
      "Epoch 125/200\n",
      "189/189 [==============================] - 0s 2ms/step - loss: 0.0077 - accuracy: 0.9947 - val_loss: 1.4952 - val_accuracy: 0.8958\n"
     ]
    },
    {
     "name": "stdout",
     "output_type": "stream",
     "text": [
      "\n",
      "Epoch 00125: val_loss did not improve from 0.24012\n",
      "Epoch 126/200\n",
      "189/189 [==============================] - 0s 2ms/step - loss: 0.0031 - accuracy: 1.0000 - val_loss: 1.5145 - val_accuracy: 0.8958\n",
      "\n",
      "Epoch 00126: val_loss did not improve from 0.24012\n",
      "Epoch 127/200\n",
      "189/189 [==============================] - 0s 2ms/step - loss: 0.0113 - accuracy: 0.9947 - val_loss: 1.5562 - val_accuracy: 0.8958\n",
      "\n",
      "Epoch 00127: val_loss did not improve from 0.24012\n",
      "Epoch 128/200\n",
      "189/189 [==============================] - 0s 2ms/step - loss: 0.0216 - accuracy: 0.9841 - val_loss: 1.6385 - val_accuracy: 0.8750\n",
      "\n",
      "Epoch 00128: val_loss did not improve from 0.24012\n",
      "Epoch 129/200\n",
      "189/189 [==============================] - 0s 2ms/step - loss: 0.0015 - accuracy: 1.0000 - val_loss: 1.6583 - val_accuracy: 0.8750\n",
      "\n",
      "Epoch 00129: val_loss did not improve from 0.24012\n",
      "Epoch 130/200\n",
      "189/189 [==============================] - 0s 2ms/step - loss: 0.0057 - accuracy: 0.9947 - val_loss: 1.6051 - val_accuracy: 0.8958\n",
      "\n",
      "Epoch 00130: val_loss did not improve from 0.24012\n",
      "Epoch 131/200\n",
      "189/189 [==============================] - 0s 2ms/step - loss: 0.0083 - accuracy: 0.9947 - val_loss: 1.5571 - val_accuracy: 0.8958\n",
      "\n",
      "Epoch 00131: val_loss did not improve from 0.24012\n",
      "Epoch 132/200\n",
      "189/189 [==============================] - 0s 2ms/step - loss: 0.0012 - accuracy: 1.0000 - val_loss: 1.5455 - val_accuracy: 0.8958\n",
      "\n",
      "Epoch 00132: val_loss did not improve from 0.24012\n",
      "Epoch 133/200\n",
      "189/189 [==============================] - 0s 2ms/step - loss: 0.0034 - accuracy: 1.0000 - val_loss: 1.5410 - val_accuracy: 0.8958\n",
      "\n",
      "Epoch 00133: val_loss did not improve from 0.24012\n",
      "Epoch 134/200\n",
      " 64/189 [=========>....................] - ETA: 0s - loss: 8.7708e-04 - accuracy: 1.0000"
     ]
    }
   ],
   "source": [
    "filename = 'model.h5'\n",
    "checkpoint = ModelCheckpoint(filename, monitor='val_loss', verbose=1, save_best_only=True, mode='min')\n",
    "\n",
    "history = model.fit(train_X, train_Y, epochs = 200, batch_size = 32, validation_data = (val_X, val_Y), callbacks = [checkpoint])"
   ]
  },
  {
   "cell_type": "code",
   "execution_count": 74,
   "metadata": {},
   "outputs": [
    {
     "name": "stdout",
     "output_type": "stream",
     "text": [
      "dict_keys(['val_loss', 'val_accuracy', 'loss', 'accuracy'])\n"
     ]
    },
    {
     "data": {
      "image/png": "[encoded data removed]",
      "text/plain": [
       "<Figure size 432x288 with 1 Axes>"
      ]
     },
     "metadata": {
      "needs_background": "light"
     },
     "output_type": "display_data"
    },
    {
     "data": {
      "image/png": "[encoded data removed]",
      "text/plain": [
       "<Figure size 432x288 with 1 Axes>"
      ]
     },
     "metadata": {
      "needs_background": "light"
     },
     "output_type": "display_data"
    }
   ],
   "source": [
    "print(history.history.keys())\n",
    "# summarize history for accuracy\n",
    "plt.plot(history.history['accuracy'])\n",
    "plt.plot(history.history['val_accuracy'])\n",
    "plt.title('model accuracy')\n",
    "plt.ylabel('accuracy')\n",
    "plt.xlabel('epoch')\n",
    "plt.legend(['train', 'test'], loc='upper left')\n",
    "plt.show()\n",
    "# summarize history for loss\n",
    "plt.plot(history.history['loss'])\n",
    "plt.plot(history.history['val_loss'])\n",
    "plt.title('model loss')\n",
    "plt.ylabel('loss')\n",
    "plt.xlabel('epoch')\n",
    "plt.legend(['train', 'test'], loc='upper left')\n",
    "plt.show()"
   ]
  },
  {
   "cell_type": "code",
   "execution_count": 75,
   "metadata": {},
   "outputs": [
    {
     "name": "stderr",
     "output_type": "stream",
     "text": [
      "/Users/maxlengdell/opt/anaconda3/envs/nnD7046E/lib/python3.6/site-packages/tensorflow_core/python/framework/indexed_slices.py:424: UserWarning: Converting sparse IndexedSlices to a dense Tensor of unknown shape. This may consume a large amount of memory.\n",
      "  \"Converting sparse IndexedSlices to a dense Tensor of unknown shape. \"\n"
     ]
    }
   ],
   "source": [
    " model = load_model(\"model.h5\")"
   ]
  },
  {
   "cell_type": "code",
   "execution_count": null,
   "metadata": {},
   "outputs": [],
   "source": []
  },
  {
   "cell_type": "code",
   "execution_count": 76,
   "metadata": {},
   "outputs": [],
   "source": [
    "def predictions(text):\n",
    "    clean = re.sub(r'[^ a-z A-Z 0-9]', \" \", text)\n",
    "    test_word = word_tokenize(clean)\n",
    "    test_word = [w.lower() for w in test_word]\n",
    "    test_ls = word_tokenizer.texts_to_sequences(test_word)\n",
    "    print(test_word)\n",
    "    #Check for unknown words\n",
    "    if [] in test_ls:\n",
    "        test_ls = list(filter(None, test_ls))\n",
    "    \n",
    "    test_ls = np.array(test_ls).reshape(1, len(test_ls))\n",
    " \n",
    "    x = padding_doc(test_ls, max_length)\n",
    "  \n",
    "    pred = model.predict_proba(x)\n",
    "  \n",
    "  \n",
    "    return pred\n",
    "\n",
    "\n",
    "  "
   ]
  },
  {
   "cell_type": "code",
   "execution_count": 77,
   "metadata": {},
   "outputs": [],
   "source": [
    "def get_final_output(pred, classes):\n",
    "    predictions = pred[0]\n",
    " \n",
    "    classes = np.array(classes)\n",
    "    ids = np.argsort(-predictions)\n",
    "    classes = classes[ids]\n",
    "    predictions = -np.sort(-predictions)\n",
    " \n",
    "    for i in range(pred.shape[1]):\n",
    "        print(\"%s has confidence = %s\" % (classes[i], (predictions[i])))\n",
    "\n"
   ]
  },
  {
   "cell_type": "code",
   "execution_count": 78,
   "metadata": {
    "scrolled": false
   },
   "outputs": [
    {
     "name": "stdout",
     "output_type": "stream",
     "text": [
      "['how', 'much', 'does', 'it', 'cost']\n",
      "price has confidence = 0.99968886\n",
      "balance has confidence = 0.0003107582\n",
      "order has confidence = 2.9935424e-07\n",
      "common has confidence = 2.0552145e-08\n"
     ]
    }
   ],
   "source": [
    "#Price\n",
    "text = \"How much does it cost?\"\n",
    "pred = predictions(text)\n",
    "get_final_output(pred, unique_intent)"
   ]
  },
  {
   "cell_type": "code",
   "execution_count": 79,
   "metadata": {},
   "outputs": [
    {
     "name": "stdout",
     "output_type": "stream",
     "text": [
      "['how', 'many', 'pants', 'are', 'in', 'stock']\n",
      "balance has confidence = 0.99999905\n",
      "price has confidence = 7.4048245e-07\n",
      "order has confidence = 1.5461433e-07\n",
      "common has confidence = 4.7497267e-08\n"
     ]
    }
   ],
   "source": [
    "#Balance\n",
    "text = \"how many pants are in stock?\"\n",
    "pred = predictions(text)\n",
    "get_final_output(pred, unique_intent)"
   ]
  },
  {
   "cell_type": "code",
   "execution_count": 80,
   "metadata": {},
   "outputs": [
    {
     "name": "stdout",
     "output_type": "stream",
     "text": [
      "['i', 'want', 'to', 'buy', '3', 'pants']\n",
      "order has confidence = 0.99681735\n",
      "common has confidence = 0.0028340167\n",
      "price has confidence = 0.00020716395\n",
      "balance has confidence = 0.00014147996\n"
     ]
    }
   ],
   "source": [
    "#Order\n",
    "text = \"I want to buy 3 pants\"\n",
    "pred = predictions(text)\n",
    "get_final_output(pred, unique_intent)"
   ]
  },
  {
   "cell_type": "code",
   "execution_count": 81,
   "metadata": {},
   "outputs": [
    {
     "name": "stdout",
     "output_type": "stream",
     "text": [
      "['i', 'need', 'help']\n",
      "order has confidence = 0.84783244\n",
      "common has confidence = 0.13630454\n",
      "price has confidence = 0.0087884525\n",
      "balance has confidence = 0.0070746485\n"
     ]
    }
   ],
   "source": [
    "#Common\n",
    "text = \"I need help\"\n",
    "pred = predictions(text)\n",
    "get_final_output(pred, unique_intent)"
   ]
  },
  {
   "cell_type": "code",
   "execution_count": 280,
   "metadata": {},
   "outputs": [],
   "source": [
    "opening_lines = ['Hello, what can I help you with?',\n",
    "                'How can I help you?',\n",
    "                'Whats on your mind today?']\n",
    "\n",
    "def randomOpening():\n",
    "    index = random.randint(0,len(opening_lines)-1)\n",
    "    print(opening_lines[index])\n",
    "\n"
   ]
  },
  {
   "cell_type": "code",
   "execution_count": null,
   "metadata": {},
   "outputs": [
    {
     "name": "stdout",
     "output_type": "stream",
     "text": [
      "Hello, what can I help you with?\n"
     ]
    }
   ],
   "source": [
    "def cli():\n",
    "    while True:\n",
    "        randomOpening()\n",
    "        user_input = input(\"Ask the chatbot something: \")\n",
    "        print(user_input)\n",
    "        if(user_input==\"quit\"):\n",
    "            break\n",
    "        else:\n",
    "            pred = predictions(user_input)\n",
    "            print(pred)\n",
    "            get_final_output(pred, unique_intent)\n",
    "\n",
    "        \n",
    "cli()"
   ]
  },
  {
   "cell_type": "code",
   "execution_count": null,
   "metadata": {},
   "outputs": [],
   "source": []
  }
 ],
 "metadata": {
  "kernelspec": {
   "display_name": "Python 3",
   "language": "python",
   "name": "python3"
  },
  "language_info": {
   "codemirror_mode": {
    "name": "ipython",
    "version": 3
   },
   "file_extension": ".py",
   "mimetype": "text/x-python",
   "name": "python",
   "nbconvert_exporter": "python",
   "pygments_lexer": "ipython3",
   "version": "3.6.12"
  }
 },
 "nbformat": 4,
 "nbformat_minor": 4
}
