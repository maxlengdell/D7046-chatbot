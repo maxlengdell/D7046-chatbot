{
 "cells": [
  {
   "cell_type": "code",
   "execution_count": 1,
   "metadata": {},
   "outputs": [
    {
     "name": "stderr",
     "output_type": "stream",
     "text": [
      "Using TensorFlow backend.\n",
      "[nltk_data] Downloading package stopwords to\n",
      "[nltk_data]     /Users/maxlengdell/nltk_data...\n",
      "[nltk_data]   Package stopwords is already up-to-date!\n",
      "[nltk_data] Downloading package punkt to\n",
      "[nltk_data]     /Users/maxlengdell/nltk_data...\n",
      "[nltk_data]   Package punkt is already up-to-date!\n"
     ]
    },
    {
     "data": {
      "text/plain": [
       "True"
      ]
     },
     "execution_count": 1,
     "metadata": {},
     "output_type": "execute_result"
    }
   ],
   "source": [
    "# Import requirements\n",
    "\n",
    "##SPACY IMPORTS\n",
    "import spacy\n",
    "\n",
    "nlp = spacy.load('en_core_web_sm')\n",
    "nlp.pipe_names\n",
    "ner = nlp.get_pipe('ner')\n",
    "\n",
    "import random\n",
    "from spacy.util import minibatch, compounding\n",
    "from pathlib import Path\n",
    "\n",
    "##KERAS IMPORTS\n",
    "import re\n",
    "import torch\n",
    "import torch.nn as nn\n",
    "\n",
    "import numpy as np\n",
    "import pandas as pd\n",
    "import random\n",
    "from nltk.corpus import stopwords\n",
    "from nltk.tokenize import word_tokenize\n",
    "from nltk.stem.lancaster import LancasterStemmer\n",
    "import nltk\n",
    "import re\n",
    "from sklearn.preprocessing import OneHotEncoder\n",
    "import matplotlib.pyplot as plt\n",
    "from keras.preprocessing.text import Tokenizer\n",
    "from keras.preprocessing.sequence import pad_sequences\n",
    "from keras.utils import to_categorical\n",
    "from keras.models import Sequential, load_model\n",
    "from keras.layers import Dense, LSTM, Bidirectional, Embedding, Dropout\n",
    "from keras.callbacks import ModelCheckpoint\n",
    "nltk.download(\"stopwords\")\n",
    "nltk.download(\"punkt\")\n"
   ]
  },
  {
   "cell_type": "code",
   "execution_count": 2,
   "metadata": {},
   "outputs": [
    {
     "name": "stderr",
     "output_type": "stream",
     "text": [
      "/Users/maxlengdell/opt/anaconda3/envs/nnD7046E/lib/python3.6/site-packages/tensorflow_core/python/framework/indexed_slices.py:424: UserWarning: Converting sparse IndexedSlices to a dense Tensor of unknown shape. This may consume a large amount of memory.\n",
      "  \"Converting sparse IndexedSlices to a dense Tensor of unknown shape. \"\n"
     ]
    }
   ],
   "source": [
    "#Load intent model\n",
    "model = load_model(\"model.h5\")"
   ]
  },
  {
   "cell_type": "code",
   "execution_count": 3,
   "metadata": {},
   "outputs": [
    {
     "name": "stdout",
     "output_type": "stream",
     "text": [
      "                   Sentence  Intent\n",
      "0              Order please   order\n",
      "1      Ship this item to me   order\n",
      "2  Can I order that please?   order\n",
      "3        Where is the help?  common\n",
      "4           Purchase <Item>   order\n"
     ]
    }
   ],
   "source": [
    "def cleaning(sentences):\n",
    "    words = []\n",
    "    for s in sentences:\n",
    "        clean = re.sub(r'[^ a-z A-Z 0-9]', \" \", s)\n",
    "        w = word_tokenize(clean)\n",
    "        #stemming\n",
    "        words.append([i.lower() for i in w])\n",
    "    \n",
    "    return words  \n",
    "\n",
    "def create_tokenizer(words, filters = '!\"#$%&()*+,-./:;<=>?@[\\]^_`{|}~'):\n",
    "    token = Tokenizer(filters = filters)\n",
    "    token.fit_on_texts(words)\n",
    "    #print(token)\n",
    "    return token\n",
    "def encoding_doc(token, words):\n",
    "    return(token.texts_to_sequences(words))\n",
    "\n",
    "def padding_doc(encoded_doc, max_length):\n",
    "    return(pad_sequences(encoded_doc, maxlen = max_length, padding = \"post\"))\n",
    "\n",
    "def get_max_length(words):\n",
    "    return(len(max(words, key = len)))\n",
    "\n",
    "def load_dataset(filename):\n",
    "    df = pd.read_csv(filename, encoding = \"latin1\", names = [\"Sentence\", \"Intent\"])\n",
    "    print(df.head())\n",
    "    intent = df[\"Intent\"]\n",
    "    unique_intent = list(set(intent))\n",
    "    sentences = list(df[\"Sentence\"])\n",
    "  \n",
    "    return (intent, unique_intent, sentences)\n",
    "  \n",
    "\n",
    "intent, unique_intent, sentences = load_dataset(\"data.csv\")\n",
    "\n",
    "#define stemmer\n",
    "stemmer = LancasterStemmer()\n"
   ]
  },
  {
   "cell_type": "code",
   "execution_count": 4,
   "metadata": {},
   "outputs": [
    {
     "name": "stdout",
     "output_type": "stream",
     "text": [
      "237\n",
      "[['order', 'please'], ['ship', 'this', 'item', 'to', 'me']]\n"
     ]
    }
   ],
   "source": [
    "cleaned_words = cleaning(sentences)\n",
    "print(len(cleaned_words))\n",
    "print(cleaned_words[:2])  "
   ]
  },
  {
   "cell_type": "code",
   "execution_count": 5,
   "metadata": {},
   "outputs": [
    {
     "name": "stdout",
     "output_type": "stream",
     "text": [
      "Vocab Size = 144 and Maximum length = 9\n"
     ]
    }
   ],
   "source": [
    "word_tokenizer = create_tokenizer(cleaned_words)\n",
    "vocab_size = len(word_tokenizer.word_index) + 1\n",
    "max_length = get_max_length(cleaned_words)\n",
    "\n",
    "print(\"Vocab Size = %d and Maximum length = %d\" % (vocab_size, max_length))"
   ]
  },
  {
   "cell_type": "code",
   "execution_count": 6,
   "metadata": {},
   "outputs": [],
   "source": [
    "encoded_doc = encoding_doc(word_tokenizer, cleaned_words)\n",
    "padded_doc = padding_doc(encoded_doc, max_length)\n",
    "\n",
    "output_tokenizer = create_tokenizer(unique_intent, filters = '!\"#$%&()*+,-/:;<=>?@[\\]^`{|}~')\n"
   ]
  },
  {
   "cell_type": "code",
   "execution_count": 7,
   "metadata": {},
   "outputs": [],
   "source": [
    "encoded_output = encoding_doc(output_tokenizer, intent)"
   ]
  },
  {
   "cell_type": "code",
   "execution_count": 8,
   "metadata": {},
   "outputs": [],
   "source": [
    "encoded_output = np.array(encoded_output).reshape(len(encoded_output), 1)"
   ]
  },
  {
   "cell_type": "code",
   "execution_count": 9,
   "metadata": {},
   "outputs": [
    {
     "data": {
      "text/plain": [
       "(237, 1)"
      ]
     },
     "execution_count": 9,
     "metadata": {},
     "output_type": "execute_result"
    }
   ],
   "source": [
    "encoded_output.shape"
   ]
  },
  {
   "cell_type": "code",
   "execution_count": 10,
   "metadata": {},
   "outputs": [],
   "source": [
    "def predictions(text):\n",
    "    \n",
    "    clean = re.sub(r'[^ a-z A-Z 0-9]', \" \", text)\n",
    "    test_word = word_tokenize(clean)\n",
    "    test_word = [w.lower() for w in test_word]\n",
    "    test_ls = word_tokenizer.texts_to_sequences(test_word)\n",
    "\n",
    "    #Check for unknown words\n",
    "    if [] in test_ls:\n",
    "        test_ls = list(filter(None, test_ls))\n",
    "    \n",
    "    test_ls = np.array(test_ls).reshape(1, len(test_ls))\n",
    " \n",
    "    x = padding_doc(test_ls, max_length)\n",
    "  \n",
    "    pred = model.predict_proba(x)\n",
    "  \n",
    "  \n",
    "    return pred\n",
    "    "
   ]
  },
  {
   "cell_type": "code",
   "execution_count": 11,
   "metadata": {},
   "outputs": [],
   "source": [
    "def one_hot(encode):\n",
    "    o = OneHotEncoder(sparse = False)\n",
    "    return(o.fit_transform(encode))"
   ]
  },
  {
   "cell_type": "code",
   "execution_count": 12,
   "metadata": {},
   "outputs": [],
   "source": [
    "#output_one_hot = one_hot(encoded_output)\n",
    "#output_one_hot.shape\n"
   ]
  },
  {
   "cell_type": "code",
   "execution_count": 13,
   "metadata": {},
   "outputs": [],
   "source": [
    "#from sklearn.model_selection import train_test_split"
   ]
  },
  {
   "cell_type": "code",
   "execution_count": 14,
   "metadata": {},
   "outputs": [],
   "source": [
    "def get_final_output(pred, classes):\n",
    "    predictions = pred[0]\n",
    " \n",
    "    classes = np.array(classes)\n",
    "    ids = np.argsort(-predictions)\n",
    "    classes = classes[ids]\n",
    "    predictions = -np.sort(-predictions)\n",
    " \n",
    "    for i in range(pred.shape[1]):\n",
    "        print(\"%s has confidence = %s\" % (classes[i], (predictions[i])))\n",
    "\n",
    "\n"
   ]
  },
  {
   "cell_type": "code",
   "execution_count": 15,
   "metadata": {},
   "outputs": [
    {
     "name": "stdout",
     "output_type": "stream",
     "text": [
      "price has confidence = 0.99968886\n",
      "order has confidence = 0.0003107582\n",
      "balance has confidence = 2.9935424e-07\n",
      "common has confidence = 2.0552145e-08\n"
     ]
    }
   ],
   "source": [
    "text = \"How much does it cost?\"\n",
    "pred = predictions(text)\n",
    "get_final_output(pred, unique_intent)"
   ]
  },
  {
   "cell_type": "code",
   "execution_count": 16,
   "metadata": {},
   "outputs": [
    {
     "name": "stdout",
     "output_type": "stream",
     "text": [
      "balance has confidence = 0.9723652\n",
      "common has confidence = 0.02595956\n",
      "price has confidence = 0.0010816839\n",
      "order has confidence = 0.0005934916\n"
     ]
    }
   ],
   "source": [
    "text = \"Can I order 3 pants?\"\n",
    "pred = predictions(text)\n",
    "get_final_output(pred, unique_intent)"
   ]
  },
  {
   "cell_type": "code",
   "execution_count": 17,
   "metadata": {},
   "outputs": [
    {
     "name": "stdout",
     "output_type": "stream",
     "text": [
      "order has confidence = 0.999992\n",
      "price has confidence = 6.0079956e-06\n",
      "balance has confidence = 1.3878124e-06\n",
      "common has confidence = 6.8480136e-07\n"
     ]
    }
   ],
   "source": [
    "text = \"How many pants are left?\"\n",
    "pred = predictions(text)\n",
    "get_final_output(pred, unique_intent)"
   ]
  },
  {
   "cell_type": "code",
   "execution_count": null,
   "metadata": {
    "scrolled": true
   },
   "outputs": [],
   "source": [
    "#Load entity model\n",
    "\n",
    "output_dir = Path('./Models/')\n",
    "\n",
    "print(\"loading model form\", output_dir)\n",
    "nlp_updated = spacy.load(output_dir)\n",
    "doc = nlp_updated(\"Those pants are really good\")\n",
    "print(\"Entities\", [(ent.text, ent.label_) for ent in doc.ents])"
   ]
  },
  {
   "cell_type": "code",
   "execution_count": null,
   "metadata": {},
   "outputs": [],
   "source": [
    "opening_lines = ['Hello, what can I help you with?',\n",
    "                'How can I help you?',\n",
    "                'Whats on your mind today?']\n",
    "stock_info = [(['gloves', '299', '3']), #product name, price, balance\n",
    "             (['shoes', '899', '5']),\n",
    "             (['pants', '450', '10'])]\n",
    "\n",
    "def randomOpening():\n",
    "    index = random.randint(0,len(opening_lines)-1)\n",
    "    print(opening_lines[index])\n",
    "def getProductPrice(product):\n",
    "    for prod in stock_info:\n",
    "        if(prod[0]==product):\n",
    "            return prod[1]\n",
    "def getProductBalance(product):\n",
    "    for prod in stock_info:\n",
    "        if(prod[0]==product):\n",
    "            return prod[2]\n",
    "def printProducts():\n",
    "    for prod in stock_info:\n",
    "        print(prod[0])"
   ]
  },
  {
   "cell_type": "code",
   "execution_count": null,
   "metadata": {},
   "outputs": [],
   "source": [
    "def getEntity(sentence):\n",
    "    #print(sentence)\n",
    "    doc = nlp_updated(sentence)\n",
    "    #print(\"Entities\", [(ent.text, ent.label_) for ent in doc.ents])  \n",
    "    text = []\n",
    "    label = []\n",
    "    for ent in doc.ents:\n",
    "        text.append(ent.text)\n",
    "        label.append(ent.label_)\n",
    "    ret_arr = [text,label]\n",
    "    return doc.ents"
   ]
  },
  {
   "cell_type": "code",
   "execution_count": null,
   "metadata": {},
   "outputs": [],
   "source": [
    "def getIntent(sentence):\n",
    "    pred = predictions(sentence)\n",
    "    guess = pred[0]\n",
    "    \n",
    "    classes = np.array(unique_intent)\n",
    "    ids = np.argsort(-pred)\n",
    "    classes = classes[ids]\n",
    "    predict = -np.sort(-pred)\n",
    "    \n",
    "    #print(\"Network guessed:\", classes[0][0])\n",
    "    return classes[0][0]\n"
   ]
  },
  {
   "cell_type": "code",
   "execution_count": null,
   "metadata": {},
   "outputs": [],
   "source": [
    "def priceFunc(entities):\n",
    "    print(\"Oh, so you want to know the price of your product?\")\n",
    "    for ent in entities:\n",
    "        print(ent.text, ent.label_)\n",
    "\n",
    "        if(ent.label_==\"PRODUCT\"):\n",
    "            print(\"The price of \" + ent.text + \" is \" + getProductPrice(ent.text))\n",
    "        else:\n",
    "            print(\"I'm sorry, i did not find that product. Did you mean any of these?\")\n",
    "            printProducts()\n",
    "            \n",
    "            \n",
    "\n",
    "def balanceFunc(entities):\n",
    "    print(\"Do you want to know the storage count of your product?\")\n",
    "    for ent in entities:\n",
    "        if(ent.label_==\"PRODUCT\"):\n",
    "            print(\"The balance of \" + ent.text + \" is \" + getProductBalance(ent.text))\n",
    "            \n",
    "        else:\n",
    "            print(\"I'm sorry, i did not find that product. Did you mean any of these?\")\n",
    "            printProducts()\n",
    "\n",
    "\n",
    "def orderFunc(entities):\n",
    "    print(\"Print order info\")\n",
    "    for ent in entities:\n",
    "\n",
    "        if(ent.label_==\"PRODUCT\"):\n",
    "            print(\"You have placed an order on \" + ent.text)\n",
    "        else:\n",
    "            print(\"I'm sorry, i did not find that product. Did you mean any of these?\")\n",
    "            printProducts()\n",
    "            \n",
    "def commonFunf(entities):\n",
    "    print(\"I'm sorry, i did not understand. Try rephrasing the sentence.\")"
   ]
  },
  {
   "cell_type": "code",
   "execution_count": null,
   "metadata": {},
   "outputs": [],
   "source": [
    "#Ask user from the opening lines-list\n",
    "#identify intent\n",
    "#identify entities\n",
    "#send to corresponding function and return answer\n",
    "introduction = \"Welcome to our e-com chatbot for a fashion store. \\n\n",
    "Place a order, check the availability of a product or its price. \\n\n",
    "What does pants cost? How many gloves are in stock? \"\n",
    "def cli():\n",
    "    print(introduction)\n",
    "    while True:\n",
    "        randomOpening()\n",
    "        user_input = input(\"Ask the chatbot something: \")\n",
    "        if(user_input==\"quit\"):\n",
    "            break\n",
    "        else:\n",
    "            intent = getIntent(user_input)\n",
    "            entity = getEntity(user_input)\n",
    "            if(intent==\"price\"):\n",
    "                priceFunc(entity)\n",
    "            elif(intent==\"balance\"):\n",
    "                balanceFunc(entity)\n",
    "            elif(intent==\"order\"):\n",
    "                orderFunc(entity)\n",
    "            else:\n",
    "                commonFunc(entities)\n",
    "            print(\"***********************************\")\n",
    "\n",
    "\n",
    "                \n",
    "\n",
    "        \n",
    "cli()"
   ]
  },
  {
   "cell_type": "code",
   "execution_count": null,
   "metadata": {},
   "outputs": [],
   "source": []
  },
  {
   "cell_type": "code",
   "execution_count": null,
   "metadata": {},
   "outputs": [],
   "source": []
  },
  {
   "cell_type": "code",
   "execution_count": null,
   "metadata": {},
   "outputs": [],
   "source": []
  },
  {
   "cell_type": "code",
   "execution_count": null,
   "metadata": {},
   "outputs": [],
   "source": []
  },
  {
   "cell_type": "code",
   "execution_count": null,
   "metadata": {},
   "outputs": [],
   "source": []
  },
  {
   "cell_type": "code",
   "execution_count": null,
   "metadata": {},
   "outputs": [],
   "source": []
  }
 ],
 "metadata": {
  "kernelspec": {
   "display_name": "Python 3",
   "language": "python",
   "name": "python3"
  },
  "language_info": {
   "codemirror_mode": {
    "name": "ipython",
    "version": 3
   },
   "file_extension": ".py",
   "mimetype": "text/x-python",
   "name": "python",
   "nbconvert_exporter": "python",
   "pygments_lexer": "ipython3",
   "version": "3.6.12"
  }
 },
 "nbformat": 4,
 "nbformat_minor": 4
}
