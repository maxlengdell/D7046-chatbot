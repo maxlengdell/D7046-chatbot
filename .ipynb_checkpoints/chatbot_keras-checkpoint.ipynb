{
 "cells": [
  {
   "cell_type": "code",
   "execution_count": 34,
   "metadata": {},
   "outputs": [],
   "source": [
    "import torch\n",
    "import torch.nn as nn\n",
    "\n",
    "import numpy as np\n",
    "import pandas as pd\n",
    "import random\n",
    "from nltk.corpus import stopwords\n",
    "from nltk.tokenize import word_tokenize\n",
    "from nltk.stem.lancaster import LancasterStemmer\n",
    "import nltk\n",
    "import re\n",
    "from sklearn.preprocessing import OneHotEncoder\n",
    "import matplotlib.pyplot as plt\n",
    "from keras.preprocessing.text import Tokenizer\n",
    "from keras.preprocessing.sequence import pad_sequences\n",
    "from keras.utils import to_categorical\n",
    "from keras.models import Sequential, load_model\n",
    "from keras.layers import Dense, LSTM, Bidirectional, Embedding, Dropout\n",
    "from keras.callbacks import ModelCheckpoint\n",
    "\n"
   ]
  },
  {
   "cell_type": "code",
   "execution_count": 35,
   "metadata": {},
   "outputs": [],
   "source": [
    "def load_dataset(filename):\n",
    "    df = pd.read_csv(filename, encoding = \"latin1\", names = [\"Sentence\", \"Intent\"])\n",
    "    print(df.head())\n",
    "    intent = df[\"Intent\"]\n",
    "    unique_intent = list(set(intent))\n",
    "    sentences = list(df[\"Sentence\"])\n",
    "  \n",
    "    return (intent, unique_intent, sentences)\n",
    "  \n"
   ]
  },
  {
   "cell_type": "code",
   "execution_count": 36,
   "metadata": {},
   "outputs": [
    {
     "name": "stdout",
     "output_type": "stream",
     "text": [
      "                    Sentence   Intent\n",
      "0  How many <item> are left?  balance\n",
      "1           Stock of <Item>?  balance\n",
      "2        Do you have <Item>?  balance\n",
      "3         Balance of <Item>?  balance\n",
      "4           Any <Item> left?  balance\n"
     ]
    }
   ],
   "source": [
    "intent, unique_intent, sentences = load_dataset(\"data.csv\")"
   ]
  },
  {
   "cell_type": "code",
   "execution_count": 41,
   "metadata": {},
   "outputs": [
    {
     "name": "stdout",
     "output_type": "stream",
     "text": [
      "Have you run out of  ?\n",
      "['balance', 'order', 'price', 'common']\n"
     ]
    }
   ],
   "source": [
    "print(sentences[35])\n",
    "print(unique_intent)\n"
   ]
  },
  {
   "cell_type": "code",
   "execution_count": 5,
   "metadata": {},
   "outputs": [
    {
     "name": "stderr",
     "output_type": "stream",
     "text": [
      "[nltk_data] Downloading package stopwords to\n",
      "[nltk_data]     /Users/maxlengdell/nltk_data...\n",
      "[nltk_data]   Package stopwords is already up-to-date!\n",
      "[nltk_data] Downloading package punkt to\n",
      "[nltk_data]     /Users/maxlengdell/nltk_data...\n",
      "[nltk_data]   Package punkt is already up-to-date!\n"
     ]
    },
    {
     "data": {
      "text/plain": [
       "True"
      ]
     },
     "execution_count": 5,
     "metadata": {},
     "output_type": "execute_result"
    }
   ],
   "source": [
    "nltk.download(\"stopwords\")\n",
    "nltk.download(\"punkt\")"
   ]
  },
  {
   "cell_type": "code",
   "execution_count": 6,
   "metadata": {},
   "outputs": [],
   "source": [
    "#define stemmer\n",
    "stemmer = LancasterStemmer()"
   ]
  },
  {
   "cell_type": "code",
   "execution_count": 7,
   "metadata": {},
   "outputs": [],
   "source": [
    "def cleaning(sentences):\n",
    "    words = []\n",
    "    for s in sentences:\n",
    "        clean = re.sub(r'[^ a-z A-Z 0-9]', \" \", s)\n",
    "        w = word_tokenize(clean)\n",
    "        #stemming\n",
    "        words.append([i.lower() for i in w])\n",
    "    \n",
    "    return words  "
   ]
  },
  {
   "cell_type": "code",
   "execution_count": 8,
   "metadata": {},
   "outputs": [
    {
     "name": "stdout",
     "output_type": "stream",
     "text": [
      "235\n",
      "[['how', 'many', 'item', 'are', 'left'], ['stock', 'of', 'item']]\n"
     ]
    }
   ],
   "source": [
    "cleaned_words = cleaning(sentences)\n",
    "print(len(cleaned_words))\n",
    "print(cleaned_words[:2])  \n",
    "  \n"
   ]
  },
  {
   "cell_type": "code",
   "execution_count": 9,
   "metadata": {},
   "outputs": [],
   "source": [
    "def create_tokenizer(words, filters = '!\"#$%&()*+,-./:;<=>?@[\\]^_`{|}~'):\n",
    "    token = Tokenizer(filters = filters)\n",
    "    token.fit_on_texts(words)\n",
    "    print(token)\n",
    "    return token"
   ]
  },
  {
   "cell_type": "code",
   "execution_count": 10,
   "metadata": {},
   "outputs": [],
   "source": [
    "def max_length(words):\n",
    "    return(len(max(words, key = len)))\n",
    "  "
   ]
  },
  {
   "cell_type": "code",
   "execution_count": 11,
   "metadata": {},
   "outputs": [
    {
     "name": "stdout",
     "output_type": "stream",
     "text": [
      "<keras_preprocessing.text.Tokenizer object at 0x7fc3740946d8>\n",
      "Vocab Size = 145 and Maximum length = 9\n"
     ]
    }
   ],
   "source": [
    "word_tokenizer = create_tokenizer(cleaned_words)\n",
    "vocab_size = len(word_tokenizer.word_index) + 1\n",
    "max_length = max_length(cleaned_words)\n",
    "\n",
    "print(\"Vocab Size = %d and Maximum length = %d\" % (vocab_size, max_length))"
   ]
  },
  {
   "cell_type": "code",
   "execution_count": 12,
   "metadata": {},
   "outputs": [],
   "source": [
    "def encoding_doc(token, words):\n",
    "    return(token.texts_to_sequences(words))"
   ]
  },
  {
   "cell_type": "code",
   "execution_count": 13,
   "metadata": {},
   "outputs": [],
   "source": [
    "encoded_doc = encoding_doc(word_tokenizer, cleaned_words)\n",
    "#print(encoded_doc)"
   ]
  },
  {
   "cell_type": "code",
   "execution_count": 14,
   "metadata": {},
   "outputs": [],
   "source": [
    "def padding_doc(encoded_doc, max_length):\n",
    "    return(pad_sequences(encoded_doc, maxlen = max_length, padding = \"post\"))"
   ]
  },
  {
   "cell_type": "code",
   "execution_count": 15,
   "metadata": {},
   "outputs": [],
   "source": [
    "padded_doc = padding_doc(encoded_doc, max_length)"
   ]
  },
  {
   "cell_type": "code",
   "execution_count": 16,
   "metadata": {},
   "outputs": [
    {
     "data": {
      "text/plain": [
       "array([[ 7, 18,  1, 21, 29,  0,  0,  0,  0],\n",
       "       [11,  2,  1,  0,  0,  0,  0,  0,  0],\n",
       "       [19,  4, 14,  1,  0,  0,  0,  0,  0],\n",
       "       [46,  2,  1,  0,  0,  0,  0,  0,  0],\n",
       "       [33,  1, 29,  0,  0,  0,  0,  0,  0]], dtype=int32)"
      ]
     },
     "execution_count": 16,
     "metadata": {},
     "output_type": "execute_result"
    }
   ],
   "source": [
    "padded_doc[:5]"
   ]
  },
  {
   "cell_type": "code",
   "execution_count": 17,
   "metadata": {},
   "outputs": [
    {
     "name": "stdout",
     "output_type": "stream",
     "text": [
      "Shape of padded docs =  (235, 9)\n"
     ]
    }
   ],
   "source": [
    "print(\"Shape of padded docs = \",padded_doc.shape)"
   ]
  },
  {
   "cell_type": "code",
   "execution_count": 18,
   "metadata": {},
   "outputs": [
    {
     "name": "stdout",
     "output_type": "stream",
     "text": [
      "<keras_preprocessing.text.Tokenizer object at 0x7fc3736b3f60>\n"
     ]
    }
   ],
   "source": [
    "#tokenizer with filter changed\n",
    "output_tokenizer = create_tokenizer(unique_intent, filters = '!\"#$%&()*+,-/:;<=>?@[\\]^`{|}~')\n"
   ]
  },
  {
   "cell_type": "code",
   "execution_count": 19,
   "metadata": {},
   "outputs": [
    {
     "data": {
      "text/plain": [
       "{'balance': 1, 'order': 2, 'price': 3, 'common': 4}"
      ]
     },
     "execution_count": 19,
     "metadata": {},
     "output_type": "execute_result"
    }
   ],
   "source": [
    "output_tokenizer.word_index"
   ]
  },
  {
   "cell_type": "code",
   "execution_count": 20,
   "metadata": {},
   "outputs": [],
   "source": [
    "encoded_output = encoding_doc(output_tokenizer, intent)"
   ]
  },
  {
   "cell_type": "code",
   "execution_count": 21,
   "metadata": {},
   "outputs": [],
   "source": [
    "encoded_output = np.array(encoded_output).reshape(len(encoded_output), 1)"
   ]
  },
  {
   "cell_type": "code",
   "execution_count": 22,
   "metadata": {},
   "outputs": [
    {
     "data": {
      "text/plain": [
       "(235, 1)"
      ]
     },
     "execution_count": 22,
     "metadata": {},
     "output_type": "execute_result"
    }
   ],
   "source": [
    "encoded_output.shape"
   ]
  },
  {
   "cell_type": "code",
   "execution_count": 23,
   "metadata": {},
   "outputs": [],
   "source": [
    "def one_hot(encode):\n",
    "    o = OneHotEncoder(sparse = False)\n",
    "    return(o.fit_transform(encode))"
   ]
  },
  {
   "cell_type": "code",
   "execution_count": 24,
   "metadata": {},
   "outputs": [],
   "source": [
    "output_one_hot = one_hot(encoded_output)"
   ]
  },
  {
   "cell_type": "code",
   "execution_count": 25,
   "metadata": {},
   "outputs": [
    {
     "data": {
      "text/plain": [
       "(235, 4)"
      ]
     },
     "execution_count": 25,
     "metadata": {},
     "output_type": "execute_result"
    }
   ],
   "source": [
    "output_one_hot.shape"
   ]
  },
  {
   "cell_type": "code",
   "execution_count": 26,
   "metadata": {},
   "outputs": [],
   "source": [
    "from sklearn.model_selection import train_test_split"
   ]
  },
  {
   "cell_type": "code",
   "execution_count": 27,
   "metadata": {},
   "outputs": [],
   "source": [
    "train_X, val_X, train_Y, val_Y = train_test_split(padded_doc, output_one_hot, shuffle = True, test_size = 0.2)\n"
   ]
  },
  {
   "cell_type": "code",
   "execution_count": 28,
   "metadata": {},
   "outputs": [
    {
     "name": "stdout",
     "output_type": "stream",
     "text": [
      "Shape of train_X = (188, 9) and train_Y = (188, 4)\n",
      "Shape of val_X = (47, 9) and val_Y = (47, 4)\n"
     ]
    }
   ],
   "source": [
    "print(\"Shape of train_X = %s and train_Y = %s\" % (train_X.shape, train_Y.shape))\n",
    "print(\"Shape of val_X = %s and val_Y = %s\" % (val_X.shape, val_Y.shape))"
   ]
  },
  {
   "cell_type": "code",
   "execution_count": 29,
   "metadata": {},
   "outputs": [],
   "source": [
    "def create_model(vocab_size, max_length):\n",
    "    model = Sequential()\n",
    "    model.add(Embedding(vocab_size, 128, input_length = max_length, trainable = True))\n",
    "    model.add(Bidirectional(LSTM(128)))\n",
    "#   model.add(LSTM(128))\n",
    "    model.add(Dense(32, activation = \"relu\"))\n",
    "    model.add(Dropout(0.5))\n",
    "    model.add(Dense(4, activation = \"softmax\"))\n",
    "  \n",
    "    return model\n",
    "\n",
    "\n",
    "\n"
   ]
  },
  {
   "cell_type": "code",
   "execution_count": 30,
   "metadata": {},
   "outputs": [
    {
     "name": "stdout",
     "output_type": "stream",
     "text": [
      "Model: \"sequential_1\"\n",
      "_________________________________________________________________\n",
      "Layer (type)                 Output Shape              Param #   \n",
      "=================================================================\n",
      "embedding_1 (Embedding)      (None, 9, 128)            18560     \n",
      "_________________________________________________________________\n",
      "bidirectional_1 (Bidirection (None, 256)               263168    \n",
      "_________________________________________________________________\n",
      "dense_1 (Dense)              (None, 32)                8224      \n",
      "_________________________________________________________________\n",
      "dropout_1 (Dropout)          (None, 32)                0         \n",
      "_________________________________________________________________\n",
      "dense_2 (Dense)              (None, 4)                 132       \n",
      "=================================================================\n",
      "Total params: 290,084\n",
      "Trainable params: 290,084\n",
      "Non-trainable params: 0\n",
      "_________________________________________________________________\n"
     ]
    }
   ],
   "source": [
    "model = create_model(vocab_size, max_length)\n",
    "\n",
    "model.compile(loss = \"categorical_crossentropy\", optimizer = \"adam\", metrics = [\"accuracy\"])\n",
    "model.summary()"
   ]
  },
  {
   "cell_type": "code",
   "execution_count": 31,
   "metadata": {},
   "outputs": [
    {
     "name": "stderr",
     "output_type": "stream",
     "text": [
      "/Users/maxlengdell/opt/anaconda3/envs/nnD7046E/lib/python3.6/site-packages/tensorflow_core/python/framework/indexed_slices.py:424: UserWarning: Converting sparse IndexedSlices to a dense Tensor of unknown shape. This may consume a large amount of memory.\n",
      "  \"Converting sparse IndexedSlices to a dense Tensor of unknown shape. \"\n"
     ]
    },
    {
     "name": "stdout",
     "output_type": "stream",
     "text": [
      "Train on 188 samples, validate on 47 samples\n",
      "Epoch 1/200\n",
      "188/188 [==============================] - 4s 22ms/step - loss: 1.3761 - accuracy: 0.2926 - val_loss: 1.3755 - val_accuracy: 0.3191\n",
      "\n",
      "Epoch 00001: val_loss improved from inf to 1.37553, saving model to model.h5\n",
      "Epoch 2/200\n",
      "188/188 [==============================] - 0s 2ms/step - loss: 1.3362 - accuracy: 0.3457 - val_loss: 1.3660 - val_accuracy: 0.2979\n",
      "\n",
      "Epoch 00002: val_loss improved from 1.37553 to 1.36598, saving model to model.h5\n",
      "Epoch 3/200\n",
      "188/188 [==============================] - 0s 1ms/step - loss: 1.3016 - accuracy: 0.3936 - val_loss: 1.3546 - val_accuracy: 0.3191\n",
      "\n",
      "Epoch 00003: val_loss improved from 1.36598 to 1.35458, saving model to model.h5\n",
      "Epoch 4/200\n",
      "188/188 [==============================] - 0s 1ms/step - loss: 1.2266 - accuracy: 0.4947 - val_loss: 1.3443 - val_accuracy: 0.4894\n",
      "\n",
      "Epoch 00004: val_loss improved from 1.35458 to 1.34427, saving model to model.h5\n",
      "Epoch 5/200\n",
      "188/188 [==============================] - 0s 1ms/step - loss: 1.2114 - accuracy: 0.4521 - val_loss: 1.2894 - val_accuracy: 0.3191\n",
      "\n",
      "Epoch 00005: val_loss improved from 1.34427 to 1.28943, saving model to model.h5\n",
      "Epoch 6/200\n",
      "188/188 [==============================] - 0s 1ms/step - loss: 1.0730 - accuracy: 0.6277 - val_loss: 1.1903 - val_accuracy: 0.6383\n",
      "\n",
      "Epoch 00006: val_loss improved from 1.28943 to 1.19030, saving model to model.h5\n",
      "Epoch 7/200\n",
      "188/188 [==============================] - 0s 1ms/step - loss: 0.8771 - accuracy: 0.6862 - val_loss: 0.9938 - val_accuracy: 0.6809\n",
      "\n",
      "Epoch 00007: val_loss improved from 1.19030 to 0.99378, saving model to model.h5\n",
      "Epoch 8/200\n",
      "188/188 [==============================] - 0s 1ms/step - loss: 0.6765 - accuracy: 0.7606 - val_loss: 0.8453 - val_accuracy: 0.7234\n",
      "\n",
      "Epoch 00008: val_loss improved from 0.99378 to 0.84533, saving model to model.h5\n",
      "Epoch 9/200\n",
      "188/188 [==============================] - 0s 1ms/step - loss: 0.4341 - accuracy: 0.8511 - val_loss: 0.8290 - val_accuracy: 0.7447\n",
      "\n",
      "Epoch 00009: val_loss improved from 0.84533 to 0.82898, saving model to model.h5\n",
      "Epoch 10/200\n",
      "188/188 [==============================] - 0s 1ms/step - loss: 0.2920 - accuracy: 0.8723 - val_loss: 1.1170 - val_accuracy: 0.6596\n",
      "\n",
      "Epoch 00010: val_loss did not improve from 0.82898\n",
      "Epoch 11/200\n",
      "188/188 [==============================] - 0s 1ms/step - loss: 0.2941 - accuracy: 0.8989 - val_loss: 0.9475 - val_accuracy: 0.7021\n",
      "\n",
      "Epoch 00011: val_loss did not improve from 0.82898\n",
      "Epoch 12/200\n",
      "188/188 [==============================] - 0s 1ms/step - loss: 0.1863 - accuracy: 0.9521 - val_loss: 0.6816 - val_accuracy: 0.7447\n",
      "\n",
      "Epoch 00012: val_loss improved from 0.82898 to 0.68158, saving model to model.h5\n",
      "Epoch 13/200\n",
      "188/188 [==============================] - 0s 2ms/step - loss: 0.1403 - accuracy: 0.9734 - val_loss: 0.7336 - val_accuracy: 0.8298\n",
      "\n",
      "Epoch 00013: val_loss did not improve from 0.68158\n",
      "Epoch 14/200\n",
      "188/188 [==============================] - 0s 2ms/step - loss: 0.1320 - accuracy: 0.9521 - val_loss: 1.0032 - val_accuracy: 0.7872\n",
      "\n",
      "Epoch 00014: val_loss did not improve from 0.68158\n",
      "Epoch 15/200\n",
      "188/188 [==============================] - 0s 1ms/step - loss: 0.0686 - accuracy: 0.9840 - val_loss: 1.2500 - val_accuracy: 0.7660\n",
      "\n",
      "Epoch 00015: val_loss did not improve from 0.68158\n",
      "Epoch 16/200\n",
      "188/188 [==============================] - 0s 1ms/step - loss: 0.0543 - accuracy: 0.9734 - val_loss: 1.4055 - val_accuracy: 0.7447\n",
      "\n",
      "Epoch 00016: val_loss did not improve from 0.68158\n",
      "Epoch 17/200\n",
      "188/188 [==============================] - 0s 1ms/step - loss: 0.0282 - accuracy: 0.9947 - val_loss: 1.3271 - val_accuracy: 0.7872\n",
      "\n",
      "Epoch 00017: val_loss did not improve from 0.68158\n",
      "Epoch 18/200\n",
      "188/188 [==============================] - 0s 1ms/step - loss: 0.0552 - accuracy: 0.9840 - val_loss: 1.5880 - val_accuracy: 0.7447\n",
      "\n",
      "Epoch 00018: val_loss did not improve from 0.68158\n",
      "Epoch 19/200\n",
      "188/188 [==============================] - 0s 1ms/step - loss: 0.0454 - accuracy: 0.9840 - val_loss: 1.7144 - val_accuracy: 0.7660\n",
      "\n",
      "Epoch 00019: val_loss did not improve from 0.68158\n",
      "Epoch 20/200\n",
      "188/188 [==============================] - 0s 1ms/step - loss: 0.0704 - accuracy: 0.9787 - val_loss: 1.5815 - val_accuracy: 0.7447\n",
      "\n",
      "Epoch 00020: val_loss did not improve from 0.68158\n",
      "Epoch 21/200\n",
      "188/188 [==============================] - 0s 1ms/step - loss: 0.0210 - accuracy: 0.9947 - val_loss: 1.6304 - val_accuracy: 0.7447\n",
      "\n",
      "Epoch 00021: val_loss did not improve from 0.68158\n",
      "Epoch 22/200\n",
      "188/188 [==============================] - 0s 2ms/step - loss: 0.0240 - accuracy: 1.0000 - val_loss: 1.6717 - val_accuracy: 0.7660\n",
      "\n",
      "Epoch 00022: val_loss did not improve from 0.68158\n",
      "Epoch 23/200\n",
      "188/188 [==============================] - 0s 2ms/step - loss: 0.0306 - accuracy: 0.9894 - val_loss: 1.7533 - val_accuracy: 0.7660\n",
      "\n",
      "Epoch 00023: val_loss did not improve from 0.68158\n",
      "Epoch 24/200\n",
      "188/188 [==============================] - 0s 2ms/step - loss: 0.0148 - accuracy: 1.0000 - val_loss: 1.7958 - val_accuracy: 0.7660\n",
      "\n",
      "Epoch 00024: val_loss did not improve from 0.68158\n",
      "Epoch 25/200\n",
      "188/188 [==============================] - 0s 2ms/step - loss: 0.0101 - accuracy: 1.0000 - val_loss: 1.8719 - val_accuracy: 0.7660\n",
      "\n",
      "Epoch 00025: val_loss did not improve from 0.68158\n",
      "Epoch 26/200\n",
      "188/188 [==============================] - 0s 2ms/step - loss: 0.0061 - accuracy: 1.0000 - val_loss: 1.9574 - val_accuracy: 0.7660\n",
      "\n",
      "Epoch 00026: val_loss did not improve from 0.68158\n",
      "Epoch 27/200\n",
      "188/188 [==============================] - 0s 2ms/step - loss: 0.0214 - accuracy: 0.9947 - val_loss: 2.0368 - val_accuracy: 0.7660\n",
      "\n",
      "Epoch 00027: val_loss did not improve from 0.68158\n",
      "Epoch 28/200\n",
      "188/188 [==============================] - 0s 2ms/step - loss: 0.0112 - accuracy: 0.9947 - val_loss: 2.0863 - val_accuracy: 0.7660\n",
      "\n",
      "Epoch 00028: val_loss did not improve from 0.68158\n",
      "Epoch 29/200\n",
      "188/188 [==============================] - 0s 2ms/step - loss: 0.0158 - accuracy: 1.0000 - val_loss: 2.1521 - val_accuracy: 0.7660\n",
      "\n",
      "Epoch 00029: val_loss did not improve from 0.68158\n",
      "Epoch 30/200\n",
      "188/188 [==============================] - 0s 2ms/step - loss: 0.0075 - accuracy: 1.0000 - val_loss: 2.2254 - val_accuracy: 0.7660\n",
      "\n",
      "Epoch 00030: val_loss did not improve from 0.68158\n",
      "Epoch 31/200\n",
      "188/188 [==============================] - 0s 2ms/step - loss: 0.0159 - accuracy: 1.0000 - val_loss: 2.2576 - val_accuracy: 0.7447\n",
      "\n",
      "Epoch 00031: val_loss did not improve from 0.68158\n",
      "Epoch 32/200\n",
      "188/188 [==============================] - 0s 2ms/step - loss: 0.0065 - accuracy: 1.0000 - val_loss: 2.2426 - val_accuracy: 0.7447\n",
      "\n",
      "Epoch 00032: val_loss did not improve from 0.68158\n",
      "Epoch 33/200\n",
      "188/188 [==============================] - 0s 2ms/step - loss: 0.0031 - accuracy: 1.0000 - val_loss: 2.2500 - val_accuracy: 0.7447\n",
      "\n",
      "Epoch 00033: val_loss did not improve from 0.68158\n",
      "Epoch 34/200\n",
      "188/188 [==============================] - 0s 2ms/step - loss: 0.0134 - accuracy: 0.9947 - val_loss: 2.2955 - val_accuracy: 0.7447\n",
      "\n",
      "Epoch 00034: val_loss did not improve from 0.68158\n",
      "Epoch 35/200\n",
      "188/188 [==============================] - 0s 2ms/step - loss: 0.0101 - accuracy: 1.0000 - val_loss: 2.3891 - val_accuracy: 0.7447\n",
      "\n",
      "Epoch 00035: val_loss did not improve from 0.68158\n",
      "Epoch 36/200\n",
      "188/188 [==============================] - 0s 2ms/step - loss: 0.0200 - accuracy: 0.9947 - val_loss: 2.4810 - val_accuracy: 0.7447\n",
      "\n",
      "Epoch 00036: val_loss did not improve from 0.68158\n",
      "Epoch 37/200\n",
      "188/188 [==============================] - 0s 2ms/step - loss: 0.0107 - accuracy: 1.0000 - val_loss: 2.5655 - val_accuracy: 0.7447\n",
      "\n",
      "Epoch 00037: val_loss did not improve from 0.68158\n",
      "Epoch 38/200\n",
      "188/188 [==============================] - 0s 1ms/step - loss: 0.0059 - accuracy: 1.0000 - val_loss: 2.6319 - val_accuracy: 0.7447\n",
      "\n",
      "Epoch 00038: val_loss did not improve from 0.68158\n",
      "Epoch 39/200\n",
      "188/188 [==============================] - 0s 2ms/step - loss: 0.0066 - accuracy: 1.0000 - val_loss: 2.6763 - val_accuracy: 0.7447\n",
      "\n",
      "Epoch 00039: val_loss did not improve from 0.68158\n",
      "Epoch 40/200\n",
      "188/188 [==============================] - 0s 2ms/step - loss: 0.0167 - accuracy: 0.9947 - val_loss: 2.7528 - val_accuracy: 0.7447\n",
      "\n",
      "Epoch 00040: val_loss did not improve from 0.68158\n",
      "Epoch 41/200\n"
     ]
    },
    {
     "name": "stdout",
     "output_type": "stream",
     "text": [
      "188/188 [==============================] - 0s 2ms/step - loss: 0.0092 - accuracy: 1.0000 - val_loss: 2.7981 - val_accuracy: 0.7447\n",
      "\n",
      "Epoch 00041: val_loss did not improve from 0.68158\n",
      "Epoch 42/200\n",
      "188/188 [==============================] - 0s 2ms/step - loss: 0.0039 - accuracy: 1.0000 - val_loss: 2.8063 - val_accuracy: 0.7447\n",
      "\n",
      "Epoch 00042: val_loss did not improve from 0.68158\n",
      "Epoch 43/200\n",
      "188/188 [==============================] - 0s 2ms/step - loss: 0.0067 - accuracy: 1.0000 - val_loss: 2.7648 - val_accuracy: 0.7447\n",
      "\n",
      "Epoch 00043: val_loss did not improve from 0.68158\n",
      "Epoch 44/200\n",
      "188/188 [==============================] - 0s 2ms/step - loss: 0.0051 - accuracy: 1.0000 - val_loss: 2.7279 - val_accuracy: 0.7447\n",
      "\n",
      "Epoch 00044: val_loss did not improve from 0.68158\n",
      "Epoch 45/200\n",
      "188/188 [==============================] - 0s 2ms/step - loss: 0.0037 - accuracy: 1.0000 - val_loss: 2.7488 - val_accuracy: 0.7447\n",
      "\n",
      "Epoch 00045: val_loss did not improve from 0.68158\n",
      "Epoch 46/200\n",
      "188/188 [==============================] - 0s 2ms/step - loss: 0.0213 - accuracy: 0.9894 - val_loss: 2.7419 - val_accuracy: 0.7447\n",
      "\n",
      "Epoch 00046: val_loss did not improve from 0.68158\n",
      "Epoch 47/200\n",
      "188/188 [==============================] - 0s 2ms/step - loss: 0.0085 - accuracy: 1.0000 - val_loss: 2.6210 - val_accuracy: 0.7660\n",
      "\n",
      "Epoch 00047: val_loss did not improve from 0.68158\n",
      "Epoch 48/200\n",
      "188/188 [==============================] - 0s 2ms/step - loss: 0.0028 - accuracy: 1.0000 - val_loss: 2.6923 - val_accuracy: 0.7447\n",
      "\n",
      "Epoch 00048: val_loss did not improve from 0.68158\n",
      "Epoch 49/200\n",
      "188/188 [==============================] - 0s 2ms/step - loss: 0.0219 - accuracy: 0.9947 - val_loss: 2.7506 - val_accuracy: 0.7447\n",
      "\n",
      "Epoch 00049: val_loss did not improve from 0.68158\n",
      "Epoch 50/200\n",
      "188/188 [==============================] - 0s 2ms/step - loss: 0.0039 - accuracy: 1.0000 - val_loss: 2.7995 - val_accuracy: 0.7234\n",
      "\n",
      "Epoch 00050: val_loss did not improve from 0.68158\n",
      "Epoch 51/200\n",
      "188/188 [==============================] - 0s 2ms/step - loss: 0.0037 - accuracy: 1.0000 - val_loss: 2.8405 - val_accuracy: 0.7234\n",
      "\n",
      "Epoch 00051: val_loss did not improve from 0.68158\n",
      "Epoch 52/200\n",
      "188/188 [==============================] - 0s 2ms/step - loss: 0.0060 - accuracy: 1.0000 - val_loss: 2.8764 - val_accuracy: 0.7234\n",
      "\n",
      "Epoch 00052: val_loss did not improve from 0.68158\n",
      "Epoch 53/200\n",
      "188/188 [==============================] - 0s 2ms/step - loss: 0.0040 - accuracy: 1.0000 - val_loss: 2.9043 - val_accuracy: 0.7447\n",
      "\n",
      "Epoch 00053: val_loss did not improve from 0.68158\n",
      "Epoch 54/200\n",
      "188/188 [==============================] - 0s 2ms/step - loss: 0.0102 - accuracy: 0.9947 - val_loss: 2.9075 - val_accuracy: 0.7447\n",
      "\n",
      "Epoch 00054: val_loss did not improve from 0.68158\n",
      "Epoch 55/200\n",
      "188/188 [==============================] - 0s 2ms/step - loss: 0.0059 - accuracy: 1.0000 - val_loss: 2.9230 - val_accuracy: 0.7447\n",
      "\n",
      "Epoch 00055: val_loss did not improve from 0.68158\n",
      "Epoch 56/200\n",
      "188/188 [==============================] - 0s 2ms/step - loss: 0.0046 - accuracy: 1.0000 - val_loss: 3.0070 - val_accuracy: 0.7447\n",
      "\n",
      "Epoch 00056: val_loss did not improve from 0.68158\n",
      "Epoch 57/200\n",
      "188/188 [==============================] - 0s 2ms/step - loss: 0.0039 - accuracy: 1.0000 - val_loss: 3.1057 - val_accuracy: 0.7447\n",
      "\n",
      "Epoch 00057: val_loss did not improve from 0.68158\n",
      "Epoch 58/200\n",
      "188/188 [==============================] - 0s 2ms/step - loss: 0.0202 - accuracy: 0.9947 - val_loss: 3.1370 - val_accuracy: 0.7447\n",
      "\n",
      "Epoch 00058: val_loss did not improve from 0.68158\n",
      "Epoch 59/200\n",
      "188/188 [==============================] - 0s 2ms/step - loss: 0.0090 - accuracy: 1.0000 - val_loss: 2.9936 - val_accuracy: 0.7234\n",
      "\n",
      "Epoch 00059: val_loss did not improve from 0.68158\n",
      "Epoch 60/200\n",
      "188/188 [==============================] - 0s 2ms/step - loss: 0.0054 - accuracy: 1.0000 - val_loss: 2.9950 - val_accuracy: 0.7447\n",
      "\n",
      "Epoch 00060: val_loss did not improve from 0.68158\n",
      "Epoch 61/200\n",
      "188/188 [==============================] - 0s 2ms/step - loss: 0.0134 - accuracy: 0.9947 - val_loss: 3.0170 - val_accuracy: 0.7447\n",
      "\n",
      "Epoch 00061: val_loss did not improve from 0.68158\n",
      "Epoch 62/200\n",
      "188/188 [==============================] - 0s 2ms/step - loss: 0.0028 - accuracy: 1.0000 - val_loss: 3.0688 - val_accuracy: 0.7447\n",
      "\n",
      "Epoch 00062: val_loss did not improve from 0.68158\n",
      "Epoch 63/200\n",
      "188/188 [==============================] - 0s 2ms/step - loss: 0.0018 - accuracy: 1.0000 - val_loss: 3.1103 - val_accuracy: 0.7447\n",
      "\n",
      "Epoch 00063: val_loss did not improve from 0.68158\n",
      "Epoch 64/200\n",
      "188/188 [==============================] - 0s 2ms/step - loss: 0.0039 - accuracy: 1.0000 - val_loss: 3.1268 - val_accuracy: 0.7447\n",
      "\n",
      "Epoch 00064: val_loss did not improve from 0.68158\n",
      "Epoch 65/200\n",
      "188/188 [==============================] - 0s 2ms/step - loss: 0.0051 - accuracy: 1.0000 - val_loss: 3.1397 - val_accuracy: 0.7447\n",
      "\n",
      "Epoch 00065: val_loss did not improve from 0.68158\n",
      "Epoch 66/200\n",
      "188/188 [==============================] - 0s 2ms/step - loss: 0.0062 - accuracy: 1.0000 - val_loss: 3.1081 - val_accuracy: 0.7447\n",
      "\n",
      "Epoch 00066: val_loss did not improve from 0.68158\n",
      "Epoch 67/200\n",
      "188/188 [==============================] - 0s 2ms/step - loss: 0.0050 - accuracy: 1.0000 - val_loss: 3.0766 - val_accuracy: 0.7447\n",
      "\n",
      "Epoch 00067: val_loss did not improve from 0.68158\n",
      "Epoch 68/200\n",
      "188/188 [==============================] - 0s 2ms/step - loss: 0.0069 - accuracy: 1.0000 - val_loss: 2.9272 - val_accuracy: 0.7447\n",
      "\n",
      "Epoch 00068: val_loss did not improve from 0.68158\n",
      "Epoch 69/200\n",
      "188/188 [==============================] - 0s 2ms/step - loss: 0.0100 - accuracy: 0.9947 - val_loss: 2.8091 - val_accuracy: 0.7447\n",
      "\n",
      "Epoch 00069: val_loss did not improve from 0.68158\n",
      "Epoch 70/200\n",
      "188/188 [==============================] - 0s 2ms/step - loss: 0.0015 - accuracy: 1.0000 - val_loss: 2.7763 - val_accuracy: 0.7447\n",
      "\n",
      "Epoch 00070: val_loss did not improve from 0.68158\n",
      "Epoch 71/200\n",
      "188/188 [==============================] - 0s 2ms/step - loss: 0.0021 - accuracy: 1.0000 - val_loss: 2.8204 - val_accuracy: 0.7447\n",
      "\n",
      "Epoch 00071: val_loss did not improve from 0.68158\n",
      "Epoch 72/200\n",
      "188/188 [==============================] - 0s 2ms/step - loss: 0.0026 - accuracy: 1.0000 - val_loss: 2.8769 - val_accuracy: 0.7447\n",
      "\n",
      "Epoch 00072: val_loss did not improve from 0.68158\n",
      "Epoch 73/200\n",
      "188/188 [==============================] - 0s 2ms/step - loss: 0.0093 - accuracy: 0.9947 - val_loss: 2.9483 - val_accuracy: 0.7447\n",
      "\n",
      "Epoch 00073: val_loss did not improve from 0.68158\n",
      "Epoch 74/200\n",
      "188/188 [==============================] - 0s 2ms/step - loss: 0.0162 - accuracy: 0.9947 - val_loss: 3.0137 - val_accuracy: 0.7447\n",
      "\n",
      "Epoch 00074: val_loss did not improve from 0.68158\n",
      "Epoch 75/200\n",
      "188/188 [==============================] - 0s 2ms/step - loss: 0.0094 - accuracy: 0.9947 - val_loss: 3.0590 - val_accuracy: 0.7447\n",
      "\n",
      "Epoch 00075: val_loss did not improve from 0.68158\n",
      "Epoch 76/200\n",
      "188/188 [==============================] - 0s 2ms/step - loss: 0.0101 - accuracy: 0.9947 - val_loss: 3.1453 - val_accuracy: 0.7447\n",
      "\n",
      "Epoch 00076: val_loss did not improve from 0.68158\n",
      "Epoch 77/200\n",
      "188/188 [==============================] - 0s 2ms/step - loss: 0.0074 - accuracy: 0.9947 - val_loss: 3.1697 - val_accuracy: 0.7660\n",
      "\n",
      "Epoch 00077: val_loss did not improve from 0.68158\n",
      "Epoch 78/200\n",
      "188/188 [==============================] - 0s 2ms/step - loss: 0.0033 - accuracy: 1.0000 - val_loss: 3.1698 - val_accuracy: 0.7660\n",
      "\n",
      "Epoch 00078: val_loss did not improve from 0.68158\n",
      "Epoch 79/200\n",
      "188/188 [==============================] - 0s 2ms/step - loss: 0.0052 - accuracy: 1.0000 - val_loss: 3.2194 - val_accuracy: 0.7660\n",
      "\n",
      "Epoch 00079: val_loss did not improve from 0.68158\n",
      "Epoch 80/200\n",
      "188/188 [==============================] - 0s 2ms/step - loss: 0.0045 - accuracy: 1.0000 - val_loss: 3.2886 - val_accuracy: 0.7660\n",
      "\n",
      "Epoch 00080: val_loss did not improve from 0.68158\n",
      "Epoch 81/200\n",
      "188/188 [==============================] - 0s 2ms/step - loss: 0.0057 - accuracy: 1.0000 - val_loss: 3.3707 - val_accuracy: 0.7447\n",
      "\n",
      "Epoch 00081: val_loss did not improve from 0.68158\n",
      "Epoch 82/200\n",
      "188/188 [==============================] - 0s 2ms/step - loss: 0.0019 - accuracy: 1.0000 - val_loss: 3.4613 - val_accuracy: 0.7447\n",
      "\n",
      "Epoch 00082: val_loss did not improve from 0.68158\n",
      "Epoch 83/200\n"
     ]
    },
    {
     "name": "stdout",
     "output_type": "stream",
     "text": [
      "188/188 [==============================] - 0s 2ms/step - loss: 0.0018 - accuracy: 1.0000 - val_loss: 3.5016 - val_accuracy: 0.7447\n",
      "\n",
      "Epoch 00083: val_loss did not improve from 0.68158\n",
      "Epoch 84/200\n",
      "188/188 [==============================] - 0s 2ms/step - loss: 0.0089 - accuracy: 0.9947 - val_loss: 3.4773 - val_accuracy: 0.7447\n",
      "\n",
      "Epoch 00084: val_loss did not improve from 0.68158\n",
      "Epoch 85/200\n",
      "188/188 [==============================] - 0s 2ms/step - loss: 0.0032 - accuracy: 1.0000 - val_loss: 3.4700 - val_accuracy: 0.7447\n",
      "\n",
      "Epoch 00085: val_loss did not improve from 0.68158\n",
      "Epoch 86/200\n",
      "188/188 [==============================] - 0s 2ms/step - loss: 0.0099 - accuracy: 0.9947 - val_loss: 3.4597 - val_accuracy: 0.7447\n",
      "\n",
      "Epoch 00086: val_loss did not improve from 0.68158\n",
      "Epoch 87/200\n",
      "188/188 [==============================] - 0s 2ms/step - loss: 0.0175 - accuracy: 0.9947 - val_loss: 3.3906 - val_accuracy: 0.7447\n",
      "\n",
      "Epoch 00087: val_loss did not improve from 0.68158\n",
      "Epoch 88/200\n",
      "188/188 [==============================] - 0s 2ms/step - loss: 0.0110 - accuracy: 1.0000 - val_loss: 3.3650 - val_accuracy: 0.7447\n",
      "\n",
      "Epoch 00088: val_loss did not improve from 0.68158\n",
      "Epoch 89/200\n",
      "188/188 [==============================] - 0s 2ms/step - loss: 0.0056 - accuracy: 0.9947 - val_loss: 3.3340 - val_accuracy: 0.7447\n",
      "\n",
      "Epoch 00089: val_loss did not improve from 0.68158\n",
      "Epoch 90/200\n",
      "188/188 [==============================] - 0s 2ms/step - loss: 0.0047 - accuracy: 0.9947 - val_loss: 3.3219 - val_accuracy: 0.7447\n",
      "\n",
      "Epoch 00090: val_loss did not improve from 0.68158\n",
      "Epoch 91/200\n",
      "188/188 [==============================] - 0s 2ms/step - loss: 0.0026 - accuracy: 1.0000 - val_loss: 3.3394 - val_accuracy: 0.7447\n",
      "\n",
      "Epoch 00091: val_loss did not improve from 0.68158\n",
      "Epoch 92/200\n",
      "188/188 [==============================] - 0s 2ms/step - loss: 0.0105 - accuracy: 0.9947 - val_loss: 3.3873 - val_accuracy: 0.7447\n",
      "\n",
      "Epoch 00092: val_loss did not improve from 0.68158\n",
      "Epoch 93/200\n",
      "188/188 [==============================] - 0s 2ms/step - loss: 0.0018 - accuracy: 1.0000 - val_loss: 3.4182 - val_accuracy: 0.7447\n",
      "\n",
      "Epoch 00093: val_loss did not improve from 0.68158\n",
      "Epoch 94/200\n",
      "188/188 [==============================] - 0s 2ms/step - loss: 0.0038 - accuracy: 1.0000 - val_loss: 3.4355 - val_accuracy: 0.7447\n",
      "\n",
      "Epoch 00094: val_loss did not improve from 0.68158\n",
      "Epoch 95/200\n",
      "188/188 [==============================] - 0s 2ms/step - loss: 0.0099 - accuracy: 0.9947 - val_loss: 3.4748 - val_accuracy: 0.7447\n",
      "\n",
      "Epoch 00095: val_loss did not improve from 0.68158\n",
      "Epoch 96/200\n",
      "188/188 [==============================] - 0s 2ms/step - loss: 0.0038 - accuracy: 1.0000 - val_loss: 3.5322 - val_accuracy: 0.7447\n",
      "\n",
      "Epoch 00096: val_loss did not improve from 0.68158\n",
      "Epoch 97/200\n",
      "188/188 [==============================] - 0s 2ms/step - loss: 0.0022 - accuracy: 1.0000 - val_loss: 3.5780 - val_accuracy: 0.7447\n",
      "\n",
      "Epoch 00097: val_loss did not improve from 0.68158\n",
      "Epoch 98/200\n",
      "188/188 [==============================] - 0s 2ms/step - loss: 0.0141 - accuracy: 0.9947 - val_loss: 3.6162 - val_accuracy: 0.7447\n",
      "\n",
      "Epoch 00098: val_loss did not improve from 0.68158\n",
      "Epoch 99/200\n",
      "188/188 [==============================] - 0s 2ms/step - loss: 0.0018 - accuracy: 1.0000 - val_loss: 3.6488 - val_accuracy: 0.7447\n",
      "\n",
      "Epoch 00099: val_loss did not improve from 0.68158\n",
      "Epoch 100/200\n",
      "188/188 [==============================] - 0s 2ms/step - loss: 0.0141 - accuracy: 1.0000 - val_loss: 3.6946 - val_accuracy: 0.7447\n",
      "\n",
      "Epoch 00100: val_loss did not improve from 0.68158\n",
      "Epoch 101/200\n",
      "188/188 [==============================] - 0s 2ms/step - loss: 0.0012 - accuracy: 1.0000 - val_loss: 3.7304 - val_accuracy: 0.7447\n",
      "\n",
      "Epoch 00101: val_loss did not improve from 0.68158\n",
      "Epoch 102/200\n",
      "188/188 [==============================] - 0s 2ms/step - loss: 6.2088e-04 - accuracy: 1.0000 - val_loss: 3.7301 - val_accuracy: 0.7447\n",
      "\n",
      "Epoch 00102: val_loss did not improve from 0.68158\n",
      "Epoch 103/200\n",
      "188/188 [==============================] - 0s 2ms/step - loss: 0.0077 - accuracy: 0.9947 - val_loss: 3.4546 - val_accuracy: 0.7447\n",
      "\n",
      "Epoch 00103: val_loss did not improve from 0.68158\n",
      "Epoch 104/200\n",
      "188/188 [==============================] - 0s 2ms/step - loss: 0.0047 - accuracy: 1.0000 - val_loss: 3.3442 - val_accuracy: 0.7447\n",
      "\n",
      "Epoch 00104: val_loss did not improve from 0.68158\n",
      "Epoch 105/200\n",
      "188/188 [==============================] - 0s 2ms/step - loss: 0.0023 - accuracy: 1.0000 - val_loss: 3.3218 - val_accuracy: 0.7447\n",
      "\n",
      "Epoch 00105: val_loss did not improve from 0.68158\n",
      "Epoch 106/200\n",
      "188/188 [==============================] - 0s 2ms/step - loss: 0.0041 - accuracy: 1.0000 - val_loss: 3.3464 - val_accuracy: 0.7447\n",
      "\n",
      "Epoch 00106: val_loss did not improve from 0.68158\n",
      "Epoch 107/200\n",
      "188/188 [==============================] - 0s 2ms/step - loss: 0.0035 - accuracy: 1.0000 - val_loss: 3.4026 - val_accuracy: 0.7447\n",
      "\n",
      "Epoch 00107: val_loss did not improve from 0.68158\n",
      "Epoch 108/200\n",
      "188/188 [==============================] - 0s 2ms/step - loss: 0.0033 - accuracy: 1.0000 - val_loss: 3.4613 - val_accuracy: 0.7447\n",
      "\n",
      "Epoch 00108: val_loss did not improve from 0.68158\n",
      "Epoch 109/200\n",
      "188/188 [==============================] - 0s 2ms/step - loss: 0.0047 - accuracy: 1.0000 - val_loss: 3.5162 - val_accuracy: 0.7447\n",
      "\n",
      "Epoch 00109: val_loss did not improve from 0.68158\n",
      "Epoch 110/200\n",
      "188/188 [==============================] - 0s 2ms/step - loss: 2.7474e-04 - accuracy: 1.0000 - val_loss: 3.5712 - val_accuracy: 0.7447\n",
      "\n",
      "Epoch 00110: val_loss did not improve from 0.68158\n",
      "Epoch 111/200\n",
      "188/188 [==============================] - 0s 2ms/step - loss: 0.0057 - accuracy: 0.9947 - val_loss: 3.6276 - val_accuracy: 0.7447\n",
      "\n",
      "Epoch 00111: val_loss did not improve from 0.68158\n",
      "Epoch 112/200\n",
      "188/188 [==============================] - 0s 2ms/step - loss: 0.0033 - accuracy: 1.0000 - val_loss: 3.6960 - val_accuracy: 0.7447\n",
      "\n",
      "Epoch 00112: val_loss did not improve from 0.68158\n",
      "Epoch 113/200\n",
      "188/188 [==============================] - 0s 2ms/step - loss: 2.4844e-04 - accuracy: 1.0000 - val_loss: 3.7474 - val_accuracy: 0.7447\n",
      "\n",
      "Epoch 00113: val_loss did not improve from 0.68158\n",
      "Epoch 114/200\n",
      "188/188 [==============================] - 0s 2ms/step - loss: 0.0023 - accuracy: 1.0000 - val_loss: 3.8040 - val_accuracy: 0.7447\n",
      "\n",
      "Epoch 00114: val_loss did not improve from 0.68158\n",
      "Epoch 115/200\n",
      "188/188 [==============================] - 0s 2ms/step - loss: 0.0036 - accuracy: 1.0000 - val_loss: 3.8715 - val_accuracy: 0.7447\n",
      "\n",
      "Epoch 00115: val_loss did not improve from 0.68158\n",
      "Epoch 116/200\n",
      "188/188 [==============================] - 0s 2ms/step - loss: 7.5818e-04 - accuracy: 1.0000 - val_loss: 3.9331 - val_accuracy: 0.7447\n",
      "\n",
      "Epoch 00116: val_loss did not improve from 0.68158\n",
      "Epoch 117/200\n",
      "188/188 [==============================] - 0s 2ms/step - loss: 0.0015 - accuracy: 1.0000 - val_loss: 3.9894 - val_accuracy: 0.7447\n",
      "\n",
      "Epoch 00117: val_loss did not improve from 0.68158\n",
      "Epoch 118/200\n",
      "188/188 [==============================] - 0s 2ms/step - loss: 0.0126 - accuracy: 0.9947 - val_loss: 4.0493 - val_accuracy: 0.7447\n",
      "\n",
      "Epoch 00118: val_loss did not improve from 0.68158\n",
      "Epoch 119/200\n",
      "188/188 [==============================] - 0s 2ms/step - loss: 0.0013 - accuracy: 1.0000 - val_loss: 4.1229 - val_accuracy: 0.7447\n",
      "\n",
      "Epoch 00119: val_loss did not improve from 0.68158\n",
      "Epoch 120/200\n",
      "188/188 [==============================] - 0s 2ms/step - loss: 0.0011 - accuracy: 1.0000 - val_loss: 4.1755 - val_accuracy: 0.7447\n",
      "\n",
      "Epoch 00120: val_loss did not improve from 0.68158\n",
      "Epoch 121/200\n",
      "188/188 [==============================] - 0s 2ms/step - loss: 0.0034 - accuracy: 1.0000 - val_loss: 4.2228 - val_accuracy: 0.7447\n",
      "\n",
      "Epoch 00121: val_loss did not improve from 0.68158\n",
      "Epoch 122/200\n",
      "188/188 [==============================] - 0s 2ms/step - loss: 0.0038 - accuracy: 1.0000 - val_loss: 4.2497 - val_accuracy: 0.7447\n",
      "\n",
      "Epoch 00122: val_loss did not improve from 0.68158\n",
      "Epoch 123/200\n",
      "188/188 [==============================] - 0s 2ms/step - loss: 0.0074 - accuracy: 0.9947 - val_loss: 4.2523 - val_accuracy: 0.7447\n",
      "\n",
      "Epoch 00123: val_loss did not improve from 0.68158\n",
      "Epoch 124/200\n",
      "188/188 [==============================] - 0s 2ms/step - loss: 4.1304e-04 - accuracy: 1.0000 - val_loss: 4.2509 - val_accuracy: 0.7447\n"
     ]
    },
    {
     "name": "stdout",
     "output_type": "stream",
     "text": [
      "\n",
      "Epoch 00124: val_loss did not improve from 0.68158\n",
      "Epoch 125/200\n",
      "188/188 [==============================] - 0s 2ms/step - loss: 0.0076 - accuracy: 1.0000 - val_loss: 4.2201 - val_accuracy: 0.7447\n",
      "\n",
      "Epoch 00125: val_loss did not improve from 0.68158\n",
      "Epoch 126/200\n",
      "188/188 [==============================] - 0s 2ms/step - loss: 0.0052 - accuracy: 1.0000 - val_loss: 4.0868 - val_accuracy: 0.7447\n",
      "\n",
      "Epoch 00126: val_loss did not improve from 0.68158\n",
      "Epoch 127/200\n",
      "188/188 [==============================] - 0s 2ms/step - loss: 0.0074 - accuracy: 0.9947 - val_loss: 4.0200 - val_accuracy: 0.7447\n",
      "\n",
      "Epoch 00127: val_loss did not improve from 0.68158\n",
      "Epoch 128/200\n",
      "188/188 [==============================] - 0s 2ms/step - loss: 4.1854e-04 - accuracy: 1.0000 - val_loss: 4.0109 - val_accuracy: 0.7447\n",
      "\n",
      "Epoch 00128: val_loss did not improve from 0.68158\n",
      "Epoch 129/200\n",
      "188/188 [==============================] - 0s 2ms/step - loss: 0.0016 - accuracy: 1.0000 - val_loss: 4.0403 - val_accuracy: 0.7447\n",
      "\n",
      "Epoch 00129: val_loss did not improve from 0.68158\n",
      "Epoch 130/200\n",
      "188/188 [==============================] - 0s 2ms/step - loss: 0.0035 - accuracy: 1.0000 - val_loss: 4.0793 - val_accuracy: 0.7447\n",
      "\n",
      "Epoch 00130: val_loss did not improve from 0.68158\n",
      "Epoch 131/200\n",
      "188/188 [==============================] - 0s 2ms/step - loss: 0.0026 - accuracy: 1.0000 - val_loss: 4.1598 - val_accuracy: 0.7447\n",
      "\n",
      "Epoch 00131: val_loss did not improve from 0.68158\n",
      "Epoch 132/200\n",
      "188/188 [==============================] - 0s 2ms/step - loss: 0.0529 - accuracy: 0.9840 - val_loss: 4.3111 - val_accuracy: 0.7021\n",
      "\n",
      "Epoch 00132: val_loss did not improve from 0.68158\n",
      "Epoch 133/200\n",
      "188/188 [==============================] - 0s 2ms/step - loss: 0.1218 - accuracy: 0.9787 - val_loss: 2.7202 - val_accuracy: 0.7872\n",
      "\n",
      "Epoch 00133: val_loss did not improve from 0.68158\n",
      "Epoch 134/200\n",
      "188/188 [==============================] - 0s 2ms/step - loss: 0.1183 - accuracy: 0.9840 - val_loss: 1.7121 - val_accuracy: 0.7872\n",
      "\n",
      "Epoch 00134: val_loss did not improve from 0.68158\n",
      "Epoch 135/200\n",
      "188/188 [==============================] - 0s 2ms/step - loss: 0.0303 - accuracy: 0.9894 - val_loss: 1.4250 - val_accuracy: 0.7660\n",
      "\n",
      "Epoch 00135: val_loss did not improve from 0.68158\n",
      "Epoch 136/200\n",
      "188/188 [==============================] - 0s 2ms/step - loss: 0.0155 - accuracy: 0.9947 - val_loss: 1.4383 - val_accuracy: 0.7872\n",
      "\n",
      "Epoch 00136: val_loss did not improve from 0.68158\n",
      "Epoch 137/200\n",
      "188/188 [==============================] - 0s 2ms/step - loss: 0.0053 - accuracy: 1.0000 - val_loss: 1.4510 - val_accuracy: 0.7660\n",
      "\n",
      "Epoch 00137: val_loss did not improve from 0.68158\n",
      "Epoch 138/200\n",
      "188/188 [==============================] - 0s 2ms/step - loss: 0.0179 - accuracy: 0.9947 - val_loss: 1.4594 - val_accuracy: 0.8085\n",
      "\n",
      "Epoch 00138: val_loss did not improve from 0.68158\n",
      "Epoch 139/200\n",
      "188/188 [==============================] - 0s 2ms/step - loss: 0.0063 - accuracy: 1.0000 - val_loss: 1.4660 - val_accuracy: 0.8085\n",
      "\n",
      "Epoch 00139: val_loss did not improve from 0.68158\n",
      "Epoch 140/200\n",
      "188/188 [==============================] - 0s 2ms/step - loss: 0.0093 - accuracy: 1.0000 - val_loss: 1.4646 - val_accuracy: 0.8085\n",
      "\n",
      "Epoch 00140: val_loss did not improve from 0.68158\n",
      "Epoch 141/200\n",
      "188/188 [==============================] - 0s 2ms/step - loss: 0.0211 - accuracy: 0.9894 - val_loss: 1.4504 - val_accuracy: 0.8085\n",
      "\n",
      "Epoch 00141: val_loss did not improve from 0.68158\n",
      "Epoch 142/200\n",
      "188/188 [==============================] - 0s 2ms/step - loss: 0.0089 - accuracy: 1.0000 - val_loss: 1.4385 - val_accuracy: 0.8085\n",
      "\n",
      "Epoch 00142: val_loss did not improve from 0.68158\n",
      "Epoch 143/200\n",
      "188/188 [==============================] - 0s 2ms/step - loss: 0.0037 - accuracy: 1.0000 - val_loss: 1.4329 - val_accuracy: 0.8085\n",
      "\n",
      "Epoch 00143: val_loss did not improve from 0.68158\n",
      "Epoch 144/200\n",
      "188/188 [==============================] - 0s 2ms/step - loss: 0.0116 - accuracy: 0.9947 - val_loss: 1.4384 - val_accuracy: 0.8085\n",
      "\n",
      "Epoch 00144: val_loss did not improve from 0.68158\n",
      "Epoch 145/200\n",
      "188/188 [==============================] - 0s 2ms/step - loss: 0.0093 - accuracy: 0.9947 - val_loss: 1.4640 - val_accuracy: 0.8085\n",
      "\n",
      "Epoch 00145: val_loss did not improve from 0.68158\n",
      "Epoch 146/200\n",
      "188/188 [==============================] - 0s 2ms/step - loss: 0.0081 - accuracy: 0.9947 - val_loss: 1.4926 - val_accuracy: 0.8085\n",
      "\n",
      "Epoch 00146: val_loss did not improve from 0.68158\n",
      "Epoch 147/200\n",
      "188/188 [==============================] - 0s 2ms/step - loss: 0.0041 - accuracy: 1.0000 - val_loss: 1.5065 - val_accuracy: 0.8085\n",
      "\n",
      "Epoch 00147: val_loss did not improve from 0.68158\n",
      "Epoch 148/200\n",
      "188/188 [==============================] - 0s 2ms/step - loss: 0.0013 - accuracy: 1.0000 - val_loss: 1.5166 - val_accuracy: 0.8085\n",
      "\n",
      "Epoch 00148: val_loss did not improve from 0.68158\n",
      "Epoch 149/200\n",
      "188/188 [==============================] - 0s 2ms/step - loss: 0.0062 - accuracy: 0.9947 - val_loss: 1.5286 - val_accuracy: 0.8085\n",
      "\n",
      "Epoch 00149: val_loss did not improve from 0.68158\n",
      "Epoch 150/200\n",
      "188/188 [==============================] - 0s 2ms/step - loss: 0.0108 - accuracy: 0.9947 - val_loss: 1.5396 - val_accuracy: 0.8085\n",
      "\n",
      "Epoch 00150: val_loss did not improve from 0.68158\n",
      "Epoch 151/200\n",
      "188/188 [==============================] - 0s 2ms/step - loss: 0.0197 - accuracy: 0.9894 - val_loss: 1.5587 - val_accuracy: 0.8085\n",
      "\n",
      "Epoch 00151: val_loss did not improve from 0.68158\n",
      "Epoch 152/200\n",
      "188/188 [==============================] - 0s 2ms/step - loss: 0.0100 - accuracy: 1.0000 - val_loss: 1.5829 - val_accuracy: 0.8085\n",
      "\n",
      "Epoch 00152: val_loss did not improve from 0.68158\n",
      "Epoch 153/200\n",
      "188/188 [==============================] - 0s 2ms/step - loss: 0.0024 - accuracy: 1.0000 - val_loss: 1.6132 - val_accuracy: 0.7872\n",
      "\n",
      "Epoch 00153: val_loss did not improve from 0.68158\n",
      "Epoch 154/200\n",
      "188/188 [==============================] - 0s 2ms/step - loss: 0.0065 - accuracy: 0.9947 - val_loss: 1.6315 - val_accuracy: 0.7872\n",
      "\n",
      "Epoch 00154: val_loss did not improve from 0.68158\n",
      "Epoch 155/200\n",
      "188/188 [==============================] - 0s 2ms/step - loss: 0.0036 - accuracy: 1.0000 - val_loss: 1.6354 - val_accuracy: 0.7872\n",
      "\n",
      "Epoch 00155: val_loss did not improve from 0.68158\n",
      "Epoch 156/200\n",
      "188/188 [==============================] - 0s 2ms/step - loss: 0.0024 - accuracy: 1.0000 - val_loss: 1.6500 - val_accuracy: 0.7872\n",
      "\n",
      "Epoch 00156: val_loss did not improve from 0.68158\n",
      "Epoch 157/200\n",
      "188/188 [==============================] - 0s 2ms/step - loss: 0.0043 - accuracy: 1.0000 - val_loss: 1.6668 - val_accuracy: 0.7872\n",
      "\n",
      "Epoch 00157: val_loss did not improve from 0.68158\n",
      "Epoch 158/200\n",
      "188/188 [==============================] - 0s 2ms/step - loss: 0.0044 - accuracy: 1.0000 - val_loss: 1.6735 - val_accuracy: 0.7872\n",
      "\n",
      "Epoch 00158: val_loss did not improve from 0.68158\n",
      "Epoch 159/200\n",
      "188/188 [==============================] - 0s 2ms/step - loss: 0.0065 - accuracy: 1.0000 - val_loss: 1.6801 - val_accuracy: 0.8085\n",
      "\n",
      "Epoch 00159: val_loss did not improve from 0.68158\n",
      "Epoch 160/200\n",
      "188/188 [==============================] - 0s 2ms/step - loss: 6.5177e-04 - accuracy: 1.0000 - val_loss: 1.6854 - val_accuracy: 0.8085\n",
      "\n",
      "Epoch 00160: val_loss did not improve from 0.68158\n",
      "Epoch 161/200\n",
      "188/188 [==============================] - 0s 2ms/step - loss: 0.0017 - accuracy: 1.0000 - val_loss: 1.6910 - val_accuracy: 0.8085\n",
      "\n",
      "Epoch 00161: val_loss did not improve from 0.68158\n",
      "Epoch 162/200\n",
      "188/188 [==============================] - 0s 2ms/step - loss: 0.0025 - accuracy: 1.0000 - val_loss: 1.7007 - val_accuracy: 0.8085\n",
      "\n",
      "Epoch 00162: val_loss did not improve from 0.68158\n",
      "Epoch 163/200\n",
      "188/188 [==============================] - 0s 2ms/step - loss: 0.0124 - accuracy: 0.9947 - val_loss: 1.7106 - val_accuracy: 0.8085\n",
      "\n",
      "Epoch 00163: val_loss did not improve from 0.68158\n",
      "Epoch 164/200\n",
      "188/188 [==============================] - 0s 2ms/step - loss: 0.0023 - accuracy: 1.0000 - val_loss: 1.7153 - val_accuracy: 0.8085\n",
      "\n",
      "Epoch 00164: val_loss did not improve from 0.68158\n",
      "Epoch 165/200\n",
      "188/188 [==============================] - 0s 2ms/step - loss: 0.0034 - accuracy: 1.0000 - val_loss: 1.7201 - val_accuracy: 0.8085\n",
      "\n",
      "Epoch 00165: val_loss did not improve from 0.68158\n",
      "Epoch 166/200\n"
     ]
    },
    {
     "name": "stdout",
     "output_type": "stream",
     "text": [
      "188/188 [==============================] - 0s 2ms/step - loss: 0.0050 - accuracy: 1.0000 - val_loss: 1.7271 - val_accuracy: 0.8085\n",
      "\n",
      "Epoch 00166: val_loss did not improve from 0.68158\n",
      "Epoch 167/200\n",
      "188/188 [==============================] - 0s 2ms/step - loss: 0.0055 - accuracy: 0.9947 - val_loss: 1.7161 - val_accuracy: 0.8085\n",
      "\n",
      "Epoch 00167: val_loss did not improve from 0.68158\n",
      "Epoch 168/200\n",
      "188/188 [==============================] - 0s 2ms/step - loss: 0.0021 - accuracy: 1.0000 - val_loss: 1.7183 - val_accuracy: 0.8085\n",
      "\n",
      "Epoch 00168: val_loss did not improve from 0.68158\n",
      "Epoch 169/200\n",
      "188/188 [==============================] - 0s 2ms/step - loss: 0.0133 - accuracy: 0.9947 - val_loss: 1.7244 - val_accuracy: 0.8085\n",
      "\n",
      "Epoch 00169: val_loss did not improve from 0.68158\n",
      "Epoch 170/200\n",
      "188/188 [==============================] - 0s 2ms/step - loss: 0.0102 - accuracy: 0.9947 - val_loss: 1.7363 - val_accuracy: 0.8085\n",
      "\n",
      "Epoch 00170: val_loss did not improve from 0.68158\n",
      "Epoch 171/200\n",
      "188/188 [==============================] - 0s 2ms/step - loss: 0.0073 - accuracy: 1.0000 - val_loss: 1.7479 - val_accuracy: 0.8085\n",
      "\n",
      "Epoch 00171: val_loss did not improve from 0.68158\n",
      "Epoch 172/200\n",
      "188/188 [==============================] - 0s 2ms/step - loss: 0.0012 - accuracy: 1.0000 - val_loss: 1.7633 - val_accuracy: 0.8085\n",
      "\n",
      "Epoch 00172: val_loss did not improve from 0.68158\n",
      "Epoch 173/200\n",
      "188/188 [==============================] - 0s 2ms/step - loss: 0.0066 - accuracy: 1.0000 - val_loss: 1.7797 - val_accuracy: 0.8085\n",
      "\n",
      "Epoch 00173: val_loss did not improve from 0.68158\n",
      "Epoch 174/200\n",
      "188/188 [==============================] - 0s 2ms/step - loss: 0.0096 - accuracy: 0.9947 - val_loss: 1.8111 - val_accuracy: 0.7872\n",
      "\n",
      "Epoch 00174: val_loss did not improve from 0.68158\n",
      "Epoch 175/200\n",
      "188/188 [==============================] - 0s 2ms/step - loss: 0.0030 - accuracy: 1.0000 - val_loss: 1.8582 - val_accuracy: 0.7872\n",
      "\n",
      "Epoch 00175: val_loss did not improve from 0.68158\n",
      "Epoch 176/200\n",
      "188/188 [==============================] - 0s 2ms/step - loss: 0.0065 - accuracy: 0.9947 - val_loss: 1.9309 - val_accuracy: 0.7872\n",
      "\n",
      "Epoch 00176: val_loss did not improve from 0.68158\n",
      "Epoch 177/200\n",
      "188/188 [==============================] - 0s 2ms/step - loss: 0.0051 - accuracy: 1.0000 - val_loss: 1.9908 - val_accuracy: 0.7872\n",
      "\n",
      "Epoch 00177: val_loss did not improve from 0.68158\n",
      "Epoch 178/200\n",
      "188/188 [==============================] - 0s 2ms/step - loss: 7.3098e-04 - accuracy: 1.0000 - val_loss: 2.0229 - val_accuracy: 0.7872\n",
      "\n",
      "Epoch 00178: val_loss did not improve from 0.68158\n",
      "Epoch 179/200\n",
      "188/188 [==============================] - 0s 2ms/step - loss: 0.0028 - accuracy: 1.0000 - val_loss: 2.0454 - val_accuracy: 0.7872\n",
      "\n",
      "Epoch 00179: val_loss did not improve from 0.68158\n",
      "Epoch 180/200\n",
      "188/188 [==============================] - 0s 2ms/step - loss: 0.0031 - accuracy: 1.0000 - val_loss: 2.0652 - val_accuracy: 0.7872\n",
      "\n",
      "Epoch 00180: val_loss did not improve from 0.68158\n",
      "Epoch 181/200\n",
      "188/188 [==============================] - 0s 2ms/step - loss: 0.0030 - accuracy: 1.0000 - val_loss: 2.0862 - val_accuracy: 0.7872\n",
      "\n",
      "Epoch 00181: val_loss did not improve from 0.68158\n",
      "Epoch 182/200\n",
      "188/188 [==============================] - 0s 2ms/step - loss: 0.0120 - accuracy: 0.9947 - val_loss: 2.0991 - val_accuracy: 0.7872\n",
      "\n",
      "Epoch 00182: val_loss did not improve from 0.68158\n",
      "Epoch 183/200\n",
      "188/188 [==============================] - 0s 2ms/step - loss: 0.0025 - accuracy: 1.0000 - val_loss: 2.1179 - val_accuracy: 0.7872\n",
      "\n",
      "Epoch 00183: val_loss did not improve from 0.68158\n",
      "Epoch 184/200\n",
      "188/188 [==============================] - 0s 2ms/step - loss: 0.0016 - accuracy: 1.0000 - val_loss: 2.1317 - val_accuracy: 0.7872\n",
      "\n",
      "Epoch 00184: val_loss did not improve from 0.68158\n",
      "Epoch 185/200\n",
      "188/188 [==============================] - 0s 2ms/step - loss: 4.1382e-04 - accuracy: 1.0000 - val_loss: 2.1355 - val_accuracy: 0.7872\n",
      "\n",
      "Epoch 00185: val_loss did not improve from 0.68158\n",
      "Epoch 186/200\n",
      "188/188 [==============================] - 0s 2ms/step - loss: 0.0124 - accuracy: 0.9947 - val_loss: 2.1492 - val_accuracy: 0.7872\n",
      "\n",
      "Epoch 00186: val_loss did not improve from 0.68158\n",
      "Epoch 187/200\n",
      "188/188 [==============================] - 0s 2ms/step - loss: 0.0020 - accuracy: 1.0000 - val_loss: 2.1694 - val_accuracy: 0.7872\n",
      "\n",
      "Epoch 00187: val_loss did not improve from 0.68158\n",
      "Epoch 188/200\n",
      "188/188 [==============================] - 0s 2ms/step - loss: 0.0128 - accuracy: 0.9947 - val_loss: 2.2252 - val_accuracy: 0.7872\n",
      "\n",
      "Epoch 00188: val_loss did not improve from 0.68158\n",
      "Epoch 189/200\n",
      "188/188 [==============================] - 0s 2ms/step - loss: 0.0088 - accuracy: 0.9947 - val_loss: 2.2657 - val_accuracy: 0.7872\n",
      "\n",
      "Epoch 00189: val_loss did not improve from 0.68158\n",
      "Epoch 190/200\n",
      "188/188 [==============================] - 0s 2ms/step - loss: 1.9880e-04 - accuracy: 1.0000 - val_loss: 2.2949 - val_accuracy: 0.7872\n",
      "\n",
      "Epoch 00190: val_loss did not improve from 0.68158\n",
      "Epoch 191/200\n",
      "188/188 [==============================] - 0s 2ms/step - loss: 0.0014 - accuracy: 1.0000 - val_loss: 2.3107 - val_accuracy: 0.7872\n",
      "\n",
      "Epoch 00191: val_loss did not improve from 0.68158\n",
      "Epoch 192/200\n",
      "188/188 [==============================] - 0s 2ms/step - loss: 0.0014 - accuracy: 1.0000 - val_loss: 2.3219 - val_accuracy: 0.7872\n",
      "\n",
      "Epoch 00192: val_loss did not improve from 0.68158\n",
      "Epoch 193/200\n",
      "188/188 [==============================] - 0s 2ms/step - loss: 0.0056 - accuracy: 0.9947 - val_loss: 2.3278 - val_accuracy: 0.7872\n",
      "\n",
      "Epoch 00193: val_loss did not improve from 0.68158\n",
      "Epoch 194/200\n",
      "188/188 [==============================] - 0s 2ms/step - loss: 2.0713e-04 - accuracy: 1.0000 - val_loss: 2.3317 - val_accuracy: 0.7872\n",
      "\n",
      "Epoch 00194: val_loss did not improve from 0.68158\n",
      "Epoch 195/200\n",
      "188/188 [==============================] - 0s 2ms/step - loss: 0.0293 - accuracy: 0.9734 - val_loss: 2.3158 - val_accuracy: 0.7872\n",
      "\n",
      "Epoch 00195: val_loss did not improve from 0.68158\n",
      "Epoch 196/200\n",
      "188/188 [==============================] - 0s 2ms/step - loss: 0.0096 - accuracy: 0.9947 - val_loss: 2.3023 - val_accuracy: 0.7872\n",
      "\n",
      "Epoch 00196: val_loss did not improve from 0.68158\n",
      "Epoch 197/200\n",
      "188/188 [==============================] - 0s 2ms/step - loss: 9.8299e-04 - accuracy: 1.0000 - val_loss: 2.2985 - val_accuracy: 0.7872\n",
      "\n",
      "Epoch 00197: val_loss did not improve from 0.68158\n",
      "Epoch 198/200\n",
      "188/188 [==============================] - 0s 2ms/step - loss: 0.0134 - accuracy: 0.9894 - val_loss: 2.3507 - val_accuracy: 0.7872\n",
      "\n",
      "Epoch 00198: val_loss did not improve from 0.68158\n",
      "Epoch 199/200\n",
      "188/188 [==============================] - 0s 2ms/step - loss: 0.0085 - accuracy: 0.9947 - val_loss: 2.4567 - val_accuracy: 0.7872\n",
      "\n",
      "Epoch 00199: val_loss did not improve from 0.68158\n",
      "Epoch 200/200\n",
      "188/188 [==============================] - 0s 2ms/step - loss: 0.0014 - accuracy: 1.0000 - val_loss: 2.5102 - val_accuracy: 0.7872\n",
      "\n",
      "Epoch 00200: val_loss did not improve from 0.68158\n"
     ]
    }
   ],
   "source": [
    "filename = 'model.h5'\n",
    "checkpoint = ModelCheckpoint(filename, monitor='val_loss', verbose=1, save_best_only=True, mode='min')\n",
    "\n",
    "history = model.fit(train_X, train_Y, epochs = 200, batch_size = 32, validation_data = (val_X, val_Y), callbacks = [checkpoint])"
   ]
  },
  {
   "cell_type": "code",
   "execution_count": 33,
   "metadata": {},
   "outputs": [
    {
     "name": "stdout",
     "output_type": "stream",
     "text": [
      "dict_keys(['val_loss', 'val_accuracy', 'loss', 'accuracy'])\n"
     ]
    },
    {
     "data": {
      "image/png": "[encoded data removed]",
      "text/plain": [
       "<Figure size 432x288 with 1 Axes>"
      ]
     },
     "metadata": {
      "needs_background": "light"
     },
     "output_type": "display_data"
    },
    {
     "data": {
      "image/png": "[encoded data removed]",
      "text/plain": [
       "<Figure size 432x288 with 1 Axes>"
      ]
     },
     "metadata": {
      "needs_background": "light"
     },
     "output_type": "display_data"
    }
   ],
   "source": [
    "print(history.history.keys())\n",
    "# summarize history for accuracy\n",
    "plt.plot(history.history['accuracy'])\n",
    "plt.plot(history.history['val_accuracy'])\n",
    "plt.title('model accuracy')\n",
    "plt.ylabel('accuracy')\n",
    "plt.xlabel('epoch')\n",
    "plt.legend(['train', 'test'], loc='upper left')\n",
    "plt.show()\n",
    "# summarize history for loss\n",
    "plt.plot(history.history['loss'])\n",
    "plt.plot(history.history['val_loss'])\n",
    "plt.title('model loss')\n",
    "plt.ylabel('loss')\n",
    "plt.xlabel('epoch')\n",
    "plt.legend(['train', 'test'], loc='upper left')\n",
    "plt.show()"
   ]
  },
  {
   "cell_type": "code",
   "execution_count": 458,
   "metadata": {},
   "outputs": [
    {
     "name": "stderr",
     "output_type": "stream",
     "text": [
      "/Users/maxlengdell/opt/anaconda3/envs/nnD7046E/lib/python3.6/site-packages/tensorflow_core/python/framework/indexed_slices.py:424: UserWarning: Converting sparse IndexedSlices to a dense Tensor of unknown shape. This may consume a large amount of memory.\n",
      "  \"Converting sparse IndexedSlices to a dense Tensor of unknown shape. \"\n"
     ]
    }
   ],
   "source": [
    " model = load_model(\"model.h5\")"
   ]
  },
  {
   "cell_type": "code",
   "execution_count": null,
   "metadata": {},
   "outputs": [],
   "source": []
  },
  {
   "cell_type": "code",
   "execution_count": 459,
   "metadata": {},
   "outputs": [],
   "source": [
    "def predictions(text):\n",
    "    clean = re.sub(r'[^ a-z A-Z 0-9]', \" \", text)\n",
    "    test_word = word_tokenize(clean)\n",
    "    test_word = [w.lower() for w in test_word]\n",
    "    test_ls = word_tokenizer.texts_to_sequences(test_word)\n",
    "    print(test_word)\n",
    "    #Check for unknown words\n",
    "    if [] in test_ls:\n",
    "        test_ls = list(filter(None, test_ls))\n",
    "    \n",
    "    test_ls = np.array(test_ls).reshape(1, len(test_ls))\n",
    " \n",
    "    x = padding_doc(test_ls, max_length)\n",
    "  \n",
    "    pred = model.predict_proba(x)\n",
    "  \n",
    "  \n",
    "    return pred\n",
    "\n",
    "\n",
    "  "
   ]
  },
  {
   "cell_type": "code",
   "execution_count": 460,
   "metadata": {},
   "outputs": [],
   "source": [
    "def get_final_output(pred, classes):\n",
    "    predictions = pred[0]\n",
    " \n",
    "    classes = np.array(classes)\n",
    "    ids = np.argsort(-predictions)\n",
    "    classes = classes[ids]\n",
    "    predictions = -np.sort(-predictions)\n",
    " \n",
    "    for i in range(pred.shape[1]):\n",
    "        print(\"%s has confidence = %s\" % (classes[i], (predictions[i])))\n",
    "\n"
   ]
  },
  {
   "cell_type": "code",
   "execution_count": 461,
   "metadata": {
    "scrolled": false
   },
   "outputs": [
    {
     "name": "stdout",
     "output_type": "stream",
     "text": [
      "['how', 'much', 'does', 'it', 'cost']\n",
      "price has confidence = 1.0\n",
      "order has confidence = 8.161783e-11\n",
      "common has confidence = 8.893908e-17\n",
      "balance has confidence = 6.5078595e-19\n"
     ]
    }
   ],
   "source": [
    "#Price\n",
    "text = \"How much does it cost?\"\n",
    "pred = predictions(text)\n",
    "get_final_output(pred, unique_intent)"
   ]
  },
  {
   "cell_type": "code",
   "execution_count": 462,
   "metadata": {},
   "outputs": [
    {
     "name": "stdout",
     "output_type": "stream",
     "text": [
      "['how', 'many', 'pants', 'are', 'in', 'stock']\n",
      "balance has confidence = 1.0\n",
      "common has confidence = 2.8766227e-09\n",
      "order has confidence = 1.1516101e-11\n",
      "price has confidence = 1.068425e-14\n"
     ]
    }
   ],
   "source": [
    "#Balance\n",
    "text = \"how many pants are in stock?\"\n",
    "pred = predictions(text)\n",
    "get_final_output(pred, unique_intent)"
   ]
  },
  {
   "cell_type": "code",
   "execution_count": 463,
   "metadata": {},
   "outputs": [
    {
     "name": "stdout",
     "output_type": "stream",
     "text": [
      "['i', 'want', 'to', 'buy', '3', 'pants']\n",
      "order has confidence = 1.0\n",
      "balance has confidence = 1.7245578e-09\n",
      "common has confidence = 4.570789e-11\n",
      "price has confidence = 1.1538659e-11\n"
     ]
    }
   ],
   "source": [
    "#Order\n",
    "text = \"I want to buy 3 pants\"\n",
    "pred = predictions(text)\n",
    "get_final_output(pred, unique_intent)"
   ]
  },
  {
   "cell_type": "code",
   "execution_count": 464,
   "metadata": {},
   "outputs": [
    {
     "name": "stdout",
     "output_type": "stream",
     "text": [
      "['i', 'need', 'help']\n",
      "common has confidence = 0.88086003\n",
      "balance has confidence = 0.08307988\n",
      "price has confidence = 0.022841835\n",
      "order has confidence = 0.013218205\n"
     ]
    }
   ],
   "source": [
    "#Common\n",
    "text = \"I need help\"\n",
    "pred = predictions(text)\n",
    "get_final_output(pred, unique_intent)"
   ]
  },
  {
   "cell_type": "code",
   "execution_count": 280,
   "metadata": {},
   "outputs": [],
   "source": [
    "opening_lines = ['Hello, what can I help you with?',\n",
    "                'How can I help you?',\n",
    "                'Whats on your mind today?']\n",
    "\n",
    "def randomOpening():\n",
    "    index = random.randint(0,len(opening_lines)-1)\n",
    "    print(opening_lines[index])\n",
    "\n"
   ]
  },
  {
   "cell_type": "code",
   "execution_count": null,
   "metadata": {},
   "outputs": [
    {
     "name": "stdout",
     "output_type": "stream",
     "text": [
      "Hello, what can I help you with?\n"
     ]
    }
   ],
   "source": [
    "def cli():\n",
    "    while True:\n",
    "        randomOpening()\n",
    "        user_input = input(\"Ask the chatbot something: \")\n",
    "        print(user_input)\n",
    "        if(user_input==\"quit\"):\n",
    "            break\n",
    "        else:\n",
    "            pred = predictions(user_input)\n",
    "            print(pred)\n",
    "            get_final_output(pred, unique_intent)\n",
    "\n",
    "        \n",
    "cli()"
   ]
  },
  {
   "cell_type": "code",
   "execution_count": null,
   "metadata": {},
   "outputs": [],
   "source": []
  }
 ],
 "metadata": {
  "kernelspec": {
   "display_name": "Python 3",
   "language": "python",
   "name": "python3"
  },
  "language_info": {
   "codemirror_mode": {
    "name": "ipython",
    "version": 3
   },
   "file_extension": ".py",
   "mimetype": "text/x-python",
   "name": "python",
   "nbconvert_exporter": "python",
   "pygments_lexer": "ipython3",
   "version": "3.6.12"
  }
 },
 "nbformat": 4,
 "nbformat_minor": 4
}
