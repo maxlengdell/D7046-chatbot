{
 "cells": [
  {
   "cell_type": "code",
   "execution_count": 379,
   "metadata": {},
   "outputs": [],
   "source": [
    "import torch\n",
    "import torch.nn as nn\n",
    "\n",
    "import numpy as np\n",
    "import pandas as pd\n",
    "import random\n",
    "from nltk.corpus import stopwords\n",
    "from nltk.tokenize import word_tokenize\n",
    "from nltk.stem.lancaster import LancasterStemmer\n",
    "import nltk\n",
    "import re\n",
    "from sklearn.preprocessing import OneHotEncoder\n",
    "import matplotlib.pyplot as plt\n",
    "from keras.preprocessing.text import Tokenizer\n",
    "from keras.preprocessing.sequence import pad_sequences\n",
    "from keras.utils import to_categorical\n",
    "from keras.models import Sequential, load_model\n",
    "from keras.layers import Dense, LSTM, Bidirectional, Embedding, Dropout\n",
    "from keras.callbacks import ModelCheckpoint\n",
    "\n"
   ]
  },
  {
   "cell_type": "code",
   "execution_count": 380,
   "metadata": {},
   "outputs": [],
   "source": [
    "def load_dataset(filename):\n",
    "    df = pd.read_csv(filename, encoding = \"latin1\", names = [\"Sentence\", \"Intent\"])\n",
    "    print(df.head())\n",
    "    intent = df[\"Intent\"]\n",
    "    unique_intent = list(set(intent))\n",
    "    sentences = list(df[\"Sentence\"])\n",
    "  \n",
    "    return (intent, unique_intent, sentences)\n",
    "  \n"
   ]
  },
  {
   "cell_type": "code",
   "execution_count": 381,
   "metadata": {},
   "outputs": [
    {
     "name": "stdout",
     "output_type": "stream",
     "text": [
      "                    Sentence   Intent\n",
      "0  How many <item> are left?  balance\n",
      "1           Stock of <Item>?  balance\n",
      "2        Do you have <Item>?  balance\n",
      "3         Balance of <Item>?  balance\n",
      "4           Any <Item> left?  balance\n"
     ]
    }
   ],
   "source": [
    "intent, unique_intent, sentences = load_dataset(\"data.csv\")"
   ]
  },
  {
   "cell_type": "code",
   "execution_count": 382,
   "metadata": {},
   "outputs": [
    {
     "name": "stdout",
     "output_type": "stream",
     "text": [
      "['How many <item> are left?', 'Stock of <Item>?', 'Do you have <Item>?', 'Balance of <Item>?', 'Any <Item> left?']\n"
     ]
    }
   ],
   "source": [
    "print(sentences[:5])"
   ]
  },
  {
   "cell_type": "code",
   "execution_count": 383,
   "metadata": {},
   "outputs": [
    {
     "name": "stderr",
     "output_type": "stream",
     "text": [
      "[nltk_data] Downloading package stopwords to\n",
      "[nltk_data]     /Users/maxlengdell/nltk_data...\n",
      "[nltk_data]   Package stopwords is already up-to-date!\n",
      "[nltk_data] Downloading package punkt to\n",
      "[nltk_data]     /Users/maxlengdell/nltk_data...\n",
      "[nltk_data]   Package punkt is already up-to-date!\n"
     ]
    },
    {
     "data": {
      "text/plain": [
       "True"
      ]
     },
     "execution_count": 383,
     "metadata": {},
     "output_type": "execute_result"
    }
   ],
   "source": [
    "nltk.download(\"stopwords\")\n",
    "nltk.download(\"punkt\")"
   ]
  },
  {
   "cell_type": "code",
   "execution_count": 384,
   "metadata": {},
   "outputs": [],
   "source": [
    "#define stemmer\n",
    "stemmer = LancasterStemmer()"
   ]
  },
  {
   "cell_type": "code",
   "execution_count": 385,
   "metadata": {},
   "outputs": [],
   "source": [
    "def cleaning(sentences):\n",
    "    words = []\n",
    "    for s in sentences:\n",
    "        clean = re.sub(r'[^ a-z A-Z 0-9]', \" \", s)\n",
    "        w = word_tokenize(clean)\n",
    "        #stemming\n",
    "        words.append([i.lower() for i in w])\n",
    "    \n",
    "    return words  "
   ]
  },
  {
   "cell_type": "code",
   "execution_count": 386,
   "metadata": {},
   "outputs": [
    {
     "name": "stdout",
     "output_type": "stream",
     "text": [
      "118\n",
      "[['how', 'many', 'item', 'are', 'left'], ['stock', 'of', 'item']]\n"
     ]
    }
   ],
   "source": [
    "cleaned_words = cleaning(sentences)\n",
    "print(len(cleaned_words))\n",
    "print(cleaned_words[:2])  \n",
    "  \n"
   ]
  },
  {
   "cell_type": "code",
   "execution_count": 387,
   "metadata": {},
   "outputs": [],
   "source": [
    "def create_tokenizer(words, filters = '!\"#$%&()*+,-./:;<=>?@[\\]^_`{|}~'):\n",
    "    token = Tokenizer(filters = filters)\n",
    "    token.fit_on_texts(words)\n",
    "    print(token)\n",
    "    return token"
   ]
  },
  {
   "cell_type": "code",
   "execution_count": 388,
   "metadata": {},
   "outputs": [],
   "source": [
    "def max_length(words):\n",
    "    return(len(max(words, key = len)))\n",
    "  "
   ]
  },
  {
   "cell_type": "code",
   "execution_count": 389,
   "metadata": {},
   "outputs": [
    {
     "name": "stdout",
     "output_type": "stream",
     "text": [
      "<keras_preprocessing.text.Tokenizer object at 0x7ff7b03aa278>\n",
      "Vocab Size = 82 and Maximum length = 9\n"
     ]
    }
   ],
   "source": [
    "word_tokenizer = create_tokenizer(cleaned_words)\n",
    "vocab_size = len(word_tokenizer.word_index) + 1\n",
    "max_length = max_length(cleaned_words)\n",
    "\n",
    "print(\"Vocab Size = %d and Maximum length = %d\" % (vocab_size, max_length))"
   ]
  },
  {
   "cell_type": "code",
   "execution_count": 390,
   "metadata": {},
   "outputs": [],
   "source": [
    "def encoding_doc(token, words):\n",
    "    return(token.texts_to_sequences(words))"
   ]
  },
  {
   "cell_type": "code",
   "execution_count": 391,
   "metadata": {},
   "outputs": [],
   "source": [
    "encoded_doc = encoding_doc(word_tokenizer, cleaned_words)\n",
    "#print(encoded_doc)"
   ]
  },
  {
   "cell_type": "code",
   "execution_count": 392,
   "metadata": {},
   "outputs": [],
   "source": [
    "def padding_doc(encoded_doc, max_length):\n",
    "    return(pad_sequences(encoded_doc, maxlen = max_length, padding = \"post\"))"
   ]
  },
  {
   "cell_type": "code",
   "execution_count": 393,
   "metadata": {},
   "outputs": [],
   "source": [
    "padded_doc = padding_doc(encoded_doc, max_length)"
   ]
  },
  {
   "cell_type": "code",
   "execution_count": 394,
   "metadata": {},
   "outputs": [
    {
     "data": {
      "text/plain": [
       "array([[ 3, 22,  1,  7, 13,  0,  0,  0,  0],\n",
       "       [ 9,  4,  1,  0,  0,  0,  0,  0,  0],\n",
       "       [14,  2, 28,  1,  0,  0,  0,  0,  0],\n",
       "       [34,  4,  1,  0,  0,  0,  0,  0,  0],\n",
       "       [29,  1, 13,  0,  0,  0,  0,  0,  0]], dtype=int32)"
      ]
     },
     "execution_count": 394,
     "metadata": {},
     "output_type": "execute_result"
    }
   ],
   "source": [
    "padded_doc[:5]"
   ]
  },
  {
   "cell_type": "code",
   "execution_count": 395,
   "metadata": {},
   "outputs": [
    {
     "name": "stdout",
     "output_type": "stream",
     "text": [
      "Shape of padded docs =  (118, 9)\n"
     ]
    }
   ],
   "source": [
    "print(\"Shape of padded docs = \",padded_doc.shape)"
   ]
  },
  {
   "cell_type": "code",
   "execution_count": 396,
   "metadata": {},
   "outputs": [
    {
     "name": "stdout",
     "output_type": "stream",
     "text": [
      "<keras_preprocessing.text.Tokenizer object at 0x7ff7b03aae80>\n"
     ]
    }
   ],
   "source": [
    "#tokenizer with filter changed\n",
    "output_tokenizer = create_tokenizer(unique_intent, filters = '!\"#$%&()*+,-/:;<=>?@[\\]^`{|}~')\n"
   ]
  },
  {
   "cell_type": "code",
   "execution_count": 397,
   "metadata": {},
   "outputs": [
    {
     "data": {
      "text/plain": [
       "{'price': 1, 'common': 2, 'order': 3, 'balance': 4}"
      ]
     },
     "execution_count": 397,
     "metadata": {},
     "output_type": "execute_result"
    }
   ],
   "source": [
    "output_tokenizer.word_index"
   ]
  },
  {
   "cell_type": "code",
   "execution_count": 398,
   "metadata": {},
   "outputs": [],
   "source": [
    "encoded_output = encoding_doc(output_tokenizer, intent)"
   ]
  },
  {
   "cell_type": "code",
   "execution_count": 399,
   "metadata": {},
   "outputs": [],
   "source": [
    "encoded_output = np.array(encoded_output).reshape(len(encoded_output), 1)"
   ]
  },
  {
   "cell_type": "code",
   "execution_count": 400,
   "metadata": {},
   "outputs": [
    {
     "data": {
      "text/plain": [
       "(118, 1)"
      ]
     },
     "execution_count": 400,
     "metadata": {},
     "output_type": "execute_result"
    }
   ],
   "source": [
    "encoded_output.shape"
   ]
  },
  {
   "cell_type": "code",
   "execution_count": 401,
   "metadata": {},
   "outputs": [],
   "source": [
    "def one_hot(encode):\n",
    "    o = OneHotEncoder(sparse = False)\n",
    "    return(o.fit_transform(encode))"
   ]
  },
  {
   "cell_type": "code",
   "execution_count": 402,
   "metadata": {},
   "outputs": [],
   "source": [
    "output_one_hot = one_hot(encoded_output)"
   ]
  },
  {
   "cell_type": "code",
   "execution_count": 403,
   "metadata": {},
   "outputs": [
    {
     "data": {
      "text/plain": [
       "(118, 4)"
      ]
     },
     "execution_count": 403,
     "metadata": {},
     "output_type": "execute_result"
    }
   ],
   "source": [
    "output_one_hot.shape"
   ]
  },
  {
   "cell_type": "code",
   "execution_count": 404,
   "metadata": {},
   "outputs": [],
   "source": [
    "from sklearn.model_selection import train_test_split"
   ]
  },
  {
   "cell_type": "code",
   "execution_count": 405,
   "metadata": {},
   "outputs": [],
   "source": [
    "train_X, val_X, train_Y, val_Y = train_test_split(padded_doc, output_one_hot, shuffle = True, test_size = 0.2)\n"
   ]
  },
  {
   "cell_type": "code",
   "execution_count": 406,
   "metadata": {},
   "outputs": [
    {
     "name": "stdout",
     "output_type": "stream",
     "text": [
      "Shape of train_X = (94, 9) and train_Y = (94, 4)\n",
      "Shape of val_X = (24, 9) and val_Y = (24, 4)\n"
     ]
    }
   ],
   "source": [
    "print(\"Shape of train_X = %s and train_Y = %s\" % (train_X.shape, train_Y.shape))\n",
    "print(\"Shape of val_X = %s and val_Y = %s\" % (val_X.shape, val_Y.shape))"
   ]
  },
  {
   "cell_type": "code",
   "execution_count": 407,
   "metadata": {},
   "outputs": [],
   "source": [
    "def create_model(vocab_size, max_length):\n",
    "    model = Sequential()\n",
    "    model.add(Embedding(vocab_size, 128, input_length = max_length, trainable = True))\n",
    "    model.add(Bidirectional(LSTM(128)))\n",
    "#   model.add(LSTM(128))\n",
    "    model.add(Dense(32, activation = \"relu\"))\n",
    "    model.add(Dropout(0.5))\n",
    "    model.add(Dense(4, activation = \"softmax\"))\n",
    "  \n",
    "    return model\n",
    "\n",
    "\n",
    "\n"
   ]
  },
  {
   "cell_type": "code",
   "execution_count": 408,
   "metadata": {},
   "outputs": [
    {
     "name": "stdout",
     "output_type": "stream",
     "text": [
      "Model: \"sequential_12\"\n",
      "_________________________________________________________________\n",
      "Layer (type)                 Output Shape              Param #   \n",
      "=================================================================\n",
      "embedding_12 (Embedding)     (None, 9, 128)            10496     \n",
      "_________________________________________________________________\n",
      "bidirectional_12 (Bidirectio (None, 256)               263168    \n",
      "_________________________________________________________________\n",
      "dense_23 (Dense)             (None, 32)                8224      \n",
      "_________________________________________________________________\n",
      "dropout_9 (Dropout)          (None, 32)                0         \n",
      "_________________________________________________________________\n",
      "dense_24 (Dense)             (None, 4)                 132       \n",
      "=================================================================\n",
      "Total params: 282,020\n",
      "Trainable params: 271,524\n",
      "Non-trainable params: 10,496\n",
      "_________________________________________________________________\n"
     ]
    }
   ],
   "source": [
    "model = create_model(vocab_size, max_length)\n",
    "\n",
    "model.compile(loss = \"categorical_crossentropy\", optimizer = \"adam\", metrics = [\"accuracy\"])\n",
    "model.summary()"
   ]
  },
  {
   "cell_type": "code",
   "execution_count": 409,
   "metadata": {},
   "outputs": [
    {
     "name": "stdout",
     "output_type": "stream",
     "text": [
      "Train on 94 samples, validate on 24 samples\n",
      "Epoch 1/200\n",
      "94/94 [==============================] - 4s 41ms/step - loss: 1.3814 - accuracy: 0.2234 - val_loss: 1.3805 - val_accuracy: 0.3333\n",
      "\n",
      "Epoch 00001: val_loss improved from inf to 1.38048, saving model to model.h5\n",
      "Epoch 2/200\n",
      "94/94 [==============================] - 0s 1ms/step - loss: 1.3631 - accuracy: 0.3617 - val_loss: 1.3696 - val_accuracy: 0.2917\n",
      "\n",
      "Epoch 00002: val_loss improved from 1.38048 to 1.36959, saving model to model.h5\n",
      "Epoch 3/200\n",
      "94/94 [==============================] - 0s 1ms/step - loss: 1.3658 - accuracy: 0.3511 - val_loss: 1.3653 - val_accuracy: 0.2917\n",
      "\n",
      "Epoch 00003: val_loss improved from 1.36959 to 1.36532, saving model to model.h5\n",
      "Epoch 4/200\n",
      "94/94 [==============================] - 0s 1ms/step - loss: 1.3644 - accuracy: 0.3511 - val_loss: 1.3722 - val_accuracy: 0.2917\n",
      "\n",
      "Epoch 00004: val_loss did not improve from 1.36532\n",
      "Epoch 5/200\n",
      "94/94 [==============================] - 0s 1ms/step - loss: 1.3635 - accuracy: 0.3830 - val_loss: 1.3764 - val_accuracy: 0.3333\n",
      "\n",
      "Epoch 00005: val_loss did not improve from 1.36532\n",
      "Epoch 6/200\n",
      "94/94 [==============================] - 0s 1ms/step - loss: 1.3068 - accuracy: 0.4574 - val_loss: 1.3738 - val_accuracy: 0.3333\n",
      "\n",
      "Epoch 00006: val_loss did not improve from 1.36532\n",
      "Epoch 7/200\n",
      "94/94 [==============================] - 0s 1ms/step - loss: 1.3284 - accuracy: 0.4362 - val_loss: 1.3688 - val_accuracy: 0.3333\n",
      "\n",
      "Epoch 00007: val_loss did not improve from 1.36532\n",
      "Epoch 8/200\n",
      "94/94 [==============================] - 0s 1ms/step - loss: 1.3172 - accuracy: 0.4149 - val_loss: 1.3560 - val_accuracy: 0.3333\n",
      "\n",
      "Epoch 00008: val_loss improved from 1.36532 to 1.35604, saving model to model.h5\n",
      "Epoch 9/200\n",
      "94/94 [==============================] - 0s 1ms/step - loss: 1.2997 - accuracy: 0.3830 - val_loss: 1.3352 - val_accuracy: 0.3750\n",
      "\n",
      "Epoch 00009: val_loss improved from 1.35604 to 1.33521, saving model to model.h5\n",
      "Epoch 10/200\n",
      "94/94 [==============================] - 0s 1ms/step - loss: 1.2581 - accuracy: 0.4787 - val_loss: 1.3125 - val_accuracy: 0.3750\n",
      "\n",
      "Epoch 00010: val_loss improved from 1.33521 to 1.31247, saving model to model.h5\n",
      "Epoch 11/200\n",
      "94/94 [==============================] - 0s 1ms/step - loss: 1.2239 - accuracy: 0.5532 - val_loss: 1.2792 - val_accuracy: 0.4167\n",
      "\n",
      "Epoch 00011: val_loss improved from 1.31247 to 1.27924, saving model to model.h5\n",
      "Epoch 12/200\n",
      "94/94 [==============================] - 0s 1ms/step - loss: 1.2077 - accuracy: 0.5638 - val_loss: 1.2334 - val_accuracy: 0.4167\n",
      "\n",
      "Epoch 00012: val_loss improved from 1.27924 to 1.23337, saving model to model.h5\n",
      "Epoch 13/200\n",
      "94/94 [==============================] - 0s 1ms/step - loss: 1.1369 - accuracy: 0.6064 - val_loss: 1.1817 - val_accuracy: 0.6250\n",
      "\n",
      "Epoch 00013: val_loss improved from 1.23337 to 1.18166, saving model to model.h5\n",
      "Epoch 14/200\n",
      "94/94 [==============================] - 0s 1ms/step - loss: 1.0340 - accuracy: 0.6383 - val_loss: 1.0742 - val_accuracy: 0.7083\n",
      "\n",
      "Epoch 00014: val_loss improved from 1.18166 to 1.07416, saving model to model.h5\n",
      "Epoch 15/200\n",
      "94/94 [==============================] - 0s 1ms/step - loss: 0.9885 - accuracy: 0.6277 - val_loss: 1.0056 - val_accuracy: 0.6667\n",
      "\n",
      "Epoch 00015: val_loss improved from 1.07416 to 1.00558, saving model to model.h5\n",
      "Epoch 16/200\n",
      "94/94 [==============================] - 0s 1ms/step - loss: 0.8580 - accuracy: 0.6489 - val_loss: 0.9289 - val_accuracy: 0.6667\n",
      "\n",
      "Epoch 00016: val_loss improved from 1.00558 to 0.92891, saving model to model.h5\n",
      "Epoch 17/200\n",
      "94/94 [==============================] - 0s 1ms/step - loss: 0.7940 - accuracy: 0.6596 - val_loss: 0.8879 - val_accuracy: 0.5833\n",
      "\n",
      "Epoch 00017: val_loss improved from 0.92891 to 0.88794, saving model to model.h5\n",
      "Epoch 18/200\n",
      "94/94 [==============================] - 0s 1ms/step - loss: 0.7891 - accuracy: 0.6277 - val_loss: 0.8865 - val_accuracy: 0.5833\n",
      "\n",
      "Epoch 00018: val_loss improved from 0.88794 to 0.88654, saving model to model.h5\n",
      "Epoch 19/200\n",
      "94/94 [==============================] - 0s 1ms/step - loss: 0.6164 - accuracy: 0.6915 - val_loss: 1.1166 - val_accuracy: 0.5417\n",
      "\n",
      "Epoch 00019: val_loss did not improve from 0.88654\n",
      "Epoch 20/200\n",
      "94/94 [==============================] - 0s 1ms/step - loss: 0.6379 - accuracy: 0.7021 - val_loss: 0.8676 - val_accuracy: 0.6667\n",
      "\n",
      "Epoch 00020: val_loss improved from 0.88654 to 0.86759, saving model to model.h5\n",
      "Epoch 21/200\n",
      "94/94 [==============================] - 0s 1ms/step - loss: 0.5418 - accuracy: 0.8298 - val_loss: 0.8813 - val_accuracy: 0.7083\n",
      "\n",
      "Epoch 00021: val_loss did not improve from 0.86759\n",
      "Epoch 22/200\n",
      "94/94 [==============================] - 0s 1ms/step - loss: 0.5002 - accuracy: 0.7979 - val_loss: 1.0767 - val_accuracy: 0.6667\n",
      "\n",
      "Epoch 00022: val_loss did not improve from 0.86759\n",
      "Epoch 23/200\n",
      "94/94 [==============================] - 0s 2ms/step - loss: 0.4679 - accuracy: 0.8511 - val_loss: 0.9444 - val_accuracy: 0.7500\n",
      "\n",
      "Epoch 00023: val_loss did not improve from 0.86759\n",
      "Epoch 24/200\n",
      "94/94 [==============================] - 0s 1ms/step - loss: 0.4114 - accuracy: 0.8830 - val_loss: 0.8712 - val_accuracy: 0.7083\n",
      "\n",
      "Epoch 00024: val_loss did not improve from 0.86759\n",
      "Epoch 25/200\n",
      "94/94 [==============================] - 0s 1ms/step - loss: 0.4209 - accuracy: 0.8191 - val_loss: 0.9990 - val_accuracy: 0.7500\n",
      "\n",
      "Epoch 00025: val_loss did not improve from 0.86759\n",
      "Epoch 26/200\n",
      "94/94 [==============================] - 0s 1ms/step - loss: 0.3643 - accuracy: 0.9149 - val_loss: 1.0875 - val_accuracy: 0.6250\n",
      "\n",
      "Epoch 00026: val_loss did not improve from 0.86759\n",
      "Epoch 27/200\n",
      "94/94 [==============================] - 0s 2ms/step - loss: 0.2720 - accuracy: 0.8936 - val_loss: 0.9352 - val_accuracy: 0.7500\n",
      "\n",
      "Epoch 00027: val_loss did not improve from 0.86759\n",
      "Epoch 28/200\n",
      "94/94 [==============================] - 0s 1ms/step - loss: 0.3080 - accuracy: 0.8723 - val_loss: 0.9671 - val_accuracy: 0.7083\n",
      "\n",
      "Epoch 00028: val_loss did not improve from 0.86759\n",
      "Epoch 29/200\n",
      "94/94 [==============================] - 0s 1ms/step - loss: 0.2910 - accuracy: 0.8830 - val_loss: 1.0901 - val_accuracy: 0.7500\n",
      "\n",
      "Epoch 00029: val_loss did not improve from 0.86759\n",
      "Epoch 30/200\n",
      "94/94 [==============================] - 0s 1ms/step - loss: 0.2707 - accuracy: 0.9255 - val_loss: 0.9362 - val_accuracy: 0.7917\n",
      "\n",
      "Epoch 00030: val_loss did not improve from 0.86759\n",
      "Epoch 31/200\n",
      "94/94 [==============================] - 0s 1ms/step - loss: 0.2473 - accuracy: 0.9255 - val_loss: 0.8672 - val_accuracy: 0.7083\n",
      "\n",
      "Epoch 00031: val_loss improved from 0.86759 to 0.86718, saving model to model.h5\n",
      "Epoch 32/200\n",
      "94/94 [==============================] - 0s 1ms/step - loss: 0.2294 - accuracy: 0.9149 - val_loss: 0.9465 - val_accuracy: 0.7500\n",
      "\n",
      "Epoch 00032: val_loss did not improve from 0.86718\n",
      "Epoch 33/200\n",
      "94/94 [==============================] - 0s 1ms/step - loss: 0.1651 - accuracy: 0.9574 - val_loss: 1.0949 - val_accuracy: 0.7083\n",
      "\n",
      "Epoch 00033: val_loss did not improve from 0.86718\n",
      "Epoch 34/200\n",
      "94/94 [==============================] - 0s 1ms/step - loss: 0.1626 - accuracy: 0.9468 - val_loss: 1.0768 - val_accuracy: 0.7917\n",
      "\n",
      "Epoch 00034: val_loss did not improve from 0.86718\n",
      "Epoch 35/200\n",
      "94/94 [==============================] - 0s 1ms/step - loss: 0.2071 - accuracy: 0.9149 - val_loss: 1.0173 - val_accuracy: 0.7083\n",
      "\n",
      "Epoch 00035: val_loss did not improve from 0.86718\n",
      "Epoch 36/200\n",
      "94/94 [==============================] - 0s 1ms/step - loss: 0.1307 - accuracy: 0.9894 - val_loss: 1.0057 - val_accuracy: 0.7083\n",
      "\n",
      "Epoch 00036: val_loss did not improve from 0.86718\n",
      "Epoch 37/200\n",
      "94/94 [==============================] - 0s 2ms/step - loss: 0.1390 - accuracy: 0.9468 - val_loss: 0.9581 - val_accuracy: 0.7917\n",
      "\n",
      "Epoch 00037: val_loss did not improve from 0.86718\n",
      "Epoch 38/200\n",
      "94/94 [==============================] - 0s 1ms/step - loss: 0.1566 - accuracy: 0.9681 - val_loss: 1.1289 - val_accuracy: 0.7500\n",
      "\n",
      "Epoch 00038: val_loss did not improve from 0.86718\n",
      "Epoch 39/200\n",
      "94/94 [==============================] - 0s 1ms/step - loss: 0.1248 - accuracy: 0.9468 - val_loss: 1.2217 - val_accuracy: 0.7500\n",
      "\n",
      "Epoch 00039: val_loss did not improve from 0.86718\n",
      "Epoch 40/200\n",
      "94/94 [==============================] - 0s 2ms/step - loss: 0.0881 - accuracy: 1.0000 - val_loss: 1.0540 - val_accuracy: 0.7500\n"
     ]
    },
    {
     "name": "stdout",
     "output_type": "stream",
     "text": [
      "\n",
      "Epoch 00040: val_loss did not improve from 0.86718\n",
      "Epoch 41/200\n",
      "94/94 [==============================] - 0s 2ms/step - loss: 0.0917 - accuracy: 0.9787 - val_loss: 0.9641 - val_accuracy: 0.7917\n",
      "\n",
      "Epoch 00041: val_loss did not improve from 0.86718\n",
      "Epoch 42/200\n",
      "94/94 [==============================] - 0s 2ms/step - loss: 0.1171 - accuracy: 0.9681 - val_loss: 1.0734 - val_accuracy: 0.7917\n",
      "\n",
      "Epoch 00042: val_loss did not improve from 0.86718\n",
      "Epoch 43/200\n",
      "94/94 [==============================] - 0s 2ms/step - loss: 0.1019 - accuracy: 0.9681 - val_loss: 1.1733 - val_accuracy: 0.7500\n",
      "\n",
      "Epoch 00043: val_loss did not improve from 0.86718\n",
      "Epoch 44/200\n",
      "94/94 [==============================] - 0s 2ms/step - loss: 0.0768 - accuracy: 1.0000 - val_loss: 1.4878 - val_accuracy: 0.7500\n",
      "\n",
      "Epoch 00044: val_loss did not improve from 0.86718\n",
      "Epoch 45/200\n",
      "94/94 [==============================] - 0s 2ms/step - loss: 0.1167 - accuracy: 0.9362 - val_loss: 1.4373 - val_accuracy: 0.7500\n",
      "\n",
      "Epoch 00045: val_loss did not improve from 0.86718\n",
      "Epoch 46/200\n",
      "94/94 [==============================] - 0s 2ms/step - loss: 0.0527 - accuracy: 0.9894 - val_loss: 1.1455 - val_accuracy: 0.7917\n",
      "\n",
      "Epoch 00046: val_loss did not improve from 0.86718\n",
      "Epoch 47/200\n",
      "94/94 [==============================] - 0s 2ms/step - loss: 0.1244 - accuracy: 0.9574 - val_loss: 0.9610 - val_accuracy: 0.8333\n",
      "\n",
      "Epoch 00047: val_loss did not improve from 0.86718\n",
      "Epoch 48/200\n",
      "94/94 [==============================] - 0s 1ms/step - loss: 0.0919 - accuracy: 0.9681 - val_loss: 1.0588 - val_accuracy: 0.7917\n",
      "\n",
      "Epoch 00048: val_loss did not improve from 0.86718\n",
      "Epoch 49/200\n",
      "94/94 [==============================] - 0s 1ms/step - loss: 0.1011 - accuracy: 0.9787 - val_loss: 1.1376 - val_accuracy: 0.7917\n",
      "\n",
      "Epoch 00049: val_loss did not improve from 0.86718\n",
      "Epoch 50/200\n",
      "94/94 [==============================] - 0s 2ms/step - loss: 0.0921 - accuracy: 0.9787 - val_loss: 1.2237 - val_accuracy: 0.8333\n",
      "\n",
      "Epoch 00050: val_loss did not improve from 0.86718\n",
      "Epoch 51/200\n",
      "94/94 [==============================] - 0s 1ms/step - loss: 0.0553 - accuracy: 1.0000 - val_loss: 1.3297 - val_accuracy: 0.8333\n",
      "\n",
      "Epoch 00051: val_loss did not improve from 0.86718\n",
      "Epoch 52/200\n",
      "94/94 [==============================] - 0s 1ms/step - loss: 0.0580 - accuracy: 0.9894 - val_loss: 1.4040 - val_accuracy: 0.7917\n",
      "\n",
      "Epoch 00052: val_loss did not improve from 0.86718\n",
      "Epoch 53/200\n",
      "94/94 [==============================] - 0s 1ms/step - loss: 0.0607 - accuracy: 0.9894 - val_loss: 1.3406 - val_accuracy: 0.7917\n",
      "\n",
      "Epoch 00053: val_loss did not improve from 0.86718\n",
      "Epoch 54/200\n",
      "94/94 [==============================] - 0s 1ms/step - loss: 0.0730 - accuracy: 0.9894 - val_loss: 1.1786 - val_accuracy: 0.8333\n",
      "\n",
      "Epoch 00054: val_loss did not improve from 0.86718\n",
      "Epoch 55/200\n",
      "94/94 [==============================] - 0s 2ms/step - loss: 0.0545 - accuracy: 0.9894 - val_loss: 1.1483 - val_accuracy: 0.8333\n",
      "\n",
      "Epoch 00055: val_loss did not improve from 0.86718\n",
      "Epoch 56/200\n",
      "94/94 [==============================] - 0s 2ms/step - loss: 0.0609 - accuracy: 0.9787 - val_loss: 1.2394 - val_accuracy: 0.8333\n",
      "\n",
      "Epoch 00056: val_loss did not improve from 0.86718\n",
      "Epoch 57/200\n",
      "94/94 [==============================] - 0s 2ms/step - loss: 0.0288 - accuracy: 0.9894 - val_loss: 1.3740 - val_accuracy: 0.7917\n",
      "\n",
      "Epoch 00057: val_loss did not improve from 0.86718\n",
      "Epoch 58/200\n",
      "94/94 [==============================] - 0s 2ms/step - loss: 0.0359 - accuracy: 1.0000 - val_loss: 1.3223 - val_accuracy: 0.8333\n",
      "\n",
      "Epoch 00058: val_loss did not improve from 0.86718\n",
      "Epoch 59/200\n",
      "94/94 [==============================] - 0s 2ms/step - loss: 0.0277 - accuracy: 1.0000 - val_loss: 1.2541 - val_accuracy: 0.8333\n",
      "\n",
      "Epoch 00059: val_loss did not improve from 0.86718\n",
      "Epoch 60/200\n",
      "94/94 [==============================] - 0s 2ms/step - loss: 0.0296 - accuracy: 1.0000 - val_loss: 1.3305 - val_accuracy: 0.7500\n",
      "\n",
      "Epoch 00060: val_loss did not improve from 0.86718\n",
      "Epoch 61/200\n",
      "94/94 [==============================] - 0s 2ms/step - loss: 0.0790 - accuracy: 0.9787 - val_loss: 1.4481 - val_accuracy: 0.8333\n",
      "\n",
      "Epoch 00061: val_loss did not improve from 0.86718\n",
      "Epoch 62/200\n",
      "94/94 [==============================] - 0s 1ms/step - loss: 0.0339 - accuracy: 0.9894 - val_loss: 2.7218 - val_accuracy: 0.7083\n",
      "\n",
      "Epoch 00062: val_loss did not improve from 0.86718\n",
      "Epoch 63/200\n",
      "94/94 [==============================] - 0s 1ms/step - loss: 0.2485 - accuracy: 0.9043 - val_loss: 1.5449 - val_accuracy: 0.7917\n",
      "\n",
      "Epoch 00063: val_loss did not improve from 0.86718\n",
      "Epoch 64/200\n",
      "94/94 [==============================] - 0s 1ms/step - loss: 0.1718 - accuracy: 0.9574 - val_loss: 1.2651 - val_accuracy: 0.7500\n",
      "\n",
      "Epoch 00064: val_loss did not improve from 0.86718\n",
      "Epoch 65/200\n",
      "94/94 [==============================] - 0s 1ms/step - loss: 0.2559 - accuracy: 0.9043 - val_loss: 1.2676 - val_accuracy: 0.7917\n",
      "\n",
      "Epoch 00065: val_loss did not improve from 0.86718\n",
      "Epoch 66/200\n",
      "94/94 [==============================] - 0s 1ms/step - loss: 0.1398 - accuracy: 0.9574 - val_loss: 1.5139 - val_accuracy: 0.7083\n",
      "\n",
      "Epoch 00066: val_loss did not improve from 0.86718\n",
      "Epoch 67/200\n",
      "94/94 [==============================] - 0s 2ms/step - loss: 0.1544 - accuracy: 0.9149 - val_loss: 1.4667 - val_accuracy: 0.7083\n",
      "\n",
      "Epoch 00067: val_loss did not improve from 0.86718\n",
      "Epoch 68/200\n",
      "94/94 [==============================] - 0s 2ms/step - loss: 0.0579 - accuracy: 1.0000 - val_loss: 1.3936 - val_accuracy: 0.7500\n",
      "\n",
      "Epoch 00068: val_loss did not improve from 0.86718\n",
      "Epoch 69/200\n",
      "94/94 [==============================] - 0s 2ms/step - loss: 0.0799 - accuracy: 0.9894 - val_loss: 1.3944 - val_accuracy: 0.7500\n",
      "\n",
      "Epoch 00069: val_loss did not improve from 0.86718\n",
      "Epoch 70/200\n",
      "94/94 [==============================] - 0s 2ms/step - loss: 0.0534 - accuracy: 0.9894 - val_loss: 1.4608 - val_accuracy: 0.7917\n",
      "\n",
      "Epoch 00070: val_loss did not improve from 0.86718\n",
      "Epoch 71/200\n",
      "94/94 [==============================] - 0s 2ms/step - loss: 0.0345 - accuracy: 1.0000 - val_loss: 1.5614 - val_accuracy: 0.7083\n",
      "\n",
      "Epoch 00071: val_loss did not improve from 0.86718\n",
      "Epoch 72/200\n",
      "94/94 [==============================] - 0s 2ms/step - loss: 0.0625 - accuracy: 0.9894 - val_loss: 1.4020 - val_accuracy: 0.7500\n",
      "\n",
      "Epoch 00072: val_loss did not improve from 0.86718\n",
      "Epoch 73/200\n",
      "94/94 [==============================] - 0s 2ms/step - loss: 0.0326 - accuracy: 0.9894 - val_loss: 1.2754 - val_accuracy: 0.7500\n",
      "\n",
      "Epoch 00073: val_loss did not improve from 0.86718\n",
      "Epoch 74/200\n",
      "94/94 [==============================] - 0s 2ms/step - loss: 0.0664 - accuracy: 0.9894 - val_loss: 1.3829 - val_accuracy: 0.7500\n",
      "\n",
      "Epoch 00074: val_loss did not improve from 0.86718\n",
      "Epoch 75/200\n",
      "94/94 [==============================] - 0s 2ms/step - loss: 0.0311 - accuracy: 1.0000 - val_loss: 1.5662 - val_accuracy: 0.7500\n",
      "\n",
      "Epoch 00075: val_loss did not improve from 0.86718\n",
      "Epoch 76/200\n",
      "94/94 [==============================] - 0s 1ms/step - loss: 0.0287 - accuracy: 1.0000 - val_loss: 1.7186 - val_accuracy: 0.7083\n",
      "\n",
      "Epoch 00076: val_loss did not improve from 0.86718\n",
      "Epoch 77/200\n",
      "94/94 [==============================] - 0s 1ms/step - loss: 0.0308 - accuracy: 1.0000 - val_loss: 1.8365 - val_accuracy: 0.7083\n",
      "\n",
      "Epoch 00077: val_loss did not improve from 0.86718\n",
      "Epoch 78/200\n",
      "94/94 [==============================] - 0s 1ms/step - loss: 0.0332 - accuracy: 0.9894 - val_loss: 1.7926 - val_accuracy: 0.7083\n",
      "\n",
      "Epoch 00078: val_loss did not improve from 0.86718\n",
      "Epoch 79/200\n",
      "94/94 [==============================] - 0s 1ms/step - loss: 0.0398 - accuracy: 0.9787 - val_loss: 1.6774 - val_accuracy: 0.7500\n",
      "\n",
      "Epoch 00079: val_loss did not improve from 0.86718\n",
      "Epoch 80/200\n",
      "94/94 [==============================] - 0s 1ms/step - loss: 0.0534 - accuracy: 0.9787 - val_loss: 1.6678 - val_accuracy: 0.7500\n",
      "\n",
      "Epoch 00080: val_loss did not improve from 0.86718\n",
      "Epoch 81/200\n",
      "94/94 [==============================] - 0s 1ms/step - loss: 0.0233 - accuracy: 1.0000 - val_loss: 1.6217 - val_accuracy: 0.7500\n",
      "\n",
      "Epoch 00081: val_loss did not improve from 0.86718\n",
      "Epoch 82/200\n",
      "94/94 [==============================] - 0s 1ms/step - loss: 0.0280 - accuracy: 1.0000 - val_loss: 1.5946 - val_accuracy: 0.7500\n",
      "\n",
      "Epoch 00082: val_loss did not improve from 0.86718\n",
      "Epoch 83/200\n"
     ]
    },
    {
     "name": "stdout",
     "output_type": "stream",
     "text": [
      "94/94 [==============================] - 0s 2ms/step - loss: 0.0385 - accuracy: 0.9894 - val_loss: 1.5853 - val_accuracy: 0.7917\n",
      "\n",
      "Epoch 00083: val_loss did not improve from 0.86718\n",
      "Epoch 84/200\n",
      "94/94 [==============================] - 0s 2ms/step - loss: 0.0362 - accuracy: 0.9787 - val_loss: 1.5485 - val_accuracy: 0.7500\n",
      "\n",
      "Epoch 00084: val_loss did not improve from 0.86718\n",
      "Epoch 85/200\n",
      "94/94 [==============================] - 0s 2ms/step - loss: 0.0167 - accuracy: 1.0000 - val_loss: 1.5281 - val_accuracy: 0.7500\n",
      "\n",
      "Epoch 00085: val_loss did not improve from 0.86718\n",
      "Epoch 86/200\n",
      "94/94 [==============================] - 0s 2ms/step - loss: 0.0223 - accuracy: 1.0000 - val_loss: 1.5134 - val_accuracy: 0.7500\n",
      "\n",
      "Epoch 00086: val_loss did not improve from 0.86718\n",
      "Epoch 87/200\n",
      "94/94 [==============================] - 0s 2ms/step - loss: 0.0218 - accuracy: 0.9894 - val_loss: 1.5037 - val_accuracy: 0.7500\n",
      "\n",
      "Epoch 00087: val_loss did not improve from 0.86718\n",
      "Epoch 88/200\n",
      "94/94 [==============================] - 0s 2ms/step - loss: 0.0105 - accuracy: 1.0000 - val_loss: 1.5065 - val_accuracy: 0.7500\n",
      "\n",
      "Epoch 00088: val_loss did not improve from 0.86718\n",
      "Epoch 89/200\n",
      "94/94 [==============================] - 0s 2ms/step - loss: 0.0193 - accuracy: 1.0000 - val_loss: 1.5122 - val_accuracy: 0.7500\n",
      "\n",
      "Epoch 00089: val_loss did not improve from 0.86718\n",
      "Epoch 90/200\n",
      "94/94 [==============================] - 0s 2ms/step - loss: 0.0261 - accuracy: 1.0000 - val_loss: 1.5214 - val_accuracy: 0.7500\n",
      "\n",
      "Epoch 00090: val_loss did not improve from 0.86718\n",
      "Epoch 91/200\n",
      "94/94 [==============================] - 0s 1ms/step - loss: 0.0107 - accuracy: 1.0000 - val_loss: 1.5406 - val_accuracy: 0.7500\n",
      "\n",
      "Epoch 00091: val_loss did not improve from 0.86718\n",
      "Epoch 92/200\n",
      "94/94 [==============================] - 0s 1ms/step - loss: 0.0367 - accuracy: 0.9787 - val_loss: 1.5670 - val_accuracy: 0.7500\n",
      "\n",
      "Epoch 00092: val_loss did not improve from 0.86718\n",
      "Epoch 93/200\n",
      "94/94 [==============================] - 0s 2ms/step - loss: 0.0092 - accuracy: 1.0000 - val_loss: 1.6069 - val_accuracy: 0.7500\n",
      "\n",
      "Epoch 00093: val_loss did not improve from 0.86718\n",
      "Epoch 94/200\n",
      "94/94 [==============================] - 0s 1ms/step - loss: 0.0071 - accuracy: 1.0000 - val_loss: 1.6472 - val_accuracy: 0.7500\n",
      "\n",
      "Epoch 00094: val_loss did not improve from 0.86718\n",
      "Epoch 95/200\n",
      "94/94 [==============================] - 0s 1ms/step - loss: 0.0312 - accuracy: 0.9894 - val_loss: 1.7009 - val_accuracy: 0.7083\n",
      "\n",
      "Epoch 00095: val_loss did not improve from 0.86718\n",
      "Epoch 96/200\n",
      "94/94 [==============================] - 0s 2ms/step - loss: 0.0129 - accuracy: 1.0000 - val_loss: 1.7568 - val_accuracy: 0.7500\n",
      "\n",
      "Epoch 00096: val_loss did not improve from 0.86718\n",
      "Epoch 97/200\n",
      "94/94 [==============================] - 0s 2ms/step - loss: 0.0128 - accuracy: 1.0000 - val_loss: 1.8087 - val_accuracy: 0.7500\n",
      "\n",
      "Epoch 00097: val_loss did not improve from 0.86718\n",
      "Epoch 98/200\n",
      "94/94 [==============================] - 0s 2ms/step - loss: 0.0326 - accuracy: 1.0000 - val_loss: 1.8430 - val_accuracy: 0.7500\n",
      "\n",
      "Epoch 00098: val_loss did not improve from 0.86718\n",
      "Epoch 99/200\n",
      "94/94 [==============================] - 0s 2ms/step - loss: 0.0155 - accuracy: 1.0000 - val_loss: 1.8607 - val_accuracy: 0.7500\n",
      "\n",
      "Epoch 00099: val_loss did not improve from 0.86718\n",
      "Epoch 100/200\n",
      "94/94 [==============================] - 0s 2ms/step - loss: 0.0186 - accuracy: 1.0000 - val_loss: 1.8513 - val_accuracy: 0.7500\n",
      "\n",
      "Epoch 00100: val_loss did not improve from 0.86718\n",
      "Epoch 101/200\n",
      "94/94 [==============================] - 0s 2ms/step - loss: 0.0196 - accuracy: 0.9894 - val_loss: 1.8268 - val_accuracy: 0.7500\n",
      "\n",
      "Epoch 00101: val_loss did not improve from 0.86718\n",
      "Epoch 102/200\n",
      "94/94 [==============================] - 0s 2ms/step - loss: 0.0108 - accuracy: 1.0000 - val_loss: 1.8070 - val_accuracy: 0.7500\n",
      "\n",
      "Epoch 00102: val_loss did not improve from 0.86718\n",
      "Epoch 103/200\n",
      "94/94 [==============================] - 0s 1ms/step - loss: 0.0089 - accuracy: 1.0000 - val_loss: 1.7999 - val_accuracy: 0.7500\n",
      "\n",
      "Epoch 00103: val_loss did not improve from 0.86718\n",
      "Epoch 104/200\n",
      "94/94 [==============================] - 0s 2ms/step - loss: 0.0364 - accuracy: 0.9787 - val_loss: 1.8138 - val_accuracy: 0.7083\n",
      "\n",
      "Epoch 00104: val_loss did not improve from 0.86718\n",
      "Epoch 105/200\n",
      "94/94 [==============================] - 0s 2ms/step - loss: 0.0087 - accuracy: 1.0000 - val_loss: 1.8439 - val_accuracy: 0.7083\n",
      "\n",
      "Epoch 00105: val_loss did not improve from 0.86718\n",
      "Epoch 106/200\n",
      "94/94 [==============================] - 0s 1ms/step - loss: 0.0248 - accuracy: 1.0000 - val_loss: 1.8668 - val_accuracy: 0.7083\n",
      "\n",
      "Epoch 00106: val_loss did not improve from 0.86718\n",
      "Epoch 107/200\n",
      "94/94 [==============================] - 0s 1ms/step - loss: 0.0148 - accuracy: 1.0000 - val_loss: 1.9180 - val_accuracy: 0.7083\n",
      "\n",
      "Epoch 00107: val_loss did not improve from 0.86718\n",
      "Epoch 108/200\n",
      "94/94 [==============================] - 0s 2ms/step - loss: 0.0509 - accuracy: 0.9787 - val_loss: 1.9777 - val_accuracy: 0.7083\n",
      "\n",
      "Epoch 00108: val_loss did not improve from 0.86718\n",
      "Epoch 109/200\n",
      "94/94 [==============================] - 0s 1ms/step - loss: 0.0065 - accuracy: 1.0000 - val_loss: 2.0335 - val_accuracy: 0.7500\n",
      "\n",
      "Epoch 00109: val_loss did not improve from 0.86718\n",
      "Epoch 110/200\n",
      "94/94 [==============================] - 0s 1ms/step - loss: 0.0111 - accuracy: 1.0000 - val_loss: 2.0748 - val_accuracy: 0.7500\n",
      "\n",
      "Epoch 00110: val_loss did not improve from 0.86718\n",
      "Epoch 111/200\n",
      "94/94 [==============================] - 0s 1ms/step - loss: 0.0220 - accuracy: 0.9894 - val_loss: 2.0946 - val_accuracy: 0.7500\n",
      "\n",
      "Epoch 00111: val_loss did not improve from 0.86718\n",
      "Epoch 112/200\n",
      "94/94 [==============================] - 0s 1ms/step - loss: 0.0097 - accuracy: 1.0000 - val_loss: 2.0878 - val_accuracy: 0.7500\n",
      "\n",
      "Epoch 00112: val_loss did not improve from 0.86718\n",
      "Epoch 113/200\n",
      "94/94 [==============================] - 0s 2ms/step - loss: 0.0123 - accuracy: 1.0000 - val_loss: 2.0542 - val_accuracy: 0.7500\n",
      "\n",
      "Epoch 00113: val_loss did not improve from 0.86718\n",
      "Epoch 114/200\n",
      "94/94 [==============================] - 0s 2ms/step - loss: 0.0183 - accuracy: 0.9894 - val_loss: 2.0620 - val_accuracy: 0.7500\n",
      "\n",
      "Epoch 00114: val_loss did not improve from 0.86718\n",
      "Epoch 115/200\n",
      "94/94 [==============================] - 0s 2ms/step - loss: 0.0070 - accuracy: 1.0000 - val_loss: 2.0604 - val_accuracy: 0.7500\n",
      "\n",
      "Epoch 00115: val_loss did not improve from 0.86718\n",
      "Epoch 116/200\n",
      "94/94 [==============================] - 0s 1ms/step - loss: 0.0306 - accuracy: 0.9787 - val_loss: 2.1296 - val_accuracy: 0.7500\n",
      "\n",
      "Epoch 00116: val_loss did not improve from 0.86718\n",
      "Epoch 117/200\n",
      "94/94 [==============================] - 0s 2ms/step - loss: 0.0115 - accuracy: 1.0000 - val_loss: 2.2673 - val_accuracy: 0.7083\n",
      "\n",
      "Epoch 00117: val_loss did not improve from 0.86718\n",
      "Epoch 118/200\n",
      "94/94 [==============================] - 0s 2ms/step - loss: 0.0127 - accuracy: 1.0000 - val_loss: 2.2418 - val_accuracy: 0.7083\n",
      "\n",
      "Epoch 00118: val_loss did not improve from 0.86718\n",
      "Epoch 119/200\n",
      "94/94 [==============================] - 0s 2ms/step - loss: 0.0079 - accuracy: 1.0000 - val_loss: 2.1645 - val_accuracy: 0.7083\n",
      "\n",
      "Epoch 00119: val_loss did not improve from 0.86718\n",
      "Epoch 120/200\n",
      "94/94 [==============================] - 0s 2ms/step - loss: 0.0123 - accuracy: 1.0000 - val_loss: 2.0808 - val_accuracy: 0.7500\n",
      "\n",
      "Epoch 00120: val_loss did not improve from 0.86718\n",
      "Epoch 121/200\n",
      "94/94 [==============================] - 0s 2ms/step - loss: 0.0197 - accuracy: 1.0000 - val_loss: 2.0183 - val_accuracy: 0.7500\n",
      "\n",
      "Epoch 00121: val_loss did not improve from 0.86718\n",
      "Epoch 122/200\n",
      "94/94 [==============================] - 0s 2ms/step - loss: 0.0064 - accuracy: 1.0000 - val_loss: 1.9803 - val_accuracy: 0.7083\n",
      "\n",
      "Epoch 00122: val_loss did not improve from 0.86718\n",
      "Epoch 123/200\n",
      "94/94 [==============================] - 0s 2ms/step - loss: 0.0071 - accuracy: 1.0000 - val_loss: 1.9600 - val_accuracy: 0.7083\n",
      "\n",
      "Epoch 00123: val_loss did not improve from 0.86718\n",
      "Epoch 124/200\n",
      "94/94 [==============================] - 0s 2ms/step - loss: 0.0074 - accuracy: 1.0000 - val_loss: 1.9478 - val_accuracy: 0.7083\n",
      "\n",
      "Epoch 00124: val_loss did not improve from 0.86718\n",
      "Epoch 125/200\n"
     ]
    },
    {
     "name": "stdout",
     "output_type": "stream",
     "text": [
      "94/94 [==============================] - 0s 1ms/step - loss: 0.0138 - accuracy: 1.0000 - val_loss: 1.9780 - val_accuracy: 0.7083\n",
      "\n",
      "Epoch 00125: val_loss did not improve from 0.86718\n",
      "Epoch 126/200\n",
      "94/94 [==============================] - 0s 2ms/step - loss: 0.0102 - accuracy: 1.0000 - val_loss: 2.0125 - val_accuracy: 0.7500\n",
      "\n",
      "Epoch 00126: val_loss did not improve from 0.86718\n",
      "Epoch 127/200\n",
      "94/94 [==============================] - 0s 1ms/step - loss: 0.0040 - accuracy: 1.0000 - val_loss: 2.0236 - val_accuracy: 0.7500\n",
      "\n",
      "Epoch 00127: val_loss did not improve from 0.86718\n",
      "Epoch 128/200\n",
      "94/94 [==============================] - 0s 2ms/step - loss: 0.0018 - accuracy: 1.0000 - val_loss: 2.0267 - val_accuracy: 0.7083\n",
      "\n",
      "Epoch 00128: val_loss did not improve from 0.86718\n",
      "Epoch 129/200\n",
      "94/94 [==============================] - 0s 1ms/step - loss: 0.0051 - accuracy: 1.0000 - val_loss: 2.0314 - val_accuracy: 0.7083\n",
      "\n",
      "Epoch 00129: val_loss did not improve from 0.86718\n",
      "Epoch 130/200\n",
      "94/94 [==============================] - 0s 2ms/step - loss: 0.0095 - accuracy: 1.0000 - val_loss: 2.0425 - val_accuracy: 0.7083\n",
      "\n",
      "Epoch 00130: val_loss did not improve from 0.86718\n",
      "Epoch 131/200\n",
      "94/94 [==============================] - 0s 2ms/step - loss: 8.4712e-04 - accuracy: 1.0000 - val_loss: 2.0554 - val_accuracy: 0.7083\n",
      "\n",
      "Epoch 00131: val_loss did not improve from 0.86718\n",
      "Epoch 132/200\n",
      "94/94 [==============================] - 0s 2ms/step - loss: 0.0127 - accuracy: 1.0000 - val_loss: 2.0761 - val_accuracy: 0.6667\n",
      "\n",
      "Epoch 00132: val_loss did not improve from 0.86718\n",
      "Epoch 133/200\n",
      "94/94 [==============================] - 0s 2ms/step - loss: 0.0217 - accuracy: 0.9894 - val_loss: 2.0768 - val_accuracy: 0.6667\n",
      "\n",
      "Epoch 00133: val_loss did not improve from 0.86718\n",
      "Epoch 134/200\n",
      "94/94 [==============================] - 0s 2ms/step - loss: 0.0082 - accuracy: 1.0000 - val_loss: 2.0811 - val_accuracy: 0.7083\n",
      "\n",
      "Epoch 00134: val_loss did not improve from 0.86718\n",
      "Epoch 135/200\n",
      "94/94 [==============================] - 0s 2ms/step - loss: 0.0024 - accuracy: 1.0000 - val_loss: 2.0720 - val_accuracy: 0.7083\n",
      "\n",
      "Epoch 00135: val_loss did not improve from 0.86718\n",
      "Epoch 136/200\n",
      "94/94 [==============================] - 0s 2ms/step - loss: 0.0414 - accuracy: 0.9894 - val_loss: 2.0374 - val_accuracy: 0.7083\n",
      "\n",
      "Epoch 00136: val_loss did not improve from 0.86718\n",
      "Epoch 137/200\n",
      "94/94 [==============================] - 0s 2ms/step - loss: 0.0188 - accuracy: 0.9894 - val_loss: 1.9968 - val_accuracy: 0.7083\n",
      "\n",
      "Epoch 00137: val_loss did not improve from 0.86718\n",
      "Epoch 138/200\n",
      "94/94 [==============================] - 0s 2ms/step - loss: 0.0215 - accuracy: 0.9894 - val_loss: 1.9346 - val_accuracy: 0.7083\n",
      "\n",
      "Epoch 00138: val_loss did not improve from 0.86718\n",
      "Epoch 139/200\n",
      "94/94 [==============================] - 0s 2ms/step - loss: 0.0014 - accuracy: 1.0000 - val_loss: 1.9451 - val_accuracy: 0.7500\n",
      "\n",
      "Epoch 00139: val_loss did not improve from 0.86718\n",
      "Epoch 140/200\n",
      "94/94 [==============================] - 0s 2ms/step - loss: 0.0049 - accuracy: 1.0000 - val_loss: 1.9652 - val_accuracy: 0.7500\n",
      "\n",
      "Epoch 00140: val_loss did not improve from 0.86718\n",
      "Epoch 141/200\n",
      "94/94 [==============================] - 0s 2ms/step - loss: 0.0354 - accuracy: 0.9894 - val_loss: 2.1069 - val_accuracy: 0.6667\n",
      "\n",
      "Epoch 00141: val_loss did not improve from 0.86718\n",
      "Epoch 142/200\n",
      "94/94 [==============================] - 0s 2ms/step - loss: 0.0024 - accuracy: 1.0000 - val_loss: 2.3899 - val_accuracy: 0.7083\n",
      "\n",
      "Epoch 00142: val_loss did not improve from 0.86718\n",
      "Epoch 143/200\n",
      "94/94 [==============================] - 0s 1ms/step - loss: 0.0053 - accuracy: 1.0000 - val_loss: 2.5784 - val_accuracy: 0.7083\n",
      "\n",
      "Epoch 00143: val_loss did not improve from 0.86718\n",
      "Epoch 144/200\n",
      "94/94 [==============================] - 0s 2ms/step - loss: 0.0145 - accuracy: 0.9894 - val_loss: 2.6948 - val_accuracy: 0.7083\n",
      "\n",
      "Epoch 00144: val_loss did not improve from 0.86718\n",
      "Epoch 145/200\n",
      "94/94 [==============================] - 0s 2ms/step - loss: 0.0037 - accuracy: 1.0000 - val_loss: 2.7504 - val_accuracy: 0.7083\n",
      "\n",
      "Epoch 00145: val_loss did not improve from 0.86718\n",
      "Epoch 146/200\n",
      "94/94 [==============================] - 0s 2ms/step - loss: 0.0158 - accuracy: 1.0000 - val_loss: 2.7291 - val_accuracy: 0.7083\n",
      "\n",
      "Epoch 00146: val_loss did not improve from 0.86718\n",
      "Epoch 147/200\n",
      "94/94 [==============================] - 0s 2ms/step - loss: 0.0034 - accuracy: 1.0000 - val_loss: 2.5985 - val_accuracy: 0.7083\n",
      "\n",
      "Epoch 00147: val_loss did not improve from 0.86718\n",
      "Epoch 148/200\n",
      "94/94 [==============================] - 0s 2ms/step - loss: 0.0350 - accuracy: 0.9787 - val_loss: 2.4946 - val_accuracy: 0.7083\n",
      "\n",
      "Epoch 00148: val_loss did not improve from 0.86718\n",
      "Epoch 149/200\n",
      "94/94 [==============================] - 0s 2ms/step - loss: 0.0081 - accuracy: 1.0000 - val_loss: 2.3898 - val_accuracy: 0.7083\n",
      "\n",
      "Epoch 00149: val_loss did not improve from 0.86718\n",
      "Epoch 150/200\n",
      "94/94 [==============================] - 0s 2ms/step - loss: 0.0144 - accuracy: 1.0000 - val_loss: 2.1951 - val_accuracy: 0.7083\n",
      "\n",
      "Epoch 00150: val_loss did not improve from 0.86718\n",
      "Epoch 151/200\n",
      "94/94 [==============================] - 0s 2ms/step - loss: 0.0030 - accuracy: 1.0000 - val_loss: 2.0189 - val_accuracy: 0.7083\n",
      "\n",
      "Epoch 00151: val_loss did not improve from 0.86718\n",
      "Epoch 152/200\n",
      "94/94 [==============================] - 0s 2ms/step - loss: 0.0145 - accuracy: 0.9894 - val_loss: 1.9362 - val_accuracy: 0.7500\n",
      "\n",
      "Epoch 00152: val_loss did not improve from 0.86718\n",
      "Epoch 153/200\n",
      "94/94 [==============================] - 0s 2ms/step - loss: 0.0207 - accuracy: 0.9894 - val_loss: 1.9390 - val_accuracy: 0.7500\n",
      "\n",
      "Epoch 00153: val_loss did not improve from 0.86718\n",
      "Epoch 154/200\n",
      "94/94 [==============================] - 0s 2ms/step - loss: 0.0098 - accuracy: 0.9894 - val_loss: 1.9835 - val_accuracy: 0.7500\n",
      "\n",
      "Epoch 00154: val_loss did not improve from 0.86718\n",
      "Epoch 155/200\n",
      "94/94 [==============================] - 0s 2ms/step - loss: 0.0170 - accuracy: 0.9894 - val_loss: 2.0959 - val_accuracy: 0.7917\n",
      "\n",
      "Epoch 00155: val_loss did not improve from 0.86718\n",
      "Epoch 156/200\n",
      "94/94 [==============================] - 0s 2ms/step - loss: 0.0153 - accuracy: 0.9894 - val_loss: 2.1247 - val_accuracy: 0.7917\n",
      "\n",
      "Epoch 00156: val_loss did not improve from 0.86718\n",
      "Epoch 157/200\n",
      "94/94 [==============================] - 0s 2ms/step - loss: 0.0169 - accuracy: 0.9894 - val_loss: 2.1398 - val_accuracy: 0.7500\n",
      "\n",
      "Epoch 00157: val_loss did not improve from 0.86718\n",
      "Epoch 158/200\n",
      "94/94 [==============================] - 0s 2ms/step - loss: 0.0127 - accuracy: 1.0000 - val_loss: 2.3292 - val_accuracy: 0.7083\n",
      "\n",
      "Epoch 00158: val_loss did not improve from 0.86718\n",
      "Epoch 159/200\n",
      "94/94 [==============================] - 0s 2ms/step - loss: 0.0155 - accuracy: 0.9894 - val_loss: 2.8214 - val_accuracy: 0.7083\n",
      "\n",
      "Epoch 00159: val_loss did not improve from 0.86718\n",
      "Epoch 160/200\n",
      "94/94 [==============================] - 0s 2ms/step - loss: 0.0030 - accuracy: 1.0000 - val_loss: 3.0148 - val_accuracy: 0.7083\n",
      "\n",
      "Epoch 00160: val_loss did not improve from 0.86718\n",
      "Epoch 161/200\n",
      "94/94 [==============================] - 0s 2ms/step - loss: 0.0114 - accuracy: 1.0000 - val_loss: 2.6751 - val_accuracy: 0.7083\n",
      "\n",
      "Epoch 00161: val_loss did not improve from 0.86718\n",
      "Epoch 162/200\n",
      "94/94 [==============================] - 0s 2ms/step - loss: 0.0161 - accuracy: 1.0000 - val_loss: 2.0553 - val_accuracy: 0.7917\n",
      "\n",
      "Epoch 00162: val_loss did not improve from 0.86718\n",
      "Epoch 163/200\n",
      "94/94 [==============================] - 0s 1ms/step - loss: 0.0108 - accuracy: 1.0000 - val_loss: 2.1679 - val_accuracy: 0.7917\n",
      "\n",
      "Epoch 00163: val_loss did not improve from 0.86718\n",
      "Epoch 164/200\n",
      "94/94 [==============================] - 0s 2ms/step - loss: 0.0449 - accuracy: 0.9787 - val_loss: 2.1579 - val_accuracy: 0.7917\n",
      "\n",
      "Epoch 00164: val_loss did not improve from 0.86718\n",
      "Epoch 165/200\n",
      "94/94 [==============================] - 0s 2ms/step - loss: 0.0078 - accuracy: 1.0000 - val_loss: 2.6049 - val_accuracy: 0.7083\n",
      "\n",
      "Epoch 00165: val_loss did not improve from 0.86718\n",
      "Epoch 166/200\n",
      "94/94 [==============================] - 0s 2ms/step - loss: 0.1535 - accuracy: 0.9468 - val_loss: 2.1570 - val_accuracy: 0.7917\n",
      "\n",
      "Epoch 00166: val_loss did not improve from 0.86718\n",
      "Epoch 167/200\n"
     ]
    },
    {
     "name": "stdout",
     "output_type": "stream",
     "text": [
      "94/94 [==============================] - 0s 2ms/step - loss: 0.1426 - accuracy: 0.9574 - val_loss: 3.1367 - val_accuracy: 0.7083\n",
      "\n",
      "Epoch 00167: val_loss did not improve from 0.86718\n",
      "Epoch 168/200\n",
      "94/94 [==============================] - 0s 2ms/step - loss: 0.3771 - accuracy: 0.9362 - val_loss: 1.6723 - val_accuracy: 0.7500\n",
      "\n",
      "Epoch 00168: val_loss did not improve from 0.86718\n",
      "Epoch 169/200\n",
      "94/94 [==============================] - 0s 2ms/step - loss: 0.0725 - accuracy: 0.9787 - val_loss: 1.8570 - val_accuracy: 0.7083\n",
      "\n",
      "Epoch 00169: val_loss did not improve from 0.86718\n",
      "Epoch 170/200\n",
      "94/94 [==============================] - 0s 2ms/step - loss: 0.2377 - accuracy: 0.9468 - val_loss: 1.4814 - val_accuracy: 0.8750\n",
      "\n",
      "Epoch 00170: val_loss did not improve from 0.86718\n",
      "Epoch 171/200\n",
      "94/94 [==============================] - 0s 2ms/step - loss: 0.2866 - accuracy: 0.9468 - val_loss: 1.9210 - val_accuracy: 0.7500\n",
      "\n",
      "Epoch 00171: val_loss did not improve from 0.86718\n",
      "Epoch 172/200\n",
      "94/94 [==============================] - 0s 2ms/step - loss: 0.2084 - accuracy: 0.9362 - val_loss: 1.4184 - val_accuracy: 0.8333\n",
      "\n",
      "Epoch 00172: val_loss did not improve from 0.86718\n",
      "Epoch 173/200\n",
      "94/94 [==============================] - 0s 2ms/step - loss: 0.0745 - accuracy: 0.9894 - val_loss: 1.4359 - val_accuracy: 0.7917\n",
      "\n",
      "Epoch 00173: val_loss did not improve from 0.86718\n",
      "Epoch 174/200\n",
      "94/94 [==============================] - 0s 2ms/step - loss: 0.2517 - accuracy: 0.8723 - val_loss: 1.0001 - val_accuracy: 0.8750\n",
      "\n",
      "Epoch 00174: val_loss did not improve from 0.86718\n",
      "Epoch 175/200\n",
      "94/94 [==============================] - 0s 2ms/step - loss: 0.0383 - accuracy: 0.9894 - val_loss: 0.9944 - val_accuracy: 0.8750\n",
      "\n",
      "Epoch 00175: val_loss did not improve from 0.86718\n",
      "Epoch 176/200\n",
      "94/94 [==============================] - 0s 2ms/step - loss: 0.0385 - accuracy: 0.9894 - val_loss: 1.0876 - val_accuracy: 0.8333\n",
      "\n",
      "Epoch 00176: val_loss did not improve from 0.86718\n",
      "Epoch 177/200\n",
      "94/94 [==============================] - 0s 2ms/step - loss: 0.0988 - accuracy: 0.9681 - val_loss: 1.1501 - val_accuracy: 0.8750\n",
      "\n",
      "Epoch 00177: val_loss did not improve from 0.86718\n",
      "Epoch 178/200\n",
      "94/94 [==============================] - 0s 2ms/step - loss: 0.0662 - accuracy: 0.9787 - val_loss: 1.1482 - val_accuracy: 0.8750\n",
      "\n",
      "Epoch 00178: val_loss did not improve from 0.86718\n",
      "Epoch 179/200\n",
      "94/94 [==============================] - 0s 2ms/step - loss: 0.0603 - accuracy: 0.9894 - val_loss: 1.1697 - val_accuracy: 0.8750\n",
      "\n",
      "Epoch 00179: val_loss did not improve from 0.86718\n",
      "Epoch 180/200\n",
      "94/94 [==============================] - 0s 2ms/step - loss: 0.0242 - accuracy: 1.0000 - val_loss: 1.1963 - val_accuracy: 0.8750\n",
      "\n",
      "Epoch 00180: val_loss did not improve from 0.86718\n",
      "Epoch 181/200\n",
      "94/94 [==============================] - 0s 2ms/step - loss: 0.0151 - accuracy: 1.0000 - val_loss: 1.2160 - val_accuracy: 0.8750\n",
      "\n",
      "Epoch 00181: val_loss did not improve from 0.86718\n",
      "Epoch 182/200\n",
      "94/94 [==============================] - 0s 1ms/step - loss: 0.0271 - accuracy: 1.0000 - val_loss: 1.2301 - val_accuracy: 0.8750\n",
      "\n",
      "Epoch 00182: val_loss did not improve from 0.86718\n",
      "Epoch 183/200\n",
      "94/94 [==============================] - 0s 2ms/step - loss: 0.0351 - accuracy: 0.9894 - val_loss: 1.2401 - val_accuracy: 0.8750\n",
      "\n",
      "Epoch 00183: val_loss did not improve from 0.86718\n",
      "Epoch 184/200\n",
      "94/94 [==============================] - 0s 2ms/step - loss: 0.0254 - accuracy: 0.9894 - val_loss: 1.2525 - val_accuracy: 0.8750\n",
      "\n",
      "Epoch 00184: val_loss did not improve from 0.86718\n",
      "Epoch 185/200\n",
      "94/94 [==============================] - 0s 2ms/step - loss: 0.0231 - accuracy: 0.9894 - val_loss: 1.2458 - val_accuracy: 0.8750\n",
      "\n",
      "Epoch 00185: val_loss did not improve from 0.86718\n",
      "Epoch 186/200\n",
      "94/94 [==============================] - 0s 2ms/step - loss: 0.0124 - accuracy: 1.0000 - val_loss: 1.2393 - val_accuracy: 0.8750\n",
      "\n",
      "Epoch 00186: val_loss did not improve from 0.86718\n",
      "Epoch 187/200\n",
      "94/94 [==============================] - 0s 2ms/step - loss: 0.0253 - accuracy: 1.0000 - val_loss: 1.2241 - val_accuracy: 0.8750\n",
      "\n",
      "Epoch 00187: val_loss did not improve from 0.86718\n",
      "Epoch 188/200\n",
      "94/94 [==============================] - 0s 2ms/step - loss: 0.0329 - accuracy: 0.9894 - val_loss: 1.2151 - val_accuracy: 0.8750\n",
      "\n",
      "Epoch 00188: val_loss did not improve from 0.86718\n",
      "Epoch 189/200\n",
      "94/94 [==============================] - 0s 2ms/step - loss: 0.0245 - accuracy: 0.9894 - val_loss: 1.2099 - val_accuracy: 0.8750\n",
      "\n",
      "Epoch 00189: val_loss did not improve from 0.86718\n",
      "Epoch 190/200\n",
      "94/94 [==============================] - 0s 2ms/step - loss: 0.0086 - accuracy: 1.0000 - val_loss: 1.2042 - val_accuracy: 0.8750\n",
      "\n",
      "Epoch 00190: val_loss did not improve from 0.86718\n",
      "Epoch 191/200\n",
      "94/94 [==============================] - 0s 2ms/step - loss: 0.0099 - accuracy: 1.0000 - val_loss: 1.2012 - val_accuracy: 0.8750\n",
      "\n",
      "Epoch 00191: val_loss did not improve from 0.86718\n",
      "Epoch 192/200\n",
      "94/94 [==============================] - 0s 2ms/step - loss: 0.0157 - accuracy: 1.0000 - val_loss: 1.1980 - val_accuracy: 0.8750\n",
      "\n",
      "Epoch 00192: val_loss did not improve from 0.86718\n",
      "Epoch 193/200\n",
      "94/94 [==============================] - 0s 2ms/step - loss: 0.0272 - accuracy: 0.9894 - val_loss: 1.2008 - val_accuracy: 0.8750\n",
      "\n",
      "Epoch 00193: val_loss did not improve from 0.86718\n",
      "Epoch 194/200\n",
      "94/94 [==============================] - 0s 2ms/step - loss: 0.0367 - accuracy: 0.9894 - val_loss: 1.2018 - val_accuracy: 0.8750\n",
      "\n",
      "Epoch 00194: val_loss did not improve from 0.86718\n",
      "Epoch 195/200\n",
      "94/94 [==============================] - 0s 2ms/step - loss: 0.0157 - accuracy: 0.9894 - val_loss: 1.2073 - val_accuracy: 0.8750\n",
      "\n",
      "Epoch 00195: val_loss did not improve from 0.86718\n",
      "Epoch 196/200\n",
      "94/94 [==============================] - 0s 2ms/step - loss: 0.0231 - accuracy: 1.0000 - val_loss: 1.2163 - val_accuracy: 0.8750\n",
      "\n",
      "Epoch 00196: val_loss did not improve from 0.86718\n",
      "Epoch 197/200\n",
      "94/94 [==============================] - 0s 2ms/step - loss: 0.0094 - accuracy: 1.0000 - val_loss: 1.2235 - val_accuracy: 0.8750\n",
      "\n",
      "Epoch 00197: val_loss did not improve from 0.86718\n",
      "Epoch 198/200\n",
      "94/94 [==============================] - 0s 2ms/step - loss: 0.0079 - accuracy: 1.0000 - val_loss: 1.2345 - val_accuracy: 0.8750\n",
      "\n",
      "Epoch 00198: val_loss did not improve from 0.86718\n",
      "Epoch 199/200\n",
      "94/94 [==============================] - 0s 2ms/step - loss: 0.0269 - accuracy: 0.9787 - val_loss: 1.2454 - val_accuracy: 0.8750\n",
      "\n",
      "Epoch 00199: val_loss did not improve from 0.86718\n",
      "Epoch 200/200\n",
      "94/94 [==============================] - 0s 2ms/step - loss: 0.0030 - accuracy: 1.0000 - val_loss: 1.2561 - val_accuracy: 0.8750\n",
      "\n",
      "Epoch 00200: val_loss did not improve from 0.86718\n"
     ]
    }
   ],
   "source": [
    "filename = 'model.h5'\n",
    "checkpoint = ModelCheckpoint(filename, monitor='val_loss', verbose=1, save_best_only=True, mode='min')\n",
    "\n",
    "history = model.fit(train_X, train_Y, epochs = 200, batch_size = 32, validation_data = (val_X, val_Y), callbacks = [checkpoint])"
   ]
  },
  {
   "cell_type": "code",
   "execution_count": 410,
   "metadata": {},
   "outputs": [
    {
     "name": "stdout",
     "output_type": "stream",
     "text": [
      "dict_keys(['val_loss', 'val_accuracy', 'loss', 'accuracy'])\n"
     ]
    },
    {
     "data": {
      "image/png": "[encoded data removed]",
      "text/plain": [
       "<Figure size 432x288 with 1 Axes>"
      ]
     },
     "metadata": {
      "needs_background": "light"
     },
     "output_type": "display_data"
    },
    {
     "data": {
      "image/png": "[encoded data removed]",
      "text/plain": [
       "<Figure size 432x288 with 1 Axes>"
      ]
     },
     "metadata": {
      "needs_background": "light"
     },
     "output_type": "display_data"
    }
   ],
   "source": [
    "print(history.history.keys())\n",
    "# summarize history for accuracy\n",
    "plt.plot(history.history['accuracy'])\n",
    "plt.plot(history.history['val_accuracy'])\n",
    "plt.title('model accuracy')\n",
    "plt.ylabel('accuracy')\n",
    "plt.xlabel('epoch')\n",
    "plt.legend(['train', 'test'], loc='upper left')\n",
    "plt.show()\n",
    "# summarize history for loss\n",
    "plt.plot(history.history['loss'])\n",
    "plt.plot(history.history['val_loss'])\n",
    "plt.title('model loss')\n",
    "plt.ylabel('loss')\n",
    "plt.xlabel('epoch')\n",
    "plt.legend(['train', 'test'], loc='upper left')\n",
    "plt.show()"
   ]
  },
  {
   "cell_type": "code",
   "execution_count": 358,
   "metadata": {},
   "outputs": [],
   "source": [
    " model = load_model(\"model.h5\")"
   ]
  },
  {
   "cell_type": "code",
   "execution_count": null,
   "metadata": {},
   "outputs": [],
   "source": []
  },
  {
   "cell_type": "code",
   "execution_count": 359,
   "metadata": {},
   "outputs": [],
   "source": [
    "def predictions(text):\n",
    "    clean = re.sub(r'[^ a-z A-Z 0-9]', \" \", text)\n",
    "    test_word = word_tokenize(clean)\n",
    "    test_word = [w.lower() for w in test_word]\n",
    "    test_ls = word_tokenizer.texts_to_sequences(test_word)\n",
    "    print(test_word)\n",
    "    #Check for unknown words\n",
    "    if [] in test_ls:\n",
    "        test_ls = list(filter(None, test_ls))\n",
    "    \n",
    "    test_ls = np.array(test_ls).reshape(1, len(test_ls))\n",
    " \n",
    "    x = padding_doc(test_ls, max_length)\n",
    "  \n",
    "    pred = model.predict_proba(x)\n",
    "  \n",
    "  \n",
    "    return pred\n",
    "\n",
    "\n",
    "  "
   ]
  },
  {
   "cell_type": "code",
   "execution_count": 360,
   "metadata": {},
   "outputs": [],
   "source": [
    "def get_final_output(pred, classes):\n",
    "    predictions = pred[0]\n",
    " \n",
    "    classes = np.array(classes)\n",
    "    ids = np.argsort(-predictions)\n",
    "    classes = classes[ids]\n",
    "    predictions = -np.sort(-predictions)\n",
    " \n",
    "    for i in range(pred.shape[1]):\n",
    "        print(\"%s has confidence = %s\" % (classes[i], (predictions[i])))\n",
    "\n"
   ]
  },
  {
   "cell_type": "code",
   "execution_count": 361,
   "metadata": {
    "scrolled": false
   },
   "outputs": [
    {
     "name": "stdout",
     "output_type": "stream",
     "text": [
      "['how', 'much', 'does', 'it', 'cost']\n",
      "price has confidence = 0.9985795\n",
      "order has confidence = 0.0012719035\n",
      "common has confidence = 0.00012882218\n",
      "balance has confidence = 1.9682106e-05\n"
     ]
    }
   ],
   "source": [
    "#Price\n",
    "text = \"How much does it cost?\"\n",
    "pred = predictions(text)\n",
    "get_final_output(pred, unique_intent)"
   ]
  },
  {
   "cell_type": "code",
   "execution_count": 365,
   "metadata": {},
   "outputs": [
    {
     "name": "stdout",
     "output_type": "stream",
     "text": [
      "['how', 'many', 'item', 'are', 'in', 'stock']\n",
      "balance has confidence = 0.93519163\n",
      "order has confidence = 0.054477524\n",
      "common has confidence = 0.00944595\n",
      "price has confidence = 0.00088483363\n"
     ]
    }
   ],
   "source": [
    "#Balance\n",
    "text = \"how many pants are in stock?\"\n",
    "pred = predictions(text)\n",
    "get_final_output(pred, unique_intent)"
   ]
  },
  {
   "cell_type": "code",
   "execution_count": 369,
   "metadata": {},
   "outputs": [
    {
     "name": "stdout",
     "output_type": "stream",
     "text": [
      "['i', 'want', 'to', 'buy', '3', 'pants']\n",
      "order has confidence = 0.92502147\n",
      "balance has confidence = 0.046053883\n",
      "price has confidence = 0.025238369\n",
      "common has confidence = 0.003686244\n"
     ]
    }
   ],
   "source": [
    "#Order\n",
    "text = \"I want to buy 3 pants\"\n",
    "pred = predictions(text)\n",
    "get_final_output(pred, unique_intent)"
   ]
  },
  {
   "cell_type": "code",
   "execution_count": 371,
   "metadata": {},
   "outputs": [
    {
     "name": "stdout",
     "output_type": "stream",
     "text": [
      "['i', 'need', 'help']\n",
      "common has confidence = 0.95201236\n",
      "balance has confidence = 0.03581892\n",
      "price has confidence = 0.008233834\n",
      "order has confidence = 0.0039348374\n"
     ]
    }
   ],
   "source": [
    "#Common\n",
    "text = \"I need help\"\n",
    "pred = predictions(text)\n",
    "get_final_output(pred, unique_intent)"
   ]
  },
  {
   "cell_type": "code",
   "execution_count": 280,
   "metadata": {},
   "outputs": [],
   "source": [
    "opening_lines = ['Hello, what can I help you with?',\n",
    "                'How can I help you?',\n",
    "                'Whats on your mind today?']\n",
    "\n",
    "def randomOpening():\n",
    "    index = random.randint(0,len(opening_lines)-1)\n",
    "    print(opening_lines[index])\n",
    "\n"
   ]
  },
  {
   "cell_type": "code",
   "execution_count": null,
   "metadata": {},
   "outputs": [
    {
     "name": "stdout",
     "output_type": "stream",
     "text": [
      "Hello, what can I help you with?\n"
     ]
    }
   ],
   "source": [
    "def cli():\n",
    "    while True:\n",
    "        randomOpening()\n",
    "        user_input = input(\"Ask the chatbot something: \")\n",
    "        print(user_input)\n",
    "        if(user_input==\"quit\"):\n",
    "            break\n",
    "        else:\n",
    "            pred = predictions(user_input)\n",
    "            print(pred)\n",
    "            get_final_output(pred, unique_intent)\n",
    "\n",
    "        \n",
    "cli()"
   ]
  },
  {
   "cell_type": "code",
   "execution_count": null,
   "metadata": {},
   "outputs": [],
   "source": []
  }
 ],
 "metadata": {
  "kernelspec": {
   "display_name": "Python 3",
   "language": "python",
   "name": "python3"
  }
 },
 "nbformat": 4,
 "nbformat_minor": 4
}
