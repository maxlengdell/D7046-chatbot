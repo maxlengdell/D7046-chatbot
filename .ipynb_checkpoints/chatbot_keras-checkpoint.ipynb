{
 "cells": [
  {
   "cell_type": "code",
   "execution_count": 2,
   "metadata": {},
   "outputs": [
    {
     "name": "stderr",
     "output_type": "stream",
     "text": [
      "Using TensorFlow backend.\n"
     ]
    }
   ],
   "source": [
    "import torch\n",
    "import torch.nn as nn\n",
    "\n",
    "import numpy as np\n",
    "import pandas as pd\n",
    "import random\n",
    "from nltk.corpus import stopwords\n",
    "from nltk.tokenize import word_tokenize\n",
    "from nltk.stem.lancaster import LancasterStemmer\n",
    "import nltk\n",
    "import re\n",
    "from sklearn.preprocessing import OneHotEncoder\n",
    "import matplotlib.pyplot as plt\n",
    "from keras.preprocessing.text import Tokenizer\n",
    "from keras.preprocessing.sequence import pad_sequences\n",
    "from keras.utils import to_categorical\n",
    "from keras.models import Sequential, load_model\n",
    "from keras.layers import Dense, LSTM, Bidirectional, Embedding, Dropout\n",
    "from keras.callbacks import ModelCheckpoint\n",
    "\n"
   ]
  },
  {
   "cell_type": "code",
   "execution_count": 3,
   "metadata": {},
   "outputs": [],
   "source": [
    "def load_dataset(filename):\n",
    "    df = pd.read_csv(filename, encoding = \"latin1\", names = [\"Sentence\", \"Intent\"])\n",
    "    print(df.head())\n",
    "    intent = df[\"Intent\"]\n",
    "    unique_intent = list(set(intent))\n",
    "    sentences = list(df[\"Sentence\"])\n",
    "  \n",
    "    return (intent, unique_intent, sentences)\n",
    "  \n"
   ]
  },
  {
   "cell_type": "code",
   "execution_count": 4,
   "metadata": {},
   "outputs": [
    {
     "name": "stdout",
     "output_type": "stream",
     "text": [
      "                   Sentence  Intent\n",
      "0              Order please   order\n",
      "1      Ship this item to me   order\n",
      "2  Can I order that please?   order\n",
      "3        Where is the help?  common\n",
      "4           Purchase <Item>   order\n"
     ]
    }
   ],
   "source": [
    "intent, unique_intent, sentences = load_dataset(\"data.csv\")"
   ]
  },
  {
   "cell_type": "code",
   "execution_count": 5,
   "metadata": {},
   "outputs": [
    {
     "name": "stdout",
     "output_type": "stream",
     "text": [
      "Are you out of <item>?\n",
      "['common', 'price', 'order', 'balance']\n"
     ]
    }
   ],
   "source": [
    "print(sentences[35])\n",
    "print(unique_intent)\n"
   ]
  },
  {
   "cell_type": "code",
   "execution_count": 6,
   "metadata": {},
   "outputs": [
    {
     "name": "stderr",
     "output_type": "stream",
     "text": [
      "[nltk_data] Downloading package stopwords to\n",
      "[nltk_data]     /Users/maxlengdell/nltk_data...\n",
      "[nltk_data]   Package stopwords is already up-to-date!\n",
      "[nltk_data] Downloading package punkt to\n",
      "[nltk_data]     /Users/maxlengdell/nltk_data...\n",
      "[nltk_data]   Package punkt is already up-to-date!\n"
     ]
    },
    {
     "data": {
      "text/plain": [
       "True"
      ]
     },
     "execution_count": 6,
     "metadata": {},
     "output_type": "execute_result"
    }
   ],
   "source": [
    "nltk.download(\"stopwords\")\n",
    "nltk.download(\"punkt\")"
   ]
  },
  {
   "cell_type": "code",
   "execution_count": 7,
   "metadata": {},
   "outputs": [],
   "source": [
    "#define stemmer\n",
    "stemmer = LancasterStemmer()"
   ]
  },
  {
   "cell_type": "code",
   "execution_count": 8,
   "metadata": {},
   "outputs": [],
   "source": [
    "def cleaning(sentences):\n",
    "    words = []\n",
    "    for s in sentences:\n",
    "        clean = re.sub(r'[^ a-z A-Z 0-9]', \" \", s)\n",
    "        w = word_tokenize(clean)\n",
    "        #stemming\n",
    "        words.append([i.lower() for i in w])\n",
    "    \n",
    "    return words  "
   ]
  },
  {
   "cell_type": "code",
   "execution_count": 9,
   "metadata": {},
   "outputs": [
    {
     "name": "stdout",
     "output_type": "stream",
     "text": [
      "237\n",
      "[['order', 'please'], ['ship', 'this', 'item', 'to', 'me']]\n"
     ]
    }
   ],
   "source": [
    "cleaned_words = cleaning(sentences)\n",
    "print(len(cleaned_words))\n",
    "print(cleaned_words[:2])  \n",
    "  \n"
   ]
  },
  {
   "cell_type": "code",
   "execution_count": 10,
   "metadata": {},
   "outputs": [],
   "source": [
    "def create_tokenizer(words, filters = '!\"#$%&()*+,-./:;<=>?@[\\]^_`{|}~'):\n",
    "    token = Tokenizer(filters = filters)\n",
    "    token.fit_on_texts(words)\n",
    "    print(token)\n",
    "    return token"
   ]
  },
  {
   "cell_type": "code",
   "execution_count": 11,
   "metadata": {},
   "outputs": [],
   "source": [
    "def max_length(words):\n",
    "    return(len(max(words, key = len)))\n",
    "  "
   ]
  },
  {
   "cell_type": "code",
   "execution_count": 12,
   "metadata": {},
   "outputs": [
    {
     "name": "stdout",
     "output_type": "stream",
     "text": [
      "<keras_preprocessing.text.Tokenizer object at 0x7fba569b3ba8>\n",
      "Vocab Size = 144 and Maximum length = 9\n"
     ]
    }
   ],
   "source": [
    "word_tokenizer = create_tokenizer(cleaned_words)\n",
    "vocab_size = len(word_tokenizer.word_index) + 1\n",
    "max_length = max_length(cleaned_words)\n",
    "\n",
    "print(\"Vocab Size = %d and Maximum length = %d\" % (vocab_size, max_length))"
   ]
  },
  {
   "cell_type": "code",
   "execution_count": 13,
   "metadata": {},
   "outputs": [],
   "source": [
    "def encoding_doc(token, words):\n",
    "    return(token.texts_to_sequences(words))"
   ]
  },
  {
   "cell_type": "code",
   "execution_count": 14,
   "metadata": {},
   "outputs": [],
   "source": [
    "encoded_doc = encoding_doc(word_tokenizer, cleaned_words)\n",
    "#print(encoded_doc)"
   ]
  },
  {
   "cell_type": "code",
   "execution_count": 15,
   "metadata": {},
   "outputs": [],
   "source": [
    "def padding_doc(encoded_doc, max_length):\n",
    "    return(pad_sequences(encoded_doc, maxlen = max_length, padding = \"post\"))"
   ]
  },
  {
   "cell_type": "code",
   "execution_count": 16,
   "metadata": {},
   "outputs": [],
   "source": [
    "padded_doc = padding_doc(encoded_doc, max_length)"
   ]
  },
  {
   "cell_type": "code",
   "execution_count": 17,
   "metadata": {},
   "outputs": [
    {
     "data": {
      "text/plain": [
       "array([[12, 28,  0,  0,  0,  0,  0,  0,  0],\n",
       "       [97,  7,  1, 21,  9,  0,  0,  0,  0],\n",
       "       [25,  2, 12, 46, 28,  0,  0,  0,  0],\n",
       "       [55,  3, 13, 31,  0,  0,  0,  0,  0],\n",
       "       [33,  1,  0,  0,  0,  0,  0,  0,  0]], dtype=int32)"
      ]
     },
     "execution_count": 17,
     "metadata": {},
     "output_type": "execute_result"
    }
   ],
   "source": [
    "padded_doc[:5]"
   ]
  },
  {
   "cell_type": "code",
   "execution_count": 18,
   "metadata": {},
   "outputs": [
    {
     "name": "stdout",
     "output_type": "stream",
     "text": [
      "Shape of padded docs =  (237, 9)\n"
     ]
    }
   ],
   "source": [
    "print(\"Shape of padded docs = \",padded_doc.shape)"
   ]
  },
  {
   "cell_type": "code",
   "execution_count": 19,
   "metadata": {},
   "outputs": [
    {
     "name": "stdout",
     "output_type": "stream",
     "text": [
      "<keras_preprocessing.text.Tokenizer object at 0x7fba569c3c18>\n"
     ]
    }
   ],
   "source": [
    "#tokenizer with filter changed\n",
    "output_tokenizer = create_tokenizer(unique_intent, filters = '!\"#$%&()*+,-/:;<=>?@[\\]^`{|}~')\n"
   ]
  },
  {
   "cell_type": "code",
   "execution_count": 20,
   "metadata": {},
   "outputs": [
    {
     "data": {
      "text/plain": [
       "{'common': 1, 'price': 2, 'order': 3, 'balance': 4}"
      ]
     },
     "execution_count": 20,
     "metadata": {},
     "output_type": "execute_result"
    }
   ],
   "source": [
    "output_tokenizer.word_index"
   ]
  },
  {
   "cell_type": "code",
   "execution_count": 21,
   "metadata": {},
   "outputs": [],
   "source": [
    "encoded_output = encoding_doc(output_tokenizer, intent)"
   ]
  },
  {
   "cell_type": "code",
   "execution_count": 22,
   "metadata": {},
   "outputs": [],
   "source": [
    "encoded_output = np.array(encoded_output).reshape(len(encoded_output), 1)"
   ]
  },
  {
   "cell_type": "code",
   "execution_count": 23,
   "metadata": {},
   "outputs": [
    {
     "data": {
      "text/plain": [
       "(237, 1)"
      ]
     },
     "execution_count": 23,
     "metadata": {},
     "output_type": "execute_result"
    }
   ],
   "source": [
    "encoded_output.shape"
   ]
  },
  {
   "cell_type": "code",
   "execution_count": 24,
   "metadata": {},
   "outputs": [],
   "source": [
    "def one_hot(encode):\n",
    "    o = OneHotEncoder(sparse = False)\n",
    "    return(o.fit_transform(encode))"
   ]
  },
  {
   "cell_type": "code",
   "execution_count": 25,
   "metadata": {},
   "outputs": [],
   "source": [
    "output_one_hot = one_hot(encoded_output)"
   ]
  },
  {
   "cell_type": "code",
   "execution_count": 26,
   "metadata": {},
   "outputs": [
    {
     "data": {
      "text/plain": [
       "(237, 4)"
      ]
     },
     "execution_count": 26,
     "metadata": {},
     "output_type": "execute_result"
    }
   ],
   "source": [
    "output_one_hot.shape"
   ]
  },
  {
   "cell_type": "code",
   "execution_count": 27,
   "metadata": {},
   "outputs": [],
   "source": [
    "from sklearn.model_selection import train_test_split"
   ]
  },
  {
   "cell_type": "code",
   "execution_count": 28,
   "metadata": {},
   "outputs": [],
   "source": [
    "train_X, val_X, train_Y, val_Y = train_test_split(padded_doc, output_one_hot, shuffle = True, test_size = 0.2)\n"
   ]
  },
  {
   "cell_type": "code",
   "execution_count": 29,
   "metadata": {},
   "outputs": [
    {
     "name": "stdout",
     "output_type": "stream",
     "text": [
      "Shape of train_X = (189, 9) and train_Y = (189, 4)\n",
      "Shape of val_X = (48, 9) and val_Y = (48, 4)\n"
     ]
    }
   ],
   "source": [
    "print(\"Shape of train_X = %s and train_Y = %s\" % (train_X.shape, train_Y.shape))\n",
    "print(\"Shape of val_X = %s and val_Y = %s\" % (val_X.shape, val_Y.shape))"
   ]
  },
  {
   "cell_type": "code",
   "execution_count": 30,
   "metadata": {},
   "outputs": [],
   "source": [
    "def create_model(vocab_size, max_length):\n",
    "    model = Sequential()\n",
    "    model.add(Embedding(vocab_size, 128, input_length = max_length, trainable = True))\n",
    "    model.add(Bidirectional(LSTM(128)))\n",
    "#   model.add(LSTM(128))\n",
    "    model.add(Dense(32, activation = \"relu\"))\n",
    "    model.add(Dropout(0.5))\n",
    "    model.add(Dense(4, activation = \"softmax\"))\n",
    "  \n",
    "    return model\n",
    "\n",
    "\n",
    "\n"
   ]
  },
  {
   "cell_type": "code",
   "execution_count": 31,
   "metadata": {},
   "outputs": [
    {
     "name": "stdout",
     "output_type": "stream",
     "text": [
      "Model: \"sequential_1\"\n",
      "_________________________________________________________________\n",
      "Layer (type)                 Output Shape              Param #   \n",
      "=================================================================\n",
      "embedding_1 (Embedding)      (None, 9, 128)            18432     \n",
      "_________________________________________________________________\n",
      "bidirectional_1 (Bidirection (None, 256)               263168    \n",
      "_________________________________________________________________\n",
      "dense_1 (Dense)              (None, 32)                8224      \n",
      "_________________________________________________________________\n",
      "dropout_1 (Dropout)          (None, 32)                0         \n",
      "_________________________________________________________________\n",
      "dense_2 (Dense)              (None, 4)                 132       \n",
      "=================================================================\n",
      "Total params: 289,956\n",
      "Trainable params: 289,956\n",
      "Non-trainable params: 0\n",
      "_________________________________________________________________\n"
     ]
    }
   ],
   "source": [
    "model = create_model(vocab_size, max_length)\n",
    "\n",
    "model.compile(loss = \"categorical_crossentropy\", optimizer = \"adam\", metrics = [\"accuracy\"])\n",
    "model.summary()"
   ]
  },
  {
   "cell_type": "code",
   "execution_count": 32,
   "metadata": {},
   "outputs": [
    {
     "name": "stderr",
     "output_type": "stream",
     "text": [
      "/Users/maxlengdell/opt/anaconda3/envs/nnD7046E/lib/python3.6/site-packages/tensorflow_core/python/framework/indexed_slices.py:424: UserWarning: Converting sparse IndexedSlices to a dense Tensor of unknown shape. This may consume a large amount of memory.\n",
      "  \"Converting sparse IndexedSlices to a dense Tensor of unknown shape. \"\n"
     ]
    },
    {
     "name": "stdout",
     "output_type": "stream",
     "text": [
      "Train on 189 samples, validate on 48 samples\n",
      "Epoch 1/50\n",
      "189/189 [==============================] - 4s 21ms/step - loss: 1.3765 - accuracy: 0.3651 - val_loss: 1.3778 - val_accuracy: 0.1875\n",
      "\n",
      "Epoch 00001: val_loss improved from inf to 1.37783, saving model to model.h5\n",
      "Epoch 2/50\n",
      "189/189 [==============================] - 0s 1ms/step - loss: 1.3502 - accuracy: 0.3968 - val_loss: 1.3563 - val_accuracy: 0.2917\n",
      "\n",
      "Epoch 00002: val_loss improved from 1.37783 to 1.35626, saving model to model.h5\n",
      "Epoch 3/50\n",
      "189/189 [==============================] - 0s 1ms/step - loss: 1.3006 - accuracy: 0.4444 - val_loss: 1.3028 - val_accuracy: 0.4583\n",
      "\n",
      "Epoch 00003: val_loss improved from 1.35626 to 1.30277, saving model to model.h5\n",
      "Epoch 4/50\n",
      "189/189 [==============================] - 0s 1ms/step - loss: 1.2373 - accuracy: 0.5026 - val_loss: 1.2275 - val_accuracy: 0.4583\n",
      "\n",
      "Epoch 00004: val_loss improved from 1.30277 to 1.22753, saving model to model.h5\n",
      "Epoch 5/50\n",
      "189/189 [==============================] - 0s 1ms/step - loss: 1.1289 - accuracy: 0.5503 - val_loss: 1.0837 - val_accuracy: 0.5417\n",
      "\n",
      "Epoch 00005: val_loss improved from 1.22753 to 1.08371, saving model to model.h5\n",
      "Epoch 6/50\n",
      "189/189 [==============================] - 0s 1ms/step - loss: 0.9204 - accuracy: 0.6455 - val_loss: 0.9117 - val_accuracy: 0.5417\n",
      "\n",
      "Epoch 00006: val_loss improved from 1.08371 to 0.91174, saving model to model.h5\n",
      "Epoch 7/50\n",
      "189/189 [==============================] - 0s 1ms/step - loss: 0.8196 - accuracy: 0.6508 - val_loss: 0.7482 - val_accuracy: 0.5625\n",
      "\n",
      "Epoch 00007: val_loss improved from 0.91174 to 0.74819, saving model to model.h5\n",
      "Epoch 8/50\n",
      "189/189 [==============================] - 0s 1ms/step - loss: 0.6555 - accuracy: 0.7672 - val_loss: 0.5751 - val_accuracy: 0.8542\n",
      "\n",
      "Epoch 00008: val_loss improved from 0.74819 to 0.57507, saving model to model.h5\n",
      "Epoch 9/50\n",
      "189/189 [==============================] - 0s 1ms/step - loss: 0.4476 - accuracy: 0.8730 - val_loss: 0.4072 - val_accuracy: 0.8750\n",
      "\n",
      "Epoch 00009: val_loss improved from 0.57507 to 0.40716, saving model to model.h5\n",
      "Epoch 10/50\n",
      "189/189 [==============================] - 0s 1ms/step - loss: 0.3865 - accuracy: 0.8730 - val_loss: 0.3366 - val_accuracy: 0.8750\n",
      "\n",
      "Epoch 00010: val_loss improved from 0.40716 to 0.33661, saving model to model.h5\n",
      "Epoch 11/50\n",
      "189/189 [==============================] - 0s 1ms/step - loss: 0.2760 - accuracy: 0.8889 - val_loss: 0.3081 - val_accuracy: 0.8958\n",
      "\n",
      "Epoch 00011: val_loss improved from 0.33661 to 0.30808, saving model to model.h5\n",
      "Epoch 12/50\n",
      "189/189 [==============================] - 0s 1ms/step - loss: 0.2216 - accuracy: 0.9048 - val_loss: 0.2342 - val_accuracy: 0.8958\n",
      "\n",
      "Epoch 00012: val_loss improved from 0.30808 to 0.23419, saving model to model.h5\n",
      "Epoch 13/50\n",
      "189/189 [==============================] - 0s 1ms/step - loss: 0.1583 - accuracy: 0.9312 - val_loss: 0.2378 - val_accuracy: 0.9167\n",
      "\n",
      "Epoch 00013: val_loss did not improve from 0.23419\n",
      "Epoch 14/50\n",
      "189/189 [==============================] - 0s 1ms/step - loss: 0.1320 - accuracy: 0.9577 - val_loss: 0.1894 - val_accuracy: 0.9375\n",
      "\n",
      "Epoch 00014: val_loss improved from 0.23419 to 0.18945, saving model to model.h5\n",
      "Epoch 15/50\n",
      "189/189 [==============================] - 0s 2ms/step - loss: 0.1122 - accuracy: 0.9471 - val_loss: 0.1701 - val_accuracy: 0.9792\n",
      "\n",
      "Epoch 00015: val_loss improved from 0.18945 to 0.17010, saving model to model.h5\n",
      "Epoch 16/50\n",
      "189/189 [==============================] - 0s 1ms/step - loss: 0.0683 - accuracy: 0.9788 - val_loss: 0.0894 - val_accuracy: 0.9792\n",
      "\n",
      "Epoch 00016: val_loss improved from 0.17010 to 0.08938, saving model to model.h5\n",
      "Epoch 17/50\n",
      "189/189 [==============================] - 0s 2ms/step - loss: 0.0852 - accuracy: 0.9630 - val_loss: 0.0833 - val_accuracy: 0.9792\n",
      "\n",
      "Epoch 00017: val_loss improved from 0.08938 to 0.08330, saving model to model.h5\n",
      "Epoch 18/50\n",
      "189/189 [==============================] - 0s 2ms/step - loss: 0.0860 - accuracy: 0.9577 - val_loss: 0.0856 - val_accuracy: 0.9792\n",
      "\n",
      "Epoch 00018: val_loss did not improve from 0.08330\n",
      "Epoch 19/50\n",
      "189/189 [==============================] - 0s 2ms/step - loss: 0.0546 - accuracy: 0.9894 - val_loss: 0.0285 - val_accuracy: 0.9792\n",
      "\n",
      "Epoch 00019: val_loss improved from 0.08330 to 0.02846, saving model to model.h5\n",
      "Epoch 20/50\n",
      "189/189 [==============================] - 0s 2ms/step - loss: 0.0485 - accuracy: 0.9841 - val_loss: 0.1420 - val_accuracy: 0.9583\n",
      "\n",
      "Epoch 00020: val_loss did not improve from 0.02846\n",
      "Epoch 21/50\n",
      "189/189 [==============================] - 0s 2ms/step - loss: 0.0348 - accuracy: 0.9894 - val_loss: 0.1327 - val_accuracy: 0.9792\n",
      "\n",
      "Epoch 00021: val_loss did not improve from 0.02846\n",
      "Epoch 22/50\n",
      "189/189 [==============================] - 0s 2ms/step - loss: 0.0385 - accuracy: 0.9894 - val_loss: 0.1422 - val_accuracy: 0.9792\n",
      "\n",
      "Epoch 00022: val_loss did not improve from 0.02846\n",
      "Epoch 23/50\n",
      "189/189 [==============================] - 0s 2ms/step - loss: 0.0344 - accuracy: 0.9894 - val_loss: 0.0715 - val_accuracy: 0.9792\n",
      "\n",
      "Epoch 00023: val_loss did not improve from 0.02846\n",
      "Epoch 24/50\n",
      "189/189 [==============================] - 0s 2ms/step - loss: 0.0395 - accuracy: 0.9841 - val_loss: 0.1189 - val_accuracy: 0.9792\n",
      "\n",
      "Epoch 00024: val_loss did not improve from 0.02846\n",
      "Epoch 25/50\n",
      "189/189 [==============================] - 0s 2ms/step - loss: 0.0304 - accuracy: 0.9947 - val_loss: 0.0918 - val_accuracy: 0.9583\n",
      "\n",
      "Epoch 00025: val_loss did not improve from 0.02846\n",
      "Epoch 26/50\n",
      "189/189 [==============================] - 0s 2ms/step - loss: 0.0406 - accuracy: 0.9894 - val_loss: 0.0646 - val_accuracy: 0.9792\n",
      "\n",
      "Epoch 00026: val_loss did not improve from 0.02846\n",
      "Epoch 27/50\n",
      "189/189 [==============================] - 0s 2ms/step - loss: 0.0407 - accuracy: 0.9841 - val_loss: 0.0349 - val_accuracy: 0.9792\n",
      "\n",
      "Epoch 00027: val_loss did not improve from 0.02846\n",
      "Epoch 28/50\n",
      "189/189 [==============================] - 0s 2ms/step - loss: 0.0310 - accuracy: 0.9947 - val_loss: 0.0793 - val_accuracy: 0.9792\n",
      "\n",
      "Epoch 00028: val_loss did not improve from 0.02846\n",
      "Epoch 29/50\n",
      "189/189 [==============================] - 0s 1ms/step - loss: 0.0287 - accuracy: 0.9947 - val_loss: 0.0324 - val_accuracy: 0.9792\n",
      "\n",
      "Epoch 00029: val_loss did not improve from 0.02846\n",
      "Epoch 30/50\n",
      "189/189 [==============================] - 0s 2ms/step - loss: 0.0100 - accuracy: 1.0000 - val_loss: 0.0021 - val_accuracy: 1.0000\n",
      "\n",
      "Epoch 00030: val_loss improved from 0.02846 to 0.00210, saving model to model.h5\n",
      "Epoch 31/50\n",
      "189/189 [==============================] - 0s 2ms/step - loss: 0.0510 - accuracy: 0.9894 - val_loss: 0.1736 - val_accuracy: 0.9792\n",
      "\n",
      "Epoch 00031: val_loss did not improve from 0.00210\n",
      "Epoch 32/50\n",
      "189/189 [==============================] - 0s 2ms/step - loss: 0.0194 - accuracy: 0.9947 - val_loss: 0.3965 - val_accuracy: 0.9375\n",
      "\n",
      "Epoch 00032: val_loss did not improve from 0.00210\n",
      "Epoch 33/50\n",
      "189/189 [==============================] - 0s 2ms/step - loss: 0.0373 - accuracy: 0.9947 - val_loss: 0.0996 - val_accuracy: 0.9792\n",
      "\n",
      "Epoch 00033: val_loss did not improve from 0.00210\n",
      "Epoch 34/50\n",
      "189/189 [==============================] - 0s 1ms/step - loss: 0.0119 - accuracy: 0.9947 - val_loss: 0.0418 - val_accuracy: 0.9792\n",
      "\n",
      "Epoch 00034: val_loss did not improve from 0.00210\n",
      "Epoch 35/50\n",
      "189/189 [==============================] - 0s 1ms/step - loss: 0.0493 - accuracy: 0.9841 - val_loss: 0.2361 - val_accuracy: 0.9792\n",
      "\n",
      "Epoch 00035: val_loss did not improve from 0.00210\n",
      "Epoch 36/50\n",
      "189/189 [==============================] - 0s 1ms/step - loss: 0.1199 - accuracy: 0.9841 - val_loss: 0.3162 - val_accuracy: 0.9167\n",
      "\n",
      "Epoch 00036: val_loss did not improve from 0.00210\n",
      "Epoch 37/50\n",
      "189/189 [==============================] - 0s 2ms/step - loss: 0.0641 - accuracy: 0.9735 - val_loss: 0.0248 - val_accuracy: 0.9792\n",
      "\n",
      "Epoch 00037: val_loss did not improve from 0.00210\n",
      "Epoch 38/50\n",
      "189/189 [==============================] - 0s 2ms/step - loss: 0.0397 - accuracy: 0.9894 - val_loss: 0.0253 - val_accuracy: 1.0000\n",
      "\n",
      "Epoch 00038: val_loss did not improve from 0.00210\n",
      "Epoch 39/50\n",
      "189/189 [==============================] - 0s 2ms/step - loss: 0.0462 - accuracy: 0.9841 - val_loss: 0.0384 - val_accuracy: 1.0000\n",
      "\n",
      "Epoch 00039: val_loss did not improve from 0.00210\n",
      "Epoch 40/50\n"
     ]
    },
    {
     "name": "stdout",
     "output_type": "stream",
     "text": [
      "189/189 [==============================] - 0s 2ms/step - loss: 0.0324 - accuracy: 0.9894 - val_loss: 0.0190 - val_accuracy: 1.0000\n",
      "\n",
      "Epoch 00040: val_loss did not improve from 0.00210\n",
      "Epoch 41/50\n",
      "189/189 [==============================] - 0s 2ms/step - loss: 0.0169 - accuracy: 1.0000 - val_loss: 0.0187 - val_accuracy: 1.0000\n",
      "\n",
      "Epoch 00041: val_loss did not improve from 0.00210\n",
      "Epoch 42/50\n",
      "189/189 [==============================] - 0s 2ms/step - loss: 0.0204 - accuracy: 0.9894 - val_loss: 0.0168 - val_accuracy: 1.0000\n",
      "\n",
      "Epoch 00042: val_loss did not improve from 0.00210\n",
      "Epoch 43/50\n",
      "189/189 [==============================] - 0s 2ms/step - loss: 0.0172 - accuracy: 0.9947 - val_loss: 0.0123 - val_accuracy: 1.0000\n",
      "\n",
      "Epoch 00043: val_loss did not improve from 0.00210\n",
      "Epoch 44/50\n",
      "189/189 [==============================] - 0s 2ms/step - loss: 0.0086 - accuracy: 1.0000 - val_loss: 0.0095 - val_accuracy: 1.0000\n",
      "\n",
      "Epoch 00044: val_loss did not improve from 0.00210\n",
      "Epoch 45/50\n",
      "189/189 [==============================] - 0s 1ms/step - loss: 0.0126 - accuracy: 1.0000 - val_loss: 0.0082 - val_accuracy: 1.0000\n",
      "\n",
      "Epoch 00045: val_loss did not improve from 0.00210\n",
      "Epoch 46/50\n",
      "189/189 [==============================] - 0s 2ms/step - loss: 0.0085 - accuracy: 1.0000 - val_loss: 0.0070 - val_accuracy: 1.0000\n",
      "\n",
      "Epoch 00046: val_loss did not improve from 0.00210\n",
      "Epoch 47/50\n",
      "189/189 [==============================] - 0s 2ms/step - loss: 0.0051 - accuracy: 1.0000 - val_loss: 0.0065 - val_accuracy: 1.0000\n",
      "\n",
      "Epoch 00047: val_loss did not improve from 0.00210\n",
      "Epoch 48/50\n",
      "189/189 [==============================] - 0s 2ms/step - loss: 0.0108 - accuracy: 1.0000 - val_loss: 0.0071 - val_accuracy: 1.0000\n",
      "\n",
      "Epoch 00048: val_loss did not improve from 0.00210\n",
      "Epoch 49/50\n",
      "189/189 [==============================] - 0s 2ms/step - loss: 0.0182 - accuracy: 0.9894 - val_loss: 0.0080 - val_accuracy: 1.0000\n",
      "\n",
      "Epoch 00049: val_loss did not improve from 0.00210\n",
      "Epoch 50/50\n",
      "189/189 [==============================] - 0s 2ms/step - loss: 0.0063 - accuracy: 1.0000 - val_loss: 0.0103 - val_accuracy: 1.0000\n",
      "\n",
      "Epoch 00050: val_loss did not improve from 0.00210\n"
     ]
    }
   ],
   "source": [
    "filename = 'model.h5'\n",
    "checkpoint = ModelCheckpoint(filename, monitor='val_loss', verbose=1, save_best_only=True, mode='min')\n",
    "\n",
    "history = model.fit(train_X, train_Y, epochs = 50, batch_size = 32, validation_data = (val_X, val_Y), callbacks = [checkpoint])"
   ]
  },
  {
   "cell_type": "code",
   "execution_count": 33,
   "metadata": {},
   "outputs": [
    {
     "name": "stdout",
     "output_type": "stream",
     "text": [
      "dict_keys(['val_loss', 'val_accuracy', 'loss', 'accuracy'])\n"
     ]
    },
    {
     "data": {
      "image/png": "[encoded data removed]",
      "text/plain": [
       "<Figure size 432x288 with 1 Axes>"
      ]
     },
     "metadata": {
      "needs_background": "light"
     },
     "output_type": "display_data"
    },
    {
     "data": {
      "image/png": "[encoded data removed]",
      "text/plain": [
       "<Figure size 432x288 with 1 Axes>"
      ]
     },
     "metadata": {
      "needs_background": "light"
     },
     "output_type": "display_data"
    }
   ],
   "source": [
    "print(history.history.keys())\n",
    "# summarize history for accuracy\n",
    "plt.plot(history.history['accuracy'])\n",
    "plt.plot(history.history['val_accuracy'])\n",
    "plt.title('model accuracy')\n",
    "plt.ylabel('accuracy')\n",
    "plt.xlabel('epoch')\n",
    "plt.legend(['train', 'test'], loc='upper left')\n",
    "plt.show()\n",
    "# summarize history for loss\n",
    "plt.plot(history.history['loss'])\n",
    "plt.plot(history.history['val_loss'])\n",
    "plt.title('model loss')\n",
    "plt.ylabel('loss')\n",
    "plt.xlabel('epoch')\n",
    "plt.legend(['train', 'test'], loc='upper left')\n",
    "plt.show()"
   ]
  },
  {
   "cell_type": "code",
   "execution_count": 34,
   "metadata": {},
   "outputs": [
    {
     "name": "stderr",
     "output_type": "stream",
     "text": [
      "/Users/maxlengdell/opt/anaconda3/envs/nnD7046E/lib/python3.6/site-packages/tensorflow_core/python/framework/indexed_slices.py:424: UserWarning: Converting sparse IndexedSlices to a dense Tensor of unknown shape. This may consume a large amount of memory.\n",
      "  \"Converting sparse IndexedSlices to a dense Tensor of unknown shape. \"\n"
     ]
    }
   ],
   "source": [
    " model = load_model(\"model.h5\")"
   ]
  },
  {
   "cell_type": "code",
   "execution_count": null,
   "metadata": {},
   "outputs": [],
   "source": []
  },
  {
   "cell_type": "code",
   "execution_count": 36,
   "metadata": {},
   "outputs": [],
   "source": [
    "def predictions(text):\n",
    "    clean = re.sub(r'[^ a-z A-Z 0-9]', \" \", text)\n",
    "    test_word = word_tokenize(clean)\n",
    "    test_word = [w.lower() for w in test_word]\n",
    "    test_ls = word_tokenizer.texts_to_sequences(test_word)\n",
    "    print(test_word)\n",
    "    #Check for unknown words\n",
    "    if [] in test_ls:\n",
    "        test_ls = list(filter(None, test_ls))\n",
    "    \n",
    "    test_ls = np.array(test_ls).reshape(1, len(test_ls))\n",
    " \n",
    "    x = padding_doc(test_ls, max_length)\n",
    "  \n",
    "    pred = model.predict_proba(x)\n",
    "  \n",
    "  \n",
    "    return pred\n",
    "\n",
    "\n",
    "  "
   ]
  },
  {
   "cell_type": "code",
   "execution_count": 37,
   "metadata": {},
   "outputs": [],
   "source": [
    "def get_final_output(pred, classes):\n",
    "    predictions = pred[0]\n",
    " \n",
    "    classes = np.array(classes)\n",
    "    ids = np.argsort(-predictions)\n",
    "    classes = classes[ids]\n",
    "    predictions = -np.sort(-predictions)\n",
    " \n",
    "    for i in range(pred.shape[1]):\n",
    "        print(\"%s has confidence = %s\" % (classes[i], (predictions[i])))\n",
    "\n"
   ]
  },
  {
   "cell_type": "code",
   "execution_count": 38,
   "metadata": {
    "scrolled": false
   },
   "outputs": [
    {
     "name": "stdout",
     "output_type": "stream",
     "text": [
      "['how', 'much', 'does', 'it', 'cost']\n",
      "price has confidence = 0.9999995\n",
      "common has confidence = 4.6431657e-07\n",
      "balance has confidence = 2.1683059e-08\n",
      "order has confidence = 1.8531647e-08\n"
     ]
    }
   ],
   "source": [
    "#Price\n",
    "text = \"How much does it cost?\"\n",
    "pred = predictions(text)\n",
    "get_final_output(pred, unique_intent)"
   ]
  },
  {
   "cell_type": "code",
   "execution_count": 39,
   "metadata": {},
   "outputs": [
    {
     "name": "stdout",
     "output_type": "stream",
     "text": [
      "['how', 'many', 'pants', 'are', 'in', 'stock']\n",
      "balance has confidence = 0.999997\n",
      "common has confidence = 2.9485116e-06\n",
      "price has confidence = 1.8208308e-09\n",
      "order has confidence = 1.635819e-09\n"
     ]
    }
   ],
   "source": [
    "#Balance\n",
    "text = \"how many pants are in stock?\"\n",
    "pred = predictions(text)\n",
    "get_final_output(pred, unique_intent)"
   ]
  },
  {
   "cell_type": "code",
   "execution_count": 40,
   "metadata": {},
   "outputs": [
    {
     "name": "stdout",
     "output_type": "stream",
     "text": [
      "['can', 'i', 'order', '3', 'pants']\n",
      "order has confidence = 0.9999987\n",
      "common has confidence = 1.3443083e-06\n",
      "balance has confidence = 8.3149505e-09\n",
      "price has confidence = 4.5144594e-10\n"
     ]
    }
   ],
   "source": [
    "#Order\n",
    "text = \"Can I order 3 pants\"\n",
    "pred = predictions(text)\n",
    "get_final_output(pred, unique_intent)"
   ]
  },
  {
   "cell_type": "code",
   "execution_count": 81,
   "metadata": {},
   "outputs": [
    {
     "name": "stdout",
     "output_type": "stream",
     "text": [
      "['i', 'need', 'help']\n",
      "order has confidence = 0.84783244\n",
      "common has confidence = 0.13630454\n",
      "price has confidence = 0.0087884525\n",
      "balance has confidence = 0.0070746485\n"
     ]
    }
   ],
   "source": [
    "#Common\n",
    "text = \"I need help\"\n",
    "pred = predictions(text)\n",
    "get_final_output(pred, unique_intent)"
   ]
  },
  {
   "cell_type": "code",
   "execution_count": 41,
   "metadata": {},
   "outputs": [],
   "source": [
    "##SPACY IMPORTS\n",
    "import spacy\n",
    "\n",
    "nlp = spacy.load('en_core_web_sm')\n",
    "nlp.pipe_names\n",
    "ner = nlp.get_pipe('ner')\n",
    "\n",
    "import random\n",
    "from spacy.util import minibatch, compounding\n",
    "from pathlib import Path\n",
    "\n"
   ]
  },
  {
   "cell_type": "code",
   "execution_count": 42,
   "metadata": {},
   "outputs": [
    {
     "name": "stdout",
     "output_type": "stream",
     "text": [
      "loading model form Models\n"
     ]
    },
    {
     "name": "stderr",
     "output_type": "stream",
     "text": [
      "/Users/maxlengdell/opt/anaconda3/envs/nnD7046E/lib/python3.6/site-packages/spacy/util.py:275: UserWarning: [W031] Model 'en_core_web_sm' (2.2.0) requires spaCy v2.2 and is incompatible with the current spaCy version (2.3.2). This may lead to unexpected results or runtime errors. To resolve this, download a newer compatible model or retrain your custom model with the current spaCy version. For more details and available updates, run: python -m spacy validate\n",
      "  warnings.warn(warn_msg)\n"
     ]
    },
    {
     "name": "stdout",
     "output_type": "stream",
     "text": [
      "Entities [('Those', 'ORG'), ('pants', 'PRODUCT')]\n"
     ]
    }
   ],
   "source": [
    "#Load entity model\n",
    "\n",
    "output_dir = Path('./Models/')\n",
    "\n",
    "print(\"loading model form\", output_dir)\n",
    "nlp_updated = spacy.load(output_dir)\n",
    "doc = nlp_updated(\"Those pants are really good\")\n",
    "print(\"Entities\", [(ent.text, ent.label_) for ent in doc.ents])"
   ]
  },
  {
   "cell_type": "code",
   "execution_count": 43,
   "metadata": {},
   "outputs": [],
   "source": [
    "opening_lines = ['Hello, what can I help you with?',\n",
    "                'How can I help you?',\n",
    "                'Whats on your mind today?']\n",
    "stock_info = [(['gloves', '299', '3']), #product name, price, balance\n",
    "             (['shoes', '899', '5']),\n",
    "             (['pants', '450', '10'])]\n",
    "\n",
    "def randomOpening():\n",
    "    index = random.randint(0,len(opening_lines)-1)\n",
    "    print(opening_lines[index])\n",
    "def getProductPrice(product):\n",
    "    for prod in stock_info:\n",
    "        if(prod[0]==product):\n",
    "            return prod[1]\n",
    "def getProductBalance(product):\n",
    "    for prod in stock_info:\n",
    "        if(prod[0]==product):\n",
    "            return prod[2]\n",
    "def printProducts():\n",
    "    for prod in stock_info:\n",
    "        print(prod[0])"
   ]
  },
  {
   "cell_type": "code",
   "execution_count": 44,
   "metadata": {},
   "outputs": [],
   "source": [
    "def getEntity(sentence):\n",
    "    #print(sentence)\n",
    "    doc = nlp_updated(sentence)\n",
    "    #print(\"Entities\", [(ent.text, ent.label_) for ent in doc.ents])  \n",
    "    text = []\n",
    "    label = []\n",
    "    for ent in doc.ents:\n",
    "        text.append(ent.text)\n",
    "        label.append(ent.label_)\n",
    "    ret_arr = [text,label]\n",
    "    return doc.ents"
   ]
  },
  {
   "cell_type": "code",
   "execution_count": 45,
   "metadata": {},
   "outputs": [],
   "source": [
    "def getIntent(sentence):\n",
    "    pred = predictions(sentence)\n",
    "    guess = pred[0]\n",
    "    \n",
    "    classes = np.array(unique_intent)\n",
    "    ids = np.argsort(-pred)\n",
    "    classes = classes[ids]\n",
    "    predict = -np.sort(-pred)\n",
    "    \n",
    "    #print(\"Network guessed:\", classes[0][0])\n",
    "    return classes[0][0]\n",
    "\n"
   ]
  },
  {
   "cell_type": "code",
   "execution_count": 46,
   "metadata": {},
   "outputs": [],
   "source": [
    "def priceFunc(entities):\n",
    "    print(\"Oh, so you want to know the price of your product?\")\n",
    "    for ent in entities:\n",
    "        print(ent.text, ent.label_)\n",
    "\n",
    "        if(ent.label_==\"PRODUCT\"):\n",
    "            print(\"The price of \" + ent.text + \" is \" + getProductPrice(ent.text))\n",
    "        else:\n",
    "            print(\"I'm sorry, i did not find that product. Did you mean any of these?\")\n",
    "            printProducts()\n",
    "            \n",
    "            \n",
    "\n",
    "def balanceFunc(entities):\n",
    "    print(\"Do you want to know the storage count of your product?\")\n",
    "    for ent in entities:\n",
    "        if(ent.label_==\"PRODUCT\"):\n",
    "            print(\"The balance of \" + ent.text + \" is \" + getProductBalance(ent.text))\n",
    "            \n",
    "        else:\n",
    "            print(\"I'm sorry, i did not find that product. Did you mean any of these?\")\n",
    "            printProducts()\n",
    "\n",
    "\n",
    "def orderFunc(entities):\n",
    "    print(\"Print order info\")\n",
    "    for ent in entities:\n",
    "\n",
    "        if(ent.label_==\"PRODUCT\"):\n",
    "            print(\"You have placed an order on \" + ent.text)\n",
    "        else:\n",
    "            print(\"I'm sorry, i did not find that product. Did you mean any of these?\")\n",
    "            printProducts()\n",
    "            \n",
    "def commonFunf(entities):\n",
    "    print(\"I'm sorry, i did not understand. Try rephrasing the sentence.\")"
   ]
  },
  {
   "cell_type": "code",
   "execution_count": 48,
   "metadata": {},
   "outputs": [
    {
     "ename": "SyntaxError",
     "evalue": "EOL while scanning string literal (<ipython-input-48-10eba50db569>, line 5)",
     "output_type": "error",
     "traceback": [
      "\u001b[0;36m  File \u001b[0;32m\"<ipython-input-48-10eba50db569>\"\u001b[0;36m, line \u001b[0;32m5\u001b[0m\n\u001b[0;31m    introduction = \"Welcome to our e-com chatbot for a fashion store.\u001b[0m\n\u001b[0m                                                                      ^\u001b[0m\n\u001b[0;31mSyntaxError\u001b[0m\u001b[0;31m:\u001b[0m EOL while scanning string literal\n"
     ]
    }
   ],
   "source": [
    "#Ask user from the opening lines-list\n",
    "#identify intent\n",
    "#identify entities\n",
    "#send to corresponding function and return answer\n",
    "introduction = \"Welcome to our e-com chatbot for a fashion store. Place a order, check the availability of a product or its price. What does pants cost? How many gloves are in stock?\"\n",
    "def cli():\n",
    "    print(introduction)\n",
    "    while True:\n",
    "        randomOpening()\n",
    "        user_input = input(\"Ask the chatbot something: \")\n",
    "        if(user_input==\"quit\"):\n",
    "            break\n",
    "        else:\n",
    "            intent = getIntent(user_input)\n",
    "            entity = getEntity(user_input)\n",
    "            if(intent==\"price\"):\n",
    "                priceFunc(entity)\n",
    "            elif(intent==\"balance\"):\n",
    "                balanceFunc(entity)\n",
    "            elif(intent==\"order\"):\n",
    "                orderFunc(entity)\n",
    "            else:\n",
    "                commonFunc(entities)\n",
    "            print(\"***********************************\")\n",
    "\n",
    "\n",
    "                \n",
    "\n",
    "        \n",
    "cli()"
   ]
  },
  {
   "cell_type": "code",
   "execution_count": null,
   "metadata": {},
   "outputs": [],
   "source": []
  }
 ],
 "metadata": {
  "kernelspec": {
   "display_name": "Python 3",
   "language": "python",
   "name": "python3"
  },
  "language_info": {
   "codemirror_mode": {
    "name": "ipython",
    "version": 3
   },
   "file_extension": ".py",
   "mimetype": "text/x-python",
   "name": "python",
   "nbconvert_exporter": "python",
   "pygments_lexer": "ipython3",
   "version": "3.6.12"
  }
 },
 "nbformat": 4,
 "nbformat_minor": 4
}
