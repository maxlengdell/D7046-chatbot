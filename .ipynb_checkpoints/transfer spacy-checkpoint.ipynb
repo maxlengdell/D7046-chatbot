{
 "cells": [
  {
   "cell_type": "code",
   "execution_count": 23,
   "metadata": {},
   "outputs": [],
   "source": [
    "import spacy\n",
    "\n",
    "nlp = spacy.load('en_core_web_sm')\n",
    "nlp.pipe_names\n",
    "ner = nlp.get_pipe('ner')"
   ]
  },
  {
   "cell_type": "code",
   "execution_count": 26,
   "metadata": {},
   "outputs": [],
   "source": [
    "# Performing NER on E-commerce article\n",
    "\n",
    "article_text=\"\"\"India that previously comprised only a handful of players in the e-commerce space, is now home to many biggies and giants battling out with each other to reach the top. This is thanks to the overwhelming internet and smartphone penetration coupled with the ever-increasing digital adoption across the country. These new-age innovations not only gave emerging startups a unique platform to deliver seamless shopping experiences but also provided brick and mortar stores with a level-playing field to begin their online journeys without leaving their offline legacies.\n",
    "In the wake of so many players coming together on one platform, the Indian e-commerce market is envisioned to reach USD 84 billion in 2021 from USD 24 billion in 2017. Further, with the rate at which internet penetration is increasing, we can expect more and more international retailers coming to India in addition to a large pool of new startups. This, in turn, will provide a major Philip to the organized retail market and boost its share from 12% in 2017 to 22-25% by 2021. \n",
    "Here’s a view to the e-commerce giants that are dominating India’s online shopping space:\n",
    "Amazon – One of the uncontested global leaders, Amazon started its journey as a simple online bookstore that gradually expanded its reach to provide a large suite of diversified products including media, furniture, food, and electronics, among others. And now with the launch of Amazon Prime and Amazon Music Limited, it has taken customer experience to a godly level, which will remain undefeatable for a very long time. \n",
    "Flipkart – Founded in 2007, Flipkart is recognized as the national leader in the Indian e-commerce market. Just like Amazon, it started operating by selling books and then entered other categories such as electronics, fashion, and lifestyle, mobile phones, etc. And now that it has been acquired by Walmart, one of the largest leading platforms of e-commerce in the US, it has also raised its bar of customer offerings in all aspects and giving huge competition to Amazon. \n",
    "Snapdeal – Started as a daily deals platform in 2010, Snapdeal became a full-fledged online marketplace in 2011 comprising more than 3 lac sellers across India. The platform offers over 30 million products across 800+ diverse categories from over 125,000 regional, national, and international brands and retailers. The Indian e-commerce firm follows a robust strategy to stay at the forefront of innovation and deliver seamless customer offerings to its wide customer base. It has shown great potential for recovery in recent years despite losing Freecharge and Unicommerce. \n",
    "ShopClues – Another renowned name in the Indian e-commerce industry, ShopClues was founded in July 2011. It’s a Gurugram based company having a current valuation of INR 1.1 billion and is backed by prominent names including Nexus Venture Partners, Tiger Global, and Helion Ventures as its major investors. Presently, the platform comprises more than 5 lac sellers selling products in nine different categories such as computers, cameras, mobiles, etc. \n",
    "Paytm Mall – To compete with the existing e-commerce giants, Paytm, an online payment system has also launched its online marketplace – Paytm Mall, which offers a wide array of products ranging from men and women fashion to groceries and cosmetics, electronics and home products, and many more. The unique thing about this platform is that it serves as a medium for third parties to sell their products directly through the widely-known app – Paytm. \n",
    "Reliance Retail – Given Reliance Jio’s disruptive venture in the Indian telecom space along with a solid market presence of Reliance, it is no wonder that Reliance will soon be foraying into retail space. As of now, it has plans to build an e-commerce space that will be established on online-to-offline market program and aim to bring local merchants on board to help them boost their sales and compete with the existing industry leaders. \n",
    "Big Basket – India’s biggest online supermarket, Big Basket provides a wide variety of imported and gourmet products through two types of delivery services – express delivery and slotted delivery. It also offers pre-cut fruits along with a long list of beverages including fresh juices, cold drinks, hot teas, etc. Moreover, it not only provides farm-fresh products but also ensures that the farmer gets better prices. \n",
    "Grofers – One of the leading e-commerce players in the grocery segment, Grofers started its operations in 2013 and has reached overwhelming heights in the last 5 years. Its wide range of products includes atta, milk, oil, daily need products, vegetables, dairy products, juices, beverages, among others. With its growing reach across India, it has become one of the favorite supermarkets for Indian consumers who want to shop grocery items from the comforts of their homes. \n",
    "Digital Mall of Asia – Going live in 2020, Digital Mall of Asia is a very unique concept coined by the founders of Yokeasia Malls. It is designed to provide an immersive digital space equipped with multiple visual and sensory elements to sellers and shoppers. It will also give retailers exclusive rights to sell a particular product category or brand in their respective cities. What makes it unique is its zero-commission model enabling retailers to pay only a fixed amount of monthly rental instead of paying commissions. With its one-of-a-kind features, DMA is expected to bring\n",
    "never-seen transformation to the current e-commerce ecosystem while addressing all the existing e-commerce worries such as counterfeiting. \"\"\"\n",
    "\n",
    "doc=nlp(article_text)\n",
    "#for ent in doc.ents:\n",
    "#    print(ent.text,ent.label_)\n"
   ]
  },
  {
   "cell_type": "code",
   "execution_count": 29,
   "metadata": {},
   "outputs": [],
   "source": [
    "# training data\n",
    "\"\"\"TRAIN_DATA = [\n",
    "              (\"Walmart is a leading e-commerce company\", {\"entities\": [(0, 7, \"ORG\")]}),\n",
    "              (\"I reached Chennai yesterday.\", {\"entities\": [(19, 28, \"GPE\")]}),\n",
    "              (\"I recently ordered a book from Amazon\", {\"entities\": [(24,32, \"ORG\")]}),\n",
    "              (\"I was driving a BMW\", {\"entities\": [(16,19, \"PRODUCT\")]}),\n",
    "              (\"I ordered this from ShopClues\", {\"entities\": [(20,29, \"ORG\")]}),\n",
    "              (\"Fridge can be ordered in Amazon \", {\"entities\": [(0,6, \"PRODUCT\")]}),\n",
    "              (\"I bought a new Washer\", {\"entities\": [(16,22, \"PRODUCT\")]}),\n",
    "              (\"I bought a old table\", {\"entities\": [(16,21, \"PRODUCT\")]}),\n",
    "              (\"I bought a fancy dress\", {\"entities\": [(18,23, \"PRODUCT\")]}),\n",
    "              (\"I rented a camera\", {\"entities\": [(12,18, \"PRODUCT\")]}),\n",
    "              (\"I rented a tent for our trip\", {\"entities\": [(12,16, \"PRODUCT\")]}),\n",
    "              (\"I rented a screwdriver from our neighbour\", {\"entities\": [(12,22, \"PRODUCT\")]}),\n",
    "              (\"I repaired my computer\", {\"entities\": [(15,23, \"PRODUCT\")]}),\n",
    "              (\"I got my clock fixed\", {\"entities\": [(16,21, \"PRODUCT\")]}),\n",
    "              (\"I got my truck fixed\", {\"entities\": [(16,21, \"PRODUCT\")]}),\n",
    "              (\"Flipkart started it's journey from zero\", {\"entities\": [(0,8, \"ORG\")]}),\n",
    "              (\"I recently ordered from Max\", {\"entities\": [(24,27, \"ORG\")]}),\n",
    "              (\"Flipkart is recognized as leader in market\",{\"entities\": [(0,8, \"ORG\")]}),\n",
    "              (\"I recently ordered from Swiggy\", {\"entities\": [(24,29, \"ORG\")]})\n",
    "              ]\"\"\"\n",
    "\n",
    "TRAIN_DATA = [\n",
    "    (\"i want to buy shoes for my birthday\", {\"entities\": [(15,20, \"PRODUCT\")]}),\n",
    "    (\"these shoes was not my size\", {\"entities\": [(7,12, \"PRODUCT\")]}),\n",
    "    (\"the hoodie was in the wrong color\", {\"entities\": [(5,10, \"PRODUCT\")]}),\n",
    "    (\"i want to buy shoes for my birthday\", {\"entities\": [(15,20, \"PRODUCT\")]}),\n",
    "    (\"shoes can be ordered online\", {\"entities\": [(0,5, \"PRODUCT\")]})\n",
    "    \n",
    "]"
   ]
  },
  {
   "cell_type": "code",
   "execution_count": 50,
   "metadata": {},
   "outputs": [
    {
     "name": "stdout",
     "output_type": "stream",
     "text": [
      "i want to buy shoes for my birthday\n",
      "shoes can be ordered online\n",
      "i want to buy shoes for my birthday\n",
      "these shoes was not my size\n",
      "the hoodie was in the wrong color\n",
      "[('I want to buy shoes for my birthday', {'entities': [(15, 20, 'PRODUCT')]}), ('Shoes can be ordered online', {'entities': [(0, 5, 'PRODUCT')]}), ('I want to buy shoes for my birthday', {'entities': [(15, 20, 'PRODUCT')]}), ('These shoes was not my size', {'entities': [(7, 12, 'PRODUCT')]}), ('The hoodie was in the wrong color', {'entities': [(5, 10, 'PRODUCT')]})]\n"
     ]
    }
   ],
   "source": [
    "# Adding labels to the `ner`\n",
    "\n",
    "for _, annotations in TRAIN_DATA:\n",
    "    for ent in annotations.get(\"entities\"):\n",
    "\n",
    "        ner.add_label(ent[2])"
   ]
  },
  {
   "cell_type": "code",
   "execution_count": 31,
   "metadata": {},
   "outputs": [],
   "source": [
    "# Disable pipeline components you dont need to change\n",
    "pipe_exceptions = [\"ner\", \"trf_wordpiecer\", \"trf_tok2vec\"]\n",
    "unaffected_pipes = [pipe for pipe in nlp.pipe_names if pipe not in pipe_exceptions]"
   ]
  },
  {
   "cell_type": "code",
   "execution_count": 32,
   "metadata": {},
   "outputs": [
    {
     "name": "stdout",
     "output_type": "stream",
     "text": [
      "Losses {'ner': 6.504272040736396}\n",
      "Losses {'ner': 8.485023969674089}\n",
      "Losses {'ner': 7.08807996161886}\n",
      "Losses {'ner': 8.089022151325093}\n",
      "Losses {'ner': 11.679511730500963}\n",
      "Losses {'ner': 11.89433890865252}\n",
      "Losses {'ner': 10.729742974312103}\n",
      "Losses {'ner': 11.025587713500176}\n",
      "Losses {'ner': 12.391756370663643}\n",
      "Losses {'ner': 12.395460112194126}\n",
      "Losses {'ner': 3.627578931977041}\n",
      "Losses {'ner': 3.627586647971479}\n",
      "Losses {'ner': 6.679363674986234}\n",
      "Losses {'ner': 9.048827124778256}\n",
      "Losses {'ner': 5.4034541105502285}\n",
      "Losses {'ner': 5.4045519747295145}\n",
      "Losses {'ner': 5.714841881413804}\n",
      "Losses {'ner': 5.8224057149998245}\n",
      "Losses {'ner': 5.602702288466389}\n",
      "Losses {'ner': 5.602711232595982}\n",
      "Losses {'ner': 5.4619692625055905}\n",
      "Losses {'ner': 5.464898515605359}\n",
      "Losses {'ner': 3.55850637666299}\n",
      "Losses {'ner': 4.4729629173735725}\n",
      "Losses {'ner': 5.854566737427376}\n",
      "Losses {'ner': 5.856006971608021}\n",
      "Losses {'ner': 7.122732558045755}\n",
      "Losses {'ner': 7.122741384464719}\n",
      "Losses {'ner': 5.099661980396377}\n",
      "Losses {'ner': 5.100617810091677}\n",
      "Losses {'ner': 7.412035882472992}\n",
      "Losses {'ner': 7.4120805378203}\n",
      "Losses {'ner': 7.506854886189103}\n",
      "Losses {'ner': 7.5243546582322836}\n",
      "Losses {'ner': 3.8691524059813673}\n",
      "Losses {'ner': 3.8694342800993375}\n",
      "Losses {'ner': 4.187281775288284}\n",
      "Losses {'ner': 6.031009575502033}\n",
      "Losses {'ner': 4.400693526305986}\n",
      "Losses {'ner': 4.895849443213652}\n",
      "Losses {'ner': 4.612539372769788}\n",
      "Losses {'ner': 4.680021231187262}\n",
      "Losses {'ner': 4.439270374714397}\n",
      "Losses {'ner': 4.441158123588361}\n",
      "Losses {'ner': 5.777034563012421}\n",
      "Losses {'ner': 5.77768833981726}\n",
      "Losses {'ner': 6.586764200597827}\n",
      "Losses {'ner': 6.5873679983769}\n",
      "Losses {'ner': 0.9782132999971509}\n",
      "Losses {'ner': 0.9782412185552699}\n",
      "Losses {'ner': 3.6859987643620116}\n",
      "Losses {'ner': 3.6865751830914917}\n",
      "Losses {'ner': 3.466621368929715}\n",
      "Losses {'ner': 3.4666219154568942}\n",
      "Losses {'ner': 2.3294711653143167}\n",
      "Losses {'ner': 2.329485225511001}\n",
      "Losses {'ner': 3.0384443816516296}\n",
      "Losses {'ner': 3.038480611825823}\n",
      "Losses {'ner': 5.952196587937578}\n",
      "Losses {'ner': 5.952881265418531}\n"
     ]
    }
   ],
   "source": [
    "# Import requirements\n",
    "import random\n",
    "from spacy.util import minibatch, compounding\n",
    "from pathlib import Path\n",
    "\n",
    "# TRAINING THE MODEL\n",
    "with nlp.disable_pipes(*unaffected_pipes):\n",
    "\n",
    "  # Training for 30 iterations\n",
    "  for iteration in range(30):\n",
    "\n",
    "    # shuufling examples  before every iteration\n",
    "    random.shuffle(TRAIN_DATA)\n",
    "    losses = {}\n",
    "    # batch up the examples using spaCy's minibatch\n",
    "    batches = minibatch(TRAIN_DATA, size=compounding(4.0, 32.0, 1.001))\n",
    "    for batch in batches:\n",
    "        texts, annotations = zip(*batch)\n",
    "        nlp.update(\n",
    "                    texts,  # batch of texts\n",
    "                    annotations,  # batch of annotations\n",
    "                    drop=0.5,  # dropout - make it harder to memorise data\n",
    "                    losses=losses,\n",
    "                )\n",
    "        print(\"Losses\", losses)"
   ]
  },
  {
   "cell_type": "code",
   "execution_count": 42,
   "metadata": {},
   "outputs": [
    {
     "name": "stdout",
     "output_type": "stream",
     "text": [
      "Entities [('Shoes', 'PRODUCT')]\n"
     ]
    }
   ],
   "source": [
    "# Testing the model\n",
    "doc = nlp(\"Shoes is my thing\")\n",
    "print(\"Entities\", [(ent.text, ent.label_) for ent in doc.ents])"
   ]
  },
  {
   "cell_type": "code",
   "execution_count": null,
   "metadata": {},
   "outputs": [],
   "source": []
  }
 ],
 "metadata": {
  "kernelspec": {
   "display_name": "Python 3",
   "language": "python",
   "name": "python3"
  },
  "language_info": {
   "codemirror_mode": {
    "name": "ipython",
    "version": 3
   },
   "file_extension": ".py",
   "mimetype": "text/x-python",
   "name": "python",
   "nbconvert_exporter": "python",
   "pygments_lexer": "ipython3",
   "version": "3.6.12"
  }
 },
 "nbformat": 4,
 "nbformat_minor": 4
}
